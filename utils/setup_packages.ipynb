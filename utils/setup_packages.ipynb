{
 "cells": [
  {
   "cell_type": "markdown",
   "metadata": {},
   "source": [
    "Run the following cell and then restart the notebook."
   ]
  },
  {
   "cell_type": "code",
   "execution_count": 1,
   "metadata": {
    "collapsed": false
   },
   "outputs": [
    {
     "name": "stdout",
     "output_type": "stream",
     "text": [
      "Collecting git+https://github.com/choldgraf/neurods.git\n",
      "  Cloning https://github.com/choldgraf/neurods.git to /tmp/pip-ccg0zw2s-build\n",
      "Installing collected packages: neurods\n",
      "  Running setup.py install for neurods ... \u001b[?25l-\b \bdone\n",
      "\u001b[?25hSuccessfully installed neurods\n",
      "\u001b[33mYou are using pip version 8.1.2, however version 9.0.1 is available.\n",
      "You should consider upgrading via the 'pip install --upgrade pip' command.\u001b[0m\n"
     ]
    }
   ],
   "source": [
    "# Update to the latest neurods\n",
    "!pip install git+https://github.com/choldgraf/neurods.git --user --upgrade"
   ]
  },
  {
   "cell_type": "code",
   "execution_count": 1,
   "metadata": {
    "collapsed": false
   },
   "outputs": [
    {
     "name": "stdout",
     "output_type": "stream",
     "text": [
      "0.1\n"
     ]
    }
   ],
   "source": [
    "import neurods\n",
    "print(neurods.__version__)"
   ]
  },
  {
   "cell_type": "markdown",
   "metadata": {},
   "source": [
    "**From now on, you can call this function to update to the latest `neurods`. Make sure to restart your python kernel in order for changes to take effect.**"
   ]
  },
  {
   "cell_type": "code",
   "execution_count": 2,
   "metadata": {
    "collapsed": false
   },
   "outputs": [
    {
     "name": "stdout",
     "output_type": "stream",
     "text": [
      "Creating data folder...\n",
      "Creating tmp folder...\n",
      "Downloading data from https://dl.dropboxusercontent.com/u/4263923/sub01_categories1_1.npy (68.7 MB)\n",
      "\n",
      "[........................................] 100.00000 | (68.7 MB / 68.7 MB)   \n",
      "File saved as /home/jovyan/data/sub01_categories1_1.npy.\n",
      "\n",
      "Successfully moved file to /home/jovyan/data/sub01_categories1_1.npy\n"
     ]
    }
   ],
   "source": [
    "neurods.io.download_file('https://dl.dropboxusercontent.com/u/4263923/sub01_categories1_1.npy',\n",
    "                         'sub01_categories1_1.npy', replace = True)"
   ]
  },
  {
   "cell_type": "code",
   "execution_count": 3,
   "metadata": {
    "collapsed": false
   },
   "outputs": [
    {
     "name": "stdout",
     "output_type": "stream",
     "text": [
      "Downloading data from https://dl.dropboxusercontent.com/u/4263923/figures.zip (2.7 MB)\n",
      "\n",
      "[........................................] 100.00000 / (2.7 MB / 2.7 MB)   \n",
      "File saved as /home/jovyan/data/figures.zip.\n",
      "\n",
      "Successfully moved file to /home/jovyan/data/figures.zip\n"
     ]
    }
   ],
   "source": [
    "neurods.io.download_file('https://dl.dropboxusercontent.com/u/4263923/figures.zip','figures.zip')"
   ]
  },
  {
   "cell_type": "code",
   "execution_count": 4,
   "metadata": {
    "collapsed": false
   },
   "outputs": [
    {
     "name": "stdout",
     "output_type": "stream",
     "text": [
      "/home/jovyan/data\n"
     ]
    }
   ],
   "source": [
    "cd ~/data/"
   ]
  },
  {
   "cell_type": "code",
   "execution_count": 9,
   "metadata": {
    "collapsed": false
   },
   "outputs": [
    {
     "name": "stdout",
     "output_type": "stream",
     "text": [
      "Archive:  figures.zip\n",
      "   creating: figures/\n",
      "  inflating: figures/cortex_3views.png  \n",
      "  inflating: figures/deoxyhemoglobin.png  \n",
      "  inflating: figures/ffa.png         \n",
      "  inflating: figures/fig1.png        \n",
      "   creating: __MACOSX/\n",
      "   creating: __MACOSX/figures/\n",
      "  inflating: __MACOSX/figures/._fig1.png  \n",
      "  inflating: figures/fmri_dimensions.png  \n",
      "  inflating: figures/fmri_example_experiment.png  \n",
      " extracting: figures/Icon            \n",
      "  inflating: __MACOSX/figures/._Icon  \n",
      "  inflating: figures/imaging_modalities.png  \n",
      "  inflating: figures/lagged_activity.png  \n",
      "  inflating: figures/MPRAGE_wcortex.png  \n",
      "  inflating: figures/mri_scanner.png  \n",
      "  inflating: figures/slices.png      \n",
      "  inflating: __MACOSX/figures/._slices.png  \n",
      "  inflating: __MACOSX/._figures      \n"
     ]
    }
   ],
   "source": [
    "!unzip 'figures.zip'"
   ]
  }
 ],
 "metadata": {
  "hide_input": false,
  "kernelspec": {
   "display_name": "Python 3",
   "language": "python",
   "name": "python3"
  },
  "language_info": {
   "codemirror_mode": {
    "name": "ipython",
    "version": 3
   },
   "file_extension": ".py",
   "mimetype": "text/x-python",
   "name": "python",
   "nbconvert_exporter": "python",
   "pygments_lexer": "ipython3",
   "version": "3.5.2"
  }
 },
 "nbformat": 4,
 "nbformat_minor": 1
}
