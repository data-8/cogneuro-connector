{
 "cells": [
  {
   "cell_type": "markdown",
   "metadata": {},
   "source": [
    "Run the following cell and then restart the notebook."
   ]
  },
  {
   "cell_type": "code",
   "execution_count": 1,
   "metadata": {
    "collapsed": false
   },
   "outputs": [
    {
     "name": "stdout",
     "output_type": "stream",
     "text": [
      "Collecting git+https://github.com/choldgraf/neurods.git\n",
      "  Cloning https://github.com/choldgraf/neurods.git to /tmp/pip-ihtn33sf-build\n",
      "Installing collected packages: neurods\n",
      "  Found existing installation: neurods 0.2.9\n",
      "    Uninstalling neurods-0.2.9:\n",
      "      Successfully uninstalled neurods-0.2.9\n",
      "  Running setup.py install for neurods ... \u001b[?25l-\b \b\\\b \bdone\n",
      "\u001b[?25hSuccessfully installed neurods-0.1\n",
      "\u001b[33mYou are using pip version 8.1.2, however version 9.0.1 is available.\n",
      "You should consider upgrading via the 'pip install --upgrade pip' command.\u001b[0m\n"
     ]
    }
   ],
   "source": [
    "# Update to the latest neurods\n",
    "!pip install git+https://github.com/choldgraf/neurods.git --user --upgrade"
   ]
  },
  {
   "cell_type": "code",
   "execution_count": 3,
   "metadata": {
    "collapsed": false
   },
   "outputs": [
    {
     "name": "stdout",
     "output_type": "stream",
     "text": [
      "0.1\n"
     ]
    }
   ],
   "source": [
    "import neurods\n",
    "print(neurods.__version__)"
   ]
  },
  {
   "cell_type": "markdown",
   "metadata": {},
   "source": [
    "**From now on, you can call this function to update to the latest `neurods`. Make sure to restart your python kernel in order for changes to take effect.**"
   ]
  },
  {
   "cell_type": "code",
   "execution_count": 6,
   "metadata": {
    "collapsed": false
   },
   "outputs": [
    {
     "name": "stdout",
     "output_type": "stream",
     "text": [
      "Downloading data from https://dl.dropboxusercontent.com/u/4263923/sub01_categories1_1.npy (68.7 MB)\n",
      "\n",
      "[........................................] 100.00000 | (68.7 MB / 68.7 MB)   \n",
      "File saved as /home/lwehbe/data/sub01_categories1_1.npy.\n",
      "\n",
      "Successfully moved file to /home/lwehbe/data/sub01_categories1_1.npy\n"
     ]
    }
   ],
   "source": [
    "neurods.io.download_file('https://dl.dropboxusercontent.com/u/4263923/sub01_categories1_1.npy',\n",
    "                         'sub01_categories1_1.npy', replace = True)"
   ]
  },
  {
   "cell_type": "code",
   "execution_count": 7,
   "metadata": {
    "collapsed": false
   },
   "outputs": [
    {
     "name": "stdout",
     "output_type": "stream",
     "text": [
      "Downloading data from https://dl.dropboxusercontent.com/u/4263923/figures.zip (2.7 MB)\n",
      "\n",
      "[........................................] 100.00000 / (2.7 MB / 2.7 MB)   \n",
      "File saved as /home/lwehbe/data/figures.zip.\n",
      "\n",
      "Successfully moved file to /home/lwehbe/data/figures.zip\n"
     ]
    }
   ],
   "source": [
    "neurods.io.download_file('https://dl.dropboxusercontent.com/u/4263923/figures.zip','figures.zip')"
   ]
  },
  {
   "cell_type": "code",
   "execution_count": 9,
   "metadata": {
    "collapsed": false
   },
   "outputs": [
    {
     "name": "stdout",
     "output_type": "stream",
     "text": [
      "/home/lwehbe/data\n"
     ]
    }
   ],
   "source": [
    "cd ~/data/"
   ]
  },
  {
   "cell_type": "code",
   "execution_count": null,
   "metadata": {
    "collapsed": true
   },
   "outputs": [],
   "source": [
    "unzip figures.zip"
   ]
  }
 ],
 "metadata": {
  "hide_input": false,
  "kernelspec": {
   "display_name": "Python 3",
   "language": "python",
   "name": "python3"
  },
  "language_info": {
   "codemirror_mode": {
    "name": "ipython",
    "version": 3
   },
   "file_extension": ".py",
   "mimetype": "text/x-python",
   "name": "python",
   "nbconvert_exporter": "python",
   "pygments_lexer": "ipython3",
   "version": "3.5.2"
  }
 },
 "nbformat": 4,
 "nbformat_minor": 1
}
