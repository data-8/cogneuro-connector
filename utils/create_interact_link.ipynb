{
 "cells": [
  {
   "cell_type": "code",
   "execution_count": 1,
   "metadata": {
    "collapsed": true
   },
   "outputs": [],
   "source": [
    "import neurods as nds"
   ]
  },
  {
   "cell_type": "code",
   "execution_count": 2,
   "metadata": {
    "collapsed": false
   },
   "outputs": [
    {
     "name": "stdout",
     "output_type": "stream",
     "text": [
      "Your interactive URL is:\n",
      "---\n",
      "https://data8.berkeley.edu/hub/interact?repo=cogneuro-connector&path=utils/strip_notebooks.ipynb\n",
      "---\n"
     ]
    },
    {
     "data": {
      "text/plain": [
       "'https://data8.berkeley.edu/hub/interact?repo=cogneuro-connector&path=utils/strip_notebooks.ipynb'"
      ]
     },
     "execution_count": 2,
     "metadata": {},
     "output_type": "execute_result"
    }
   ],
   "source": [
    "url = \"https://github.com/data-8/cogneuro-connector/blob/gh-pages/utils/strip_notebooks.ipynb\"\n",
    "nds.utils.url_to_interact(url)"
   ]
  }
 ],
 "metadata": {
  "kernelspec": {
   "display_name": "Python 3",
   "language": "python",
   "name": "python3"
  },
  "language_info": {
   "codemirror_mode": {
    "name": "ipython",
    "version": 3
   },
   "file_extension": ".py",
   "mimetype": "text/x-python",
   "name": "python",
   "nbconvert_exporter": "python",
   "pygments_lexer": "ipython3",
   "version": "3.5.2"
  }
 },
 "nbformat": 4,
 "nbformat_minor": 0
}
