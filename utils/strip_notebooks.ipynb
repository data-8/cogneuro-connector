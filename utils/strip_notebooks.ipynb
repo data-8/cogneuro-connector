{
 "cells": [
  {
   "cell_type": "code",
   "execution_count": 1,
   "metadata": {
    "collapsed": false
   },
   "outputs": [
    {
     "data": {
      "text/plain": [
       "<module 'neurods' from '/Users/mark/Code/neurods/neurods/__init__.py'>"
      ]
     },
     "execution_count": 1,
     "metadata": {},
     "output_type": "execute_result"
    }
   ],
   "source": [
    "from imp import reload\n",
    "import neurods as nds\n",
    "reload(nds.io)\n",
    "reload(nds)"
   ]
  },
  {
   "cell_type": "code",
   "execution_count": 2,
   "metadata": {
    "collapsed": false
   },
   "outputs": [
    {
     "data": {
      "text/plain": [
       "'/Users/mark/Code/cogneuro-connector/utils'"
      ]
     },
     "execution_count": 2,
     "metadata": {},
     "output_type": "execute_result"
    }
   ],
   "source": [
    "pwd"
   ]
  },
  {
   "cell_type": "markdown",
   "metadata": {},
   "source": [
    "# Create student notebooks"
   ]
  },
  {
   "cell_type": "code",
   "execution_count": 2,
   "metadata": {
    "collapsed": false
   },
   "outputs": [
    {
     "name": "stdout",
     "output_type": "stream",
     "text": [
      "Saving to ../weekly_materials/Lecture07_DataInterpretation/lecture_live.ipynb\n"
     ]
    }
   ],
   "source": [
    "_ = nds.io.strip_answers('../weekly_materials/Lecture07_DataInterpretation/lecture.ipynb',\n",
    "                         '### STUDENT ANSWER', 'live')"
   ]
  },
  {
   "cell_type": "markdown",
   "metadata": {},
   "source": [
    "# Create lecturer notebook w/ info removed"
   ]
  },
  {
   "cell_type": "code",
   "execution_count": 5,
   "metadata": {
    "collapsed": false
   },
   "outputs": [
    {
     "name": "stdout",
     "output_type": "stream",
     "text": [
      "Saving to ../weekly_materials/Week09_EventAvg_ImpulseResponse/lecture_b_live_.ipynb\n"
     ]
    }
   ],
   "source": [
    "_ = nds.io.strip_answers('../weekly_materials/Week09_EventAvg_ImpulseResponse/lecture_b_live.ipynb',\n",
    "                         '### TEACHER INFO', output_suffix='', save=True,\n",
    "                         clean_outputs=False)"
   ]
  },
  {
   "cell_type": "markdown",
   "metadata": {},
   "source": [
    "# Create interact links"
   ]
  },
  {
   "cell_type": "code",
   "execution_count": 6,
   "metadata": {
    "collapsed": false
   },
   "outputs": [
    {
     "name": "stdout",
     "output_type": "stream",
     "text": [
      "Your interactive URL is:\n",
      "---\n",
      "https://data8.berkeley.edu/hub/interact?repo=cogneuro-connector&path=weekly_materials/Week07_IntroFMRI_RawData/lecture_live.ipynb\n",
      "---\n"
     ]
    },
    {
     "data": {
      "text/plain": [
       "'https://data8.berkeley.edu/hub/interact?repo=cogneuro-connector&path=weekly_materials/Week07_IntroFMRI_RawData/lecture_live.ipynb'"
      ]
     },
     "execution_count": 6,
     "metadata": {},
     "output_type": "execute_result"
    }
   ],
   "source": [
    "nds.utils.url_to_interact('https://github.com/data-8/cogneuro-connector/blob/gh-pages/weekly_materials/Week07_IntroFMRI_RawData/lecture_live.ipynb')"
   ]
  },
  {
   "cell_type": "code",
   "execution_count": null,
   "metadata": {
    "collapsed": true
   },
   "outputs": [],
   "source": []
  }
 ],
 "metadata": {
  "anaconda-cloud": {},
  "kernelspec": {
   "display_name": "Python [py35]",
   "language": "python",
   "name": "Python [py35]"
  },
  "language_info": {
   "codemirror_mode": {
    "name": "ipython",
    "version": 3
   },
   "file_extension": ".py",
   "mimetype": "text/x-python",
   "name": "python",
   "nbconvert_exporter": "python",
   "pygments_lexer": "ipython3",
   "version": "3.5.2"
  }
 },
 "nbformat": 4,
 "nbformat_minor": 0
}
