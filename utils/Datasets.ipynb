{
 "cells": [
  {
   "cell_type": "markdown",
   "metadata": {},
   "source": [
    "One of the most important components to any data analysis is called **data provenance**. This means knowing where your data came from, and being able to recreate any transformations that have already been applied to the data (e.g., cleaning, removing missing values, extracting features).\n",
    "\n",
    "This is a quick explanation of the datasets that exist in this class repository. You should **always** determine where the data came from before making statements about it. Especially in the context of experiments.\n",
    "\n",
    "# Electroencephalography Data (EEG)\n",
    "EEG stands for Electroencephalography. It entails placing a cap on your head that has electrodes embedded in it. The electrodes record the electrical activity on your scalp, which comes from the activity in your brain.\n",
    "\n",
    "## MNE-Python sample dataset\n",
    "This is a dataset collected for the MNE-Python project. It is actually a combination of EEG and Magnetoencephalography (MEG) data, but we're only going to focus on the EEG component of the data. The subject is being presented with a number of auditory and visual stimuli, which are coded as event time variables. We'll cover how to use this event information to analyze the data in class.\n",
    "\n",
    "You can access this dataset in the `eeg/mne_sample` folder. It includes data in `.csv` format, as well as in MNE's native `.fif` format. You can also access this dataset with the MNE commands in the `mne.datasets` module. For documentation about the various datasets that are provided with MNE, check out [their tutorials](http://www.martinos.org/mne/stable/tutorials.html). For example, here is one on [epoching and averaging](http://www.martinos.org/mne/stable/auto_tutorials/plot_epoching_and_averaging.html).\n",
    "\n",
    "# Electrocorticography Data (ECoG)\n",
    "ECoG is a variant of EEG, only it is much more invasive. In this case, you place a grid of electrodes *directly onto the surface* of somebody's brain. Usually this is a person getting surgery for epilepsy. We're still recording electrical signals, but now with less noise because the dura, skull, and scalp aren't in between the brain activity and our electrodes.\n",
    "\n",
    "## Epilepsy sample dataset\n",
    "This is a sample dataset from one epileptic patient. There is no \"task\" in this dataset, the patient is simply lying in the hospital bed. However, this doesn't mean that there isn't an event in time that we care about. \n",
    "\n",
    "This data is best examined in order to observe what normal (and abnormal) brain activity looks like in ECoG.\n",
    "\n",
    "You can access this dataset in this repository, in the `/ecog/ecog_sample` folder.\n",
    "\n",
    "## Consonant / Dissonant Chords dataset\n",
    "In this dataset, an ECoG patient is listening to audio clips of musical chords being played. Each chord is consonant (meaning that it sounds pleasant to the ear) or dissonant (meaning that it sounds unpleasant). The patients are asked to say whether each chord is consonant or dissonant.\n",
    "\n",
    "This dataset should be analyzed in order to investigate the neural activity associated with auditory processing. In addition, one can investigate whether a more abstract auditory feature (consonant/dissonant) causes different patterns of brain activity.\n",
    "\n",
    "You can find this dataset in the `ecog/chords_task` folder.\n",
    "\n",
    "# Functional Magnetic Resonance Imaging (fMRI)\n",
    "This type of data is very different from the electrical signals described above. It involves placing a person inside a powerful magnetic field, then investigating how activity in a person's brain perturbs that magnetic field. From this information, we can localize changes in blood flow in the brain. We assume that this is the result of neural activity.\n",
    "\n",
    "## Natural Movies\n",
    "Check back later for a description of this dataset...\n",
    "\n",
    "\n",
    "## Words / Pictures\n",
    "Check back later for a description of this dataset...\n",
    "\n",
    "\n",
    "## Categories\n",
    "Check back later for a description of this dataset...\n",
    "\n",
    "\n",
    "## Retinotopy\n",
    "Check back later for a description of this dataset...\n"
   ]
  },
  {
   "cell_type": "code",
   "execution_count": null,
   "metadata": {
    "collapsed": true
   },
   "outputs": [],
   "source": []
  }
 ],
 "metadata": {
  "hide_input": false,
  "kernelspec": {
   "display_name": "Python 2",
   "language": "python",
   "name": "python2"
  },
  "language_info": {
   "codemirror_mode": {
    "name": "ipython",
    "version": 2
   },
   "file_extension": ".py",
   "mimetype": "text/x-python",
   "name": "python",
   "nbconvert_exporter": "python",
   "pygments_lexer": "ipython2",
   "version": "2.7.11"
  }
 },
 "nbformat": 4,
 "nbformat_minor": 0
}
