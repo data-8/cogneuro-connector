{
 "cells": [
  {
   "cell_type": "markdown",
   "metadata": {},
   "source": [
    "# Lab 2 - Regression and contrasts\n",
    "\n",
    "In this lab you will create a faces > houses contrast on data from Haxby et al. 2001. In that study, different categories of images were shown to subjects. The original purpose of the study was to show that activation patterns for different concepts are distributed across the ventral cortex. Since faces and houses were among the stimuli presented, we will use the data to create a contrast between them.\n",
    "\n",
    "Run the cells below to download the data and load categories labels and brain data."
   ]
  },
  {
   "cell_type": "code",
   "execution_count": null,
   "metadata": {},
   "outputs": [],
   "source": [
    "# Don't change this cell; just run it. \n",
    "# The result will give you directions about how to log in to the submission system, called OK.\n",
    "# Once you're logged in, you can run this cell again, but it won't ask you who you are because\n",
    "# it remembers you. However, you will need to log in once per assignment.\n",
    "from client.api.notebook import Notebook\n",
    "ok = Notebook('lab2.ok')\n",
    "_ = ok.auth(inline=True)"
   ]
  },
  {
   "cell_type": "code",
   "execution_count": null,
   "metadata": {},
   "outputs": [],
   "source": [
    "N_RUNS = 6"
   ]
  },
  {
   "cell_type": "code",
   "execution_count": null,
   "metadata": {},
   "outputs": [],
   "source": [
    "%matplotlib inline\n",
    "import matplotlib.pyplot as plt\n",
    "import numpy as np"
   ]
  },
  {
   "cell_type": "code",
   "execution_count": null,
   "metadata": {},
   "outputs": [],
   "source": [
    "from nilearn.datasets import fetch_haxby\n",
    "haxby = fetch_haxby(subjects=(1,))"
   ]
  },
  {
   "cell_type": "code",
   "execution_count": null,
   "metadata": {},
   "outputs": [],
   "source": [
    "!gunzip -c /home/jovyan/nilearn_data/haxby2001/subj1/bold.nii.gz > /home/jovyan/nilearn_data/haxby2001/subj1/bold.nii"
   ]
  },
  {
   "cell_type": "code",
   "execution_count": null,
   "metadata": {},
   "outputs": [],
   "source": [
    "import nibabel\n",
    "from scipy.signal import detrend\n",
    "img = nibabel.load(haxby['func'][0][:-3])\n",
    "raw_data = img.get_data().T[:N_RUNS * 121]\n",
    "\n",
    "mask = nibabel.load(haxby['mask']).get_data().T.astype('bool')\n",
    "data = np.zeros((raw_data.shape[0], mask.sum()), dtype='float32')\n",
    "\n",
    "# load, mask, and zscore the data iteratively (because it's a lot of data)\n",
    "for raw_run, masked_run in zip(raw_data.reshape((-1, 121) + raw_data.shape[1:]),\n",
    "                               data.reshape(-1, 121, mask.sum())):\n",
    "    masked = raw_run[:, mask]\n",
    "    masked = detrend(masked, axis=0)\n",
    "    mean = masked.mean(0) # not necessary\n",
    "    stdev = masked.std(0)\n",
    "    masked_run[:] = (masked - mean) / (stdev + 1e-8)\n",
    "del masked, mean, stdev\n",
    "\n",
    "from nistats.hemodynamic_models import glover_hrf\n",
    "hrf = glover_hrf(tr=2, oversampling=1)\n"
   ]
  },
  {
   "cell_type": "code",
   "execution_count": null,
   "metadata": {},
   "outputs": [],
   "source": [
    "target = np.recfromcsv(haxby['session_target'][0], delimiter=' ')\n",
    "category_labels = np.array(list(map(bytes.decode, target['labels'])))[:N_RUNS * 121]\n"
   ]
  },
  {
   "cell_type": "markdown",
   "metadata": {},
   "source": [
    "1\\. [0.5pts] Run the cells preparing and loading the data. Print the unique labels in `category_labels` to get an idea of what was presented."
   ]
  },
  {
   "cell_type": "code",
   "execution_count": null,
   "metadata": {},
   "outputs": [],
   "source": [
    "# 1\n",
    "\n"
   ]
  },
  {
   "cell_type": "markdown",
   "metadata": {},
   "source": [
    "2\\. [3pts] For each unique label in `category_labels` create the stimulus time series by computing the array indicating which of `category_labels` corresponds to the current label. Then create the response time series by convolving (use `np.convolve`) with the hrf  and cropping back to the original length of the stimulus time series. Collect the response time series in a list, convert them to a numpy array using `np.stack` to obtain a design matrix of shape `(len(category_labels), len(np.unique(category_labels)))`. Store this matrix in the name `response_design`."
   ]
  },
  {
   "cell_type": "code",
   "execution_count": null,
   "metadata": {},
   "outputs": [],
   "source": [
    "# 2\n",
    "\n"
   ]
  },
  {
   "cell_type": "markdown",
   "metadata": {},
   "source": [
    "3\\. [2pts] Using `sklearn.linear_model.LinearRegression`, compute the regression weights for `response_design` and `data`. Store them in the name `weights`."
   ]
  },
  {
   "cell_type": "code",
   "execution_count": null,
   "metadata": {},
   "outputs": [],
   "source": [
    "# 3\n"
   ]
  },
  {
   "cell_type": "markdown",
   "metadata": {},
   "source": [
    "4\\. [2pts] Identify which columns of `weights` correspond to `faces` and `houses`. Subtract the one corresponding to houses from that corresponding to faces. Call the output `contrast_faces_vs_houses`."
   ]
  },
  {
   "cell_type": "code",
   "execution_count": null,
   "metadata": {},
   "outputs": [],
   "source": [
    "# 4\n"
   ]
  },
  {
   "cell_type": "markdown",
   "metadata": {},
   "source": [
    "5\\. [2.5pts] In order to be able to visualize the contrast, you first need to unmask the voxels back into a volume. Do this using the function `unmask`. Then plot slice 27 of the first axis. You should see an axial slice. Use `vmin, vmax = -2, 2` and the colormap `RdBu_r`. In `plt.imshow` you can set `origin` to `\"lower\"`. Also add a colorbar using `plt.colorbar`."
   ]
  },
  {
   "cell_type": "code",
   "execution_count": null,
   "metadata": {},
   "outputs": [],
   "source": [
    "def unmask(masked):\n",
    "    output = np.zeros_like(mask, dtype='float64')\n",
    "    output[mask] = masked\n",
    "    return output"
   ]
  },
  {
   "cell_type": "code",
   "execution_count": null,
   "metadata": {},
   "outputs": [],
   "source": [
    "# 5\n"
   ]
  },
  {
   "cell_type": "markdown",
   "metadata": {},
   "source": [
    "Make sure to submit!"
   ]
  },
  {
   "cell_type": "code",
   "execution_count": null,
   "metadata": {},
   "outputs": [],
   "source": [
    "_ = ok.submit()"
   ]
  },
  {
   "cell_type": "code",
   "execution_count": null,
   "metadata": {},
   "outputs": [],
   "source": []
  }
 ],
 "metadata": {
  "kernelspec": {
   "display_name": "Python 3",
   "language": "python",
   "name": "python3"
  },
  "language_info": {
   "codemirror_mode": {
    "name": "ipython",
    "version": 3
   },
   "file_extension": ".py",
   "mimetype": "text/x-python",
   "name": "python",
   "nbconvert_exporter": "python",
   "pygments_lexer": "ipython3",
   "version": "3.6.1"
  }
 },
 "nbformat": 4,
 "nbformat_minor": 2
}
