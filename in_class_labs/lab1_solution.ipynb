{
 "cells": [
  {
   "cell_type": "markdown",
   "metadata": {},
   "source": [
    "# Lab 1\n",
    "\n",
    "This lab is to be done in class. You will have 15 minutes to complete the 2 questions below. It is open note, so feel free to refer back to your homework and lecture materials. There is no collaboration however, please do all your own work.\n",
    "\n",
    "## Please run the cells below to import the moduels you need and start OKPy"
   ]
  },
  {
   "cell_type": "code",
   "execution_count": null,
   "metadata": {},
   "outputs": [],
   "source": [
    "## import the necessary packages: numpy, nibabel\n",
    "import nibabel as nb\n",
    "import numpy as np\n",
    "from matplotlib import pyplot as plt\n",
    "import cortex\n",
    "import os\n",
    "from __future__ import print_function\n",
    "from ipywidgets import interact, interactive, fixed, interact_manual, widgets"
   ]
  },
  {
   "cell_type": "code",
   "execution_count": null,
   "metadata": {},
   "outputs": [],
   "source": [
    "# unzip the zipped nifti file so nibabel creates a memory map which is much more\n",
    "# memory efficient than just loading the data.\n",
    "!gunzip -c /data/cogneuro/fMRI/reading/s02_reading_00.nii.gz > s02_reading_00.nii"
   ]
  },
  {
   "cell_type": "code",
   "execution_count": null,
   "metadata": {},
   "outputs": [],
   "source": [
    "%matplotlib inline"
   ]
  },
  {
   "cell_type": "code",
   "execution_count": null,
   "metadata": {},
   "outputs": [],
   "source": [
    "# Don't change this cell; just run it. \n",
    "# The result will give you directions about how to log in to the submission system, called OK.\n",
    "# Once you're logged in, you can run this cell again, but it won't ask you who you are because\n",
    "# it remembers you. However, you will need to log in once per assignment.\n",
    "from client.api.notebook import Notebook\n",
    "ok = Notebook('lab1.ok')\n",
    "_ = ok.auth(inline=True)"
   ]
  },
  {
   "cell_type": "markdown",
   "metadata": {},
   "source": [
    "1\\. [3 pts] Loading and manipulating fMRI data.\n",
    "\n",
    "**(A)** [1 pt] Load the 4D functional nifti file located at the path specified by the name `filename` below. Store it in a name called `data`.\n",
    "\n",
    "**(B)** [1 pt] Transpose the data\n",
    "\n",
    "**(C)** [1 pt] Subtract the minimum value (across all the dimensions) from each element of the array. Store that value in a name called `data_min`."
   ]
  },
  {
   "cell_type": "code",
   "execution_count": null,
   "metadata": {},
   "outputs": [],
   "source": [
    "filename = 's02_reading_00.nii'"
   ]
  },
  {
   "cell_type": "code",
   "execution_count": null,
   "metadata": {},
   "outputs": [],
   "source": [
    "# A\n",
    "nii = nb.load(filename)\n",
    "data = nii.get_data()"
   ]
  },
  {
   "cell_type": "code",
   "execution_count": null,
   "metadata": {},
   "outputs": [],
   "source": [
    "# B\n",
    "data = data.T"
   ]
  },
  {
   "cell_type": "code",
   "execution_count": null,
   "metadata": {},
   "outputs": [],
   "source": [
    "# C\n",
    "data_min = data - data.min()"
   ]
  },
  {
   "cell_type": "markdown",
   "metadata": {},
   "source": [
    "2\\. [7 pts] Masking and Plotting fMRI data.\n",
    "\n",
    "**(A)** [2 pts] Plot the 15th axial (horizontal) slice of the 10th volume of the 4D array called `data`.\n",
    "\n",
    "**(B)** [2 pts] Plot a histogram of all the values in the 10th volume of the 4D array `data`. Use 50 bins. Remember you need to convert from\\ a 4D array to a 1D array for the histogram function to work properly.\n",
    "\n",
    "**(C)** [3 pts] Choose a threshold value that will separate the brain from outside the brain based on the values in the histogram. Create a cortical mask using all the values greater than this threshold for the 10th volume."
   ]
  },
  {
   "cell_type": "code",
   "execution_count": null,
   "metadata": {},
   "outputs": [],
   "source": [
    "# A\n",
    "tenth_volume = data[9]\n",
    "_ = plt.imshow(tenth_volume[14,:,:])"
   ]
  },
  {
   "cell_type": "code",
   "execution_count": null,
   "metadata": {},
   "outputs": [],
   "source": [
    "# B\n",
    "_ = plt.hist(tenth_volume.flatten(), 50)"
   ]
  },
  {
   "cell_type": "code",
   "execution_count": null,
   "metadata": {},
   "outputs": [],
   "source": [
    "# C\n",
    "threshold = 200\n",
    "cortical_mask = tenth_volume < threshold"
   ]
  },
  {
   "cell_type": "markdown",
   "metadata": {},
   "source": [
    "Make sure to submit your homework to OKpy!"
   ]
  },
  {
   "cell_type": "code",
   "execution_count": null,
   "metadata": {},
   "outputs": [],
   "source": [
    "_ = ok.submit()"
   ]
  }
 ],
 "metadata": {
  "kernelspec": {
   "display_name": "Python 3",
   "language": "python",
   "name": "python3"
  },
  "language_info": {
   "codemirror_mode": {
    "name": "ipython",
    "version": 3
   },
   "file_extension": ".py",
   "mimetype": "text/x-python",
   "name": "python",
   "nbconvert_exporter": "python",
   "pygments_lexer": "ipython3",
   "version": "3.6.1"
  }
 },
 "nbformat": 4,
 "nbformat_minor": 2
}
