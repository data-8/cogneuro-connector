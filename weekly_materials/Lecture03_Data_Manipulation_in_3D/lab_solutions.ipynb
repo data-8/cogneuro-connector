{
 "cells": [
  {
   "cell_type": "markdown",
   "metadata": {},
   "source": [
    "# Overview\n",
    "\n",
    "## Lab 3: fMRI data manipulation in 3D: loading and plotting raw data in python\n",
    "\n",
    "In this session, we will learn about fMRI data properties by manipulating and visualizing it.\n",
    "\n",
    "Start by importing the packages we will use. "
   ]
  },
  {
   "cell_type": "code",
   "execution_count": null,
   "metadata": {
    "collapsed": false
   },
   "outputs": [],
   "source": [
    "# load the packages we will use:\n",
    "import numpy as np\n",
    "import matplotlib.pyplot as plt  # for visualization\n",
    "\n",
    "# Set defaults for matplotlib plotting in the notebook\n",
    "%matplotlib inline"
   ]
  },
  {
   "cell_type": "markdown",
   "metadata": {},
   "source": [
    "### Loading Data\n",
    "In the following we will load the same run of fMRI data used in the lecture. We also transpose the array:\n"
   ]
  },
  {
   "cell_type": "code",
   "execution_count": null,
   "metadata": {
    "collapsed": false
   },
   "outputs": [],
   "source": [
    "# Load the fMRI data\n",
    "fname = '/home/jovyan/data/sub01_categories1_1.npy'\n",
    "data = np.load(fname) \n",
    "data = data.astype('float32')\n",
    "data = data.T\n",
    "\n",
    "print('data.shape : ', data.shape)"
   ]
  },
  {
   "cell_type": "markdown",
   "metadata": {},
   "source": [
    "### Visualizing brain slices\n",
    "\n",
    "<img src=\"../Lecture02_IntroFMRI_RawData/figures/slices.png\" style=\"height: 200px;\">\n",
    "\n",
    "\n",
    "We will revisit and improve the plot_all_slices function that we wrote in class. We want to make it display the slice number for each one of the subplots that are shown. We will do that by adding a title that tells which dimension we are looking at (e.g. \"Z\") and what number of slice it is (e.g. \"4\")."
   ]
  },
  {
   "cell_type": "markdown",
   "metadata": {},
   "source": [
    "1- [2pts] Copy the get_any_slice() and plot_any_slice_v2() functions:\n",
    "- Make sure that the plot_any_slice_v2() function accepts as parameter plotting arguments for imshow, as we saw in class.\n",
    "- Add an additional parameter to plot_any_slice(): title, a string with default value = ''. After calling imshow, plot_any_slice_v2() should use this string to title the image. You can look at the documentation for plt.title."
   ]
  },
  {
   "cell_type": "code",
   "execution_count": null,
   "metadata": {
    "collapsed": true
   },
   "outputs": [],
   "source": [
    "### STUDENT ANSWER\n",
    "\n",
    "def get_any_slice(volume, slice_number, dimension):\n",
    "    \"\"\"Given an integer and a 3D volume, this function returns the data of \n",
    "    that horizontal slice \"\"\" \n",
    "    if dimension == 0:\n",
    "        img = volume[slice_number, :, :]\n",
    "    elif dimension == 1:\n",
    "        img = volume[:, slice_number, :]\n",
    "    elif dimension == 2:\n",
    "        img = volume[:, :, slice_number]\n",
    "    return img\n",
    "\n",
    "def plot_any_slice_v2(volume, slice_number, dimension, origin = 'lower', interpolation='nearest', aspect='equal',\n",
    "                cmap='viridis', vmin=0, vmax=2000, title=\"\"):\n",
    "    img = get_any_slice( volume, slice_number, dimension)\n",
    "    _ = plt.imshow(img, origin=origin, interpolation=interpolation, cmap=cmap, vmin=vmin, vmax = vmax)\n",
    "    _ = plt.axis('off')\n",
    "    _ = plt.title(title)\n",
    "    \n"
   ]
  },
  {
   "cell_type": "markdown",
   "metadata": {},
   "source": [
    "2- [2pts] Copy the plot_all_slices function. We will now edit it:\n",
    "- Add an additional parameter for that function. Call it subplot_title_prefix, with a default value of ''. Examples values that will be used for subplot_title_prefix are \"Z =\", \"Time =\" etc.\n",
    "- Add a line that formats the title for each plot. Basically, inside the for loop, you need to create a new list by adding the number of the slice to the subplot_title_prefix. You can use the .format function or other methods.\n",
    "- Make sure to pass that title as an argument to the plot_any_slice_v2 function.\n",
    "\n",
    "### You need to make sure that:\n",
    "\n",
    "At the end, if the following function is called:\n",
    "\n",
    "`plot_all_slices( example_volume, 0, nrows = 5, ncols = 6, subplot_title_prefix = \"Z = \")`\n",
    "\n",
    "The output has to be a plot of all the horizontal slices such as the one we did in class, with the first subplot having the title \"Z = 0\", the second having the title \"Z = 1\". etc."
   ]
  },
  {
   "cell_type": "code",
   "execution_count": null,
   "metadata": {
    "collapsed": true
   },
   "outputs": [],
   "source": [
    "### STUDENT ANSWER\n",
    "\n",
    "def plot_all_slices(volume, slice_dimension, nrows, ncols ,  origin = 'lower', interpolation='nearest', aspect='equal',\n",
    "                cmap='viridis', vmin=0, vmax=2000, subplot_title_prefix=\"\"):\n",
    "    fig = plt.figure(figsize = (8,8))\n",
    "    n_slices = volume.shape[slice_dimension]\n",
    "    for s in range(n_slices):\n",
    "        ax = fig.add_subplot(nrows, ncols, s+1)\n",
    "        title = '{0} {1}'.format(subplot_title_prefix, s)\n",
    "        plot_any_slice_v2(volume, s, slice_dimension, origin=origin, interpolation=interpolation,\n",
    "                          cmap=cmap, vmin=vmin, vmax = vmax, title=title)\n",
    "    return fig\n",
    "\n"
   ]
  },
  {
   "cell_type": "markdown",
   "metadata": {},
   "source": [
    "3- [2pts] Use your function to plot the following:\n",
    "- The first volume of the series (i.e. T=0), by slicing it along the horizontal dimension, with subplot_title_prefix \"Z =\"\n",
    "- The last volume of the series, by slicing it along the coronal dimension, with subplot_title_prefix \"Y =\""
   ]
  },
  {
   "cell_type": "code",
   "execution_count": null,
   "metadata": {
    "collapsed": false,
    "scrolled": false
   },
   "outputs": [],
   "source": [
    "### STUDENT ANSWER\n",
    "vol1 = data[0]\n",
    "plot_all_slices(vol1, 0, 5, 6, subplot_title_prefix='Z =', aspect ='auto');\n",
    "vol2 = data[-1]\n",
    "plot_all_slices(vol2, 1, 10, 10, subplot_title_prefix='Y =', aspect ='equal');"
   ]
  },
  {
   "cell_type": "markdown",
   "metadata": {},
   "source": [
    "4- [1pts] Now we will do a slightly different selection: \n",
    "\n",
    "- Select all the data between times 0 and 30 for the horizontal slice Z = 10.\n",
    "- Use plot_all_slices to plot it, slicing over the first dimension (in this case the first dimension is time, so use subplot_title_prefix = \"Time =\", and you can use nrows=5 and ncols=6).\n",
    "- What does that plot show?\n"
   ]
  },
  {
   "cell_type": "code",
   "execution_count": null,
   "metadata": {
    "collapsed": false
   },
   "outputs": [],
   "source": [
    "### STUDENT ANSWER\n",
    "selection = data[20:50,10,:,:]\n",
    "plot_all_slices(selection, 0, 5, 6, subplot_title_prefix='Time =', aspect ='auto');"
   ]
  },
  {
   "cell_type": "markdown",
   "metadata": {},
   "source": [
    "5- [3pts] Now we will try out multiple selections. For the following list:\n",
    "- create a new variable by selecting the data according to the requirement\n",
    "- print the shape of your new variable\n",
    "- according to the shape of the selection, you have to chose to do one of the following visualizations: (i) plot_all_slices, (ii) plt.imshow OR (iii) plt.plot. Pick the method that is most appropriate for each selection.\n",
    "\n",
    "(you can chose the slice_dimension you want for plot_all_slices) \n",
    "\n",
    "Do the above for each of:\n",
    "- (a) The volume of data corresponding to Time = 22. \n",
    "- (b) The coronal slice with Y = 35 of the volume corresponding to Time = 5.\n",
    "- (c) The selection corresponding to Z = 10, Y = 45 and X = 35, and only between times 45 and 75.\n",
    "- (d) The coronal slice with Y = 40, between times 0 and 25\n",
    "- (e) From the first volume (Time = 0), select the sagittal slice corresponding to X = 45."
   ]
  },
  {
   "cell_type": "code",
   "execution_count": null,
   "metadata": {
    "collapsed": false
   },
   "outputs": [],
   "source": [
    "# (a)\n",
    "### STUDENT ANSWER\n",
    "selection = data[22]\n",
    "print(selection.shape)\n",
    "plot_all_slices(selection, 0, 5, 6, subplot_title_prefix='Z =', aspect ='auto');"
   ]
  },
  {
   "cell_type": "code",
   "execution_count": null,
   "metadata": {
    "collapsed": false
   },
   "outputs": [],
   "source": [
    "# (b)\n",
    "### STUDENT ANSWER\n",
    "selection = data[5,:,35,:]\n",
    "print(selection.shape)\n",
    "plt.imshow(selection, origin = 'lower', interpolation='nearest', aspect='auto',\n",
    "                cmap='viridis', vmin=0, vmax=2000);\n",
    "plt.title('Y = 35');"
   ]
  },
  {
   "cell_type": "code",
   "execution_count": null,
   "metadata": {
    "collapsed": false
   },
   "outputs": [],
   "source": [
    "# (c)\n",
    "### STUDENT ANSWER\n",
    "selection = data[:40,:,40,:]\n",
    "print(selection.shape)\n",
    "plt.plot(selection);\n",
    "plt.xlabel('Time (TRs)');"
   ]
  },
  {
   "cell_type": "code",
   "execution_count": null,
   "metadata": {
    "collapsed": false
   },
   "outputs": [],
   "source": [
    "# (d)\n",
    "### STUDENT ANSWER\n",
    "selection = data[:25,:,40,:]\n",
    "print(selection.shape)\n",
    "plot_all_slices(selection, 0, 5, 5, subplot_title_prefix='Time =', aspect ='auto');"
   ]
  },
  {
   "cell_type": "code",
   "execution_count": null,
   "metadata": {
    "collapsed": false
   },
   "outputs": [],
   "source": [
    "# (e)\n",
    "### STUDENT ANSWER\n",
    "selection = data[0,:,:,45]\n",
    "print(selection.shape)\n",
    "plt.imshow(selection, origin = 'lower', interpolation='nearest', aspect='auto',\n",
    "                cmap='viridis', vmin=0, vmax=2000);\n",
    "plt.title('X = 45');"
   ]
  }
 ],
 "metadata": {
  "kernelspec": {
   "display_name": "Python 3",
   "language": "python",
   "name": "python3"
  },
  "language_info": {
   "codemirror_mode": {
    "name": "ipython",
    "version": 3
   },
   "file_extension": ".py",
   "mimetype": "text/x-python",
   "name": "python",
   "nbconvert_exporter": "python",
   "pygments_lexer": "ipython3",
   "version": "3.5.2"
  }
 },
 "nbformat": 4,
 "nbformat_minor": 0
}
