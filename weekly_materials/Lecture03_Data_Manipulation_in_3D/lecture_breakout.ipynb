{
 "cells": [
  {
   "cell_type": "markdown",
   "metadata": {},
   "source": [
    "# Overview\n",
    "\n",
    "## Lecture 3: fMRI data manipulation in 3D: loading and plotting raw data in python\n",
    "\n",
    "In this session, we will learn about fMRI data properties by manipulating and visualizing it.\n",
    "\n",
    "# Goals for today\n",
    "\n",
    "We will go over some important concepts of data manipulation and visualization in fMRI, including: \n",
    "\n",
    "- Neuroscience concepts\n",
    "    - FMRI data format and meaning\n",
    "    - How to manipulate and plot fMRI data\n",
    "- Coding concepts\n",
    "    - Plotting 3D images\n",
    "    - Logical indexing\n",
    "    - Setting matplotlib plotting parameters\n",
    "- Datascience concepts\n",
    "    - Normalizing data\n",
    "    - Interactive plots (3d plots) \n",
    "    \n",
    "We start by importing the packages we will use. "
   ]
  },
  {
   "cell_type": "code",
   "execution_count": null,
   "metadata": {
    "collapsed": false
   },
   "outputs": [],
   "source": [
    "# load the packages we will use:\n",
    "import numpy as np\n",
    "import matplotlib.pyplot as plt  # for visualization\n",
    "\n",
    "# Set defaults for matplotlib plotting in the notebook\n",
    "%matplotlib inline"
   ]
  },
  {
   "cell_type": "markdown",
   "metadata": {},
   "source": [
    "### Loading Data\n",
    "In the following we will load one run (also referred to as a scan) worth of fMRI data.\n"
   ]
  },
  {
   "cell_type": "code",
   "execution_count": null,
   "metadata": {
    "collapsed": false
   },
   "outputs": [],
   "source": [
    "# Load the fMRI data\n",
    "fname = '/home/jovyan/data/sub01_categories1_1.npy'\n",
    "data = np.load(fname) \n",
    "data = data.astype('float32')\n",
    "\n",
    "print('data.shape : ', data.shape)"
   ]
  },
  {
   "cell_type": "markdown",
   "metadata": {},
   "source": [
    "The dimensions of the data are (X, Y, Z, T) (T is time, in TRs). Thus, there are 120 volumes (120 time points). Each volume has 30 horizontal or coronal slices with 100 x 100 pixels.\n",
    "\n",
    "### Transpose data\n",
    "The convention is to have the first dimension correspond to time. We will transpose the data to have now time be the first dimension. The new data will have dimensions corresponding to (T, Z, Y, X):"
   ]
  },
  {
   "cell_type": "code",
   "execution_count": null,
   "metadata": {
    "collapsed": false
   },
   "outputs": [],
   "source": [
    "# Transpose data\n",
    "data = data.T\n",
    "print('data shape : ', data.shape)"
   ]
  },
  {
   "cell_type": "markdown",
   "metadata": {},
   "source": [
    "### Arrays\n",
    "  \n",
    "Let's quickly review 1D, 2D and 3D arrays. We will create some example arrays using a function to generate numbers randomly. We will chose a generator that uses the uniform(0,1) distribution function."
   ]
  },
  {
   "cell_type": "code",
   "execution_count": null,
   "metadata": {
    "collapsed": false
   },
   "outputs": [],
   "source": [
    "# 1D array example:\n",
    "A_1D = np.array(np.random.uniform(size = 5))\n",
    "print(A_1D)"
   ]
  },
  {
   "cell_type": "code",
   "execution_count": null,
   "metadata": {
    "collapsed": false
   },
   "outputs": [],
   "source": [
    "# 2D array example:\n",
    "A_2D = np.array(np.random.uniform(size = (4,5)))\n",
    "print(A_2D)"
   ]
  },
  {
   "cell_type": "code",
   "execution_count": null,
   "metadata": {
    "collapsed": false
   },
   "outputs": [],
   "source": [
    "# 3D array example:\n",
    "A_3D = np.array(np.random.uniform(size = (5,3,4)))\n",
    "print(A_3D)"
   ]
  },
  {
   "cell_type": "markdown",
   "metadata": {},
   "source": [
    "### Breakout session\n",
    "\n",
    "Now pretend that A_3D corresponds to the measurement over 5 consecutive days (0,1,2,3 and 4) of the chance of rain at three times of the day (0 = morning, 1 = afternoon and 2 = evening) in four different cities (0 = Berkeley, 1 = New York, 2 = Paris, 3 = London). The dimension of A_3D is (5, 3, 4) corresponding to (Day, Time, City).\n",
    "\n",
    "- Select the array c1 as the chance of rain in the evening for all 5 days in the four cities. \n",
    "- What is the dimension of c1?"
   ]
  },
  {
   "cell_type": "code",
   "execution_count": null,
   "metadata": {
    "collapsed": false
   },
   "outputs": [],
   "source": [
    "### STUDENT ANSWER\n",
    "c1 = A_3D[:,2,:]\n",
    "# (5,4)"
   ]
  },
  {
   "cell_type": "markdown",
   "metadata": {},
   "source": [
    "- Select the array c2 as the chance of rain in the first 3 days at all times in the four cities. \n",
    "- What is the dimension of c2?"
   ]
  },
  {
   "cell_type": "code",
   "execution_count": null,
   "metadata": {
    "collapsed": false
   },
   "outputs": [],
   "source": [
    "### STUDENT ANSWER\n",
    "c2 = A_3D[ :3, :, :]\n",
    "# (3,3,4)"
   ]
  },
  {
   "cell_type": "markdown",
   "metadata": {},
   "source": [
    "- Select the array c3 as the chance of rain in the last 4 days in the morning and afternoon in Paris and London. \n",
    "- What is the dimension of c3?"
   ]
  },
  {
   "cell_type": "code",
   "execution_count": null,
   "metadata": {
    "collapsed": false
   },
   "outputs": [],
   "source": [
    "### STUDENT ANSWER\n",
    "c3 = A_3D[ 1: , :2 , 2:]\n",
    "# (4,2,2)"
   ]
  },
  {
   "cell_type": "markdown",
   "metadata": {},
   "source": [
    "- Select the array c4 as the chance of rain in all 5 days in the evening in Paris. \n",
    "- What is the dimension of c4?\n",
    "- This is a 1 dimensional signal that you can plot. Use plt.plot to plot the chance of rain for the 5 days. Label the axes appropriately."
   ]
  },
  {
   "cell_type": "code",
   "execution_count": null,
   "metadata": {
    "collapsed": false
   },
   "outputs": [],
   "source": [
    "### STUDENT ANSWER\n",
    "c4 = A_3D[:, 2, 2]\n",
    "# (4,2,2)\n",
    "plt.plot(c4)\n",
    "plt.xlabel('days')\n",
    "plt.ylabel('chance of rain')"
   ]
  },
  {
   "cell_type": "markdown",
   "metadata": {},
   "source": [
    "### Plot the timecourse of a single voxel\n",
    "\n",
    "Back to our data. This is a 4D matrix with the dimensions corresponding to Time, Z, Y and X.\n",
    "\n",
    "Now we can plot the timecourse for one voxel somewhere in the middle of the brain (e.g. at Z=10, Y=34, X=40)."
   ]
  },
  {
   "cell_type": "code",
   "execution_count": null,
   "metadata": {
    "collapsed": false
   },
   "outputs": [],
   "source": [
    "# _ = plt.plot(data[:, 10, 34, 40])\n",
    "_ = plt.plot(data[:, 2, 30, 50])\n",
    "_ = plt.plot(data[:, 2, 27, 80])\n",
    "_ = plt.plot(data[:, 2, :, 80])\n",
    "plt.xlabel('time (TRs)')\n",
    "plt.ylabel('unnormalized fMRI signal')"
   ]
  },
  {
   "cell_type": "markdown",
   "metadata": {},
   "source": [
    "Note that we have 30,000 measurements to plot like this. So, instead, we can view our data as images."
   ]
  },
  {
   "cell_type": "markdown",
   "metadata": {},
   "source": [
    "## Displaying data as an image"
   ]
  },
  {
   "cell_type": "markdown",
   "metadata": {},
   "source": [
    "First, we will get a broader view of the first volume of our data. The (T, Z, Y, X) dimension ordering that we have for the data makes it easy to select volumes (time snapshots of brain activity).\n"
   ]
  },
  {
   "cell_type": "markdown",
   "metadata": {},
   "source": [
    "Below are some ways to select volumes:"
   ]
  },
  {
   "cell_type": "code",
   "execution_count": null,
   "metadata": {
    "collapsed": false
   },
   "outputs": [],
   "source": [
    "# We can select one volume like this: \n",
    "first_volume = data[0, :, :, :]\n",
    "\n",
    "# Or like this: \n",
    "alt_first_volume1 = data[0, ...]\n",
    "\n",
    "# Or like this: \n",
    "alt_first_volume2 = data[0]\n",
    "\n",
    "# These are all the same1\n",
    "print( np.all(first_volume == alt_first_volume1) )\n",
    "print( np.all(first_volume == alt_first_volume2) )"
   ]
  },
  {
   "cell_type": "code",
   "execution_count": null,
   "metadata": {
    "collapsed": false
   },
   "outputs": [],
   "source": [
    "first_volume.shape"
   ]
  },
  {
   "cell_type": "markdown",
   "metadata": {},
   "source": [
    "### Breakout session\n",
    "\n",
    "- select c1 as the 25th volume, print the shape.\n",
    "- select c2 as all the data for Y = 35, print the shape.\n",
    "- select c3 as all the time points for X = 10, print the shape.\n",
    "- select c4 as all the time points for Z = 12, print the shape."
   ]
  },
  {
   "cell_type": "code",
   "execution_count": null,
   "metadata": {
    "collapsed": false
   },
   "outputs": [],
   "source": [
    "### STUDENT ANSWER\n",
    "c1 = data[24]\n",
    "print(c1.shape)\n",
    "c2 = data[:,:,35,:]\n",
    "print(c2.shape)\n",
    "c3 = data[:,:,:,10]\n",
    "print(c3.shape)\n",
    "c4 = data[:,12,:,:]\n",
    "print(c4.shape)"
   ]
  },
  {
   "cell_type": "markdown",
   "metadata": {},
   "source": [
    "### Visualizing the horizontal slice\n",
    "\n",
    "<img src=\"../Lecture02_IntroFMRI_RawData/figures/slices.png\" style=\"height: 200px;\">\n",
    "\n",
    "\n",
    "Let's look at an example of a horizontal slice from the first volume. This can be done by selecting one of the slices as follows:"
   ]
  },
  {
   "cell_type": "code",
   "execution_count": null,
   "metadata": {
    "collapsed": false,
    "scrolled": false
   },
   "outputs": [],
   "source": [
    "first_volume = data[0, :, :, :]\n",
    "print(first_volume.shape)\n",
    "\n",
    "# Z=15 is halfway through the volume we have scanned\n",
    "slice_horizontal = first_volume[15,:,:] \n",
    "print(slice_horizontal.shape)\n",
    "\n",
    "# You can set the image origin [0,0] to be in the lower left corner\n",
    "# by using origin='lower'\n",
    "plt.figure()\n",
    "im = plt.imshow(slice_horizontal, origin='lower',  interpolation='nearest', aspect='equal',\n",
    "                 cmap='viridis', vmin=0, vmax=2000) \n",
    "# _ = plt.colorbar(im)\n",
    "plt.axis('off');\n",
    "\n",
    "# __ = plt.title('Yay')\n"
   ]
  },
  {
   "cell_type": "markdown",
   "metadata": {},
   "source": [
    "### Breakout session:\n",
    "> - Plot other slices to see how the shape of the brain is different\n",
    "> - Change the properties of the figure. Explore the keyword arguments for imshow, see what each does! (hints: show axes, change colormap, what about vmin and vmax values, set those)"
   ]
  },
  {
   "cell_type": "markdown",
   "metadata": {},
   "source": [
    "Link to blog post about colormaps!"
   ]
  },
  {
   "cell_type": "code",
   "execution_count": null,
   "metadata": {
    "collapsed": false
   },
   "outputs": [],
   "source": [
    "### STUDENT ANSWER\n",
    "# Z=15 is halfway through the volume we have scanned\n",
    "slice_coronal = first_volume[:,:,35] \n",
    "print(slice_coronal.shape)\n",
    "\n",
    "# You can set the image origin [0,0] to be in the lower left corner\n",
    "# by using origin='lower'\n",
    "plt.figure()\n",
    "im = plt.imshow(slice_coronal, origin='lower',  interpolation='nearest', aspect='auto',\n",
    "                 cmap='hot', vmin=0, vmax=2000) \n",
    "# _ = plt.colorbar(im)\n",
    "plt.axis('off');\n",
    "\n",
    "# __ = plt.title('Yay')"
   ]
  },
  {
   "cell_type": "markdown",
   "metadata": {},
   "source": [
    "### Plotting function:\n",
    "Here we will write a small helper function that takes a slice number as an input returns the data (2D array) of that slice."
   ]
  },
  {
   "cell_type": "code",
   "execution_count": null,
   "metadata": {
    "collapsed": false
   },
   "outputs": [],
   "source": [
    "def get_any_slice(volume, slice_number, dimension):\n",
    "    \"\"\"Given an integer and a 3D volume, this function returns the data of \n",
    "    that horizontal slice \"\"\" \n",
    "    if dimension == 0:\n",
    "        img = volume[slice_number, :, :]\n",
    "    elif dimension == 1:\n",
    "        img = volume[:, slice_number, :]\n",
    "    elif dimension == 2:\n",
    "        img = volume[:, :, slice_number]\n",
    "    return img\n",
    "\n",
    "img = get_any_slice( first_volume, 15, 0)\n",
    "print(img.shape)\n",
    "_ = plt.imshow(img, origin = 'lower', interpolation='nearest', aspect='equal',\n",
    "                cmap='viridis', vmin=0, vmax=2000)\n",
    "_ = plt.axis('off')\n"
   ]
  },
  {
   "cell_type": "markdown",
   "metadata": {},
   "source": [
    "I can also make a function that produces the plot above, and uses the get_any_slice() function:"
   ]
  },
  {
   "cell_type": "code",
   "execution_count": null,
   "metadata": {
    "collapsed": false
   },
   "outputs": [],
   "source": [
    "def plot_any_slice(volume, slice_number, dimension):\n",
    "    img = get_any_slice( volume, slice_number, dimension)\n",
    "    _ = plt.imshow(img, origin = 'lower', interpolation='nearest', aspect='equal',\n",
    "                cmap='viridis', vmin=0, vmax=2000)\n",
    "    _ = plt.axis('off')\n",
    "    \n",
    "plt.figure()\n",
    "plot_any_slice(first_volume, 10, 0)\n",
    "plt.title('horizontal slice');\n",
    "plt.figure()\n",
    "plot_any_slice(first_volume, 40, 1)\n",
    "plt.title('coronal slice');\n",
    "plt.figure()\n",
    "plot_any_slice(first_volume, 40, 2)\n",
    "plt.title('sagittal slice');"
   ]
  },
  {
   "cell_type": "markdown",
   "metadata": {},
   "source": [
    "### Modifying parameters\n",
    "\n",
    "We can see above that we might want to give different settings to different plots. Let's improve our plotting function."
   ]
  },
  {
   "cell_type": "code",
   "execution_count": null,
   "metadata": {
    "collapsed": false
   },
   "outputs": [],
   "source": [
    "def plot_any_slice_v2(volume, slice_number, dimension, cmap = 'viridis', vmin=0, vmax=2000,\n",
    "                     origin = 'lower', interpolation='nearest', aspect='equal'):\n",
    "    img = get_any_slice( volume, slice_number, dimension)\n",
    "    _ = plt.imshow(img, cmap = cmap, vmin= vmin, vmax = vmax, origin = origin, interpolation = interpolation,\n",
    "                  aspect = aspect)\n",
    "    _ = plt.axis('off')\n",
    "    \n",
    "plt.figure()\n",
    "plot_any_slice_v2(first_volume, 10, 0, aspect = 'equal')\n",
    "plt.title('horizontal slice');\n",
    "plt.figure()\n",
    "plot_any_slice_v2(first_volume, 40, 1, aspect = 'auto', cmap = 'hot' )\n",
    "plt.title('coronal slice');\n",
    "plt.figure()\n",
    "plot_any_slice_v2(first_volume, 40, 2, aspect = 'auto', cmap = 'gray')\n",
    "plt.title('sagittal slice');"
   ]
  },
  {
   "cell_type": "markdown",
   "metadata": {},
   "source": [
    "### Plot all horizontal slices"
   ]
  },
  {
   "cell_type": "markdown",
   "metadata": {},
   "source": [
    "Let's try to make a plot with all of the horizontal slices, so we can see one entire 3D volume at once. For this, we will use the `subplot()` function in matplotlib:"
   ]
  },
  {
   "cell_type": "code",
   "execution_count": null,
   "metadata": {
    "collapsed": false
   },
   "outputs": [],
   "source": [
    "fig = plt.figure(figsize = (8,8))\n",
    "slice_dimension = 0\n",
    "n_slices = first_volume.shape[slice_dimension]\n",
    "nrows, ncols = 5, 6\n",
    "for s in range(n_slices):\n",
    "    ax = fig.add_subplot(nrows, ncols, s+1)\n",
    "    plot_any_slice_v2(first_volume, s, slice_dimension, aspect = 'equal')"
   ]
  },
  {
   "cell_type": "markdown",
   "metadata": {},
   "source": [
    "Now let's make a function that plots the above:"
   ]
  },
  {
   "cell_type": "code",
   "execution_count": null,
   "metadata": {
    "collapsed": false
   },
   "outputs": [],
   "source": [
    "def plot_all_slices(volume, slice_dimension, nrows, ncols , cmap = 'viridis', vmin=0, vmax=2000,\n",
    "                     origin = 'lower', interpolation='nearest', aspect='equal' ):\n",
    "    fig = plt.figure(figsize = (8,8))\n",
    "    n_slices = first_volume.shape[slice_dimension]\n",
    "    for s in range(n_slices):\n",
    "        ax = fig.add_subplot(nrows, ncols, s+1)\n",
    "        plot_any_slice_v2(first_volume, s, slice_dimension, cmap = cmap, vmin= vmin, vmax = vmax, \n",
    "                          origin = origin, interpolation = interpolation,aspect = aspect)"
   ]
  },
  {
   "cell_type": "code",
   "execution_count": null,
   "metadata": {
    "collapsed": false
   },
   "outputs": [],
   "source": [
    "__ =  plot_all_slices(first_volume, 0, nrows = 5, ncols = 6) # nrows and ncols represent how many subplots I will have\n",
    "plt.suptitle('horizontal slices');"
   ]
  },
  {
   "cell_type": "code",
   "execution_count": null,
   "metadata": {
    "collapsed": false
   },
   "outputs": [],
   "source": [
    "__ = plot_all_slices(first_volume, 1, nrows = 10, ncols = 10, aspect = 'auto', cmap = 'hot') \n",
    "# here I need more subplots because i have 100 slices!\n",
    "plt.suptitle('coronal slices');"
   ]
  },
  {
   "cell_type": "code",
   "execution_count": null,
   "metadata": {
    "collapsed": false
   },
   "outputs": [],
   "source": [
    "__ = plot_all_slices(first_volume, 2, 10, 10, aspect = 'auto')\n",
    "plt.suptitle('sagittal slices');"
   ]
  }
 ],
 "metadata": {
  "anaconda-cloud": {},
  "kernelspec": {
   "display_name": "Python [py2k]",
   "language": "python",
   "name": "Python [py2k]"
  },
  "language_info": {
   "codemirror_mode": {
    "name": "ipython",
    "version": 2
   },
   "file_extension": ".py",
   "mimetype": "text/x-python",
   "name": "python",
   "nbconvert_exporter": "python",
   "pygments_lexer": "ipython2",
   "version": "2.7.12"
  }
 },
 "nbformat": 4,
 "nbformat_minor": 0
}
