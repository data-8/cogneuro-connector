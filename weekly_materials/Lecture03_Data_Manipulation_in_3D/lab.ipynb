{
 "cells": [
  {
   "cell_type": "markdown",
   "metadata": {},
   "source": [
    "# Overview\n",
    "\n",
    "## Lab 3: fMRI data manipulation in 3D: loading and plotting raw data in python\n",
    "\n",
    "In this session, we will learn about fMRI data properties by manipulating and visualizing it.\n",
    "\n",
    "Start by importing the packages we will use. "
   ]
  },
  {
   "cell_type": "code",
   "execution_count": 2,
   "metadata": {
    "collapsed": false
   },
   "outputs": [],
   "source": [
    "# load the packages we will use:\n",
    "import numpy as np\n",
    "import matplotlib.pyplot as plt  # for visualization\n",
    "\n",
    "# Set defaults for matplotlib plotting in the notebook\n",
    "%matplotlib inline"
   ]
  },
  {
   "cell_type": "markdown",
   "metadata": {},
   "source": [
    "### Loading Data\n",
    "In the following we will load the same run of fMRI data used in the lecture. We also transpose the array:\n"
   ]
  },
  {
   "cell_type": "code",
   "execution_count": 3,
   "metadata": {
    "collapsed": false
   },
   "outputs": [
    {
     "name": "stdout",
     "output_type": "stream",
     "text": [
      "data.shape :  (120, 30, 100, 100)\n"
     ]
    }
   ],
   "source": [
    "# Load the fMRI data\n",
    "fname = '/home/jovyan/data/sub01_categories1_1.npy'\n",
    "data = np.load(fname) \n",
    "data = data.astype('float32')\n",
    "data = data.T\n",
    "\n",
    "print('data.shape : ', data.shape)"
   ]
  },
  {
   "cell_type": "markdown",
   "metadata": {},
   "source": [
    "### Visualizing brain slices\n",
    "\n",
    "<img src=\"../Lecture02_IntroFMRI_RawData/figures/slices.png\" style=\"height: 200px;\">\n",
    "\n",
    "\n",
    "We will revisit and improve the plot_all_slices function that we wrote in class. We want to make it display the slice number for each one of the subplots that are shown. We will do that by adding a title that tells which dimension we are looking at (e.g. \"Z\") and what number of slice it is (e.g. \"4\")."
   ]
  },
  {
   "cell_type": "markdown",
   "metadata": {},
   "source": [
    "1- [2pts] Copy the get_any_slice() and plot_any_slice_v2() functions:\n",
    "- Make sure that the plot_any_slice_v2() function accepts as parameter plotting arguments for imshow, as we saw in class.\n",
    "- Add an additional parameter to plot_any_slice(): title, a string with default value = ''. After calling imshow, plot_any_slice_v2() should use this string to title that plot. You can look at the documentation for plt.title."
   ]
  },
  {
   "cell_type": "code",
   "execution_count": null,
   "metadata": {
    "collapsed": true
   },
   "outputs": [],
   "source": [
    "### STUDENT ANSWER\n"
   ]
  },
  {
   "cell_type": "markdown",
   "metadata": {},
   "source": [
    "2- [3pts] Copy the plot_all_slices function. We will now edit it:\n",
    "- Add an additional parameter for that function. Call it subplot_title_prefix. Examples values that will be used for subplot_title_prefix are \"Z =\", \"Time =\" etc.\n",
    "- Add a line that formats the title for each plot. Basically, inside the for loop, you need to use the .format function to add the number of the slice to the subplot_title_prefix.\n",
    "\n",
    "### You need to make sure that:\n",
    "\n",
    "At the end, if the following function is called:\n",
    "\n",
    "`plot_all_slices( example_volume, 0, nrows = 5, ncols = 6, subplot_title_prefix = \"Z = \")`\n",
    "\n",
    "The output has to be a plot of all the horizontal slices such as the one we did in class, with the first subplot having the title \"Z = 0\", the second having the title \"Z = 1\". etc."
   ]
  },
  {
   "cell_type": "code",
   "execution_count": 4,
   "metadata": {
    "collapsed": true
   },
   "outputs": [],
   "source": [
    "### STUDENT ANSWER\n"
   ]
  },
  {
   "cell_type": "markdown",
   "metadata": {},
   "source": [
    "3- [2pts] Use your function to plot the following:\n",
    "- The first volume of the series (i.e. T=0), seen along the horizontal dimension, with subplot_title_prefix \"Z =\"\n",
    "- Select data with Y = 45, and time between 0 and 30. Then plot the slices seen along the time dimension, with subplot_title_prefix \"Time =\"\n"
   ]
  },
  {
   "cell_type": "code",
   "execution_count": 5,
   "metadata": {
    "collapsed": false,
    "scrolled": false
   },
   "outputs": [],
   "source": [
    "### STUDENT ANSWER\n"
   ]
  },
  {
   "cell_type": "markdown",
   "metadata": {},
   "source": [
    "### Breakout session:\n",
    "> - Plot other slices to see how the shape of the brain is different\n",
    "> - Change the properties of the figure. Explore the keyword arguments for imshow, see what each does! (hints: show axes, change colormap, what about vmin and vmax values, set those)"
   ]
  },
  {
   "cell_type": "markdown",
   "metadata": {},
   "source": [
    "Link to blog post about colormaps!"
   ]
  },
  {
   "cell_type": "code",
   "execution_count": null,
   "metadata": {
    "collapsed": false
   },
   "outputs": [],
   "source": [
    "### STUDENT ANSWER\n",
    "slice_example = first_volume[:,20,:]\n",
    "\n",
    "# Make sure you give examples of how to set aspect, interpolation\n",
    "im = plt.imshow(slice_example, origin = 'lower', interpolation='nearest', aspect='auto',\n",
    "                cmap='viridis', vmin=0, vmax=2000)\n",
    "_ = plt.colorbar(im)"
   ]
  },
  {
   "cell_type": "markdown",
   "metadata": {},
   "source": [
    "### Plotting function:\n",
    "Here we will write a small helper function that takes a slice number as an input returns the data (2D array) of that slice."
   ]
  },
  {
   "cell_type": "code",
   "execution_count": null,
   "metadata": {
    "collapsed": false
   },
   "outputs": [],
   "source": [
    "def get_any_slice(volume, slice_number, dimension):\n",
    "    \"\"\"Given an integer and a 3D volume, this function returns the data of \n",
    "    that horizontal slice \"\"\" \n",
    "    if dimension == 0:\n",
    "        img = volume[slice_number, :, :]\n",
    "    elif dimension == 1:\n",
    "        img = volume[:, slice_number, :]\n",
    "    elif dimension == 2:\n",
    "        img = volume[:, :, slice_number]\n",
    "    return img\n",
    "\n",
    "img = get_any_slice( first_volume, 40, 1)\n",
    "print(img.shape)\n",
    "_ = plt.imshow(img, origin = 'lower', interpolation='nearest', aspect='auto',\n",
    "                cmap='viridis', vmin=0, vmax=2000)\n",
    "_ = plt.axis('off')\n"
   ]
  },
  {
   "cell_type": "markdown",
   "metadata": {},
   "source": [
    "I can also make a function that produces the plot above, and uses the get_any_slice() function:"
   ]
  },
  {
   "cell_type": "code",
   "execution_count": null,
   "metadata": {
    "collapsed": false
   },
   "outputs": [],
   "source": [
    "def plot_any_slice(volume, slice_number, dimension):\n",
    "    img = get_any_slice( volume, slice_number, dimension)\n",
    "    _ = plt.imshow(img, origin = 'lower', interpolation='nearest', aspect='equal',\n",
    "                cmap='viridis', vmin=0, vmax=2000)\n",
    "    _ = plt.axis('off')\n",
    "    \n",
    "plt.figure()\n",
    "plot_any_slice(first_volume, 10, 0)\n",
    "plt.title('horizontal slice');\n",
    "plt.figure()\n",
    "plot_any_slice(first_volume, 40, 1)\n",
    "plt.title('coronal slice');\n",
    "plt.figure()\n",
    "plot_any_slice(first_volume, 40, 2)\n",
    "plt.title('sagittal slice');"
   ]
  },
  {
   "cell_type": "markdown",
   "metadata": {},
   "source": [
    "### Changing matplotlib default parameters\n",
    "\n",
    "You can set the default colormap, default interpolation or many other parameters in `matplotlib.rcParams`.\n",
    "\n",
    "For example to set all the colormaps in this `ipython` session to the colormap 'viridis' we can use the following line:\n",
    "    * `matplotlib.rcParams['image.cmap'] = 'viridis'` # or whatever your favorite map is"
   ]
  },
  {
   "cell_type": "code",
   "execution_count": null,
   "metadata": {
    "collapsed": true
   },
   "outputs": [],
   "source": [
    "import matplotlib\n",
    "matplotlib.rcParams['image.cmap'] = 'viridis' # or whatever your favorite map is e.g. 'gray', 'hot'\n",
    "matplotlib.rcParams['image.interpolation'] = 'nearest'\n",
    "# matplotlib.rcParams['image.aspect'] = 'auto'"
   ]
  },
  {
   "cell_type": "markdown",
   "metadata": {
    "collapsed": false
   },
   "source": [
    "An alternative way to change a figure's properties is to create a dictionary of keywords that can be used as a  keyword argument to the `imshow` function.\n",
    "\n",
    "This has the advantage of not setting the default parameters. Yet, we can easily change a number of parameters in the `imshow` function by just passing the keywords dictionary to the `imhsow` function. The following cell is demonstrating this:"
   ]
  },
  {
   "cell_type": "code",
   "execution_count": null,
   "metadata": {
    "collapsed": false
   },
   "outputs": [],
   "source": [
    "im_kws = dict(origin = 'lower', aspect='auto', vmin=0, vmax=2000, cmap='hot') \n",
    "\n",
    "# Question: what is a python dictionary?\n",
    "\n",
    "plt.imshow(first_volume[:,  30, :], **im_kws)\n",
    "plt.colorbar()"
   ]
  },
  {
   "cell_type": "markdown",
   "metadata": {},
   "source": [
    "### Modifying parameters\n",
    "\n",
    "We can see above that we might want to give different settings to different plots. Let's improve our plotting function."
   ]
  },
  {
   "cell_type": "code",
   "execution_count": null,
   "metadata": {
    "collapsed": false
   },
   "outputs": [],
   "source": [
    "def plot_any_slice_v2(volume, slice_number, dimension):\n",
    "    img = get_any_slice( volume, slice_number, dimension)\n",
    "    _ = plt.imshow(img, origin = 'lower', interpolation='nearest', aspect='equal',\n",
    "                cmap='viridis', vmin=0, vmax=2000)\n",
    "    _ = plt.axis('off')\n",
    "    \n",
    "plt.figure()\n",
    "plot_any_slice_v2(first_volume, 10, 0)\n",
    "plt.title('horizontal slice');\n",
    "plt.figure()\n",
    "plot_any_slice_v2(first_volume, 40, 1)\n",
    "plt.title('coronal slice');\n",
    "plt.figure()\n",
    "plot_any_slice_v2(first_volume, 40, 2)\n",
    "plt.title('sagittal slice');"
   ]
  },
  {
   "cell_type": "markdown",
   "metadata": {},
   "source": [
    "### Plot all horizontal slices"
   ]
  },
  {
   "cell_type": "markdown",
   "metadata": {},
   "source": [
    "Let's try to make a plot with all of the horizontal slices, so we can see one entire 3D volume at once. For this, we will use the `subplot()` function in matplotlib:"
   ]
  },
  {
   "cell_type": "code",
   "execution_count": null,
   "metadata": {
    "collapsed": false
   },
   "outputs": [],
   "source": [
    "fig = plt.figure(figsize = (8,8))\n",
    "slice_dimension = 0\n",
    "n_slices = first_volume.shape[slice_dimension]\n",
    "nrows, ncols = 5, 6\n",
    "for s in range(n_slices):\n",
    "    ax = fig.add_subplot(nrows, ncols, s+1)\n",
    "    plot_any_slice_v2(first_volume, s, slice_dimension)"
   ]
  },
  {
   "cell_type": "markdown",
   "metadata": {},
   "source": [
    "Now let's make a function that plots the above:"
   ]
  },
  {
   "cell_type": "code",
   "execution_count": null,
   "metadata": {
    "collapsed": false
   },
   "outputs": [],
   "source": [
    "def plot_all_slices(volume, slice_dimension, nrows, ncols , **kwargs):\n",
    "    ### STUDENT ANSWER\n",
    "    fig = plt.figure(figsize = (8,8))\n",
    "    n_slices = volume.shape[slice_dimension]\n",
    "    for s in range(n_slices):\n",
    "        ax = fig.add_subplot(nrows, ncols, s+1)\n",
    "        plot_any_slice_v2(volume, s, slice_dimension, **kwargs)\n",
    "    return fig"
   ]
  },
  {
   "cell_type": "code",
   "execution_count": null,
   "metadata": {
    "collapsed": false
   },
   "outputs": [],
   "source": [
    "plot_all_slices(first_volume, 0, 5, 6)\n",
    "plt.suptitle('horizontal slices');"
   ]
  },
  {
   "cell_type": "code",
   "execution_count": null,
   "metadata": {
    "collapsed": false
   },
   "outputs": [],
   "source": [
    "fig = plot_all_slices(first_volume, 1, 10, 10)\n",
    "fig.suptitle('coronal slices');"
   ]
  },
  {
   "cell_type": "code",
   "execution_count": null,
   "metadata": {
    "collapsed": false
   },
   "outputs": [],
   "source": [
    "fig = plot_all_slices(first_volume, 2, 10, 10)\n",
    "fig.suptitle('sagittal slices');"
   ]
  },
  {
   "cell_type": "markdown",
   "metadata": {},
   "source": [
    "## Time series\n",
    "\n",
    "Remember that one of these volumes is acquired at every time unit. The time unit here is 2 seconds. Let's look at one slice at different time points: 20 to 50. "
   ]
  },
  {
   "cell_type": "code",
   "execution_count": null,
   "metadata": {
    "collapsed": false
   },
   "outputs": [],
   "source": [
    "horizontal_slice10 = data[:,10,:,:]\n",
    "print(horizontal_slice_10.shape)"
   ]
  },
  {
   "cell_type": "code",
   "execution_count": null,
   "metadata": {
    "collapsed": false
   },
   "outputs": [],
   "source": [
    "horizontal_slice10_subset = horizontal_slice10[20:50]\n",
    "print(horizontal_slice10_subset.shape)"
   ]
  },
  {
   "cell_type": "markdown",
   "metadata": {},
   "source": [
    "We can actually use the same function to plot it!\n",
    "\n",
    "What does the following plot correspond to?"
   ]
  },
  {
   "cell_type": "code",
   "execution_count": null,
   "metadata": {
    "collapsed": false
   },
   "outputs": [],
   "source": [
    "plot_all_slices(horizontal_slice10_subset, 0, 5, 6);"
   ]
  },
  {
   "cell_type": "markdown",
   "metadata": {},
   "source": [
    "We can barely see any change in time! Why is that?\n",
    "\n",
    "Let's try to plot the activity in time for different voxels. What do you notice?"
   ]
  },
  {
   "cell_type": "code",
   "execution_count": null,
   "metadata": {
    "collapsed": false,
    "scrolled": true
   },
   "outputs": [],
   "source": [
    "TR = 2.0045\n",
    "n_points = 100\n",
    "time_points = np.arange(n_points)*TR\n",
    "\n",
    "plt.figure(figsize=(10,5))\n",
    "plt.plot(time_points, data[:n_points, 10, 40, 40])\n",
    "_ = plt.xlabel(\"Time (s)\")\n",
    "_ = plt.ylabel(\"fMRI activity\")\n"
   ]
  },
  {
   "cell_type": "markdown",
   "metadata": {},
   "source": [
    "Let's plot different voxels time series"
   ]
  },
  {
   "cell_type": "code",
   "execution_count": null,
   "metadata": {
    "collapsed": false
   },
   "outputs": [],
   "source": [
    "TR = 2.0045\n",
    "n_points = 100\n",
    "time_points = np.arange(n_points)*TR\n",
    "\n",
    "plt.figure(figsize=(10,5))\n",
    "plt.plot(time_points, data[:n_points, 10, :, 40])\n",
    "_ = plt.xlabel(\"Time (s)\")\n",
    "_ = plt.ylabel(\"fMRI activity\")\n"
   ]
  },
  {
   "cell_type": "markdown",
   "metadata": {},
   "source": [
    "The voxels seem to have a different baseline as we saw last time. These different baselines are not interesting for the experiment: they are maintained for the entire duration of the run. There are multiple reasons for the fMRI signal to be different in this way: different types of tissues have different properties, the magnetic field might be inhomogeneous in different parts of the brain etc.\n",
    "\n",
    "We therefore want to put every voxel on the same baseline. In the homework, we saw how we could make the minimum of each voxel in an array be between 0 and 1.\n",
    "\n",
    "There are other ways of normalizing. We can make sure that all voxels are centered around 0, meaning that the mean for every voxel is 0.\n",
    "\n",
    "We can then make every voxel have the same standard deviation. \n",
    "\n",
    "How can we perform these operations?"
   ]
  },
  {
   "cell_type": "code",
   "execution_count": null,
   "metadata": {
    "collapsed": true
   },
   "outputs": [],
   "source": [
    "### STUDENT ANSWER"
   ]
  },
  {
   "cell_type": "markdown",
   "metadata": {},
   "source": [
    "### Normalize the activity at each voxel (zscore across time)\n",
    "\n",
    "We need to normalize the activity of each voxel in time to be able to see local fluctuations in the signal. This normalization is also called *z-score* or *standard score*.\n",
    "\n",
    "1. We will first take the mean and standard deviation across time for each cortical voxel.\n",
    "2. For each voxel, we will substract the mean from each time point.\n",
    "3. For each voxel, we will divide each time point by the standard deviation.\n",
    "\n",
    "The problem is that the data that we have has a 4D shape, and we know how to normalize a 2D shape across the first dimension!\n",
    "\n",
    "What if we could make it a 2D array?"
   ]
  },
  {
   "cell_type": "code",
   "execution_count": null,
   "metadata": {
    "collapsed": false
   },
   "outputs": [],
   "source": [
    "original_size = data.shape\n",
    "print(original_size)\n",
    "\n",
    "data_reshaped = data.reshape([120,-1])\n",
    "print(data_reshaped.shape)\n",
    "\n",
    "data_re_reshaped = data_reshaped.reshape(original_size)\n",
    "print(data_re_reshaped.shape)"
   ]
  },
  {
   "cell_type": "markdown",
   "metadata": {},
   "source": [
    "### Breakout session\n",
    "\n",
    "We can now use this array to normalize the data.\n",
    "\n",
    "- Create the array data_reshaped_normalized by making every column of data_reshaped have a mean of 0 and a standard deviation of 1.\n",
    "- Reshape the array data_reshaped_normalized to have the same shape as data and call this data_normalized.\n",
    "- Plot the activity in time for different voxels"
   ]
  },
  {
   "cell_type": "code",
   "execution_count": null,
   "metadata": {
    "collapsed": false
   },
   "outputs": [],
   "source": [
    "### STUDENT ANSWERS\n",
    "data_reshaped_normalized = data_reshaped - data_reshaped.mean(axis = 0)\n",
    "data_reshaped_normalized = data_reshaped_normalized/data_reshaped_normalized.std(axis = 0)\n",
    "data_normalized = data_reshaped_normalized.reshape(original_size)\n",
    "\n",
    "plt.figure(figsize = (10,5))\n",
    "TR = 2.0045\n",
    "points = range(0,100)\n",
    "time_points = np.array(points)*TR\n",
    "\n",
    "plt.plot(time_points, data_normalized[:n_points, 4,45,:].T)\n",
    "\n",
    "_ = plt.xlabel(\"Time (s)\")\n",
    "_ = plt.ylabel(\"fMRI activity\")"
   ]
  },
  {
   "cell_type": "markdown",
   "metadata": {},
   "source": [
    "What do you notice? What is different from the minimum = 0 and maximum = 1 plot?\n",
    "\n",
    "Now plot the same slice in time:\n",
    "\n",
    "- Select the horizontal slices for TRs 20 to 50 from data_normalized\n",
    "- Use the plot_all_slices function to plot the normalized TRs e course:"
   ]
  },
  {
   "cell_type": "code",
   "execution_count": null,
   "metadata": {
    "collapsed": false,
    "scrolled": false
   },
   "outputs": [],
   "source": [
    "slice10_normalized = data_normalized[20:50,10,:,:]\n",
    "plot_all_slices(slice10_normalized, 0, 5, 6);"
   ]
  },
  {
   "cell_type": "markdown",
   "metadata": {},
   "source": [
    "The values of every voxel are definitely changing in time now. However, it seems like we inadvertantly added some distractions by normalizing all the voxels: before we could clearly distinguish voxels in the brain from voxels outside the brain.\n",
    "\n",
    "In the next lecture, we will see how we can use the information we know about the structural organization about a subject's brain to cancel out the activity in the voxels that are most certainly outside of the gray matter of the brain.\n",
    "\n",
    "In the meantime, checkout the zscore function:"
   ]
  },
  {
   "cell_type": "code",
   "execution_count": null,
   "metadata": {
    "collapsed": true
   },
   "outputs": [],
   "source": [
    "from scipy.stats import zscore"
   ]
  },
  {
   "cell_type": "code",
   "execution_count": null,
   "metadata": {
    "collapsed": false
   },
   "outputs": [],
   "source": [
    "data_reshaped_normalized_zs = zscore(data_reshaped, axis = 0)\n",
    "data_normalized_zs = data_reshaped_normalized_zs.reshape(original_size)\n",
    "\n",
    "plt.plot(time_points, data_normalized_zs[:n_points, 4,45,:].T)\n",
    "\n",
    "_ = plt.xlabel(\"Time (s)\")\n",
    "_ = plt.ylabel(\"fMRI activity\")"
   ]
  },
  {
   "cell_type": "code",
   "execution_count": null,
   "metadata": {
    "collapsed": false
   },
   "outputs": [],
   "source": [
    "# You can even do:\n",
    "\n",
    "data_normalized_zs_2 = zscore(data, axis = 0)\n",
    "\n",
    "\n",
    "plt.plot(time_points, data_normalized_zs_2[:n_points, 4,45,:].T)\n",
    "\n",
    "_ = plt.xlabel(\"Time (s)\")\n",
    "_ = plt.ylabel(\"fMRI activity\")"
   ]
  }
 ],
 "metadata": {
  "kernelspec": {
   "display_name": "Python 3",
   "language": "python",
   "name": "python3"
  },
  "language_info": {
   "codemirror_mode": {
    "name": "ipython",
    "version": 3
   },
   "file_extension": ".py",
   "mimetype": "text/x-python",
   "name": "python",
   "nbconvert_exporter": "python",
   "pygments_lexer": "ipython3",
   "version": "3.5.2"
  }
 },
 "nbformat": 4,
 "nbformat_minor": 0
}
