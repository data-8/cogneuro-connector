{
 "cells": [
  {
   "cell_type": "markdown",
   "metadata": {},
   "source": [
    "# Overview\n",
    "\n",
    "## Lecture 3: fMRI data manipulation in 3D: loading and plotting raw data in python\n",
    "\n",
    "In this session, we will learn about fMRI data properties by manipulating and visualizing it.\n",
    "\n",
    "# Goals for today\n",
    "\n",
    "We will go over some important concepts of data manipulation and visualization in fMRI, including: \n",
    "\n",
    "- Neuroscience concepts\n",
    "    - FMRI data format and meaning\n",
    "    - How to manipulate and plot fMRI data\n",
    "- Coding concepts\n",
    "    - Plotting 3D images\n",
    "    - Logical indexing\n",
    "    - Setting matplotlib plotting parameters\n",
    "- Datascience concepts\n",
    "    - Normalizing data\n",
    "    - Interactive plots (3d plots) \n",
    "    \n",
    "We start by importing the packages we will use. "
   ]
  },
  {
   "cell_type": "code",
   "execution_count": null,
   "metadata": {
    "collapsed": false
   },
   "outputs": [],
   "source": [
    "# load the packages we will use:\n",
    "import numpy as np\n",
    "import matplotlib.pyplot as plt  # for visualization\n",
    "\n",
    "# Set defaults for matplotlib plotting in the notebook\n",
    "%matplotlib inline"
   ]
  },
  {
   "cell_type": "markdown",
   "metadata": {},
   "source": [
    "### Loading Data\n",
    "In the following we will load one run (also referred to as a scan) worth of fMRI data.\n"
   ]
  },
  {
   "cell_type": "code",
   "execution_count": null,
   "metadata": {
    "collapsed": false
   },
   "outputs": [],
   "source": [
    "# Load the fMRI data\n",
    "fname = '/home/jovyan/data/sub01_categories1_1.npy'\n",
    "data = np.load(fname) \n",
    "data = data.astype('float32')\n",
    "\n",
    "print('data.shape : ', data.shape)"
   ]
  },
  {
   "cell_type": "markdown",
   "metadata": {},
   "source": [
    "The dimensions of the data are (X, Y, Z, T) (T is time, in TRs). Thus, there are 120 volumes (120 time points). Each volume has 30 horizontal or coronal slices with 100 x 100 pixels.\n",
    "\n",
    "### Transpose data\n",
    "The convention is to have the first dimension correspond to time. We will transpose the data to have now time be the first dimension. The new data will have dimensions corresponding to (T, Z, Y, X):"
   ]
  },
  {
   "cell_type": "code",
   "execution_count": null,
   "metadata": {
    "collapsed": false
   },
   "outputs": [],
   "source": [
    "# Transpose data\n",
    "data = data.T\n",
    "print('data shape : ', data.shape)"
   ]
  },
  {
   "cell_type": "markdown",
   "metadata": {},
   "source": [
    "### Arrays\n",
    "  \n",
    "Let's quickly review 1D, 2D and 3D arrays. We will create some example arrays using a function to generate numbers randomly. We will chose a generator that uses the uniform(0,1) distribution function."
   ]
  },
  {
   "cell_type": "code",
   "execution_count": null,
   "metadata": {
    "collapsed": false
   },
   "outputs": [],
   "source": [
    "# 1D array example:\n",
    "A_1D = np.array(np.random.uniform(size = 5))\n",
    "print(A_1D)"
   ]
  },
  {
   "cell_type": "code",
   "execution_count": null,
   "metadata": {
    "collapsed": false
   },
   "outputs": [],
   "source": [
    "# 2D array example:\n",
    "A_2D = np.array(np.random.uniform(size = (4,5)))\n",
    "print(A_2D)"
   ]
  },
  {
   "cell_type": "code",
   "execution_count": null,
   "metadata": {
    "collapsed": false
   },
   "outputs": [],
   "source": [
    "# 3D array example:\n",
    "A_3D = np.array(np.random.uniform(size = (5,3,4)))\n",
    "print(A_3D)"
   ]
  },
  {
   "cell_type": "markdown",
   "metadata": {},
   "source": [
    "### Breakout session\n",
    "\n",
    "Now pretend that A_3D corresponds to the measurement over 5 consecutive days (0,1,2,3 and 4) of the chance of rain at three times of the day (0 = morning, 1 = afternoon and 2 = evening) in four different cities (0 = Berkeley, 1 = New York, 2 = Paris, 3 = London). The dimension of A_3D is (5, 3, 4) corresponding to (Day, Time, City).\n",
    "\n",
    "- Select the array c1 as the chance of rain in the evening for all 5 days in the four cities. \n",
    "- What is the dimension of c1?\n",
    "- Print c1.\n",
    "- Use plt.hist to plot the histogram of c1. Remember to use c1.flatten(). Label the x-axis and the y-axis appropriately (using plt.xlabel and plt.ylabel).\n"
   ]
  },
  {
   "cell_type": "code",
   "execution_count": null,
   "metadata": {
    "collapsed": false
   },
   "outputs": [],
   "source": [
    "### STUDENT ANSWER\n"
   ]
  },
  {
   "cell_type": "markdown",
   "metadata": {},
   "source": [
    "- Select the array c2 as the chance of rain in the first 3 days at all times in the four cities. \n",
    "- What is the dimension of c2?\n",
    "- Print c2.\n",
    "- Use plt.hist to plot the histogram of c2. Label the x-axis and the y-axis appropriately."
   ]
  },
  {
   "cell_type": "code",
   "execution_count": null,
   "metadata": {
    "collapsed": false
   },
   "outputs": [],
   "source": [
    "### STUDENT ANSWER\n"
   ]
  },
  {
   "cell_type": "markdown",
   "metadata": {},
   "source": [
    "- Select the array c3 as the chance of rain in the last 4 days in the morning and afternoon in Paris and London. \n",
    "- What is the dimension of c3?\n",
    "- Print c3.\n",
    "- Use plt.hist to plot the histogram of c3. Label the x-axis and the y-axis appropriately."
   ]
  },
  {
   "cell_type": "code",
   "execution_count": null,
   "metadata": {
    "collapsed": false
   },
   "outputs": [],
   "source": [
    "### STUDENT ANSWER\n"
   ]
  },
  {
   "cell_type": "markdown",
   "metadata": {},
   "source": [
    "- Select the array c4 as the chance of rain in all 5 days in the evening in Paris. \n",
    "- What is the dimension of c4?\n",
    "- Print c4.\n",
    "- Use plt.hist to plot the histogram of c4. Label the x-axis and the y-axis appropriately.\n",
    "- This is a 1 dimensional signal that you can plot. Use plt.plot to plot the chance of rain for the 5 days. Label the axes appropriately."
   ]
  },
  {
   "cell_type": "code",
   "execution_count": null,
   "metadata": {
    "collapsed": false
   },
   "outputs": [],
   "source": [
    "### STUDENT ANSWER\n"
   ]
  },
  {
   "cell_type": "markdown",
   "metadata": {},
   "source": [
    "### Plot the timecourse of a single voxel\n",
    "\n",
    "Back to our data. This is a 4D matrix with the dimensions corresponding to Time, Z, Y and X.\n",
    "\n",
    "Now we can plot the timecourse for one voxel somewhere in the middle of the brain (e.g. at Z=10, Y=34, X=40)."
   ]
  },
  {
   "cell_type": "code",
   "execution_count": null,
   "metadata": {
    "collapsed": false
   },
   "outputs": [],
   "source": [
    "_ = plt.plot(data[:, 10, 34, 40])\n",
    "# _ = plt.plot(data[:, 10, 34, 40])\n",
    "plt.xlabel('time (TRs)')\n",
    "plt.ylabel('unnormalized fMRI signal')"
   ]
  },
  {
   "cell_type": "markdown",
   "metadata": {},
   "source": [
    "Note that we have 30,000 measurements to plot like this. So, instead, we can view our data as images."
   ]
  },
  {
   "cell_type": "markdown",
   "metadata": {},
   "source": [
    "## Displaying data as an image"
   ]
  },
  {
   "cell_type": "markdown",
   "metadata": {},
   "source": [
    "First, we will get a broader view of the first volume of our data. The (T, Z, Y, X) dimension ordering that we have for the data makes it easy to select volumes (time snapshots of brain activity).\n"
   ]
  },
  {
   "cell_type": "markdown",
   "metadata": {},
   "source": [
    "Below are some ways to select volumes:"
   ]
  },
  {
   "cell_type": "code",
   "execution_count": null,
   "metadata": {
    "collapsed": false
   },
   "outputs": [],
   "source": [
    "# We can select one volume like this: \n",
    "first_volume = data[0, :, :, :]\n",
    "\n",
    "# Or like this: \n",
    "alt_first_volume1 = data[0, ...]\n",
    "\n",
    "# Or like this: \n",
    "alt_first_volume2 = data[0]\n",
    "\n",
    "# These are all the same1\n",
    "print( np.all(first_volume == alt_first_volume1) )\n",
    "print( np.all(first_volume == alt_first_volume2) )"
   ]
  },
  {
   "cell_type": "code",
   "execution_count": null,
   "metadata": {
    "collapsed": false
   },
   "outputs": [],
   "source": [
    "first_volume.shape"
   ]
  },
  {
   "cell_type": "markdown",
   "metadata": {},
   "source": [
    "### Breakout session\n",
    "\n",
    "- select c1 as the 25th volume, print the shape.\n",
    "- select c2 as all the data for Y = 35, print the shape.\n",
    "- select c3 as all the time points for X = 10, print the shape.\n",
    "- select c4 as all the time points for Z = 12, print the shape."
   ]
  },
  {
   "cell_type": "code",
   "execution_count": null,
   "metadata": {
    "collapsed": false
   },
   "outputs": [],
   "source": [
    "### STUDENT ANSWER\n"
   ]
  },
  {
   "cell_type": "markdown",
   "metadata": {},
   "source": [
    "### Visualizing the horizontal slice\n",
    "\n",
    "<img src=\"../Lecture02_IntroFMRI_RawData/figures/slices.png\" style=\"height: 200px;\">\n",
    "\n",
    "\n",
    "Let's look at an example of a horizontal slice from the first volume. This can be done by selecting one of the slices as follows:"
   ]
  },
  {
   "cell_type": "code",
   "execution_count": null,
   "metadata": {
    "collapsed": false,
    "scrolled": false
   },
   "outputs": [],
   "source": [
    "first_volume = data[0, :, :, :]\n",
    "print(first_volume.shape)\n",
    "\n",
    "# Z=15 is halfway through the volume we have scanned\n",
    "slice_horizontal = first_volume[15,:,:] \n",
    "\n",
    "# You can set the image origin [0,0] to be in the lower left corner\n",
    "# by using origin='lower'\n",
    "plt.figure()\n",
    "im = plt.imshow(slice_horizontal, origin='lower',  interpolation='nearest', aspect='auto',\n",
    "                 cmap='viridis', vmin=0, vmax=2000) \n",
    "_ = plt.colorbar(im)\n",
    "\n",
    "plt.title('This is a horizontal slice!')"
   ]
  },
  {
   "cell_type": "markdown",
   "metadata": {},
   "source": [
    "### Breakout session:\n",
    "> - Plot other slices to see how the shape of the brain is different\n",
    "> - Change the properties of the figure. Explore the keyword arguments for imshow, see what each does! (hints: show axes, change colormap, what about vmin and vmax values, set those)"
   ]
  },
  {
   "cell_type": "markdown",
   "metadata": {},
   "source": [
    "Link to blog post about colormaps!"
   ]
  },
  {
   "cell_type": "code",
   "execution_count": null,
   "metadata": {
    "collapsed": false
   },
   "outputs": [],
   "source": [
    "### STUDENT ANSWER\n"
   ]
  },
  {
   "cell_type": "markdown",
   "metadata": {},
   "source": [
    "### Plotting function:\n",
    "Here we will write a small helper function that takes a slice number as an input returns the data (2D array) of that slice."
   ]
  },
  {
   "cell_type": "code",
   "execution_count": null,
   "metadata": {
    "collapsed": false
   },
   "outputs": [],
   "source": [
    "def get_any_slice(volume, slice_number, dimension):\n",
    "    \"\"\"Given an integer and a 3D volume, this function returns the data of \n",
    "    that horizontal slice \"\"\" \n",
    "    if dimension == 0:\n",
    "        img = volume[slice_number, :, :]\n",
    "    elif dimension == 1:\n",
    "        img = volume[:, slice_number, :]\n",
    "    elif dimension == 2:\n",
    "        img = volume[:, :, slice_number]\n",
    "    return img\n",
    "\n",
    "img = get_any_slice( first_volume, 40, 1)\n",
    "print(img.shape)\n",
    "_ = plt.imshow(img, origin = 'lower', interpolation='nearest', aspect='auto',\n",
    "                cmap='viridis', vmin=0, vmax=2000)\n",
    "_ = plt.axis('off')\n"
   ]
  },
  {
   "cell_type": "markdown",
   "metadata": {},
   "source": [
    "I can also make a function that produces the plot above, and uses the get_any_slice() function:"
   ]
  },
  {
   "cell_type": "code",
   "execution_count": null,
   "metadata": {
    "collapsed": false
   },
   "outputs": [],
   "source": [
    "def plot_any_slice(volume, slice_number, dimension):\n",
    "    img = get_any_slice( volume, slice_number, dimension)\n",
    "    _ = plt.imshow(img, origin = 'lower', interpolation='nearest', aspect='equal',\n",
    "                cmap='viridis', vmin=0, vmax=2000)\n",
    "    _ = plt.axis('off')\n",
    "    \n",
    "plt.figure()\n",
    "plot_any_slice(first_volume, 10, 0)\n",
    "plt.title('horizontal slice');\n",
    "plt.figure()\n",
    "plot_any_slice(first_volume, 40, 1)\n",
    "plt.title('coronal slice');\n",
    "plt.figure()\n",
    "plot_any_slice(first_volume, 40, 2)\n",
    "plt.title('sagittal slice');"
   ]
  },
  {
   "cell_type": "markdown",
   "metadata": {},
   "source": [
    "### Changing matplotlib default parameters\n",
    "\n",
    "You can set the default colormap, default interpolation or many other parameters in `matplotlib.rcParams`.\n",
    "\n",
    "For example to set all the colormaps in this `ipython` session to the colormap 'viridis' we can use the following line:\n",
    "    * `matplotlib.rcParams['image.cmap'] = 'viridis'` # or whatever your favorite map is"
   ]
  },
  {
   "cell_type": "code",
   "execution_count": null,
   "metadata": {
    "collapsed": true
   },
   "outputs": [],
   "source": [
    "import matplotlib\n",
    "matplotlib.rcParams['image.cmap'] = 'viridis' # or whatever your favorite map is e.g. 'gray', 'hot'\n",
    "matplotlib.rcParams['image.interpolation'] = 'nearest'\n",
    "# matplotlib.rcParams['image.aspect'] = 'auto'"
   ]
  },
  {
   "cell_type": "markdown",
   "metadata": {
    "collapsed": false
   },
   "source": [
    "An alternative way to change a figure's properties is to create a dictionary of keywords that can be used as a  keyword argument to the `imshow` function.\n",
    "\n",
    "This has the advantage of not setting the default parameters. Yet, we can easily change a number of parameters in the `imshow` function by just passing the keywords dictionary to the `imhsow` function. The following cell is demonstrating this:"
   ]
  },
  {
   "cell_type": "code",
   "execution_count": null,
   "metadata": {
    "collapsed": false
   },
   "outputs": [],
   "source": [
    "im_kws = dict(origin = 'lower', aspect='auto', vmin=0, vmax=2000, cmap='hot') \n",
    "\n",
    "# Question: what is a python dictionary?\n",
    "\n",
    "plt.imshow(first_volume[:,  30, :], **im_kws)\n",
    "plt.colorbar()"
   ]
  },
  {
   "cell_type": "markdown",
   "metadata": {},
   "source": [
    "### Modifying parameters\n",
    "\n",
    "We can see above that we might want to give different settings to different plots. Let's improve our plotting function."
   ]
  },
  {
   "cell_type": "code",
   "execution_count": null,
   "metadata": {
    "collapsed": false
   },
   "outputs": [],
   "source": [
    "def plot_any_slice_v2(volume, slice_number, dimension):\n",
    "    img = get_any_slice( volume, slice_number, dimension)\n",
    "    _ = plt.imshow(img, origin = 'lower', interpolation='nearest', aspect='equal',\n",
    "                cmap='viridis', vmin=0, vmax=2000)\n",
    "    _ = plt.axis('off')\n",
    "    \n",
    "plt.figure()\n",
    "plot_any_slice_v2(first_volume, 10, 0)\n",
    "plt.title('horizontal slice');\n",
    "plt.figure()\n",
    "plot_any_slice_v2(first_volume, 40, 1)\n",
    "plt.title('coronal slice');\n",
    "plt.figure()\n",
    "plot_any_slice_v2(first_volume, 40, 2)\n",
    "plt.title('sagittal slice');"
   ]
  },
  {
   "cell_type": "markdown",
   "metadata": {},
   "source": [
    "### Plot all horizontal slices"
   ]
  },
  {
   "cell_type": "markdown",
   "metadata": {},
   "source": [
    "Let's try to make a plot with all of the horizontal slices, so we can see one entire 3D volume at once. For this, we will use the `subplot()` function in matplotlib:"
   ]
  },
  {
   "cell_type": "code",
   "execution_count": null,
   "metadata": {
    "collapsed": false
   },
   "outputs": [],
   "source": [
    "fig = plt.figure(figsize = (8,8))\n",
    "slice_dimension = 0\n",
    "n_slices = first_volume.shape[slice_dimension]\n",
    "nrows, ncols = 5, 6\n",
    "for s in range(n_slices):\n",
    "    ax = fig.add_subplot(nrows, ncols, s+1)\n",
    "    plot_any_slice_v2(first_volume, s, slice_dimension)"
   ]
  },
  {
   "cell_type": "markdown",
   "metadata": {},
   "source": [
    "Now let's make a function that plots the above:"
   ]
  },
  {
   "cell_type": "code",
   "execution_count": null,
   "metadata": {
    "collapsed": false
   },
   "outputs": [],
   "source": [
    "def plot_all_slices(volume, slice_dimension, nrows, ncols , **kwargs):\n",
    "    ### STUDENT ANSWER\n"
   ]
  },
  {
   "cell_type": "code",
   "execution_count": null,
   "metadata": {
    "collapsed": false
   },
   "outputs": [],
   "source": [
    "plot_all_slices(first_volume, 0, 5, 6)\n",
    "plt.suptitle('horizontal slices');"
   ]
  },
  {
   "cell_type": "code",
   "execution_count": null,
   "metadata": {
    "collapsed": false
   },
   "outputs": [],
   "source": [
    "fig = plot_all_slices(first_volume, 1, 10, 10)\n",
    "fig.suptitle('coronal slices');"
   ]
  },
  {
   "cell_type": "code",
   "execution_count": null,
   "metadata": {
    "collapsed": false
   },
   "outputs": [],
   "source": [
    "fig = plot_all_slices(first_volume, 2, 10, 10)\n",
    "fig.suptitle('sagittal slices');"
   ]
  },
  {
   "cell_type": "markdown",
   "metadata": {},
   "source": [
    "## Time series\n",
    "\n",
    "Remember that one of these volumes is acquired at every time unit. The time unit here is 2 seconds. Let's look at one slice at different time points: 20 to 50. "
   ]
  },
  {
   "cell_type": "code",
   "execution_count": null,
   "metadata": {
    "collapsed": false
   },
   "outputs": [],
   "source": [
    "horizontal_slice10 = data[:,10,:,:]\n",
    "print(horizontal_slice_10.shape)"
   ]
  },
  {
   "cell_type": "code",
   "execution_count": null,
   "metadata": {
    "collapsed": false
   },
   "outputs": [],
   "source": [
    "horizontal_slice10_subset = horizontal_slice10[20:50]\n",
    "print(horizontal_slice10_subset.shape)"
   ]
  },
  {
   "cell_type": "markdown",
   "metadata": {},
   "source": [
    "We can actually use the same function to plot it!\n",
    "\n",
    "What does the following plot correspond to?"
   ]
  },
  {
   "cell_type": "code",
   "execution_count": null,
   "metadata": {
    "collapsed": false
   },
   "outputs": [],
   "source": [
    "plot_all_slices(horizontal_slice10_subset, 0, 5, 6);"
   ]
  },
  {
   "cell_type": "markdown",
   "metadata": {},
   "source": [
    "We can barely see any change in time! Why is that?\n",
    "\n",
    "Let's try to plot the activity in time for different voxels. What do you notice?"
   ]
  },
  {
   "cell_type": "code",
   "execution_count": null,
   "metadata": {
    "collapsed": false,
    "scrolled": true
   },
   "outputs": [],
   "source": [
    "TR = 2.0045\n",
    "n_points = 100\n",
    "time_points = np.arange(n_points)*TR\n",
    "\n",
    "plt.figure(figsize=(10,5))\n",
    "plt.plot(time_points, data[:n_points, 10, 40, 40])\n",
    "_ = plt.xlabel(\"Time (s)\")\n",
    "_ = plt.ylabel(\"fMRI activity\")\n"
   ]
  },
  {
   "cell_type": "markdown",
   "metadata": {},
   "source": [
    "Let's plot different voxels time series"
   ]
  },
  {
   "cell_type": "code",
   "execution_count": null,
   "metadata": {
    "collapsed": false
   },
   "outputs": [],
   "source": [
    "TR = 2.0045\n",
    "n_points = 100\n",
    "time_points = np.arange(n_points)*TR\n",
    "\n",
    "plt.figure(figsize=(10,5))\n",
    "plt.plot(time_points, data[:n_points, 10, :, 40])\n",
    "_ = plt.xlabel(\"Time (s)\")\n",
    "_ = plt.ylabel(\"fMRI activity\")\n"
   ]
  },
  {
   "cell_type": "markdown",
   "metadata": {},
   "source": [
    "The voxels seem to have a different baseline as we saw last time. These different baselines are not interesting for the experiment: they are maintained for the entire duration of the run. There are multiple reasons for the fMRI signal to be different in this way: different types of tissues have different properties, the magnetic field might be inhomogeneous in different parts of the brain etc.\n",
    "\n",
    "We therefore want to put every voxel on the same baseline. In the homework, we saw how we could make the minimum of each voxel in an array be between 0 and 1.\n",
    "\n",
    "There are other ways of normalizing. We can make sure that all voxels are centered around 0, meaning that the mean for every voxel is 0.\n",
    "\n",
    "We can then make every voxel have the same standard deviation. \n",
    "\n",
    "How can we perform these operations?"
   ]
  },
  {
   "cell_type": "code",
   "execution_count": null,
   "metadata": {
    "collapsed": true
   },
   "outputs": [],
   "source": [
    "### STUDENT ANSWER\n"
   ]
  },
  {
   "cell_type": "markdown",
   "metadata": {},
   "source": [
    "### Normalize the activity at each voxel (zscore across time)\n",
    "\n",
    "We need to normalize the activity of each voxel in time to be able to see local fluctuations in the signal. This normalization is also called *z-score* or *standard score*.\n",
    "\n",
    "1. We will first take the mean and standard deviation across time for each cortical voxel.\n",
    "2. For each voxel, we will substract the mean from each time point.\n",
    "3. For each voxel, we will divide each time point by the standard deviation.\n",
    "\n",
    "The problem is that the data that we have has a 4D shape, and we know how to normalize a 2D shape across the first dimension!\n",
    "\n",
    "What if we could make it a 2D array?"
   ]
  },
  {
   "cell_type": "code",
   "execution_count": null,
   "metadata": {
    "collapsed": false
   },
   "outputs": [],
   "source": [
    "original_size = data.shape\n",
    "print(original_size)\n",
    "\n",
    "data_reshaped = data.reshape([120,-1])\n",
    "print(data_reshaped.shape)\n",
    "\n",
    "data_re_reshaped = data_reshaped.reshape(original_size)\n",
    "print(data_re_reshaped.shape)"
   ]
  },
  {
   "cell_type": "markdown",
   "metadata": {},
   "source": [
    "### Breakout session\n",
    "\n",
    "We can now use this array to normalize the data.\n",
    "\n",
    "- Create the array data_reshaped_normalized by making every column of data_reshaped have a mean of 0 and a standard deviation of 1.\n",
    "- Reshape the array data_reshaped_normalized to have the same shape as data and call this data_normalized.\n",
    "- Plot the activity in time for different voxels"
   ]
  },
  {
   "cell_type": "code",
   "execution_count": null,
   "metadata": {
    "collapsed": false
   },
   "outputs": [],
   "source": [
    "### STUDENT ANSWER\n"
   ]
  },
  {
   "cell_type": "markdown",
   "metadata": {},
   "source": [
    "What do you notice? What is different from the minimum = 0 and maximum = 1 plot?\n",
    "\n",
    "Now plot the same slice in time:\n",
    "\n",
    "- Select the horizontal slices for TRs 20 to 50 from data_normalized\n",
    "- Use the plot_all_slices function to plot the normalized TRs e course:"
   ]
  },
  {
   "cell_type": "code",
   "execution_count": null,
   "metadata": {
    "collapsed": false,
    "scrolled": false
   },
   "outputs": [],
   "source": [
    "slice10_normalized = data_normalized[20:50,10,:,:]\n",
    "plot_all_slices(slice10_normalized, 0, 5, 6);"
   ]
  },
  {
   "cell_type": "markdown",
   "metadata": {},
   "source": [
    "The values of every voxel are definitely changing in time now. However, it seems like we inadvertantly added some distractions by normalizing all the voxels: before we could clearly distinguish voxels in the brain from voxels outside the brain.\n",
    "\n",
    "In the next lecture, we will see how we can use the information we know about the structural organization about a subject's brain to cancel out the activity in the voxels that are most certainly outside of the gray matter of the brain.\n",
    "\n",
    "In the meantime, checkout the zscore function:"
   ]
  },
  {
   "cell_type": "code",
   "execution_count": null,
   "metadata": {
    "collapsed": true
   },
   "outputs": [],
   "source": [
    "from scipy.stats import zscore"
   ]
  },
  {
   "cell_type": "code",
   "execution_count": null,
   "metadata": {
    "collapsed": false
   },
   "outputs": [],
   "source": [
    "data_reshaped_normalized_zs = zscore(data_reshaped, axis = 0)\n",
    "data_normalized_zs = data_reshaped_normalized_zs.reshape(original_size)\n",
    "\n",
    "plt.plot(time_points, data_normalized_zs[:n_points, 4,45,:].T)\n",
    "\n",
    "_ = plt.xlabel(\"Time (s)\")\n",
    "_ = plt.ylabel(\"fMRI activity\")"
   ]
  },
  {
   "cell_type": "code",
   "execution_count": null,
   "metadata": {
    "collapsed": false
   },
   "outputs": [],
   "source": [
    "# You can even do:\n",
    "\n",
    "data_normalized_zs_2 = zscore(data, axis = 0)\n",
    "\n",
    "\n",
    "plt.plot(time_points, data_normalized_zs_2[:n_points, 4,45,:].T)\n",
    "\n",
    "_ = plt.xlabel(\"Time (s)\")\n",
    "_ = plt.ylabel(\"fMRI activity\")"
   ]
  }
 ],
 "metadata": {
  "kernelspec": {
   "display_name": "Python 3",
   "language": "python",
   "name": "python3"
  },
  "language_info": {
   "codemirror_mode": {
    "name": "ipython",
    "version": 3
   },
   "file_extension": ".py",
   "mimetype": "text/x-python",
   "name": "python",
   "nbconvert_exporter": "python",
   "pygments_lexer": "ipython3",
   "version": "3.5.2"
  }
 },
 "nbformat": 4,
 "nbformat_minor": 0
}
