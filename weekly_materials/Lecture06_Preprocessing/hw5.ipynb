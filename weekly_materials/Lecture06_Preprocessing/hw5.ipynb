{
 "cells": [
  {
   "cell_type": "markdown",
   "metadata": {},
   "source": [
    "# Homework 5\n",
    "\n",
    "In this homework you will be working on defining a useful reusable function to load and prepare data, as well as looking in detail at some of the preprocessing steps presented in lecture 6, namely temporal filtering, spatial filtering, and temporal normalization."
   ]
  },
  {
   "cell_type": "code",
   "execution_count": null,
   "metadata": {},
   "outputs": [],
   "source": [
    "# Don't change this cell; just run it. \n",
    "# The result will give you directions about how to log in to the submission system, called OK.\n",
    "# Once you're logged in, you can run this cell again, but it won't ask you who you are because\n",
    "# it remembers you. However, you will need to log in once per assignment.\n",
    "from client.api.notebook import Notebook\n",
    "ok = Notebook('hw5.ok')\n",
    "_ = ok.auth(inline=True)"
   ]
  },
  {
   "cell_type": "code",
   "execution_count": null,
   "metadata": {},
   "outputs": [],
   "source": [
    "import numpy as np\n",
    "import nibabel\n",
    "import cortex\n",
    "import matplotlib.pyplot as plt\n",
    "%matplotlib inline"
   ]
  },
  {
   "cell_type": "markdown",
   "metadata": {},
   "source": [
    "**1. A function for loading and optionally masking fMRI scans**\n",
    "\n",
    "**(a)** [0.5pts] Write a function called `load_file_very_simple`, which takes as its argument a file name of a nifti file. Call this argument `filename`. The function should load the data contained in the file and return a transposed version."
   ]
  },
  {
   "cell_type": "code",
   "execution_count": null,
   "metadata": {},
   "outputs": [],
   "source": []
  },
  {
   "cell_type": "code",
   "execution_count": null,
   "metadata": {},
   "outputs": [],
   "source": [
    "# test to check whether the name `load_file_very_simple` exists\n",
    "ok.grade(\"q5_1a\")"
   ]
  },
  {
   "cell_type": "code",
   "execution_count": null,
   "metadata": {},
   "outputs": [],
   "source": [
    "## test to check results\n",
    "# ok.grade(\"q5_1a_full\")"
   ]
  },
  {
   "cell_type": "markdown",
   "metadata": {},
   "source": [
    "**(b)** [0.5pts] Now write another function called `load_file_simple`, which takes a `filename` and the optional argument `mask` with default value `None`. `load_file_simple` should load and transpose the data just like `load_file_very_simple` does. **After the transposing**, it should check whether a mask has been provided (i.e. `if mask is not None:`), and if there is a mask it should use it to reduce the number of voxels. So if there is no mask it will return a 4-D scan array, but if there is a mask it will return a 2-D collection of voxel time series containing the voxels selected by the mask."
   ]
  },
  {
   "cell_type": "code",
   "execution_count": null,
   "metadata": {},
   "outputs": [],
   "source": []
  },
  {
   "cell_type": "code",
   "execution_count": null,
   "metadata": {},
   "outputs": [],
   "source": [
    "# test to check whether the name `load_file_simple` exists\n",
    "ok.grade(\"q5_1b\")"
   ]
  },
  {
   "cell_type": "code",
   "execution_count": null,
   "metadata": {},
   "outputs": [],
   "source": [
    "## test to check results\n",
    "# ok.grade(\"q5_1b_full\")"
   ]
  },
  {
   "cell_type": "markdown",
   "metadata": {},
   "source": [
    "**(c)** [0.5pts] Load the file located at `/data/cogneuro/fMRI/categories/s01_categories_01.nii.gz` using `load_file_very_simple` and store it into `data1`. Load the same file using `load_file_simple` and store the result in `data2`. Compare the two using `np.allclose` by passing the 2 arrays as the first 2 arguments of the function. This function is used when comparing `float`s because they have many decimal points, and sometimes two values that really should be the same appear different due to rounding errors. `np.allclose` will say 2 arrays of floats are the same if all the numbers are within a certain distance of each other. Finally, store the output from `np.allclose` in `same1` and print it."
   ]
  },
  {
   "cell_type": "code",
   "execution_count": null,
   "metadata": {},
   "outputs": [],
   "source": []
  },
  {
   "cell_type": "code",
   "execution_count": null,
   "metadata": {},
   "outputs": [],
   "source": [
    "# test to check whether the names exist\n",
    "ok.grade(\"q5_1c\")"
   ]
  },
  {
   "cell_type": "code",
   "execution_count": null,
   "metadata": {},
   "outputs": [],
   "source": [
    "## test to check results\n",
    "# ok.grade(\"q5_1c_full\")"
   ]
  },
  {
   "cell_type": "markdown",
   "metadata": {},
   "source": [
    "**(d)** [1pts] Use `cortex.db.get_mask` to obtain a cortical mask for the subject `'s01'` and transform `'catloc'`. Call it `mask`. Use it to mask out the 3 spatial axes (Z,Y,X) from the 4-D scan array called `data1`. Call the result `data1_masked`. Next, use `load_file_simple` to load the file from **(c)** but by giving the mask as an argument to the function. Store the result in `data2_masked`. Compare `data1_masked` and `data2_masked` using `np.allclose` and store the result in `same2`. Print `same2`."
   ]
  },
  {
   "cell_type": "code",
   "execution_count": null,
   "metadata": {},
   "outputs": [],
   "source": []
  },
  {
   "cell_type": "code",
   "execution_count": null,
   "metadata": {},
   "outputs": [],
   "source": [
    "# test to check whether the names exist\n",
    "ok.grade(\"q5_1d\")"
   ]
  },
  {
   "cell_type": "code",
   "execution_count": null,
   "metadata": {},
   "outputs": [],
   "source": [
    "## test to check results\n",
    "# ok.grade(\"q5_1d_full\")"
   ]
  },
  {
   "cell_type": "markdown",
   "metadata": {},
   "source": [
    "**2. A closer look at temporal filtering (high-pass)**\n",
    "In this exercise you will look in detail at which frequencies are affected by a high-pass filter. For this, you will create several time series of different pure waves of varying frequencies using the `create_sine` function from the lecture."
   ]
  },
  {
   "cell_type": "code",
   "execution_count": null,
   "metadata": {},
   "outputs": [],
   "source": [
    "def create_sine(sinefreq):\n",
    "    fs = 200 # 200 frames per second\n",
    "    duration = 2 #seconds\n",
    "    T = duration\n",
    "    nsamples = fs * T\n",
    "    w = 2. * np.pi * sinefreq\n",
    "    t_sine = np.linspace(0, T, nsamples, endpoint=False)\n",
    "    y_sine = np.sin(w * t_sine)\n",
    "    return y_sine"
   ]
  },
  {
   "cell_type": "markdown",
   "metadata": {},
   "source": [
    "**(a)** [0.5pts] Create 4 simple waves of frequency `2Hz, 4Hz, 8Hz, 16Hz`. Name them `w2, w4, w8, w16`. Plot the 4 simple waves on a single line plot in a figure named `fig_simple_waves` of size `(20, 3)` and create a legend that identifies each wave."
   ]
  },
  {
   "cell_type": "code",
   "execution_count": null,
   "metadata": {},
   "outputs": [],
   "source": []
  },
  {
   "cell_type": "code",
   "execution_count": null,
   "metadata": {},
   "outputs": [],
   "source": [
    "# test to check whether the names exist\n",
    "ok.grade(\"q5_2a\")"
   ]
  },
  {
   "cell_type": "code",
   "execution_count": null,
   "metadata": {},
   "outputs": [],
   "source": [
    "## test to check results\n",
    "# ok.grade(\"q5_2a_full\")"
   ]
  },
  {
   "cell_type": "markdown",
   "metadata": {},
   "source": [
    "**(b)** [0.5pts] Add the 4 simple waves from part **a** together to create a complex wave. Store this complex wave in the name `cw`. Plot the complex wave into a figure named `fig_complex_wave`, of size `(20, 3)`"
   ]
  },
  {
   "cell_type": "code",
   "execution_count": null,
   "metadata": {},
   "outputs": [],
   "source": []
  },
  {
   "cell_type": "code",
   "execution_count": null,
   "metadata": {},
   "outputs": [],
   "source": [
    "# test to check whether the names exist\n",
    "ok.grade(\"q5_2b\")"
   ]
  },
  {
   "cell_type": "code",
   "execution_count": null,
   "metadata": {},
   "outputs": [],
   "source": [
    "## test to check results\n",
    "# ok.grade(\"q5_2b_full\")"
   ]
  },
  {
   "cell_type": "markdown",
   "metadata": {},
   "source": [
    "**(c)** [0.5pts] Using the `highpass_filter` function from the lecture (included below), remove the simple wave with the lowest frequency from the complex wave and store the result in `cw_remove_lowest_one`. Then plot the resulting complex wave in a figure named `fig_cw_removed_lowest_one` of size `(20, 3)`. Choose the cutoff value for the highpass filter to lie half way between the frequency you want to remove and the first frequency you want to keep."
   ]
  },
  {
   "cell_type": "code",
   "execution_count": null,
   "metadata": {},
   "outputs": [],
   "source": [
    "from scipy import signal\n",
    "def highpass_filter(data, cutoff, order=5):\n",
    "    fs = 200 # 200 frames per second\n",
    "    nyq = 0.5 * fs\n",
    "    normal_cutoff = cutoff / nyq\n",
    "    b, a = signal.butter(order, normal_cutoff, btype='high', analog=False)\n",
    "    y = signal.filtfilt(b, a, data)\n",
    "    return y"
   ]
  },
  {
   "cell_type": "code",
   "execution_count": null,
   "metadata": {},
   "outputs": [],
   "source": []
  },
  {
   "cell_type": "code",
   "execution_count": null,
   "metadata": {},
   "outputs": [],
   "source": [
    "# test to check whether the names exist\n",
    "ok.grade(\"q5_2c\")"
   ]
  },
  {
   "cell_type": "code",
   "execution_count": null,
   "metadata": {},
   "outputs": [],
   "source": [
    "## test to check results\n",
    "# ok.grade(\"q5_2c_full\")"
   ]
  },
  {
   "cell_type": "markdown",
   "metadata": {},
   "source": [
    "**(d)** [0.5pts] Now remove the simple waves with the two lowest frequencies from the original complex wave and store the result in `cw_remove_lowest_two`. Plot `cw_remove_lowest_two` in a figure named `fig_cw_removed_lowest_two` of size `(20, 3)`. Again, choose the cutoff value for the highpass filter to lie half way between the highest frequency you want to remove and the first frequency you want to keep."
   ]
  },
  {
   "cell_type": "code",
   "execution_count": null,
   "metadata": {},
   "outputs": [],
   "source": []
  },
  {
   "cell_type": "code",
   "execution_count": null,
   "metadata": {},
   "outputs": [],
   "source": [
    "# test to check whether the names exist\n",
    "ok.grade(\"q5_2d\")"
   ]
  },
  {
   "cell_type": "code",
   "execution_count": null,
   "metadata": {},
   "outputs": [],
   "source": [
    "## test to check results\n",
    "# ok.grade(\"q5_2d_full\")"
   ]
  },
  {
   "cell_type": "markdown",
   "metadata": {},
   "source": [
    "**(e)** [0.5pts] Finally, remove the simple waves with the three lowest frequencies from the original complex wave and store the result in `cw_remove_lowest_three`. Plot the resulting wave in a figure named `fig_cw_removed_lowest_three` of size `(20, 2)`.  Also plot the original 16hz simple wave (`w16`) on the same plot. They should look very similar since you've removed the other 3 simple waves from the complex wave. Again, choose the cutoff to lie half way between the highest frequency you want to remove and the first frequency you want to keep."
   ]
  },
  {
   "cell_type": "code",
   "execution_count": null,
   "metadata": {},
   "outputs": [],
   "source": []
  },
  {
   "cell_type": "code",
   "execution_count": null,
   "metadata": {},
   "outputs": [],
   "source": [
    "# test to check whether the names exist\n",
    "ok.grade(\"q5_2e\")"
   ]
  },
  {
   "cell_type": "code",
   "execution_count": null,
   "metadata": {},
   "outputs": [],
   "source": [
    "## test to check results\n",
    "# ok.grade(\"q5_2e_full\")"
   ]
  },
  {
   "cell_type": "markdown",
   "metadata": {},
   "source": [
    "**3. Investigating spatial filtering**\n",
    "\n",
    "In this exercise, we will take a closer look at the effects of spatial filtering. We will take an axial slice, add noise, and then perform smoothing.\n",
    "\n",
    "**(a)** [1.5pts] In exercise 1, you loaded a 4-D scan array into `data1`. Select the first volume from `data1` and call it `volume`. Select the axial slice with index `15` and call it `axial_slice`. We will be working with this slice.\n",
    "\n",
    "Compute the standard deviation (across all axes - output should be one number) of the `axial_slice` using `np.std`. This gives us a rough estimate of the \"size of the signal\", which will help us scale the noise we want to add. Call this number `signal_size`. Now set the name `noise_ratio` to `0.5` - we would like to corrupt the axial slice with noise that is half the size of the signal.\n",
    "\n",
    "Using `np.random.randn`, create a 2-D slice array of noise that is the same shape as `axial_slice` (**Hint**: Store the components of `axial_slice.shape` in `hieght` and `width` and use those specify the noise shape.). Call it `noise`. Multiply `noise` by `signal_size` and by `noise_ratio` and store it into `noise_slice`. Then and add `noise_slice` to `axial_slice` and store the result in `noisy_axial_slice`. \n",
    "\n",
    "Create a figure named `fig_noisy_slice` of size `(10, 5)`. Using `plt.subplot`, plot `axial_slice` on the left, and `noisy_axial_slice` on the right of the figure."
   ]
  },
  {
   "cell_type": "code",
   "execution_count": null,
   "metadata": {},
   "outputs": [],
   "source": []
  },
  {
   "cell_type": "code",
   "execution_count": null,
   "metadata": {},
   "outputs": [],
   "source": [
    "# test to check whether the names exist\n",
    "ok.grade(\"q5_3a\")"
   ]
  },
  {
   "cell_type": "code",
   "execution_count": null,
   "metadata": {},
   "outputs": [],
   "source": [
    "## test to check results\n",
    "# ok.grade(\"q5_3a_full\")"
   ]
  },
  {
   "cell_type": "markdown",
   "metadata": {},
   "source": [
    "**(b)** [1pt] Write a function called `make_slice_noisy` that takes two arguments: the 2-D slice array to make noisy call `input_slice`, and the ratio of noise to the standard deviation called `noise_ratio`. `make_slice_noisy` should performs the steps above to add noise to the slice and return the noisy slice. Make absolutely sure that you add noise to the name `input_slice` in the body of your function, wherever you used `axial_slice` before. "
   ]
  },
  {
   "cell_type": "code",
   "execution_count": null,
   "metadata": {},
   "outputs": [],
   "source": []
  },
  {
   "cell_type": "code",
   "execution_count": null,
   "metadata": {},
   "outputs": [],
   "source": [
    "# test to check whether the names exist\n",
    "ok.grade(\"q5_3b\")"
   ]
  },
  {
   "cell_type": "code",
   "execution_count": null,
   "metadata": {},
   "outputs": [],
   "source": [
    "## test to check results\n",
    "# ok.grade(\"q5_3b_full\")"
   ]
  },
  {
   "cell_type": "markdown",
   "metadata": {},
   "source": [
    "**(c)** [1pts] Crop the `axial_slice` by 10 pixels on all four sides and call the output `cropped_axial_slice` (We are cropping the image in order to test whether your `make_slice_noisy` function actually uses the input). \n",
    "\n",
    "Now create 5 new slices that have varying levels of noise added to them. To do this, use `make_slice_noisy` 5 times on the cropped image called `cropped_axial_slice`, using one of the 5 following noise ratios each time `0.0, 0.2, 0.4, 0.6, 1.2`. Call the resulting noisy slices `noisy_axial_slice_0` - `noisy_axial_slice_4`. \n",
    "\n",
    "Plot the 5 noisey slices in a single row next to each other in a figure called `fig_noisy_images` of size (20, 4)."
   ]
  },
  {
   "cell_type": "code",
   "execution_count": null,
   "metadata": {},
   "outputs": [],
   "source": []
  },
  {
   "cell_type": "code",
   "execution_count": null,
   "metadata": {},
   "outputs": [],
   "source": [
    "# test to check whether the names exist\n",
    "ok.grade(\"q5_3c\")"
   ]
  },
  {
   "cell_type": "code",
   "execution_count": null,
   "metadata": {},
   "outputs": [],
   "source": [
    "## test to check results\n",
    "# ok.grade(\"q5_3c_full\")"
   ]
  },
  {
   "cell_type": "markdown",
   "metadata": {},
   "source": [
    "**(d)** [1pt] Now we are going to smooth each of these slices with three different smoothing sizes: `0.0, 1.0, 4.0`. Use `scipy.ndimage.gaussian_filter` to do this (see the lecture for tips on how to do this). Store the outputs in `noisy_axial_slice_X_smoothed_Y` where X goes from 0 to 4 as before, and Y goes from 0 to 2. So if you smooth `noisy_axial_slice_1` with the filter size `0.0`, then you store the output in `noisy_axial_slice_1_smoothed_0`. For a smoothing with `4.0`, the output should be stored in `noisy_axial_slice_1_smoothed_2`."
   ]
  },
  {
   "cell_type": "code",
   "execution_count": null,
   "metadata": {},
   "outputs": [],
   "source": [
    "from scipy.ndimage import gaussian_filter"
   ]
  },
  {
   "cell_type": "code",
   "execution_count": null,
   "metadata": {},
   "outputs": [],
   "source": [
    "\n"
   ]
  },
  {
   "cell_type": "code",
   "execution_count": null,
   "metadata": {},
   "outputs": [],
   "source": [
    "# test to check whether the names exist\n",
    "ok.grade(\"q5_3d\")"
   ]
  },
  {
   "cell_type": "code",
   "execution_count": null,
   "metadata": {},
   "outputs": [],
   "source": [
    "## test to check results\n",
    "# ok.grade(\"q5_3d_full\")"
   ]
  },
  {
   "cell_type": "markdown",
   "metadata": {},
   "source": [
    "**(e)** [0.5pts] Plot all of these in three rows of five images in a figure named `fig_noisy_smoothed` of size (15, 9). The idea is to plot `noisy_axial_slice_0_smoothed_0` on the top left, `noisy_axial_slice_4_smoothed_0` on the top right (5th position), `noisy_axial_slice_0_smoothed_2` on the bottom left, and `noisy_axial_slice_4_smoothed_2` on the bottom right. (First index, X, goes from left to right, second index, Y, goes from top to bottom).\n",
    "This should give you a total of 15 plots in that figure - 3 rows of 5 plots. The rows correspond to a smoothing level, and the columns correspond to a noise level.\n",
    "\n",
    "See how the lowest row, smoothing level 4.0, removes pretty much all the noise, but also makes the image look very blurry. The first row is unsmoothed (smoothing level 0.0), and shows you what noisy images look like. In the second row, with a little smoothing, you can see, compared to the images in the first row, that some noise is removed, but that the result is also a little blurry."
   ]
  },
  {
   "cell_type": "code",
   "execution_count": null,
   "metadata": {},
   "outputs": [],
   "source": [
    "\n"
   ]
  },
  {
   "cell_type": "code",
   "execution_count": null,
   "metadata": {},
   "outputs": [],
   "source": [
    "# test to check whether the names exist\n",
    "ok.grade(\"q5_3e\")"
   ]
  },
  {
   "cell_type": "code",
   "execution_count": null,
   "metadata": {},
   "outputs": [],
   "source": [
    "## test to check results\n",
    "# ok.grade(\"q5_3e_full\")"
   ]
  },
  {
   "cell_type": "code",
   "execution_count": null,
   "metadata": {},
   "outputs": [],
   "source": [
    "# Don't forget to submit!\n",
    "_ = ok.submit()"
   ]
  }
 ],
 "metadata": {
  "kernelspec": {
   "display_name": "Python 3",
   "language": "python",
   "name": "python3"
  },
  "language_info": {
   "codemirror_mode": {
    "name": "ipython",
    "version": 3
   },
   "file_extension": ".py",
   "mimetype": "text/x-python",
   "name": "python",
   "nbconvert_exporter": "python",
   "pygments_lexer": "ipython3",
   "version": "3.6.1"
  }
 },
 "nbformat": 4,
 "nbformat_minor": 2
}
