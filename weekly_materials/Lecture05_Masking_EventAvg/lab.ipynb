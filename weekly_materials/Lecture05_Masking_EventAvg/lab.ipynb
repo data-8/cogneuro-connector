{
 "cells": [
  {
   "cell_type": "markdown",
   "metadata": {},
   "source": [
    "# Overview\n",
    "\n",
    "In class this week, we went over how to create an event-related average (i.e., to compute the brain's average response to a given type of event, such as a stimulus or experimental condition). Here, we will compute event-related averages for several conditions in the same experiment, and visualize the average data that we create."
   ]
  },
  {
   "cell_type": "markdown",
   "metadata": {},
   "source": [
    "Here are (some of...) the tools from lecture that you will need for this assignment."
   ]
  },
  {
   "cell_type": "code",
   "execution_count": null,
   "metadata": {
    "collapsed": true
   },
   "outputs": [],
   "source": [
    "import numpy as np\n",
    "import neurods\n",
    "import cortex\n",
    "import os"
   ]
  },
  {
   "cell_type": "code",
   "execution_count": null,
   "metadata": {
    "collapsed": false
   },
   "outputs": [],
   "source": [
    "# Here is the load_data function we created (this will be in neurods next week)\n",
    "def load_data(*files, do_zscore=False, mask=None, dtype=np.float32):\n",
    "    \"\"\"Load fMRI data from files and optionally z-normalize data\n",
    "    \n",
    "    Parameters\n",
    "    ----------\n",
    "    files : strings \n",
    "        Absolute path names for files to be loaded\n",
    "    do_zscore : bool\n",
    "        Flag that determines whether to zscore data in time or not\n",
    "    mask : boolean array\n",
    "        Selection mask that specifies which voxels to extract from 3D brain\n",
    "    dtype : numpy data type\n",
    "        Data type to which to convert the loaded data\n",
    "\n",
    "    Returns\n",
    "    -------\n",
    "    data : array\n",
    "        fMRI data array, in (time, z, y, x) format (if not masked) or in\n",
    "        (time, voxels) format (if masked)\n",
    "    \"\"\"\n",
    "    # Create a list to store data\n",
    "    data = []\n",
    "    # Loop over files in list\n",
    "    for f in files:\n",
    "        print(\"Loading {}...\".format(f))\n",
    "        nii = nibabel.load(f)\n",
    "        tmp = nii.get_data().T.astype(dtype)\n",
    "        # Optionally mask data\n",
    "        if mask is not None:\n",
    "            tmp = tmp[:, mask]\n",
    "        # Optionally zscore each run independently\n",
    "        if do_zscore:\n",
    "            tmp = zscore(tmp, axis=0)\n",
    "        data.append(tmp)\n",
    "        del tmp\n",
    "    # Concatenate full data\n",
    "    data = np.vstack(data)\n",
    "    return data\n",
    "\n",
    "# And here is the get_onsets function:\n",
    "def get_onsets(cond):\n",
    "    \"\"\"Convert a set of indicators for when a condition is on to onset indices for that condition\n",
    "    \n",
    "    Parameters\n",
    "    ----------\n",
    "    cond : array\n",
    "        An array of 1s and 0s (or a boolean array of Trues and Falses), indicating which time indices of\n",
    "        an experimental timecourse were part of a single given condition\n",
    "    \n",
    "    Returns\n",
    "    -------\n",
    "    onset_times : array\n",
    "        onset time indices for `cond`\n",
    "    \"\"\"\n",
    "    # (Note fancy syntax from above to pull out first element of a tuple)\n",
    "    on_times, = np.nonzero(cond)\n",
    "    keepers = np.diff(np.hstack([-1, on_times]))>1\n",
    "    onset_times = on_times[keepers]\n",
    "    return onset_times"
   ]
  },
  {
   "cell_type": "markdown",
   "metadata": {},
   "source": [
    "Here is a quick example of how to load data (look to lecture too!)"
   ]
  },
  {
   "cell_type": "code",
   "execution_count": null,
   "metadata": {
    "collapsed": false
   },
   "outputs": [],
   "source": [
    "sub, xfm = 's01', 'catloc' # Subject 1 for category localizer experiment\n",
    "data_file = '/data/shared/cogneuro88/fMRI/categories/s01_categories_01.nii.gz'\n",
    "data = load_data(data_file, do_zscore=True)\n",
    "design_file = '/data/shared/cogneuro88/fMRI/categories/experiment_design.npz'\n",
    "design = np.load(design_file)"
   ]
  },
  {
   "cell_type": "markdown",
   "metadata": {},
   "source": [
    "1. Compute an event-related average of the 10 TRs following condition onset for each of the five conditions in the experiment. [4 pts]\n",
    "2. View each event-related average as a movie, the same way as is done at the end of the lecture (see the `lecture_breakout.ipynb` notebook). Briefly describe what you see in each different event-related average.  [2 pts]\n",
    "3. Use `cortex.quickflat.make_figure()` to make a plot of the average response at the 5th TR after condition onset for each condition. [2 pts]\n",
    "4. Repeat (1) and (3) using all the data from all three runs of the category localizer experiment. How does the inclusion of more data change the results? (Does it change the results?) [2 pts]\n",
    "\n",
    "**BONUS POINTS [2 pts]**\n",
    "\n",
    "Write a function that will compute an event-related average given a data set, the experimental design array, a specified condition, and the number of time points \n"
   ]
  },
  {
   "cell_type": "code",
   "execution_count": null,
   "metadata": {
    "collapsed": true
   },
   "outputs": [],
   "source": [
    "### STUDENT ANSWER\n",
    "# Compute event-related averages for each condition\n"
   ]
  },
  {
   "cell_type": "code",
   "execution_count": null,
   "metadata": {
    "collapsed": true
   },
   "outputs": [],
   "source": [
    "### STUDENT ANSWER\n",
    "# View each event-related averages as a movie\n"
   ]
  },
  {
   "cell_type": "markdown",
   "metadata": {},
   "source": [
    "Describe what you see! \n",
    "\n",
    "..."
   ]
  },
  {
   "cell_type": "code",
   "execution_count": null,
   "metadata": {
    "collapsed": true
   },
   "outputs": [],
   "source": [
    "### STUDENT ANSWER\n",
    "# Use cortex.quickflat.make_figure() to show responses for all voxels at the 5th TR \n",
    "# in each event-related average\n"
   ]
  },
  {
   "cell_type": "code",
   "execution_count": null,
   "metadata": {
    "collapsed": true
   },
   "outputs": [],
   "source": [
    "### STUDENT ANSWER\n",
    "# Re-compute event-related averages using 3 runs of data instead of just 1 run\n",
    "\n",
    "# Re-make plots of all voxels at the 5th TR of the event averages using all the data\n"
   ]
  },
  {
   "cell_type": "markdown",
   "metadata": {},
   "source": [
    "# Hints\n",
    "Remember the ways we discussed to reduce memory use! Use a mask as you are loading your data!\n",
    "```python\n",
    "cortical_voxels = cortex.db.get_mask(sub, xfm, type='cortical')\n",
    "```\n",
    "\n",
    "Each answer does not necessarily have to be one cell!\n",
    "\n",
    "Remember to break up long lines of code! \n",
    "\n",
    "```python\n",
    "def break_lines(up, like, this=so, \n",
    "    you=dont, run=off, the=page):\n",
    "    \"\"\"F'REALS\"\"\"\n",
    "    print(\"We can't grade what we can't see!\")\n",
    "    print('It can also make your code much',\n",
    "        'more readable!')\n",
    "    return\n",
    "```\n",
    "\n",
    "Look back at the lecture to see examples of how to use `cortex.quickflat.make_figure()`. What type of data structure does make_figure() take as input? What shape array do you use to create that data structure? \n",
    "\n",
    "For the last part, you will need to make use of the experimental design arrays for all three runs. These are in the `design` variable loaded above: `design['run1']`, `design['run2']`, and `design['run3']`. Refer back to the lecture if you need a refresher on what the values in these arrays mean."
   ]
  },
  {
   "cell_type": "code",
   "execution_count": null,
   "metadata": {
    "collapsed": true
   },
   "outputs": [],
   "source": []
  }
 ],
 "metadata": {
  "anaconda-cloud": {},
  "kernelspec": {
   "display_name": "Python [py35]",
   "language": "python",
   "name": "Python [py35]"
  },
  "language_info": {
   "codemirror_mode": {
    "name": "ipython",
    "version": 3
   },
   "file_extension": ".py",
   "mimetype": "text/x-python",
   "name": "python",
   "nbconvert_exporter": "python",
   "pygments_lexer": "ipython3",
   "version": "3.5.2"
  }
 },
 "nbformat": 4,
 "nbformat_minor": 0
}
