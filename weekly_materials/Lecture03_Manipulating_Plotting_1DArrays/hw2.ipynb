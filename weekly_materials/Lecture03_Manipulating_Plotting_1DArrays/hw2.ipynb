{
 "cells": [
  {
   "cell_type": "markdown",
   "metadata": {},
   "source": [
    "# Homework \\#2\n",
    "\n",
    "In this homework you will practice creating and manipulating 1-D arrays, in order to build your comfort level with numpy N-D arrays, which is a crucial skill for the more advanced operations and analyses we'll be doing with 4-D fMRI data arrays later in the class. \n",
    "\n",
    "Visuzlization is a crucial part of Data Science, and in this assignment you'll get some initial practice using the Matplotlib module to create some plots of 1-D arrays. While much of the visualization we'll be doing with fMRI data later in the semester is pretty slick, it is important to understand the basics first!\n",
    "\n",
    "Finally, you'll be use **slicing** and **indexing** to create subsets of the data, which is a crucial tool used to select subsets of fMRI data to analyze. "
   ]
  },
  {
   "cell_type": "code",
   "execution_count": null,
   "metadata": {},
   "outputs": [],
   "source": [
    "# Don't change this cell; just run it. \n",
    "# The result will give you directions about how to log in to the submission system, called OK.\n",
    "# Once you're logged in, you can run this cell again, but it won't ask you who you are because\n",
    "# it remembers you. However, you will need to log in once per assignment.\n",
    "from client.api.notebook import Notebook\n",
    "ok = Notebook('hw2.ok')\n",
    "_ = ok.auth(inline=True)\n"
   ]
  },
  {
   "cell_type": "code",
   "execution_count": null,
   "metadata": {},
   "outputs": [],
   "source": [
    "import numpy as np"
   ]
  },
  {
   "cell_type": "markdown",
   "metadata": {},
   "source": [
    "1\\. [3pts, 1pt each] **Create fake data**\n",
    "\n",
    "**(A)** Let's start by creating some data that we can plot and manipulate. First, create a name `TR` and assign it the value `2`. Next, create an array with values ranging from 0 to 100 (excluding 100) and a step size that has the value stored in the name `TR`. Make sure the array is of dtype float64. Call it `time`."
   ]
  },
  {
   "cell_type": "code",
   "execution_count": null,
   "metadata": {},
   "outputs": [],
   "source": []
  },
  {
   "cell_type": "code",
   "execution_count": null,
   "metadata": {},
   "outputs": [],
   "source": [
    "# This checks whether you have created the names that the autograder looks for. \n",
    "# Make sure this is true before submitting.\n",
    "ok.grade(\"q2_1a\")"
   ]
  },
  {
   "cell_type": "code",
   "execution_count": null,
   "metadata": {},
   "outputs": [],
   "source": [
    "# This is for later, when the homework is graded. Leave it commented out until then.\n",
    "# ok.grade(\"q2_1a_full\")"
   ]
  },
  {
   "cell_type": "markdown",
   "metadata": {},
   "source": [
    "**(B)** Since some of the plotting we want to do involves two 1-D arrays, create a second array named `signal` that is the same length as `time` and has the values of $\\cos(time/50)$. (Use the function `np.cos` for this.) We divide by 50 so that the signal wave changes slowly, which is more like an fMRI signal."
   ]
  },
  {
   "cell_type": "code",
   "execution_count": null,
   "metadata": {},
   "outputs": [],
   "source": []
  },
  {
   "cell_type": "code",
   "execution_count": null,
   "metadata": {},
   "outputs": [],
   "source": [
    "# This checks whether you have created the names that the autograder looks for. \n",
    "# Make sure this is true before submitting.\n",
    "ok.grade(\"q2_1b\")"
   ]
  },
  {
   "cell_type": "code",
   "execution_count": null,
   "metadata": {},
   "outputs": [],
   "source": [
    "# This is for later, when the homework is graded. Leave it commented out until then.\n",
    "# ok.grade(\"q2_1b_full\")"
   ]
  },
  {
   "cell_type": "markdown",
   "metadata": {},
   "source": [
    "**(C)** To make the data look more like a realistic fMRI time course, let's add some measurement noise to this. Noise is just a (hopefully not too large) random change we add to our function. To do this, create an array of random numbers with the same shape as `signal`, using `np.random.randn`. Call this array `noise`.\n",
    "\n",
    "Lastly, create an array called `timeseries` by adding `signal` and `noise` together."
   ]
  },
  {
   "cell_type": "code",
   "execution_count": null,
   "metadata": {},
   "outputs": [],
   "source": []
  },
  {
   "cell_type": "code",
   "execution_count": null,
   "metadata": {},
   "outputs": [],
   "source": [
    "# This checks whether you have created the names that the autograder looks for. \n",
    "# Make sure this is true before submitting.\n",
    "ok.grade(\"q2_1c\")"
   ]
  },
  {
   "cell_type": "code",
   "execution_count": null,
   "metadata": {},
   "outputs": [],
   "source": [
    "# This is for later, when the homework is graded. Leave it commented out until then.\n",
    "# ok.grade(\"q2_1c_full\")"
   ]
  },
  {
   "cell_type": "markdown",
   "metadata": {},
   "source": [
    "2\\. [1pts]  Assume that `time` is a *similar ordered* array that represents time, and `timeseries` is another *similar ordered* array that represents the value of an fMRI BOLD signal.\n",
    "\n",
    "For the purposes of autograding, we've included a line of code that creates a figure using `plt.figure` and stores it in a name called `figure1`. Please keep this line in the cell below, otherwise you will miss points.\n",
    "\n",
    "Make a line plot with `time` on the horizontal axis and `timeseries` on the vertical axis. Use `plt.xlabel` and `plt.ylabel` to label these axes 'Time (seconds)' and 'BOLD signal' respectively.\n",
    "\n",
    "**Hint**: Don't forget to import matplotlib and set the appropriate settings telling Python to plot in this notebook!"
   ]
  },
  {
   "cell_type": "code",
   "execution_count": null,
   "metadata": {},
   "outputs": [],
   "source": [
    "# Import libraries and plotting settings here\n",
    "\n",
    "# LEAVE HERE - FOR AUTOGRADING\n",
    "figure1 = plt.figure()\n",
    "\n",
    "# Add your code here"
   ]
  },
  {
   "cell_type": "markdown",
   "metadata": {},
   "source": [
    "3\\. [1pt] We know `time` represents time, which is not interesting to look at, since it marches on, until our death. `timeseries` is what is really interesting in this data. As such, we might first assess how the values it contains are spread out, or distributed, by looking at its histogram. Create a histogram of the values of `timeseries` with 20 bins. \n",
    "\n",
    "We've also included a line for autograding here, please leave it."
   ]
  },
  {
   "cell_type": "code",
   "execution_count": null,
   "metadata": {},
   "outputs": [],
   "source": [
    "# LEAVE HERE - FOR AUTOGRADING\n",
    "figure2 = plt.figure()\n",
    "\n",
    "# Add your code here"
   ]
  },
  {
   "cell_type": "markdown",
   "metadata": {},
   "source": [
    "4\\. [3pts, 1pt each] Imagine you've just learned there was a bug with the scanner that was causing the data from two separate scans to be merged together into one file. The data from the first scan is in all the even numbered entries of the array, and the second scan is in the odd numbered entries.\n",
    "\n",
    "**(A)** First select every other entry of `timeseries` using slicing to recover both of these two scans. Every other entry means that you need a step of size 2. Select the even-indexed numbers and store them in a name called  `even_timeseries` and select the odd-indexed numbers and store them in a name called `odd_timeseries`."
   ]
  },
  {
   "cell_type": "code",
   "execution_count": null,
   "metadata": {},
   "outputs": [],
   "source": []
  },
  {
   "cell_type": "code",
   "execution_count": null,
   "metadata": {},
   "outputs": [],
   "source": [
    "# This checks whether you have created the names that the autograder looks for. \n",
    "# Make sure this is true before submitting.\n",
    "ok.grade(\"q2_4a\")"
   ]
  },
  {
   "cell_type": "code",
   "execution_count": null,
   "metadata": {},
   "outputs": [],
   "source": [
    "# This is for later, when the homework is graded. Leave it commented out until then.\n",
    "# ok.grade(\"q2_4a_full\")"
   ]
  },
  {
   "cell_type": "markdown",
   "metadata": {},
   "source": [
    "**(B)** Just like cars back in the 70s, the scanner needs to \"warm up\" before it runs well. This means that the first several volumes (or TRs) of every scan must be thrown away. Use **slicing** to create a new array from `even_timseries` that doesn't have the first 5 volumes. Call it `even_timeseries_clean`."
   ]
  },
  {
   "cell_type": "code",
   "execution_count": null,
   "metadata": {},
   "outputs": [],
   "source": []
  },
  {
   "cell_type": "code",
   "execution_count": null,
   "metadata": {},
   "outputs": [],
   "source": [
    "# This checks whether you have created the names that the autograder looks for. \n",
    "# Make sure this is true before submitting.\n",
    "ok.grade(\"q2_4b\")"
   ]
  },
  {
   "cell_type": "code",
   "execution_count": null,
   "metadata": {},
   "outputs": [],
   "source": [
    "# This is for later, when the homework is graded. Leave it commented out until then.\n",
    "# ok.grade(\"q2_4b_full\")"
   ]
  },
  {
   "cell_type": "markdown",
   "metadata": {},
   "source": [
    "**(C)** Finally use **indexing** to create a new array that contains those first 5 volumes, and call it `first_5`. "
   ]
  },
  {
   "cell_type": "code",
   "execution_count": null,
   "metadata": {},
   "outputs": [],
   "source": []
  },
  {
   "cell_type": "code",
   "execution_count": null,
   "metadata": {},
   "outputs": [],
   "source": [
    "# This checks whether you have created the names that the autograder looks for. \n",
    "# Make sure this is true before submitting.\n",
    "ok.grade(\"q2_4c\")"
   ]
  },
  {
   "cell_type": "code",
   "execution_count": null,
   "metadata": {},
   "outputs": [],
   "source": [
    "# This is for later, when the homework is graded. Leave it commented out until then.\n",
    "# ok.grade(\"q2_4c_full\")"
   ]
  },
  {
   "cell_type": "markdown",
   "metadata": {},
   "source": [
    "5\\. [2pts] **Bar Plots**\n",
    "\n",
    "**(A)** In the `even_timeseries` array, compute the mean value of the first 5 TRs and the mean of the remaining TRs using `np.mean`. Call them `mean_first_5` and `mean_remaining`, respectively. Store these two values in an array called `means`. "
   ]
  },
  {
   "cell_type": "code",
   "execution_count": null,
   "metadata": {},
   "outputs": [],
   "source": []
  },
  {
   "cell_type": "code",
   "execution_count": null,
   "metadata": {},
   "outputs": [],
   "source": [
    "# This checks whether you have created the names that the autograder looks for. \n",
    "# Make sure this is true before submitting.\n",
    "ok.grade(\"q2_5a\")"
   ]
  },
  {
   "cell_type": "code",
   "execution_count": null,
   "metadata": {},
   "outputs": [],
   "source": [
    "# This is for later, when the homework is graded. Leave it commented out until then.\n",
    "# ok.grade(\"q2_5a_full\")"
   ]
  },
  {
   "cell_type": "markdown",
   "metadata": {},
   "source": [
    "**(B)** Make a bar plot of these two values and change the `xticks` of the first bar to say 'scan onset' and the second one to say 'rest of scan'.\n",
    "\n",
    "We've also included a line for autograding here, please leave it."
   ]
  },
  {
   "cell_type": "code",
   "execution_count": null,
   "metadata": {},
   "outputs": [],
   "source": [
    "# LEAVE HERE - FOR AUTOGRADING\n",
    "figure3 = plt.figure()\n",
    "\n",
    "# Add your code here"
   ]
  },
  {
   "cell_type": "markdown",
   "metadata": {},
   "source": [
    "Make sure to submit your homework to OKpy!"
   ]
  },
  {
   "cell_type": "code",
   "execution_count": null,
   "metadata": {},
   "outputs": [],
   "source": [
    "_ = ok.submit()"
   ]
  }
 ],
 "metadata": {
  "kernelspec": {
   "display_name": "Python 3",
   "language": "python",
   "name": "python3"
  },
  "language_info": {
   "codemirror_mode": {
    "name": "ipython",
    "version": 3
   },
   "file_extension": ".py",
   "mimetype": "text/x-python",
   "name": "python",
   "nbconvert_exporter": "python",
   "pygments_lexer": "ipython3",
   "version": "3.6.1"
  }
 },
 "nbformat": 4,
 "nbformat_minor": 2
}
