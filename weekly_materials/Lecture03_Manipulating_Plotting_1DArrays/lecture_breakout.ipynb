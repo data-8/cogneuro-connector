{
 "cells": [
  {
   "cell_type": "markdown",
   "metadata": {},
   "source": [
    "# Lecture 3: Manipulating & Plotting 1D fMRI Arrays: Voxel Time Series\n",
    "\n",
    "## Goals\n",
    "\n",
    "- **Neuroscience / Neuroimaging concepts**\n",
    "    - Types of fMRI Data Arrays\n",
    "- **Datascience / Coding concepts**\n",
    "    - Time series data\n",
    "    - 1D arrays as voxel time series data\n",
    "    - Subsetting 1D arrays: Slicing and Indexing\n",
    "    - Descriptive statistics on 1D arrays\n",
    "    - Visualizing 1D arrays: Line plots, Histograms and Bar plots"
   ]
  },
  {
   "cell_type": "markdown",
   "metadata": {},
   "source": [
    "# Key Terms and Concepts\n",
    "<br/>\n",
    "\n",
    "Below is a list of the key terms and concepts you should know after this lecture. The list below are links to the sections of the notebook where you can learn more about each term/concept.\n",
    "\n",
    "<br/>\n",
    "<div style=\"font-size:15pt;\">\n",
    "    \n",
    "1. [What can arrays represent?](#Data_Representation) <br/>\n",
    "2. [fMRI Data array representations](#fMRI_Data_Representation) <br/>\n",
    "5. [Indexing](#Indexing) <br/>\n",
    "6. [Slicing](#Slicing) <br/>\n",
    "7. [Descriptive Statistics](#Descriptive_Statistics) <br/>\n",
    "8. [Line Plots](#Line_Plots) <br/>\n",
    "9. [Axis Labels](#Axis_Labels) <br/>\n",
    "10. [Plot Title](#Plot_Title) <br/>\n",
    "11. [Histograms](#Histograms) <br/>\n",
    "12. [`np.reshape`](#reshape) <br/>\n",
    "13. [Bar Plots](#Bar_Plots) <br/>\n",
    "</div>"
   ]
  },
  {
   "cell_type": "markdown",
   "metadata": {},
   "source": [
    "# Standard imports\n",
    "\n",
    "Here we'll import the modules that we've already used in class that we need for this lecture. Any new modules we introduce in class will be imported where we use them."
   ]
  },
  {
   "cell_type": "code",
   "execution_count": 1,
   "metadata": {
    "collapsed": true
   },
   "outputs": [],
   "source": [
    "import numpy as np\n",
    "import nibabel"
   ]
  },
  {
   "cell_type": "markdown",
   "metadata": {},
   "source": [
    "# Review"
   ]
  },
  {
   "cell_type": "markdown",
   "metadata": {},
   "source": [
    "## Arrays, Lists and Tuples\n",
    "\n",
    "Last week we learned about arrays, lists and tuples, which are 3 types of containers that are data types which hold other data. While they have a lot of similarities, there are also important differences between them that make them useful in different scenarios. To outline the main differences between them, let's first create one of each, containing the same thing, 5 ones."
   ]
  },
  {
   "cell_type": "code",
   "execution_count": 2,
   "metadata": {},
   "outputs": [
    {
     "name": "stdout",
     "output_type": "stream",
     "text": [
      "[1 1 1 1 1]\n",
      "[1, 1, 1, 1, 1]\n",
      "(1, 1, 1, 1, 1)\n"
     ]
    }
   ],
   "source": [
    "array_ones = np.ones(5, dtype='int')\n",
    "print(array_ones)\n",
    "list_ones = [1,1,1,1,1]\n",
    "print(list_ones)\n",
    "tuple_ones = (1,1,1,1,1)\n",
    "print(tuple_ones)"
   ]
  },
  {
   "cell_type": "markdown",
   "metadata": {},
   "source": [
    "We learned the terms **mutable** and **immutable** last lecture. What do those mean and how do they apply to arrays, lists and tuples?\n",
    "\n",
    "**Mutable** means that the what's stored inside the container can change. This can happen by adding a new value, deleting an existing value, or changing a value.\n",
    "\n",
    "**Immutable** is just the opposite, once the container is created it can't change what it contains.\n",
    "\n",
    "So which of these 3 container types are mutable and which are immutable? Let's use some code to answer that. We'll be jumping ahead in lecture a bit by using a technique called `indexing`. This let's you reference an element in a container using square brackets `[]`. Without getting into detail here, the below code is meant to change the value of the first element in these containers to 10:"
   ]
  },
  {
   "cell_type": "code",
   "execution_count": 3,
   "metadata": {},
   "outputs": [
    {
     "name": "stdout",
     "output_type": "stream",
     "text": [
      "[10  1  1  1  1]\n"
     ]
    }
   ],
   "source": [
    "array_ones[0] = 10\n",
    "print(array_ones)"
   ]
  },
  {
   "cell_type": "code",
   "execution_count": 4,
   "metadata": {},
   "outputs": [
    {
     "name": "stdout",
     "output_type": "stream",
     "text": [
      "[10, 1, 1, 1, 1]\n"
     ]
    }
   ],
   "source": [
    "list_ones[0] = 10\n",
    "print(list_ones)"
   ]
  },
  {
   "cell_type": "code",
   "execution_count": 5,
   "metadata": {},
   "outputs": [
    {
     "ename": "TypeError",
     "evalue": "'tuple' object does not support item assignment",
     "output_type": "error",
     "traceback": [
      "\u001b[0;31m---------------------------------------------------------------------------\u001b[0m",
      "\u001b[0;31mTypeError\u001b[0m                                 Traceback (most recent call last)",
      "\u001b[0;32m<ipython-input-5-57715f3d8b0e>\u001b[0m in \u001b[0;36m<module>\u001b[0;34m()\u001b[0m\n\u001b[0;32m----> 1\u001b[0;31m \u001b[0mtuple_ones\u001b[0m\u001b[0;34m[\u001b[0m\u001b[0;36m0\u001b[0m\u001b[0;34m]\u001b[0m \u001b[0;34m=\u001b[0m \u001b[0;36m10\u001b[0m\u001b[0;34m\u001b[0m\u001b[0m\n\u001b[0m\u001b[1;32m      2\u001b[0m \u001b[0mprint\u001b[0m\u001b[0;34m(\u001b[0m\u001b[0mtuple_ones\u001b[0m\u001b[0;34m)\u001b[0m\u001b[0;34m\u001b[0m\u001b[0m\n",
      "\u001b[0;31mTypeError\u001b[0m: 'tuple' object does not support item assignment"
     ]
    }
   ],
   "source": [
    "tuple_ones[0] = 10\n",
    "print(tuple_ones)"
   ]
  },
  {
   "cell_type": "markdown",
   "metadata": {},
   "source": [
    "So we see that arrays and lists are **mutable**, but tuples are **immutable** since we got an error when trying to change the value of the first element.\n",
    "\n",
    "For this reason lists and arrays are useful when you know you'll be changing what's contained in it, while tuples are useful when you know the data inside won't change. "
   ]
  },
  {
   "cell_type": "markdown",
   "metadata": {},
   "source": [
    "Doing mathematics on a data set is the core of what data science is all about, and these 3 containers differ in whether they support mathematical operations. Let's see:"
   ]
  },
  {
   "cell_type": "code",
   "execution_count": 6,
   "metadata": {},
   "outputs": [
    {
     "data": {
      "text/plain": [
       "array([15,  6,  6,  6,  6])"
      ]
     },
     "execution_count": 6,
     "metadata": {},
     "output_type": "execute_result"
    }
   ],
   "source": [
    "array_ones + 5"
   ]
  },
  {
   "cell_type": "code",
   "execution_count": 7,
   "metadata": {},
   "outputs": [
    {
     "ename": "TypeError",
     "evalue": "can only concatenate list (not \"int\") to list",
     "output_type": "error",
     "traceback": [
      "\u001b[0;31m---------------------------------------------------------------------------\u001b[0m",
      "\u001b[0;31mTypeError\u001b[0m                                 Traceback (most recent call last)",
      "\u001b[0;32m<ipython-input-7-020fba77c52e>\u001b[0m in \u001b[0;36m<module>\u001b[0;34m()\u001b[0m\n\u001b[0;32m----> 1\u001b[0;31m \u001b[0mlist_ones\u001b[0m \u001b[0;34m+\u001b[0m \u001b[0;36m5\u001b[0m\u001b[0;34m\u001b[0m\u001b[0m\n\u001b[0m",
      "\u001b[0;31mTypeError\u001b[0m: can only concatenate list (not \"int\") to list"
     ]
    }
   ],
   "source": [
    "list_ones + 5"
   ]
  },
  {
   "cell_type": "code",
   "execution_count": 8,
   "metadata": {},
   "outputs": [
    {
     "ename": "TypeError",
     "evalue": "can only concatenate tuple (not \"int\") to tuple",
     "output_type": "error",
     "traceback": [
      "\u001b[0;31m---------------------------------------------------------------------------\u001b[0m",
      "\u001b[0;31mTypeError\u001b[0m                                 Traceback (most recent call last)",
      "\u001b[0;32m<ipython-input-8-7321b42f982e>\u001b[0m in \u001b[0;36m<module>\u001b[0;34m()\u001b[0m\n\u001b[0;32m----> 1\u001b[0;31m \u001b[0mtuple_ones\u001b[0m \u001b[0;34m+\u001b[0m \u001b[0;36m5\u001b[0m\u001b[0;34m\u001b[0m\u001b[0m\n\u001b[0m",
      "\u001b[0;31mTypeError\u001b[0m: can only concatenate tuple (not \"int\") to tuple"
     ]
    }
   ],
   "source": [
    "tuple_ones + 5"
   ]
  },
  {
   "cell_type": "markdown",
   "metadata": {},
   "source": [
    "So arrays support mathematical operations, but lists and tuples don't. That's why we'll be using arrays in this class to work with and analyze fMRI data!"
   ]
  },
  {
   "cell_type": "markdown",
   "metadata": {},
   "source": [
    "## Loading files\n",
    "\n",
    "We learned 2 ways to load data into memory. The first is `np.load` which load `npy` files that contain numpy arrays. We'll be using this to load arrays that describe the types of stimuli used in the fMRI experiments we'll study in this course. \n",
    "\n",
    "First, we'll download the file to load. You don't need to know how this works, but in homework or exams we may ask you to simply run a cell, which will download a file you need for you. The file is downloaded to your datahub account, and you can see it using the datahub file browser, which we'll have a look at after this file is downloaded."
   ]
  },
  {
   "cell_type": "code",
   "execution_count": 9,
   "metadata": {
    "collapsed": true
   },
   "outputs": [],
   "source": [
    "import os\n",
    "import urllib.request\n",
    "url_npy = 'https://berkeley.box.com/shared/static/6y3h0bk2fvfdlelvcq1y0mnqzdwl7rrm.npy'\n",
    "filename_npy = os.path.expanduser('~/experiment_design_run1.npy')\n",
    "_ = urllib.request.urlretrieve(url_npy, filename_npy)"
   ]
  },
  {
   "cell_type": "markdown",
   "metadata": {},
   "source": [
    "Now let's check the datahub file browser. To do this, open a new web browser window, and go to: `datahub.berkeley.edu`. From there you'll see a list of folders and filenames, which are all links. Simply click on the link of a folder to enter that folder, or a file to open the file. You should see the file we just downloaded in your `home` folder, which is `/home/jovyan`, and which is what is open when you first login. Make sure you see the file `experiment_design_run1.npy` now.\n",
    "\n",
    "Now we'll load that file using `np.load`"
   ]
  },
  {
   "cell_type": "code",
   "execution_count": 10,
   "metadata": {},
   "outputs": [
    {
     "data": {
      "text/plain": [
       "(120, 5)"
      ]
     },
     "execution_count": 10,
     "metadata": {},
     "output_type": "execute_result"
    }
   ],
   "source": [
    "experiment_design = np.load(filename_npy)\n",
    "experiment_design.shape"
   ]
  },
  {
   "cell_type": "markdown",
   "metadata": {},
   "source": [
    "The second way to load data that we learned was using `nibabel.load` to load nifti files, which contain fMRI data. Remember that with `nibabel.load` there is a two step process to get the data. First, you load the header containing the meta-data for the file (things like the location of the data in 3-D space) using `nibabel.load`. Then you get the data using `get_data`. Let's have a look:"
   ]
  },
  {
   "cell_type": "code",
   "execution_count": null,
   "metadata": {
    "collapsed": true
   },
   "outputs": [],
   "source": []
  },
  {
   "cell_type": "code",
   "execution_count": 11,
   "metadata": {},
   "outputs": [
    {
     "data": {
      "text/plain": [
       "(120, 30, 100, 100)"
      ]
     },
     "execution_count": 11,
     "metadata": {},
     "output_type": "execute_result"
    }
   ],
   "source": [
    "filename_nifti = os.path.expanduser('/home/michael/Downloads/s01_categories_01.nii')\n",
    "hdr = nibabel.load(filename_nifti)\n",
    "data = hdr.get_data().T\n",
    "data.shape"
   ]
  },
  {
   "cell_type": "markdown",
   "metadata": {},
   "source": [
    "<a id='Data_Representation'></a>\n",
    "# What can arrays represent?\n",
    "\n",
    "Last lecture we learned about numpy N-D arrays. These are containers that hold the same type of data (float, int, boolean, etc.), are \"rectangular\" in shape and can have any number of dimensions. They are the basis of fMRI data storage and analysis. It is useful to think of any data stored in an array as lying along two different criteria, because these criteria constrain the types of operations and statistics we will perform on them. They can be formulated as questions:\n",
    "\n",
    "1. Do all the data points in the array represent the same kind of measurement?\n",
    "\n",
    " - For example, fMRI data does represent the same kind of measurement, because it is quantifying the BOLD signal across brain location and time.\n",
    " - The `Tables` used in the data8 class may represent different kinds of measurements per column (e.g. age, weight, height), even though their data type may be the same (e.g. `float`) making them representable as a numpy array.\n",
    " -  As we will see later in the class, when we analyze fMRI data we are interested in how much a given voxel responds to the types of stimuli or tasks in our experiment. These responses are quantified, and are called `weights`. Since they are measuring the response of a voxel to different types of stimuli or task, they are not similar measurements.\n",
    "\n",
    "\n",
    "2\\. If the data points do represent the same kind of measurement: Are the measurements intrinsically ordered?\n",
    "\n",
    " - For example, 1D arrays representing BOLD fMRI time series have temporal ordering: Each entry represents the BOLD signal as time increases.\n",
    " - The rows of a data science table represent different samples that do not necessarily have any intrinsic ordering. This means that you can shuffle the rows without changing the meaning of the data. However, this does not mean that they do not need unique labels.\n",
    "\n",
    "The answers to the questions reveal that arrays can represent 3 diffferent meta-types of data:\n",
    "\n",
    "1. **Dissimilar measurements**: Answer no to question #1\n",
    "2. **Similar ordered measurements**: Answer yes to question #1 and question #2.\n",
    "3. **Similar unordered measurements**: Answer yes to question #1 and no to question #2."
   ]
  },
  {
   "cell_type": "markdown",
   "metadata": {},
   "source": [
    "<a id='fMRI_Data_Representation'></a>\n",
    "# fMRI Data Array Representations\n",
    "\n",
    "Every dimension of an fMRI data array represents data that is of one of the 3 meta-types mentioned above.  When we load fMRI data, it is  in a 4-D array. It is often useful to get subsets of the data for different visualization and analyses we want to do. Although there are no hard-set rules about what the data stored in a specifically shaped array represents, there are guidelines that are very useful when working with fMRI data. The type of manipulation, visualization or analysis done on a specific array depends entirely on what it represents, and these guidelines help you to infer what the data represents just from knowing the shape.\n",
    "\n",
    "The representations of fMRI Data Arrays we'll use in this class are:\n",
    "\n",
    "* **Voxel Timeseries** - *[1D]*: An ordered series of BOLD data which represents the value of a voxel at each point in time during a scan. As long as a scan. Plotted using line plots or histograms.\n",
    "* **Collection of Voxel Timeseries** - *[2D]*:  SImply 2 or more voxel timeseries. Can be plotted together in line plots or histrograms.\n",
    "* **Axial, Saggital or Coronal Slice** - *[2D]*: One slice through a single 3D volume representing the BOLD data at a single time point for part of the brain. Plotted as standard 2-D images.\n",
    "* **Volume or TR** - *[3D]*: Represents the entire brain, contains all the BOLD data collected for a single time point. Plotted using multiple 2D images or flatmaps or 3D interactive plots.\n",
    "* **Scan or Run** - *[4D]*: All the 3D volumes collected during a run. Also, all of the voxel timeseries since a voxel timeseries is as long as a run. These are not plotted. They are read in from disk and subsetted for visualization, or just analyzed directly."
   ]
  },
  {
   "cell_type": "markdown",
   "metadata": {},
   "source": [
    "# 1D Array (Time Series) Manipulation\n",
    "\n",
    "Let's now take a closer look at 1-D arrays and how to manipulate them. First we'll cover the basics using some simple 1-D arrays, and then we'll work with real 1-D fMRI time series data."
   ]
  },
  {
   "cell_type": "markdown",
   "metadata": {},
   "source": [
    "## Subsetting\n",
    "There are three main ways of subsetting 1-D arrays to access and modify values of the array:\n",
    "1. **indexing** is the use of a list or array of integers to determine which entries to select\n",
    "2. **slicing** consists in selecting a subarray with regularly spaced entries\n",
    "\n",
    "Each of these have specific usecases, advantages and disadvantages. Both of these techniques will also apply to multidimensional arrays, which we're going to learn in the next two lectures."
   ]
  },
  {
   "cell_type": "markdown",
   "metadata": {},
   "source": [
    "<a id='Indexing'></a>\n",
    "## Indexing\n",
    "\n",
    "Indexing is the use of integer numbers as indices to access one or several array values:\n",
    "\n",
    "Let's define an array to use while learning about indexing:"
   ]
  },
  {
   "cell_type": "code",
   "execution_count": 12,
   "metadata": {
    "collapsed": true
   },
   "outputs": [],
   "source": [
    "ten_twenty_range = np.arange(10, 20)\n",
    "ten_twenty_range = ten_twenty_range.astype('float32')"
   ]
  },
  {
   "cell_type": "code",
   "execution_count": 13,
   "metadata": {},
   "outputs": [
    {
     "data": {
      "text/plain": [
       "array([ 10.,  11.,  12.,  13.,  14.,  15.,  16.,  17.,  18.,  19.], dtype=float32)"
      ]
     },
     "execution_count": 13,
     "metadata": {},
     "output_type": "execute_result"
    }
   ],
   "source": [
    "ten_twenty_range"
   ]
  },
  {
   "cell_type": "markdown",
   "metadata": {},
   "source": [
    "Now let's select the element with index 1. This is the **second** element!\n",
    "\n",
    "**NOTE**: As stated during the last lecture, indexing in numpy arrays starts at 0. This is why the index 1 is the second index of the array."
   ]
  },
  {
   "cell_type": "code",
   "execution_count": 14,
   "metadata": {},
   "outputs": [
    {
     "data": {
      "text/plain": [
       "11.0"
      ]
     },
     "execution_count": 14,
     "metadata": {},
     "output_type": "execute_result"
    }
   ],
   "source": [
    "ten_twenty_range[1]"
   ]
  },
  {
   "cell_type": "markdown",
   "metadata": {},
   "source": [
    "In the same way, we can select the **5th** element using index `4` :"
   ]
  },
  {
   "cell_type": "code",
   "execution_count": 15,
   "metadata": {},
   "outputs": [
    {
     "data": {
      "text/plain": [
       "14.0"
      ]
     },
     "execution_count": 15,
     "metadata": {},
     "output_type": "execute_result"
    }
   ],
   "source": [
    "ten_twenty_range[4]"
   ]
  },
  {
   "cell_type": "markdown",
   "metadata": {},
   "source": [
    "The above indices count the array entries from the **start of the array**. It is also possible to index from the **end of the array**. This is achieved by using negative integers as indices. The last element of the array has index  `-1`:"
   ]
  },
  {
   "cell_type": "code",
   "execution_count": 16,
   "metadata": {},
   "outputs": [
    {
     "data": {
      "text/plain": [
       "19.0"
      ]
     },
     "execution_count": 16,
     "metadata": {},
     "output_type": "execute_result"
    }
   ],
   "source": [
    "ten_twenty_range[-1]"
   ]
  },
  {
   "cell_type": "markdown",
   "metadata": {},
   "source": [
    "But we can also get several values if we present the indices that we want as a list, a tuple, or an array:"
   ]
  },
  {
   "cell_type": "code",
   "execution_count": 17,
   "metadata": {},
   "outputs": [
    {
     "data": {
      "text/plain": [
       "array([ 10.,  12.,  13.], dtype=float32)"
      ]
     },
     "execution_count": 17,
     "metadata": {},
     "output_type": "execute_result"
    }
   ],
   "source": [
    "indices = [0, 2, 3]\n",
    "ten_twenty_range[indices]"
   ]
  },
  {
   "cell_type": "markdown",
   "metadata": {},
   "source": [
    "Indices can be `list`s or `tuple`s or `array`s themselves. So we can use what we have learned about creating arrays to obtain sophisticated indexing arrays:"
   ]
  },
  {
   "cell_type": "code",
   "execution_count": 18,
   "metadata": {},
   "outputs": [
    {
     "data": {
      "text/plain": [
       "(array([1, 3, 5]), array([ 11.,  13.,  15.], dtype=float32))"
      ]
     },
     "execution_count": 18,
     "metadata": {},
     "output_type": "execute_result"
    }
   ],
   "source": [
    "indices = np.arange(1, 7, 2)\n",
    "indices, ten_twenty_range[indices]"
   ]
  },
  {
   "cell_type": "markdown",
   "metadata": {},
   "source": [
    "One of the strengths of indexing over other subsetting methods is that you can obtain multiple copies of the same data point by repeating the same index value.\n",
    "\n",
    "You can arbitrarily rearrange the data from the original array by placing the indices out of the original order.\n",
    "\n",
    "Lists of indices can be a mixture of positive and negative numbers to be able to index from both sides of the array.\n",
    "\n",
    "Because of these features, indexing always creates a **copy** of the original data array."
   ]
  },
  {
   "cell_type": "code",
   "execution_count": 19,
   "metadata": {},
   "outputs": [
    {
     "data": {
      "text/plain": [
       "array([ 11.,  13.,  11.,  11.,  12.,  12.,  19.,  18.,  17.], dtype=float32)"
      ]
     },
     "execution_count": 19,
     "metadata": {},
     "output_type": "execute_result"
    }
   ],
   "source": [
    "indices = [1, 3, 1, 1, 2, 2, -1, -2, -3]\n",
    "ten_twenty_range[indices]"
   ]
  },
  {
   "cell_type": "markdown",
   "metadata": {},
   "source": [
    "Indexing does not work on lists:"
   ]
  },
  {
   "cell_type": "code",
   "execution_count": 20,
   "metadata": {},
   "outputs": [
    {
     "data": {
      "text/plain": [
       "[10.0, 11.0, 12.0, 13.0, 14.0, 15.0, 16.0, 17.0, 18.0, 19.0]"
      ]
     },
     "execution_count": 20,
     "metadata": {},
     "output_type": "execute_result"
    }
   ],
   "source": [
    "ten_twenty_list = list(ten_twenty_range)\n",
    "ten_twenty_list"
   ]
  },
  {
   "cell_type": "code",
   "execution_count": 21,
   "metadata": {},
   "outputs": [
    {
     "ename": "TypeError",
     "evalue": "list indices must be integers or slices, not list",
     "output_type": "error",
     "traceback": [
      "\u001b[0;31m---------------------------------------------------------------------------\u001b[0m",
      "\u001b[0;31mTypeError\u001b[0m                                 Traceback (most recent call last)",
      "\u001b[0;32m<ipython-input-21-37dfa2cea877>\u001b[0m in \u001b[0;36m<module>\u001b[0;34m()\u001b[0m\n\u001b[0;32m----> 1\u001b[0;31m \u001b[0mten_twenty_list\u001b[0m\u001b[0;34m[\u001b[0m\u001b[0mindices\u001b[0m\u001b[0;34m]\u001b[0m\u001b[0;34m\u001b[0m\u001b[0m\n\u001b[0m",
      "\u001b[0;31mTypeError\u001b[0m: list indices must be integers or slices, not list"
     ]
    }
   ],
   "source": [
    "ten_twenty_list[indices]"
   ]
  },
  {
   "cell_type": "markdown",
   "metadata": {},
   "source": [
    "#### Assignment using indices\n",
    "We can also use indexing to assign values to arrays. We do this by indexing as above, then using the assignment operator `=` to set the values.\n",
    "\n",
    "Let's start a fresh array! Let's make an array of 10 zeros, and then set indices 1, 3 and 8 to 15"
   ]
  },
  {
   "cell_type": "code",
   "execution_count": 22,
   "metadata": {},
   "outputs": [
    {
     "name": "stdout",
     "output_type": "stream",
     "text": [
      "[ 0.  0.  0.  0.  0.  0.  0.  0.  0.  0.]\n",
      "[  0.  15.   0.  15.   0.   0.   0.   0.  15.   0.]\n"
     ]
    }
   ],
   "source": [
    "indexing_assign_arr = np.zeros(10)\n",
    "print(indexing_assign_arr)\n",
    "\n",
    "indexing_assign_arr[[1, 3, 8]] = 15\n",
    "print(indexing_assign_arr)"
   ]
  },
  {
   "cell_type": "markdown",
   "metadata": {},
   "source": [
    "Above we set all of the selected array entries to the same value. However, we can also set every one of the selected entries to a different value, by providing exactly as many values as we have chosen to index.\n",
    "\n",
    "Let's set indices 2, 4, 6, and 7 to 8, 9, 10, 11 respectively."
   ]
  },
  {
   "cell_type": "code",
   "execution_count": 23,
   "metadata": {},
   "outputs": [
    {
     "name": "stdout",
     "output_type": "stream",
     "text": [
      "[  0.  15.   8.  15.   9.   0.  10.  11.  15.   0.]\n"
     ]
    }
   ],
   "source": [
    "indexing_assign_arr[[2, 4, 6, 7]] = np.array((8, 9, 10, 11))\n",
    "print(indexing_assign_arr)"
   ]
  },
  {
   "cell_type": "markdown",
   "metadata": {},
   "source": [
    "It often happens that we would like to fill parts of an array with values from other parts of the array. For example, here we may want to fill indices `[0, 5, -1]` with the values from indices `[1, 2, 3]`. We can write this assignment as follows:"
   ]
  },
  {
   "cell_type": "code",
   "execution_count": 24,
   "metadata": {},
   "outputs": [
    {
     "name": "stdout",
     "output_type": "stream",
     "text": [
      "[ 15.  15.   8.  15.   9.   8.  10.  11.  15.  15.]\n"
     ]
    }
   ],
   "source": [
    "indexing_assign_arr[[0, 5, -1]] = indexing_assign_arr[[1, 2, 3]]\n",
    "print(indexing_assign_arr)"
   ]
  },
  {
   "cell_type": "markdown",
   "metadata": {},
   "source": [
    "#### Breakout session\n",
    "\n",
    "- Create a range from 100 to 200 in steps of 9, call it `breakout`, and print it.\n",
    "- Using indexing, extract the last element and print it\n",
    "- Using indexing, extract the second element and print it\n",
    "- Using indexing, extract the second to last, the first, and the element with index 5 three times in a row. (**HINT:** The result should have five entries)\n",
    "- Assign the value `999` to the elements with indices `1, 3, 2, -1` of the `breakout` array.\n",
    "- Use `np.arange()` to create a range of indices from 5 to 9, and set the elements to which those indices refer to a range from 500 to 900 with steps of 100.\n",
    "- Extra credit (not really): swap the first and last elements of the array."
   ]
  },
  {
   "cell_type": "code",
   "execution_count": 25,
   "metadata": {},
   "outputs": [
    {
     "name": "stdout",
     "output_type": "stream",
     "text": [
      "[100 109 118 127 136 145 154 163 172 181 190 199]\n",
      "199\n",
      "109\n",
      "[190 100 145 145 145]\n",
      "[100 999 999 999 136 145 154 163 172 181 190 999]\n",
      "[100 999 999 999 136 500 600 700 800 181 190 999]\n",
      "[999 999 999 999 136 500 600 700 800 181 190 100]\n",
      "[100 999 999 999 136 500 600 700 800 181 190 999]\n",
      "[999 999 999 999 136 500 600 700 800 181 190 100]\n"
     ]
    }
   ],
   "source": [
    "### Student Answer\n",
    "breakout = np.arange(100, 200, 9)\n",
    "print(breakout)\n",
    "\n",
    "print(breakout[-1])\n",
    "\n",
    "print(breakout[1])\n",
    "\n",
    "print(breakout[[-2, 0, 5, 5, 5]])\n",
    "\n",
    "breakout[[1, 3, 2, -1]] = 999\n",
    "print(breakout)\n",
    "\n",
    "indices = np.arange(5, 9)\n",
    "breakout[indices] = np.arange(500, 900, 100)\n",
    "print(breakout)\n",
    "\n",
    "tmp = breakout[0]\n",
    "breakout[0] = breakout[-1]\n",
    "breakout[-1] = tmp\n",
    "print(breakout)\n",
    "\n",
    "breakout[[0, -1]] = breakout[[-1, 0]]\n",
    "print(breakout)\n",
    "\n",
    "breakout[0], breakout[-1] = breakout[-1], breakout[0]\n",
    "print(breakout)"
   ]
  },
  {
   "cell_type": "markdown",
   "metadata": {},
   "source": [
    "<a id='Slicing'></a>\n",
    "## Slicing\n",
    "\n",
    "Array slicing is a technique to select parts of an array. They have a starting point and an end point. One can also specify a step size.\n",
    "\n",
    "**Array slicing** is done using a combination of the `[]` operators (pronounced **square brackets**) along with numbers and the `:` operator (pronounced **colon**). To get a slice from a 1-D array, you add the **square brackets** after the **name**. You then indicate which values you want from the data, using a combination of number(s) and/or the `:`. Here is a simple example to get a continuous range: "
   ]
  },
  {
   "cell_type": "markdown",
   "metadata": {},
   "source": [
    "Remember `ten_twenty_range`? Let's take a look at it again, along with its shape:"
   ]
  },
  {
   "cell_type": "code",
   "execution_count": 26,
   "metadata": {},
   "outputs": [
    {
     "data": {
      "text/plain": [
       "((10,),\n",
       " array([ 10.,  11.,  12.,  13.,  14.,  15.,  16.,  17.,  18.,  19.], dtype=float32))"
      ]
     },
     "execution_count": 26,
     "metadata": {},
     "output_type": "execute_result"
    }
   ],
   "source": [
    "ten_twenty_range.shape, ten_twenty_range"
   ]
  },
  {
   "cell_type": "markdown",
   "metadata": {},
   "source": [
    "Now let's begin by slicing values 3 to 6. This will return the elements from the 4th up to, but not including the 7th position of the array."
   ]
  },
  {
   "cell_type": "code",
   "execution_count": 27,
   "metadata": {},
   "outputs": [
    {
     "data": {
      "text/plain": [
       "array([ 13.,  14.,  15.], dtype=float32)"
      ]
     },
     "execution_count": 27,
     "metadata": {},
     "output_type": "execute_result"
    }
   ],
   "source": [
    "ten_twenty_range[3:6]"
   ]
  },
  {
   "cell_type": "markdown",
   "metadata": {},
   "source": [
    "An important thing to note is that the right-hand side of a slice, here 6, is **excluded** from the slice, so we don't see the element with the index 6, here 16. The left-hand side is always **included**.\n",
    "\n",
    "This is exactly the same behavior that `np.arange` has.\n",
    "\n",
    "How to think about this: If you use `3:6` as slice parameters, you will get `6 - 3 = 3` elements!\n",
    "\n",
    "Let's select the first five elements of the array `ten_twenty_range`, by using the slice `0:5`."
   ]
  },
  {
   "cell_type": "code",
   "execution_count": 28,
   "metadata": {},
   "outputs": [
    {
     "data": {
      "text/plain": [
       "array([ 10.,  11.,  12.,  13.,  14.], dtype=float32)"
      ]
     },
     "execution_count": 28,
     "metadata": {},
     "output_type": "execute_result"
    }
   ],
   "source": [
    "ten_twenty_range[0:5]"
   ]
  },
  {
   "cell_type": "markdown",
   "metadata": {},
   "source": [
    "Question: How do we select the other half of the array, if the right-hand side index is exclusive?\n",
    "\n",
    "We might think that because the index `10` is out of bounds if used in indexing, that we cannot use it here, either."
   ]
  },
  {
   "cell_type": "code",
   "execution_count": 29,
   "metadata": {},
   "outputs": [
    {
     "ename": "IndexError",
     "evalue": "index 10 is out of bounds for axis 0 with size 10",
     "output_type": "error",
     "traceback": [
      "\u001b[0;31m---------------------------------------------------------------------------\u001b[0m",
      "\u001b[0;31mIndexError\u001b[0m                                Traceback (most recent call last)",
      "\u001b[0;32m<ipython-input-29-aa21b07d7283>\u001b[0m in \u001b[0;36m<module>\u001b[0;34m()\u001b[0m\n\u001b[0;32m----> 1\u001b[0;31m \u001b[0mten_twenty_range\u001b[0m\u001b[0;34m[\u001b[0m\u001b[0;36m10\u001b[0m\u001b[0;34m]\u001b[0m \u001b[0;31m# index 10 is out of bounds\u001b[0m\u001b[0;34m\u001b[0m\u001b[0m\n\u001b[0m",
      "\u001b[0;31mIndexError\u001b[0m: index 10 is out of bounds for axis 0 with size 10"
     ]
    }
   ],
   "source": [
    "ten_twenty_range[10] # index 10 is out of bounds"
   ]
  },
  {
   "cell_type": "markdown",
   "metadata": {},
   "source": [
    "But since slicing is *exclusive* on the endpoint, we *can* use 10 here. In fact, if we used 9, we would end up one value short! (Because `9 - 5 = 4`!)"
   ]
  },
  {
   "cell_type": "code",
   "execution_count": 30,
   "metadata": {},
   "outputs": [
    {
     "data": {
      "text/plain": [
       "array([ 15.,  16.,  17.,  18.], dtype=float32)"
      ]
     },
     "execution_count": 30,
     "metadata": {},
     "output_type": "execute_result"
    }
   ],
   "source": [
    "ten_twenty_range[5:9] # there is one missing"
   ]
  },
  {
   "cell_type": "code",
   "execution_count": 31,
   "metadata": {},
   "outputs": [
    {
     "data": {
      "text/plain": [
       "array([ 15.,  16.,  17.,  18.,  19.], dtype=float32)"
      ]
     },
     "execution_count": 31,
     "metadata": {},
     "output_type": "execute_result"
    }
   ],
   "source": [
    "ten_twenty_range[5:10] # here we get all of them"
   ]
  },
  {
   "cell_type": "markdown",
   "metadata": {},
   "source": [
    "What if we didn't know how many elements there are left, and would just like to have all the array elements, starting from index 5?"
   ]
  },
  {
   "cell_type": "code",
   "execution_count": 32,
   "metadata": {},
   "outputs": [
    {
     "data": {
      "text/plain": [
       "array([ 15.,  16.,  17.,  18.,  19.], dtype=float32)"
      ]
     },
     "execution_count": 32,
     "metadata": {},
     "output_type": "execute_result"
    }
   ],
   "source": [
    "ten_twenty_range[5:None]"
   ]
  },
  {
   "cell_type": "markdown",
   "metadata": {},
   "source": [
    "An abbreviation for this, which we shall adopt, is to simply omit `None`, because it is the default value:"
   ]
  },
  {
   "cell_type": "code",
   "execution_count": 33,
   "metadata": {},
   "outputs": [
    {
     "data": {
      "text/plain": [
       "array([ 15.,  16.,  17.,  18.,  19.], dtype=float32)"
      ]
     },
     "execution_count": 33,
     "metadata": {},
     "output_type": "execute_result"
    }
   ],
   "source": [
    "ten_twenty_range[5:]"
   ]
  },
  {
   "cell_type": "markdown",
   "metadata": {},
   "source": [
    "We can also use the same abbreviation to start from the beginning:"
   ]
  },
  {
   "cell_type": "code",
   "execution_count": 34,
   "metadata": {},
   "outputs": [
    {
     "data": {
      "text/plain": [
       "array([ 10.,  11.,  12.,  13.,  14.], dtype=float32)"
      ]
     },
     "execution_count": 34,
     "metadata": {},
     "output_type": "execute_result"
    }
   ],
   "source": [
    "ten_twenty_range[0:5]"
   ]
  },
  {
   "cell_type": "code",
   "execution_count": 35,
   "metadata": {},
   "outputs": [
    {
     "data": {
      "text/plain": [
       "array([ 10.,  11.,  12.,  13.,  14.], dtype=float32)"
      ]
     },
     "execution_count": 35,
     "metadata": {},
     "output_type": "execute_result"
    }
   ],
   "source": [
    "ten_twenty_range[None:5]"
   ]
  },
  {
   "cell_type": "markdown",
   "metadata": {},
   "source": [
    "is the same as"
   ]
  },
  {
   "cell_type": "code",
   "execution_count": 36,
   "metadata": {},
   "outputs": [
    {
     "data": {
      "text/plain": [
       "array([ 10.,  11.,  12.,  13.,  14.], dtype=float32)"
      ]
     },
     "execution_count": 36,
     "metadata": {},
     "output_type": "execute_result"
    }
   ],
   "source": [
    "ten_twenty_range[:5]"
   ]
  },
  {
   "cell_type": "markdown",
   "metadata": {},
   "source": [
    "What if we don't know the length of the array, but we would like to extract a subset of the array, starting at the beginning and going to the second to last element?\n",
    "\n",
    "Like with **indexing**, we can use **negative numbers in slices**."
   ]
  },
  {
   "cell_type": "code",
   "execution_count": 37,
   "metadata": {},
   "outputs": [
    {
     "data": {
      "text/plain": [
       "array([ 10.,  11.,  12.,  13.,  14.,  15.,  16.,  17.], dtype=float32)"
      ]
     },
     "execution_count": 37,
     "metadata": {},
     "output_type": "execute_result"
    }
   ],
   "source": [
    "ten_twenty_range[:-2]"
   ]
  },
  {
   "cell_type": "markdown",
   "metadata": {},
   "source": [
    "**Note**: The `-2` here is with respect to the total length of the array. So it will evaluate to `10 - 2 = 8`. We can confirm this by indexing up to `8`. "
   ]
  },
  {
   "cell_type": "code",
   "execution_count": 38,
   "metadata": {},
   "outputs": [
    {
     "data": {
      "text/plain": [
       "array([ 10.,  11.,  12.,  13.,  14.,  15.,  16.,  17.], dtype=float32)"
      ]
     },
     "execution_count": 38,
     "metadata": {},
     "output_type": "execute_result"
    }
   ],
   "source": [
    "ten_twenty_range[:8]"
   ]
  },
  {
   "cell_type": "markdown",
   "metadata": {},
   "source": [
    "#### Slicing with step size different from 1\n",
    "In general, slicing parameters are `start:stop:step`. We have just learned about `start` and `stop` for slicing. In order to complete our understanding, let's take a look at how to use `step` works in slicing. `step` in slicing is analogous to the third value we pass into `np.arange` when creating ranges. \n",
    "\n",
    "\n",
    "`step` gives us the possibility of specifying how we would like to walk through the array. For example, what if we wanted to have every third element from 2 to 8? Then we could write:"
   ]
  },
  {
   "cell_type": "code",
   "execution_count": 39,
   "metadata": {},
   "outputs": [
    {
     "data": {
      "text/plain": [
       "array([ 12.,  15.], dtype=float32)"
      ]
     },
     "execution_count": 39,
     "metadata": {},
     "output_type": "execute_result"
    }
   ],
   "source": [
    "ten_twenty_range[2:8:3]"
   ]
  },
  {
   "cell_type": "markdown",
   "metadata": {},
   "source": [
    "What if we wanted every third element of the array, starting at 1? Using `None` as above to omit the stopping point (and thus go to the end), we can write"
   ]
  },
  {
   "cell_type": "code",
   "execution_count": 40,
   "metadata": {},
   "outputs": [
    {
     "data": {
      "text/plain": [
       "array([ 11.,  14.,  17.], dtype=float32)"
      ]
     },
     "execution_count": 40,
     "metadata": {},
     "output_type": "execute_result"
    }
   ],
   "source": [
    "ten_twenty_range[1:None:3]"
   ]
  },
  {
   "cell_type": "markdown",
   "metadata": {},
   "source": [
    "or, abbreviated:"
   ]
  },
  {
   "cell_type": "code",
   "execution_count": 41,
   "metadata": {},
   "outputs": [
    {
     "data": {
      "text/plain": [
       "array([ 11.,  14.,  17.], dtype=float32)"
      ]
     },
     "execution_count": 41,
     "metadata": {},
     "output_type": "execute_result"
    }
   ],
   "source": [
    "ten_twenty_range[1::3]"
   ]
  },
  {
   "cell_type": "markdown",
   "metadata": {},
   "source": [
    "For every third element starting at 0, we could abbreviate even more:"
   ]
  },
  {
   "cell_type": "code",
   "execution_count": 42,
   "metadata": {},
   "outputs": [
    {
     "data": {
      "text/plain": [
       "array([ 10.,  13.,  16.,  19.], dtype=float32)"
      ]
     },
     "execution_count": 42,
     "metadata": {},
     "output_type": "execute_result"
    }
   ],
   "source": [
    "ten_twenty_range[::3]"
   ]
  },
  {
   "cell_type": "markdown",
   "metadata": {},
   "source": [
    "What if we put a **negative step**? We can then traverse the array backwards!"
   ]
  },
  {
   "cell_type": "code",
   "execution_count": 43,
   "metadata": {},
   "outputs": [
    {
     "data": {
      "text/plain": [
       "array([], dtype=float32)"
      ]
     },
     "execution_count": 43,
     "metadata": {},
     "output_type": "execute_result"
    }
   ],
   "source": [
    "ten_twenty_range[2:8:-1]"
   ]
  },
  {
   "cell_type": "markdown",
   "metadata": {},
   "source": [
    "Huh, that didn't work as we might expect, we created an empty array! The result is empty because we chose the starting point to be before the end point, and then had a negative step, which goes backwards. If we want to go from index 8 to index 2 backwards, we need to make 8 the starting point and 2 the end point."
   ]
  },
  {
   "cell_type": "code",
   "execution_count": 44,
   "metadata": {},
   "outputs": [
    {
     "data": {
      "text/plain": [
       "array([ 18.,  17.,  16.,  15.,  14.,  13.], dtype=float32)"
      ]
     },
     "execution_count": 44,
     "metadata": {},
     "output_type": "execute_result"
    }
   ],
   "source": [
    "ten_twenty_range[8:2:-1]"
   ]
  },
  {
   "cell_type": "markdown",
   "metadata": {},
   "source": [
    "Let's start at 8 and go to the beginning:"
   ]
  },
  {
   "cell_type": "code",
   "execution_count": 45,
   "metadata": {},
   "outputs": [
    {
     "data": {
      "text/plain": [
       "array([ 18.,  17.,  16.,  15.,  14.,  13.,  12.,  11.,  10.], dtype=float32)"
      ]
     },
     "execution_count": 45,
     "metadata": {},
     "output_type": "execute_result"
    }
   ],
   "source": [
    "ten_twenty_range[8:None:-1]"
   ]
  },
  {
   "cell_type": "markdown",
   "metadata": {},
   "source": [
    "Abbreviated:"
   ]
  },
  {
   "cell_type": "code",
   "execution_count": 46,
   "metadata": {},
   "outputs": [
    {
     "data": {
      "text/plain": [
       "array([ 18.,  17.,  16.,  15.,  14.,  13.,  12.,  11.,  10.], dtype=float32)"
      ]
     },
     "execution_count": 46,
     "metadata": {},
     "output_type": "execute_result"
    }
   ],
   "source": [
    "ten_twenty_range[8::-1]"
   ]
  },
  {
   "cell_type": "markdown",
   "metadata": {},
   "source": [
    "#### Assigning using slicing"
   ]
  },
  {
   "cell_type": "markdown",
   "metadata": {},
   "source": [
    "Now let's created another array of zeros and use slicing to assign values to it"
   ]
  },
  {
   "cell_type": "code",
   "execution_count": 47,
   "metadata": {},
   "outputs": [
    {
     "name": "stdout",
     "output_type": "stream",
     "text": [
      "[ 0.  0.  0.  0.  0.  0.  0.  0.  0.  0.]\n"
     ]
    }
   ],
   "source": [
    "slicing_assign_arr = np.zeros(10)\n",
    "print(slicing_assign_arr)"
   ]
  },
  {
   "cell_type": "markdown",
   "metadata": {},
   "source": [
    "First let's assign the value 10 to every 5th element, starting at the first one (Index 0)."
   ]
  },
  {
   "cell_type": "code",
   "execution_count": 48,
   "metadata": {},
   "outputs": [
    {
     "data": {
      "text/plain": [
       "array([ 0.,  0.])"
      ]
     },
     "execution_count": 48,
     "metadata": {},
     "output_type": "execute_result"
    }
   ],
   "source": [
    "slicing_assign_arr[::5]"
   ]
  },
  {
   "cell_type": "code",
   "execution_count": 49,
   "metadata": {},
   "outputs": [
    {
     "name": "stdout",
     "output_type": "stream",
     "text": [
      "[ 10.   0.   0.   0.   0.  10.   0.   0.   0.   0.]\n"
     ]
    }
   ],
   "source": [
    "slicing_assign_arr[::5] = 10\n",
    "print(slicing_assign_arr)"
   ]
  },
  {
   "cell_type": "markdown",
   "metadata": {},
   "source": [
    "Now let's assign increasing values to the even indices of the array. This is a bit confusing, since indices begin with 0 in Python, the even indices refer to the odd entries of the array. So for example, indices 0,2,4,6,8 refer to the 1st, 3rd, 5th, 7th and 9th elements. In this class we will always refer to the indices being even or odd, NOT the entries of the array."
   ]
  },
  {
   "cell_type": "code",
   "execution_count": 50,
   "metadata": {},
   "outputs": [
    {
     "data": {
      "text/plain": [
       "array([ 10.,   0.,   0.,   0.,   0.])"
      ]
     },
     "execution_count": 50,
     "metadata": {},
     "output_type": "execute_result"
    }
   ],
   "source": [
    "slicing_assign_arr[::2]"
   ]
  },
  {
   "cell_type": "code",
   "execution_count": 51,
   "metadata": {},
   "outputs": [
    {
     "name": "stdout",
     "output_type": "stream",
     "text": [
      "[  0.   0.   1.   0.   2.  10.   3.   0.   4.   0.]\n"
     ]
    }
   ],
   "source": [
    "slicing_assign_arr[::2] = np.arange(5)\n",
    "print(slicing_assign_arr)"
   ]
  },
  {
   "cell_type": "markdown",
   "metadata": {},
   "source": [
    "Now let's set all the odd indices to the value of 25. "
   ]
  },
  {
   "cell_type": "code",
   "execution_count": 52,
   "metadata": {},
   "outputs": [
    {
     "data": {
      "text/plain": [
       "array([  0.,   0.,  10.,   0.,   0.])"
      ]
     },
     "execution_count": 52,
     "metadata": {},
     "output_type": "execute_result"
    }
   ],
   "source": [
    "slicing_assign_arr[1::2]"
   ]
  },
  {
   "cell_type": "code",
   "execution_count": 53,
   "metadata": {},
   "outputs": [
    {
     "name": "stdout",
     "output_type": "stream",
     "text": [
      "[  0.  25.   1.  25.   2.  25.   3.  25.   4.  25.]\n"
     ]
    }
   ],
   "source": [
    "slicing_assign_arr[1::2] = 25\n",
    "print(slicing_assign_arr)"
   ]
  },
  {
   "cell_type": "markdown",
   "metadata": {},
   "source": [
    "#### Breakout session\n",
    "\n",
    "- Create a range from 20 to 40 in steps of 2, call it `breakout_slicing`, and print it.\n",
    "- Using slicing, extract the even elements from `breakout_slicing` and print them\n",
    "- Using slicing, extract the odd elements from `breakout_slicing` and print them\n",
    "- Using slicing, extract the first half of the elements from `breakout_slicing` and print them. **HINT** you can use the function `len` to find the length of a 1-D array, list or tuple. The first half is just the length divided by 2.\n",
    "- Using slicing, extract the last 3 elements from `breakout_slicing` and print them\n",
    "- Assign the value `42` to the elements with indices divisible by 3.\n",
    "- Use `np.arange()` to create a range of values from -1 to -7 inclusive, and store them into the last 7 elements of the array."
   ]
  },
  {
   "cell_type": "code",
   "execution_count": 54,
   "metadata": {},
   "outputs": [
    {
     "name": "stdout",
     "output_type": "stream",
     "text": [
      "[20 22 24 26 28 30 32 34 36 38]\n",
      "[20 24 28 32 36]\n",
      "[22 26 30 34 38]\n",
      "[20 22 24 26 28]\n",
      "[20 22 24 26 28]\n",
      "[34 36 38]\n",
      "[42 22 24 42 28 30 42 34 36 42]\n",
      "[42 22 24 -1 -2 -3 -4 -5 -6 -7]\n"
     ]
    }
   ],
   "source": [
    "### Student answer\n",
    "breakout_slicing = np.arange(20, 40, 2)\n",
    "print(breakout_slicing)\n",
    "\n",
    "print(breakout_slicing[::2])\n",
    "print(breakout_slicing[1::2])\n",
    "print(breakout_slicing[:5])\n",
    "print(breakout_slicing[:len(breakout_slicing) // 2])\n",
    "print(breakout_slicing[-3:])\n",
    "breakout_slicing[::3] = 42\n",
    "print(breakout_slicing)\n",
    "breakout_slicing[-7:] = np.arange(-1, -8, -1)\n",
    "#breakout_slicing[:-8:-1] = np.arange(-7, 0)\n",
    "print(breakout_slicing)"
   ]
  },
  {
   "cell_type": "code",
   "execution_count": 55,
   "metadata": {},
   "outputs": [
    {
     "data": {
      "text/plain": [
       "array([-1, -2, -3, -4, -5, -6, -7])"
      ]
     },
     "execution_count": 55,
     "metadata": {},
     "output_type": "execute_result"
    }
   ],
   "source": [
    "np.arange(-1, -8, -1)"
   ]
  },
  {
   "cell_type": "markdown",
   "metadata": {},
   "source": [
    "## Summary: Slicing versus Indexing\n",
    "\n",
    "Both slicing and indexing can be used to retrieve and write to subsets of an array, but there are some big differences between the two. Here's a list of the biggest differences:\n",
    "\n",
    "- Indexing returns a copy of the data, while slicing returns a **view** on the original data. Thus, modifying the array output of slicing modifies the original data, while modifying the array ouput of indexing just modifies the copy."
   ]
  },
  {
   "cell_type": "code",
   "execution_count": 56,
   "metadata": {},
   "outputs": [
    {
     "name": "stdout",
     "output_type": "stream",
     "text": [
      "[0 1 2 3 4 5 6 7 8 9]\n",
      "[0 1 2 3 4 5 6 7 8 9]\n",
      "[10 10 10]\n"
     ]
    }
   ],
   "source": [
    "# create an array\n",
    "a=np.arange(10)\n",
    "print(a)\n",
    "# use indexing to get the first 3 values\n",
    "b = a[[0,1,2]]\n",
    "b[:] = 10\n",
    "print(a)\n",
    "print(b)"
   ]
  },
  {
   "cell_type": "code",
   "execution_count": 57,
   "metadata": {},
   "outputs": [
    {
     "name": "stdout",
     "output_type": "stream",
     "text": [
      "[10 10 10  3  4  5  6  7  8  9]\n",
      "[10 10 10]\n"
     ]
    }
   ],
   "source": [
    "# now use slicing to get a \"view\" and modify that\n",
    "c=a[:3]\n",
    "c[:] = 10\n",
    "print(a)\n",
    "print(c)"
   ]
  },
  {
   "cell_type": "markdown",
   "metadata": {},
   "source": [
    "- Indexing can retrieve multiple copies of the same element into the output array, while slicing always retrieves just one copy of the selected elements."
   ]
  },
  {
   "cell_type": "code",
   "execution_count": 58,
   "metadata": {},
   "outputs": [
    {
     "name": "stdout",
     "output_type": "stream",
     "text": [
      "[0 1 2 3 4 5 6 7 8 9]\n",
      "[2 2 2 2]\n"
     ]
    }
   ],
   "source": [
    "a = np.arange(10)\n",
    "b = a[[2,2,2,2]]\n",
    "print(a)\n",
    "print(b)"
   ]
  },
  {
   "cell_type": "markdown",
   "metadata": {},
   "source": [
    "- Slicing always retrieves elements with a regular step size, while indexing doesn't have to have any pattern at all."
   ]
  },
  {
   "cell_type": "code",
   "execution_count": 59,
   "metadata": {},
   "outputs": [
    {
     "name": "stdout",
     "output_type": "stream",
     "text": [
      "[0 1 2 3 4 5 6 7 8 9]\n",
      "[8 4 7 1 2]\n",
      "[0 2 4]\n"
     ]
    }
   ],
   "source": [
    "a = np.arange(10)\n",
    "b = a[[8,4,7,1,2]]\n",
    "c = a[:6:2]\n",
    "print(a)\n",
    "print(b)\n",
    "print(c)"
   ]
  },
  {
   "cell_type": "markdown",
   "metadata": {},
   "source": [
    "<a id='Descriptive_Statistics'></a>\n",
    "## Descriptive Statistics of the fMRI data\n",
    "\n",
    "When dealing with a dataset, there are certain values we can look for that give us a summary of the dataset, or what it \"looks\" like. \n",
    "\n",
    "For example, let's say you are a scientist on a spaceship that is exploring an alien planet, and you discover a new life form. The first thing you might want to do is to measure the height of a number of specimens that you find (say 100 of them). If you wanted to convey to someone back home the size of these creatures, you might think to describe several things about their heights:\n",
    "- The shortest one you found.\n",
    "- The tallest one you found.\n",
    "- The average height of all of them.\n",
    "\n",
    "And so on. These kinds of values that we can calculate from a dataset are called **descriptive statistics**, and are a powerful way to get an idea of what your data \"looks\" like with just a few numbers. You will learn more about these in later Data 8 lectures, but it is useful for our purposes in this connector to discuss these now."
   ]
  },
  {
   "cell_type": "markdown",
   "metadata": {},
   "source": [
    "Before we calculate some descriptive statistics, let's first grab a sample voxel time series that we can summarize, and later visualize. To do that, we'll use `slicing` on the fMRI data that we loaded at the beginning of class. This is a bit of foreshadowing some of the ways we'll use `slicing` with fMRI data. We'll learn more about this in a couple of lectures, so don't worry about the details for now."
   ]
  },
  {
   "cell_type": "code",
   "execution_count": 60,
   "metadata": {
    "collapsed": true
   },
   "outputs": [],
   "source": [
    "timeseries = data[:, 6, 57, 37]"
   ]
  },
  {
   "cell_type": "markdown",
   "metadata": {},
   "source": [
    "Using the analogy of the shortest alien above, let's see how to find the smallest fMRI value in our time series using the `np.min()` function:"
   ]
  },
  {
   "cell_type": "code",
   "execution_count": 61,
   "metadata": {},
   "outputs": [
    {
     "name": "stdout",
     "output_type": "stream",
     "text": [
      "The minimum value of the timeseries data is: 406.285\n"
     ]
    }
   ],
   "source": [
    "timeseries_min = np.min(timeseries)\n",
    "print('The minimum value of the timeseries data is:', timeseries_min)"
   ]
  },
  {
   "cell_type": "markdown",
   "metadata": {},
   "source": [
    "Sometimes it's useful to get a summary of only a subset of an array. For example, when collecting fMRI data the scanner takes several seconds before it reaches something close to an equilibrium state. You can think of this as a \"warming up\" period. As such, the first few TRs from a scan (aka run) are often discarded. Let's use slicing to discard the first 5 TRs, and then find the average of the remaining data with `np.mean`."
   ]
  },
  {
   "cell_type": "code",
   "execution_count": 62,
   "metadata": {},
   "outputs": [
    {
     "name": "stdout",
     "output_type": "stream",
     "text": [
      "430.619\n"
     ]
    }
   ],
   "source": [
    "timeseries_mean_no5 = np.mean(timeseries[5:])\n",
    "print(timeseries_mean_no5)"
   ]
  },
  {
   "cell_type": "markdown",
   "metadata": {},
   "source": [
    "Now just to illustrate what can be done with indexing, let's index this timeseries, but get the 10th element 100 times in a row. Then take the mean of this new array. What do you think the mean of this new array will be?\n",
    "\n",
    "First, let's create the indices, which should be a list containing 10 repeated 100 times. There is a simple way to do this in Python. Simply create a list that contains one 10, and then multiply it by 100, which will create a new list that adds the original list (of a single 10) together 100 times."
   ]
  },
  {
   "cell_type": "code",
   "execution_count": 63,
   "metadata": {},
   "outputs": [
    {
     "name": "stdout",
     "output_type": "stream",
     "text": [
      "[10, 10, 10, 10, 10, 10, 10, 10, 10, 10, 10, 10, 10, 10, 10, 10, 10, 10, 10, 10, 10, 10, 10, 10, 10, 10, 10, 10, 10, 10, 10, 10, 10, 10, 10, 10, 10, 10, 10, 10, 10, 10, 10, 10, 10, 10, 10, 10, 10, 10, 10, 10, 10, 10, 10, 10, 10, 10, 10, 10, 10, 10, 10, 10, 10, 10, 10, 10, 10, 10, 10, 10, 10, 10, 10, 10, 10, 10, 10, 10, 10, 10, 10, 10, 10, 10, 10, 10, 10, 10, 10, 10, 10, 10, 10, 10, 10, 10, 10, 10]\n"
     ]
    }
   ],
   "source": [
    "indices_10s = [10] * 100\n",
    "print(indices_10s)"
   ]
  },
  {
   "cell_type": "markdown",
   "metadata": {},
   "source": [
    "Now let's use that list of indices and find the mean..."
   ]
  },
  {
   "cell_type": "code",
   "execution_count": 64,
   "metadata": {},
   "outputs": [
    {
     "name": "stdout",
     "output_type": "stream",
     "text": [
      "[ 440.76586914  440.76586914  440.76586914  440.76586914  440.76586914\n",
      "  440.76586914  440.76586914  440.76586914  440.76586914  440.76586914\n",
      "  440.76586914  440.76586914  440.76586914  440.76586914  440.76586914\n",
      "  440.76586914  440.76586914  440.76586914  440.76586914  440.76586914\n",
      "  440.76586914  440.76586914  440.76586914  440.76586914  440.76586914\n",
      "  440.76586914  440.76586914  440.76586914  440.76586914  440.76586914\n",
      "  440.76586914  440.76586914  440.76586914  440.76586914  440.76586914\n",
      "  440.76586914  440.76586914  440.76586914  440.76586914  440.76586914\n",
      "  440.76586914  440.76586914  440.76586914  440.76586914  440.76586914\n",
      "  440.76586914  440.76586914  440.76586914  440.76586914  440.76586914\n",
      "  440.76586914  440.76586914  440.76586914  440.76586914  440.76586914\n",
      "  440.76586914  440.76586914  440.76586914  440.76586914  440.76586914\n",
      "  440.76586914  440.76586914  440.76586914  440.76586914  440.76586914\n",
      "  440.76586914  440.76586914  440.76586914  440.76586914  440.76586914\n",
      "  440.76586914  440.76586914  440.76586914  440.76586914  440.76586914\n",
      "  440.76586914  440.76586914  440.76586914  440.76586914  440.76586914\n",
      "  440.76586914  440.76586914  440.76586914  440.76586914  440.76586914\n",
      "  440.76586914  440.76586914  440.76586914  440.76586914  440.76586914\n",
      "  440.76586914  440.76586914  440.76586914  440.76586914  440.76586914\n",
      "  440.76586914  440.76586914  440.76586914  440.76586914  440.76586914]\n"
     ]
    }
   ],
   "source": [
    "timeseries_10_100times = timeseries[indices_10s]\n",
    "print(timeseries_10_100times)"
   ]
  },
  {
   "cell_type": "code",
   "execution_count": 65,
   "metadata": {},
   "outputs": [
    {
     "name": "stdout",
     "output_type": "stream",
     "text": [
      "440.766\n"
     ]
    }
   ],
   "source": [
    "timeseries_10_100times_mean = np.mean(timeseries_10_100times)\n",
    "print(timeseries_10_100times_mean)"
   ]
  },
  {
   "cell_type": "markdown",
   "metadata": {},
   "source": [
    "#### Breakout Session\n",
    "\n",
    "Now try to create some other descriptive statistics of our timeseries data.\n",
    "\n",
    "- Using np.max, print the maximum value of the timeseries.\n",
    "- Using np.median, print the middle value of the timeseries. \n",
    "- Using np.max, print the maximum value of the first half of the timeseries. **HINT** Remember the `len` function!\n",
    "- Using np.median, print the middle value of the first half of the timeseries. \n",
    "- Using np.max, print the maximum value of the second half of the timeseries.\n",
    "- Using np.median, print the middle value of the second half of the timeseries. "
   ]
  },
  {
   "cell_type": "code",
   "execution_count": 66,
   "metadata": {
    "scrolled": false
   },
   "outputs": [
    {
     "name": "stdout",
     "output_type": "stream",
     "text": [
      "458.919\n",
      "431.045\n",
      "452.182\n",
      "428.569\n",
      "458.919\n",
      "432.797\n"
     ]
    }
   ],
   "source": [
    "### STUDENT ANSWER\n",
    "print(np.max(timeseries))\n",
    "print(np.median(timeseries))\n",
    "print(np.max(timeseries[:len(timeseries) // 2]))\n",
    "print(np.median(timeseries[:len(timeseries) // 2]))\n",
    "print(np.max(timeseries[len(timeseries) // 2:]))\n",
    "print(np.median(timeseries[len(timeseries) // 2:]))"
   ]
  },
  {
   "cell_type": "markdown",
   "metadata": {},
   "source": [
    "# 1D Array (Time Series) Visualization\n",
    "\n",
    "A useful way of inspecting arrays is to use our eyes. A good visualization of data in general will allow us to assess its contents easily. The type of visualization will strongly depend on what data the array represents, but also what aspect of the data is of interest to the scientist. Here we will introduce three simple types of data visualization for 1-D arrays:\n",
    "\n",
    "1. **Line plots** These are plots of simple lines which show how the values of an array change as the index increases. These are useful when plotting *similar ordered* data, such as a time series.\n",
    "\n",
    "2. **Histograms** These plots give frequencies (or counts) of the values in your array, broken into ranges of values. They are useful when plotting data that represents *similar* measurements, whether they are *ordered* or *unordered*. We'll also use these to summarize time series data now, and for other purposes later in the course.\n",
    "\n",
    "3. **Bar plots** These plots look very similar to histograms, but are used to plot the magnitude of a set of values, one at a time. These are useful when plotting data that represents *dissimilar* measurements, such as how much a voxel responds to different types of stimuli. We'll use these later in the course when plotting results of statistical analyses.\n",
    "\n",
    "Now let's start by telling the Jupyter notebook to print all the plots *inline*, meaning plot them directly into the notebook, and note into separate window. Then let's import the module we'll be using for making all of these plots, called `matplotlib`."
   ]
  },
  {
   "cell_type": "code",
   "execution_count": 67,
   "metadata": {
    "collapsed": true
   },
   "outputs": [],
   "source": [
    "%matplotlib inline \n",
    "import matplotlib.pyplot as plt"
   ]
  },
  {
   "cell_type": "markdown",
   "metadata": {},
   "source": [
    "<a id='Line_Plots'></a>\n",
    "## Line plots\n",
    "\n",
    "Line plots are used to display the relationship between the values of a 1-D array, and the indices of that 1-D array. They can also be used to plot the relationship between two 1-D arrays. They are plotted by drawing a line from point to point of your original data, in an increasing order. \n",
    "\n",
    "Let's create some line plots by using the array we created above, which we'll interpret as being an ordered array. Let's remind ourselves what's contained in that array:"
   ]
  },
  {
   "cell_type": "code",
   "execution_count": 68,
   "metadata": {},
   "outputs": [
    {
     "data": {
      "text/plain": [
       "array([ 10.,  11.,  12.,  13.,  14.,  15.,  16.,  17.,  18.,  19.], dtype=float32)"
      ]
     },
     "execution_count": 68,
     "metadata": {},
     "output_type": "execute_result"
    }
   ],
   "source": [
    "ten_twenty_range"
   ]
  },
  {
   "cell_type": "markdown",
   "metadata": {},
   "source": [
    "Let's plot this array as a line plot, To do so, we'll use the function `plt.plot` from `matplotlib`."
   ]
  },
  {
   "cell_type": "code",
   "execution_count": 69,
   "metadata": {},
   "outputs": [
    {
     "data": {
      "text/plain": [
       "[<matplotlib.lines.Line2D at 0x7fa69a617860>]"
      ]
     },
     "execution_count": 69,
     "metadata": {},
     "output_type": "execute_result"
    },
    {
     "data": {
      "image/png": "[encoded data removed]",
      "text/plain": [
       "<matplotlib.figure.Figure at 0x7fa6a1c90208>"
      ]
     },
     "metadata": {},
     "output_type": "display_data"
    }
   ],
   "source": [
    "plt.plot(ten_twenty_range)"
   ]
  },
  {
   "cell_type": "markdown",
   "metadata": {},
   "source": [
    "What does this do? It seems like the y-axis roughly follows the range of the data (between 10 and 20). Since we only provided a single 1-D array, the function will use the indices of that array as the values for the x-axis, and so it starts at 0, counting the data points in increments of 1 (zeroth value, first value, second value, etc)."
   ]
  },
  {
   "cell_type": "markdown",
   "metadata": {},
   "source": [
    "Although this line looks continuous, the data it represents is really just 10 discrete points. To visualize this, we can tell the `plt.plot` function to draw the points of the data using an `x`. To do this, we'll give a `format` string to the function. The default format is `'-'`, which means draw a continuous line. So we'll add an `x` to the format, telling `plt.plot` to draw both a continuous line and the `x`s by giving it `'x-'`. "
   ]
  },
  {
   "cell_type": "code",
   "execution_count": 70,
   "metadata": {},
   "outputs": [
    {
     "data": {
      "text/plain": [
       "[<matplotlib.lines.Line2D at 0x7fa69a5a5048>]"
      ]
     },
     "execution_count": 70,
     "metadata": {},
     "output_type": "execute_result"
    },
    {
     "data": {
      "image/png": "[encoded data removed]",
      "text/plain": [
       "<matplotlib.figure.Figure at 0x7fa6a1cc4cf8>"
      ]
     },
     "metadata": {},
     "output_type": "display_data"
    }
   ],
   "source": [
    "plt.plot(ten_twenty_range, 'x-')"
   ]
  },
  {
   "cell_type": "markdown",
   "metadata": {},
   "source": [
    "If we give `plt.plot` two 1-D arrays, it will use the first array as the values for the x axis, and the second array as the values for the y-axis. Let's see this by giving a range that goes from 100-110:"
   ]
  },
  {
   "cell_type": "code",
   "execution_count": 71,
   "metadata": {},
   "outputs": [
    {
     "data": {
      "text/plain": [
       "[<matplotlib.lines.Line2D at 0x7fa69a4ffa90>]"
      ]
     },
     "execution_count": 71,
     "metadata": {},
     "output_type": "execute_result"
    },
    {
     "data": {
      "image/png": "[encoded data removed]",
      "text/plain": [
       "<matplotlib.figure.Figure at 0x7fa69a5eea90>"
      ]
     },
     "metadata": {},
     "output_type": "display_data"
    }
   ],
   "source": [
    "fake_xaxis = np.arange(100, 110)\n",
    "plt.plot(fake_xaxis, ten_twenty_range, 'x-')"
   ]
  },
  {
   "cell_type": "markdown",
   "metadata": {},
   "source": [
    "Notice that the plot looks exactly the same! What has changed? Well, only the labels on the x-axis have changed, which changes the meaning of the plot."
   ]
  },
  {
   "cell_type": "markdown",
   "metadata": {},
   "source": [
    "### Plotting voxel time courses\n",
    "\n",
    "Now that we have line plot basics down on simple data, let's link back our efforts to analyze fMRI data. Let's plot the timecourse we were using above."
   ]
  },
  {
   "cell_type": "code",
   "execution_count": 72,
   "metadata": {},
   "outputs": [
    {
     "data": {
      "text/plain": [
       "[<matplotlib.lines.Line2D at 0x7fa69a4de048>]"
      ]
     },
     "execution_count": 72,
     "metadata": {},
     "output_type": "execute_result"
    },
    {
     "data": {
      "image/png": "[encoded data removed]",
      "text/plain": [
       "<matplotlib.figure.Figure at 0x7fa69a55c8d0>"
      ]
     },
     "metadata": {},
     "output_type": "display_data"
    }
   ],
   "source": [
    "plt.plot(timeseries)"
   ]
  },
  {
   "cell_type": "markdown",
   "metadata": {},
   "source": [
    "<a id='Axis_Labels'></a>\n",
    "This plot gives us an idea of how the BOLD signal changes over the time course of a single scan (or run). This plot is missing something, however. We don't know what the numbers represent, and so it's impossible to draw meaning from this plot. \n",
    "\n",
    "To give the plot meaning, we can simply add a label to both the x and y axes that describe what the data represents. To do so, we use the `plt.xlabel` and `plt.ylabel` functions:"
   ]
  },
  {
   "cell_type": "code",
   "execution_count": 73,
   "metadata": {},
   "outputs": [
    {
     "data": {
      "text/plain": [
       "Text(0,0.5,'BOLD Signal (a.u.)')"
      ]
     },
     "execution_count": 73,
     "metadata": {},
     "output_type": "execute_result"
    },
    {
     "data": {
      "image/png": "[encoded data removed]",
      "text/plain": [
       "<matplotlib.figure.Figure at 0x7fa69a4f2e80>"
      ]
     },
     "metadata": {},
     "output_type": "display_data"
    }
   ],
   "source": [
    "plt.plot(timeseries)\n",
    "plt.xlabel('Time (TRs)')\n",
    "plt.ylabel('BOLD Signal (a.u.)')"
   ]
  },
  {
   "cell_type": "markdown",
   "metadata": {},
   "source": [
    "Now we see that x-axis represents time in TRs. Axis labels should always say what the data represents, and give the units that data was recorded in within parentheses. The y-axis represents the BOLD signal, but as we learned in the first lecture, this signal does not have any units. Scientists use `a.u.` as the abreviation for **Arbitrary Units** in these cases."
   ]
  },
  {
   "cell_type": "markdown",
   "metadata": {},
   "source": [
    "We said that this time is in TRs (or number of volumes collected), but it's often more interpretable to see this in \"actual\" time (measured in seconds) instead of TRs. To do this, you need to know how long the TR was. We happen to know for this data it was `2 seconds`, and so we can simply create a range that starts from zero, is the same length as the timeseries, and has a step size of `2`. Then we'll use that range as the x-axis values:"
   ]
  },
  {
   "cell_type": "code",
   "execution_count": 74,
   "metadata": {},
   "outputs": [
    {
     "data": {
      "text/plain": [
       "Text(0,0.5,'BOLD Signal (a.u.)')"
      ]
     },
     "execution_count": 74,
     "metadata": {},
     "output_type": "execute_result"
    },
    {
     "data": {
      "image/png": "[encoded data removed]",
      "text/plain": [
       "<matplotlib.figure.Figure at 0x7fa69a493eb8>"
      ]
     },
     "metadata": {},
     "output_type": "display_data"
    }
   ],
   "source": [
    "time = np.arange(0, len(timeseries) * 2, 2)\n",
    "plt.plot(time, timeseries)\n",
    "plt.xlabel('Time (seconds)')\n",
    "plt.ylabel('BOLD Signal (a.u.)')"
   ]
  },
  {
   "cell_type": "markdown",
   "metadata": {},
   "source": [
    "<a id='Plot_Title'></a>\n",
    "It's also useful to describe what the overall intent and content of the plot is. To do this, we use `plt.title`."
   ]
  },
  {
   "cell_type": "code",
   "execution_count": 75,
   "metadata": {},
   "outputs": [
    {
     "data": {
      "text/plain": [
       "Text(0.5,1,'BOLD Time-Series for a Voxel')"
      ]
     },
     "execution_count": 75,
     "metadata": {},
     "output_type": "execute_result"
    },
    {
     "data": {
      "image/png": "[encoded data removed]",
      "text/plain": [
       "<matplotlib.figure.Figure at 0x7fa69a433278>"
      ]
     },
     "metadata": {},
     "output_type": "display_data"
    }
   ],
   "source": [
    "plt.plot(time, timeseries)\n",
    "plt.xlabel('Time (seconds)')\n",
    "plt.ylabel('BOLD Signal (a.u.)')\n",
    "plt.title('BOLD Time-Series for a Voxel')"
   ]
  },
  {
   "cell_type": "markdown",
   "metadata": {},
   "source": [
    "<a id='Histograms'></a>\n",
    "## Histograms\n",
    "\n",
    "The old adage goes, \"A picture is worth a thousand words\". In this case, it may be worth a thousand numbers. A histogram lets you see how the values in an array are *distributed* across a number of ranges. These ranges are called **bins**. We can define the number of bins, and the range each bin represents, for a  given histogram.  Let's see how we can use histograms to get a better idea of what the *distrbution* of our data \"looks\" like.\n",
    "\n",
    "Let's take a look at how histograms work and how to interpret them on the time series data we just plotted above."
   ]
  },
  {
   "cell_type": "code",
   "execution_count": 76,
   "metadata": {},
   "outputs": [
    {
     "data": {
      "image/png": "[encoded data removed]",
      "text/plain": [
       "<matplotlib.figure.Figure at 0x7fa69a49ada0>"
      ]
     },
     "metadata": {},
     "output_type": "display_data"
    }
   ],
   "source": [
    "h = plt.hist(timeseries, bins=10)"
   ]
  },
  {
   "cell_type": "markdown",
   "metadata": {},
   "source": [
    "This is a histogram, but where do these numbers come from? Let's look at a series of plots that will hopefully give you a better intuition for what these bars mean. There is some more advanced code in the following cells that we're using just for these plots that you will not be expected to know, so just concentrate on the plots, not the code!\n",
    "\n",
    "This first plot shows the time series line plot, but adds circles at every time point. It also breaks up the line plot into 10 horizontal sections, using 11 horizontal lines. These horizontal sections have the same range as the 10 histogram ranges in the plot above."
   ]
  },
  {
   "cell_type": "code",
   "execution_count": 83,
   "metadata": {},
   "outputs": [
    {
     "data": {
      "text/plain": [
       "<matplotlib.collections.LineCollection at 0x7fa69a1e98d0>"
      ]
     },
     "execution_count": 83,
     "metadata": {},
     "output_type": "execute_result"
    },
    {
     "data": {
      "image/png": "[encoded data removed]",
      "text/plain": [
       "<matplotlib.figure.Figure at 0x7fa69a1e99e8>"
      ]
     },
     "metadata": {},
     "output_type": "display_data"
    }
   ],
   "source": [
    "bins = np.linspace(np.min(timeseries), np.max(timeseries), 11)\n",
    "plt.plot(timeseries, 'o-')\n",
    "plt.hlines(bins, 0, len(timeseries))"
   ]
  },
  {
   "cell_type": "markdown",
   "metadata": {},
   "source": [
    "Now let's remove the line and just show each point of the timeseries as a circle, the same circles as in the plot above."
   ]
  },
  {
   "cell_type": "code",
   "execution_count": 84,
   "metadata": {},
   "outputs": [
    {
     "data": {
      "text/plain": [
       "<matplotlib.collections.LineCollection at 0x7fa69a1c4710>"
      ]
     },
     "execution_count": 84,
     "metadata": {},
     "output_type": "execute_result"
    },
    {
     "data": {
      "image/png": "[encoded data removed]",
      "text/plain": [
       "<matplotlib.figure.Figure at 0x7fa69a168518>"
      ]
     },
     "metadata": {},
     "output_type": "display_data"
    }
   ],
   "source": [
    "plt.plot(timeseries, 'o')\n",
    "plt.hlines(bins, 0, len(timeseries))"
   ]
  },
  {
   "cell_type": "markdown",
   "metadata": {},
   "source": [
    "Finally, we'll rotate the plot 90 degrees, making the horizontal lines vertical. Now we can simply count the number of circles in each region, and that's what the histogram represents!"
   ]
  },
  {
   "cell_type": "code",
   "execution_count": 85,
   "metadata": {},
   "outputs": [
    {
     "data": {
      "text/plain": [
       "<matplotlib.collections.LineCollection at 0x7fa69a0bc358>"
      ]
     },
     "execution_count": 85,
     "metadata": {},
     "output_type": "execute_result"
    },
    {
     "data": {
      "image/png": "[encoded data removed]",
      "text/plain": [
       "<matplotlib.figure.Figure at 0x7fa69a125860>"
      ]
     },
     "metadata": {},
     "output_type": "display_data"
    }
   ],
   "source": [
    "plt.plot(timeseries, np.arange(len(timeseries)), 'o')\n",
    "plt.vlines(bins, 0, len(timeseries))\n"
   ]
  },
  {
   "cell_type": "markdown",
   "metadata": {},
   "source": [
    "Finally we'll plot the histogram behind this circle plot so you can see the full picture."
   ]
  },
  {
   "cell_type": "code",
   "execution_count": 86,
   "metadata": {},
   "outputs": [
    {
     "data": {
      "text/plain": [
       "<matplotlib.collections.LineCollection at 0x7fa69a370908>"
      ]
     },
     "execution_count": 86,
     "metadata": {},
     "output_type": "execute_result"
    },
    {
     "data": {
      "image/png": "[encoded data removed]",
      "text/plain": [
       "<matplotlib.figure.Figure at 0x7fa69a3709e8>"
      ]
     },
     "metadata": {},
     "output_type": "display_data"
    }
   ],
   "source": [
    "h = plt.hist(timeseries, bins)\n",
    "bins2 = h[1]\n",
    "plt.plot(timeseries, np.linspace(0, h[0].max(), len(timeseries)), 'ro')\n",
    "plt.vlines(bins2, 0, h[0].max(), 'r')\n"
   ]
  },
  {
   "cell_type": "markdown",
   "metadata": {},
   "source": [
    "### Breakout session\n",
    "\n",
    "Now let's play with the number of bins in this breakout session.\n",
    "\n",
    "- Plot histograms of `timeseries` with 3 bins, 20 bins and 100 bins.\n"
   ]
  },
  {
   "cell_type": "code",
   "execution_count": 89,
   "metadata": {},
   "outputs": [
    {
     "data": {
      "image/png": "[encoded data removed]",
      "text/plain": [
       "<matplotlib.figure.Figure at 0x7fa69a367eb8>"
      ]
     },
     "metadata": {},
     "output_type": "display_data"
    }
   ],
   "source": [
    "### STUDENT ANSWER\n",
    "\n",
    "h = plt.hist(timeseries, bins=3)"
   ]
  },
  {
   "cell_type": "code",
   "execution_count": 90,
   "metadata": {},
   "outputs": [
    {
     "data": {
      "image/png": "[encoded data removed]",
      "text/plain": [
       "<matplotlib.figure.Figure at 0x7fa69a0104e0>"
      ]
     },
     "metadata": {},
     "output_type": "display_data"
    }
   ],
   "source": [
    "### STUDENT ANSWER\n",
    "\n",
    "h = plt.hist(timeseries, bins=20)"
   ]
  },
  {
   "cell_type": "code",
   "execution_count": 91,
   "metadata": {},
   "outputs": [
    {
     "data": {
      "image/png": "[encoded data removed]",
      "text/plain": [
       "<matplotlib.figure.Figure at 0x7fa699f5ca20>"
      ]
     },
     "metadata": {},
     "output_type": "display_data"
    }
   ],
   "source": [
    "### STUDENT ANSWER\n",
    "h = plt.hist(timeseries, bins=100)"
   ]
  },
  {
   "cell_type": "markdown",
   "metadata": {},
   "source": [
    "<a id='reshape'></a>\n",
    "### Transforming N-D arrays to 1-D arrays: `reshape()`"
   ]
  },
  {
   "cell_type": "markdown",
   "metadata": {},
   "source": [
    "Often it is useful to take a histogram of an array that has more than one axis. For example, we might want to look at the *distribution* of voxel values for all the voxels in one 3-D volume. A histogram needs a 1-D array for plotting, and so we must convert a N-D array to a 1-D array before we can plot it as a histogram. To do this we will use `reshape()`. \n",
    "\n",
    "Let's see what `reshape` does on a simple 2-D example before moving to a 3-D fMRI volume:"
   ]
  },
  {
   "cell_type": "code",
   "execution_count": 92,
   "metadata": {},
   "outputs": [
    {
     "name": "stdout",
     "output_type": "stream",
     "text": [
      "Our example 2D array looks like:\n",
      " [[ 1  2  3  4  5]\n",
      " [ 6  7  8  9 10]]\n",
      "And the shape is:\n",
      " (2, 5)\n"
     ]
    }
   ],
   "source": [
    "array_2d = np.array([[1, 2, 3, 4, 5],\n",
    "                     [6, 7, 8, 9, 10]])\n",
    "print('Our example 2D array looks like:\\n', array_2d)\n",
    "print('And the shape is:\\n', array_2d.shape)"
   ]
  },
  {
   "cell_type": "markdown",
   "metadata": {},
   "source": [
    "The `np.reshape` function can be used to do what it says, to reshape a numpy array into any other shape. So if we wanted to convert our data to have  5 rows and 2 columns, we could do that using `np.reshape`:"
   ]
  },
  {
   "cell_type": "code",
   "execution_count": 93,
   "metadata": {},
   "outputs": [
    {
     "name": "stdout",
     "output_type": "stream",
     "text": [
      "[[ 1  2]\n",
      " [ 3  4]\n",
      " [ 5  6]\n",
      " [ 7  8]\n",
      " [ 9 10]]\n"
     ]
    }
   ],
   "source": [
    "print(array_2d.reshape(5,2))"
   ]
  },
  {
   "cell_type": "markdown",
   "metadata": {},
   "source": [
    "Note that this is **NOT** the same as transposing the array, even though both have the same size!!"
   ]
  },
  {
   "cell_type": "code",
   "execution_count": 94,
   "metadata": {},
   "outputs": [
    {
     "name": "stdout",
     "output_type": "stream",
     "text": [
      "[[ 1  6]\n",
      " [ 2  7]\n",
      " [ 3  8]\n",
      " [ 4  9]\n",
      " [ 5 10]]\n"
     ]
    }
   ],
   "source": [
    "print(array_2d.T)"
   ]
  },
  {
   "cell_type": "markdown",
   "metadata": {},
   "source": [
    "Transposing is switching columns for lines, or in N dimensions interchanging different axes, whereas reshaping does not reorder the array entries, and instead just forces them into the new shape provided the number of elements in the new shape is the same as the number of elements in the old one.\n",
    "\n",
    "So what we really want to use reshape to do in this case is convert this 2-D array into a 1-D array, and for that we'll use a feature of `np.reshape` that will do some calculations for us. If we give it a `-1` for the shape of an axis, it will figure out how many elements need to be in that axis. If we're reshaping to only have one axis, then it's easy, we just give `np.reshape` a `-1`!"
   ]
  },
  {
   "cell_type": "code",
   "execution_count": 95,
   "metadata": {},
   "outputs": [
    {
     "name": "stdout",
     "output_type": "stream",
     "text": [
      "[ 1  2  3  4  5  6  7  8  9 10]\n"
     ]
    }
   ],
   "source": [
    "array_1d = array_2d.reshape(-1)\n",
    "print(array_1d)"
   ]
  },
  {
   "cell_type": "markdown",
   "metadata": {},
   "source": [
    "So how does `reshape(-1)` rearrange the data elements in the array?\n",
    "\n",
    "It turns a 2-D array (or any higher dimensional array) into a 1-D array by collapsing all the rows, one after another. This means that if we first transpose our 2-D array, and then `reshape(-1)` it, we will get a different solution, as we can see below:"
   ]
  },
  {
   "cell_type": "code",
   "execution_count": 96,
   "metadata": {},
   "outputs": [
    {
     "name": "stdout",
     "output_type": "stream",
     "text": [
      "[ 1  6  2  7  3  8  4  9  5 10]\n"
     ]
    }
   ],
   "source": [
    "array_T_1d = array_2d.T.reshape(-1)\n",
    "print(array_T_1d)"
   ]
  },
  {
   "cell_type": "markdown",
   "metadata": {},
   "source": [
    "### Histograms of fMRI data\n",
    "So now let's work with a real volume of fMRI data in the form of a 3-D array. We'll use `slicing` again to grab the 5th volume from the fMRI data we loaded at the beginning of class. Again, don't worry about the mechanics of this for now, we'll cover this in a couple of lectures."
   ]
  },
  {
   "cell_type": "code",
   "execution_count": 97,
   "metadata": {
    "collapsed": true
   },
   "outputs": [],
   "source": [
    "volume_data = data[4,:,:,:]"
   ]
  },
  {
   "cell_type": "code",
   "execution_count": 98,
   "metadata": {},
   "outputs": [
    {
     "data": {
      "text/plain": [
       "(30, 100, 100)"
      ]
     },
     "execution_count": 98,
     "metadata": {},
     "output_type": "execute_result"
    }
   ],
   "source": [
    "volume_data.shape"
   ]
  },
  {
   "cell_type": "markdown",
   "metadata": {},
   "source": [
    "Now let's turn this volume into a 1-D array."
   ]
  },
  {
   "cell_type": "code",
   "execution_count": 99,
   "metadata": {
    "collapsed": true
   },
   "outputs": [],
   "source": [
    "data_1d = volume_data.reshape(-1)"
   ]
  },
  {
   "cell_type": "code",
   "execution_count": 100,
   "metadata": {},
   "outputs": [
    {
     "data": {
      "text/plain": [
       "(300000,)"
      ]
     },
     "execution_count": 100,
     "metadata": {},
     "output_type": "execute_result"
    }
   ],
   "source": [
    "data_1d.shape"
   ]
  },
  {
   "cell_type": "markdown",
   "metadata": {},
   "source": [
    "Now we're reading to plot the histogram of the fMRI data. We'll also set the x-axis label and y-axis labels so the plot is interpretable."
   ]
  },
  {
   "cell_type": "code",
   "execution_count": 101,
   "metadata": {},
   "outputs": [
    {
     "data": {
      "text/plain": [
       "Text(0,0.5,'count of measurements')"
      ]
     },
     "execution_count": 101,
     "metadata": {},
     "output_type": "execute_result"
    },
    {
     "data": {
      "image/png": "[encoded data removed]",
      "text/plain": [
       "<matplotlib.figure.Figure at 0x7fa699ec4a58>"
      ]
     },
     "metadata": {},
     "output_type": "display_data"
    }
   ],
   "source": [
    "plt.hist(data_1d, bins=50)\n",
    "plt.xlabel('fmri signal')\n",
    "plt.ylabel('count of measurements')"
   ]
  },
  {
   "cell_type": "markdown",
   "metadata": {},
   "source": [
    "### Breakout session:\n",
    "\n",
    "- What does this tell you about the data? \n",
    "- Why are there so many zeros?"
   ]
  },
  {
   "cell_type": "code",
   "execution_count": 102,
   "metadata": {
    "collapsed": true
   },
   "outputs": [],
   "source": [
    "### STUDENT ANSWER"
   ]
  },
  {
   "cell_type": "markdown",
   "metadata": {},
   "source": [
    "<a id='Bar_Plots'></a>\n",
    "## Bar plots\n",
    "\n",
    "Bar plots are used to plot the magnitude of multiple values of *dissimilar* data. To illustrate how to use them, we will create some data, as bar plots are not appropriate for plotting a timeseries. As we saw in the discussion above, the `weights` for a voxel are a type of *dissimilar* data.  Weights can be plotted in a bar plot very nicely. \n",
    "\n",
    "Let's create 5 \"fake\" weights, and give each one of them names as you'll see below."
   ]
  },
  {
   "cell_type": "code",
   "execution_count": 103,
   "metadata": {
    "collapsed": true
   },
   "outputs": [],
   "source": [
    "voxel_weights = np.array([4.2, 2.4, 0.2, -.34,  .64])\n",
    "weight_names = ['Faces', 'Body', 'Object', 'Scrambled', 'Places']"
   ]
  },
  {
   "cell_type": "markdown",
   "metadata": {},
   "source": [
    "A bar plot takes 2 arrays. The first one provides the location on the x-axis, and the second one provides the height of each bar on the y-axis. For the x-axis we just want the values to increase, and so we'll create a range of 5 numbers, one for each weight. Then let's make the plot using `plt.bar`."
   ]
  },
  {
   "cell_type": "code",
   "execution_count": 104,
   "metadata": {},
   "outputs": [
    {
     "data": {
      "image/png": "[encoded data removed]",
      "text/plain": [
       "<matplotlib.figure.Figure at 0x7fa699d799e8>"
      ]
     },
     "metadata": {},
     "output_type": "display_data"
    }
   ],
   "source": [
    "barplot_indices = np.arange(5)\n",
    "_ = plt.bar(barplot_indices, voxel_weights)"
   ]
  },
  {
   "cell_type": "markdown",
   "metadata": {},
   "source": [
    "Now we need to add some labels to make this plot interpretable. In addition to the axis labels and plot title, it would also be nice to change the numbers on the x-axis to meaningful text words, in this case the names of the weights. To do that we'll use `plt.xticks`:"
   ]
  },
  {
   "cell_type": "code",
   "execution_count": 105,
   "metadata": {},
   "outputs": [
    {
     "data": {
      "image/png": "[encoded data removed]",
      "text/plain": [
       "<matplotlib.figure.Figure at 0x7fa699f62ac8>"
      ]
     },
     "metadata": {},
     "output_type": "display_data"
    }
   ],
   "source": [
    "plt.bar(barplot_indices, voxel_weights)\n",
    "plt.title(\"Voxel weights for a Face Voxel\")\n",
    "plt.ylabel(\"Weight Magnitude (a.u)\")\n",
    "plt.xlabel(\"Stimulus categories\")\n",
    "_ = plt.xticks(barplot_indices, weight_names)"
   ]
  },
  {
   "cell_type": "markdown",
   "metadata": {},
   "source": [
    "You may have noticed that bar plots look very similar to histograms, and in fact if we change the `rwidth` of a histogram, they can be identical! Here we'll make a histogram of the same timeseries data from above, using 5 bins and specifying a `rwidth` of .8, which is what the `plt.bar` uses."
   ]
  },
  {
   "cell_type": "code",
   "execution_count": 106,
   "metadata": {},
   "outputs": [
    {
     "data": {
      "image/png": "[encoded data removed]",
      "text/plain": [
       "<matplotlib.figure.Figure at 0x7fa699d17fd0>"
      ]
     },
     "metadata": {},
     "output_type": "display_data"
    }
   ],
   "source": [
    "_ = plt.hist(timeseries, bins=5, rwidth=.8)"
   ]
  },
  {
   "cell_type": "markdown",
   "metadata": {},
   "source": [
    "So you can see how important axis labels, plot titles and xticks can be in interpreting a plot!"
   ]
  }
 ],
 "metadata": {
  "kernelspec": {
   "display_name": "Python 3",
   "language": "python",
   "name": "python3"
  },
  "language_info": {
   "codemirror_mode": {
    "name": "ipython",
    "version": 3
   },
   "file_extension": ".py",
   "mimetype": "text/x-python",
   "name": "python",
   "nbconvert_exporter": "python",
   "pygments_lexer": "ipython3",
   "version": "3.6.3"
  }
 },
 "nbformat": 4,
 "nbformat_minor": 2
}
