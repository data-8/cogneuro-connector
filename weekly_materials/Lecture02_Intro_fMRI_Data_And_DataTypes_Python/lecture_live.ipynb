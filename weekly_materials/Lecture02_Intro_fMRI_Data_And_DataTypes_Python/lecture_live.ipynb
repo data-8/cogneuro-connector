{
 "cells": [
  {
   "cell_type": "markdown",
   "metadata": {},
   "source": [
    "# Lecture 2: Introduction to fMRI data & data types in Python\n",
    "\n",
    "## Goals\n",
    "\n",
    "- **Neuroscience / Neuroimaging concepts**\n",
    "    - Nifti file format for fMRI data\n",
    "- **Datascience / Coding concepts**\n",
    "    - Jupyter notebook basics\n",
    "    - Review of data types and arrays\n",
    "    - Lists and Tuples\n",
    "    - Arrays vs. tables    \n",
    "    - Operations with arrays\n",
    "    - Loading and saving data\n",
    "    - Memory management"
   ]
  },
  {
   "cell_type": "markdown",
   "metadata": {},
   "source": [
    "## Key Terms and Concepts\n",
    "\n",
    "`command/edit mode`\n",
    "\n",
    "`int`, `float`, `string`, `boolean`\n",
    "\n",
    "`list`, `tuple`, `array` \n",
    "\n",
    "`mutable/immutable`\n",
    "\n",
    "`dtype`, `shape`\n",
    "\n",
    "`transpose`\n",
    "\n",
    "`np.save`, `np.load`, `nibabel.load`, `nibabel.save`\n",
    "\n",
    "`memory maps`"
   ]
  },
  {
   "cell_type": "markdown",
   "metadata": {},
   "source": [
    "# A few words about Jupyter Notebooks\n",
    "\n",
    "Since we'll be using Jupyter notebooks for the entire course, it is good to become familiar with them as quickly as possible.\n",
    "\n",
    "You can read a notebook just like any other website, but you can also interact with it. To interact with it, you select one (or more) cells to act on. When a cell is selected, there are two modes the notebook can be in. The first is `command` mode, and the second is `edit` mode.\n",
    "\n",
    "To get into `command` mode, press `Esc`. You know you're in `command` mode because the box outlining the current cell is **BLUE**. From here, press `h` to see a list of all the possible commands. From this mode you can more easily create, modify and move cells. You probably will not use this as much. \n",
    "> Try this now in the cell below! \n",
    "\n",
    "To get into `edit` mode, press `Enter`. You know you're in `edit` mode because the box outlining the current cell is **GREEN**. From here you can edit code and text, and run your code. You will be in this mode most of the time.\n",
    "> Try this now in the cell below!\n",
    "\n",
    "You are currently reading text that is not code and will have observed that different formats and font sizes have been used. This cell is written in **Markdown**.\n",
    "> Try selecting this cell and going into edit mode (press `Enter`, green frame). Then press `Shift + Enter` to render the Markdown again\n",
    "\n",
    "**Tab-completion**: To make your life easier, tab-completion is a feature of notebooks that will try and complete a **name** or **function** that you are typing for you. Once you start typing, you can press `Tab` and the notebook will create a little textbox that has all the possible options that the notebook knows about. This makes it faster to write code.\n",
    "> Try this out in the cell below!"
   ]
  },
  {
   "cell_type": "code",
   "execution_count": 193,
   "metadata": {},
   "outputs": [],
   "source": [
    "# click into this cell (it will be green), then press ESC to enter command mode (turns blue).\n",
    "# Then press ENTER for edit mode (green)"
   ]
  },
  {
   "cell_type": "code",
   "execution_count": 194,
   "metadata": {},
   "outputs": [],
   "source": [
    "a_name = 'Hello!'"
   ]
  },
  {
   "cell_type": "markdown",
   "metadata": {
    "collapsed": true
   },
   "source": [
    "After evaluating the above cell with `Shift + Enter`, the current cell should be blue\n",
    "Press `a` to create an empty cell above this one. Then go into *edit mode* with `Enter`\n",
    "\n",
    "Then start typing the name created above by pressing: `a` then `_`, and then press the `Tab` key to tab-complete the name. Next type \"im\" and then press the Tab key. What happens?"
   ]
  },
  {
   "cell_type": "markdown",
   "metadata": {},
   "source": [
    "### Comments\n",
    "An important, and often overlooked, part of writing code is including useful English (or other human language) **comments**. They can be used for many reasons, although most commonly they are used to explain in plain human language what the code below the comment does. They can also be used to write reminders that you still need to work on some part of your code.\n",
    "\n",
    "To write a comment in Python, you simply put a `#` (pronounced hashtag, duh!) before any human language comment you want to write, like this:"
   ]
  },
  {
   "cell_type": "code",
   "execution_count": 3,
   "metadata": {
    "collapsed": true
   },
   "outputs": [],
   "source": [
    "# Here's a simple comment"
   ]
  },
  {
   "cell_type": "markdown",
   "metadata": {},
   "source": [
    "You can even put comments after a line of code, like this:"
   ]
  },
  {
   "cell_type": "code",
   "execution_count": 7,
   "metadata": {},
   "outputs": [],
   "source": [
    "another_name = 'Comment Practice' # This is another comment to show you they can go after code too!"
   ]
  },
  {
   "cell_type": "markdown",
   "metadata": {},
   "source": [
    "### Displaying content and the print function\n",
    "\n",
    "Before we begin, let's review some ways to see what **names** contain.\n",
    "1. If you write a name at the end of a cell, some content representing it will be displayed\n",
    "2. If you need to perform more complex display of text, the print function is appropriate. We'll use it throughout this class to print values out. We can use it to print simple things."
   ]
  },
  {
   "cell_type": "code",
   "execution_count": 9,
   "metadata": {},
   "outputs": [
    {
     "data": {
      "text/plain": [
       "'Hello!'"
      ]
     },
     "execution_count": 9,
     "metadata": {},
     "output_type": "execute_result"
    }
   ],
   "source": [
    "# jupyter notebooks display the output of the last operation in a cell\n",
    "a_name"
   ]
  },
  {
   "cell_type": "code",
   "execution_count": 10,
   "metadata": {},
   "outputs": [
    {
     "name": "stdout",
     "output_type": "stream",
     "text": [
      "We're finally writing some code!\n"
     ]
    }
   ],
   "source": [
    "# The print function displays the input string\n",
    "print(\"We're finally writing some code!\")"
   ]
  },
  {
   "cell_type": "code",
   "execution_count": 11,
   "metadata": {},
   "outputs": [
    {
     "name": "stdout",
     "output_type": "stream",
     "text": [
      "We're finally writing some code!\n"
     ]
    },
    {
     "data": {
      "text/plain": [
       "'Hello!'"
      ]
     },
     "execution_count": 11,
     "metadata": {},
     "output_type": "execute_result"
    }
   ],
   "source": [
    "print(\"We're finally writing some code!\")\n",
    "a_name # content of a_name also displays, because it's the last operation. What is the difference?"
   ]
  },
  {
   "cell_type": "code",
   "execution_count": 13,
   "metadata": {},
   "outputs": [
    {
     "name": "stdout",
     "output_type": "stream",
     "text": [
      "We're finally writing some code!\n"
     ]
    }
   ],
   "source": [
    "a_name # content of a_name is not displayed\n",
    "print(\"We're finally writing some code!\")"
   ]
  },
  {
   "cell_type": "markdown",
   "metadata": {},
   "source": [
    "We can also use it to print out **names**"
   ]
  },
  {
   "cell_type": "code",
   "execution_count": 14,
   "metadata": {},
   "outputs": [
    {
     "name": "stdout",
     "output_type": "stream",
     "text": [
      "Michael\n"
     ]
    }
   ],
   "source": [
    "my_first_name = 'Michael'\n",
    "print(my_first_name)"
   ]
  },
  {
   "cell_type": "markdown",
   "metadata": {},
   "source": [
    "\n",
    "The print function is powerful and can be used to combine simple strings with **names**. To do this, just put commas in between the simple strings and the **names**. Note that Python will put a space after each comma."
   ]
  },
  {
   "cell_type": "code",
   "execution_count": 16,
   "metadata": {},
   "outputs": [
    {
     "name": "stdout",
     "output_type": "stream",
     "text": [
      "My name is Michael and I can program in Python\n"
     ]
    }
   ],
   "source": [
    "my_language = 'Python'\n",
    "print('My name is', my_first_name, 'and I can program in', my_language)"
   ]
  },
  {
   "cell_type": "markdown",
   "metadata": {},
   "source": [
    "# Review of Data Types in Python"
   ]
  },
  {
   "cell_type": "markdown",
   "metadata": {},
   "source": [
    "So far in the data8 lecture you've learned that Python stores data in several different ways, known as **Data Types**. You've learned about 4 basic data types: \n",
    "- Integers\n",
    "- Floats\n",
    "- Strings \n",
    "- Booleans\n",
    "\n",
    "plus 2 kinds of collections: \n",
    "- Arrays \n",
    "- Tables\n",
    "\n",
    "which are also data types. Here we will do a quick review of all of these data types. We'll also cover 2 new types of containers:\n",
    "\n",
    "- Lists\n",
    "- Tuples\n",
    "\n",
    "You also learned that data can be stored into **names**, so that they can be referenced later. Names are crucial to programming, and we will be using them extensively throughout this class."
   ]
  },
  {
   "cell_type": "markdown",
   "metadata": {},
   "source": [
    "## Basic Data Types"
   ]
  },
  {
   "cell_type": "markdown",
   "metadata": {},
   "source": [
    "### Integers\n",
    "\n",
    "Integers are a data type that stores whole numbers. They can be positive, negative or zero. \n",
    "\n",
    "They are often used to count things or **index** into arrays, which we'll learn about in a little bit."
   ]
  },
  {
   "cell_type": "code",
   "execution_count": 27,
   "metadata": {},
   "outputs": [
    {
     "data": {
      "text/plain": [
       "5"
      ]
     },
     "execution_count": 27,
     "metadata": {},
     "output_type": "execute_result"
    }
   ],
   "source": [
    "5 # just writing 5 in a cell leads to output 5"
   ]
  },
  {
   "cell_type": "code",
   "execution_count": 29,
   "metadata": {},
   "outputs": [
    {
     "data": {
      "text/plain": [
       "int"
      ]
     },
     "execution_count": 29,
     "metadata": {},
     "output_type": "execute_result"
    }
   ],
   "source": [
    "type(5) # What is the type of 5? Answer: int (That is what Python calls Integers)"
   ]
  },
  {
   "cell_type": "code",
   "execution_count": 30,
   "metadata": {},
   "outputs": [],
   "source": [
    "five = 5 # Store 5 in the name five"
   ]
  },
  {
   "cell_type": "code",
   "execution_count": 31,
   "metadata": {},
   "outputs": [
    {
     "name": "stdout",
     "output_type": "stream",
     "text": [
      "0\n"
     ]
    }
   ],
   "source": [
    "five_plus_neg_five = five + -5 # store the result of five + -5 in the name five_plus_neg_five\n",
    "print(five_plus_neg_five)"
   ]
  },
  {
   "cell_type": "code",
   "execution_count": 21,
   "metadata": {},
   "outputs": [
    {
     "data": {
      "text/plain": [
       "int"
      ]
     },
     "execution_count": 21,
     "metadata": {},
     "output_type": "execute_result"
    }
   ],
   "source": [
    "type(five_plus_neg_five)"
   ]
  },
  {
   "cell_type": "code",
   "execution_count": 32,
   "metadata": {},
   "outputs": [
    {
     "data": {
      "text/plain": [
       "1.0"
      ]
     },
     "execution_count": 32,
     "metadata": {},
     "output_type": "execute_result"
    }
   ],
   "source": [
    "# While adding integers up leads to new integers, dividing by them gives something else!\n",
    "5 / 5"
   ]
  },
  {
   "cell_type": "code",
   "execution_count": 33,
   "metadata": {},
   "outputs": [
    {
     "data": {
      "text/plain": [
       "float"
      ]
     },
     "execution_count": 33,
     "metadata": {},
     "output_type": "execute_result"
    }
   ],
   "source": [
    "type(5 / 5)"
   ]
  },
  {
   "cell_type": "code",
   "execution_count": 34,
   "metadata": {},
   "outputs": [
    {
     "data": {
      "text/plain": [
       "2.3333333333333335"
      ]
     },
     "execution_count": 34,
     "metadata": {},
     "output_type": "execute_result"
    }
   ],
   "source": [
    "7 / 3"
   ]
  },
  {
   "cell_type": "code",
   "execution_count": 35,
   "metadata": {},
   "outputs": [
    {
     "data": {
      "text/plain": [
       "2"
      ]
     },
     "execution_count": 35,
     "metadata": {},
     "output_type": "execute_result"
    }
   ],
   "source": [
    "# Because most people intuitively expect 7/3 to yield 2.3333333 (representing 2 + 1/3)\n",
    "# and not the rounded-down integer version, and this led to many unexpected and hard-to-find\n",
    "# errors, Python now outputs floats after integer division.\n",
    "# To obtain integer division, you need to put two slashes:\n",
    "7 // 3"
   ]
  },
  {
   "cell_type": "markdown",
   "metadata": {},
   "source": [
    "### Floats\n",
    "\n",
    "Floats, or floating point numbers, are a data type that stores numbers with decimal points. They can store up to 15 or 16 numbers after the decimal point, also known as **significant digits**.\n",
    "\n",
    "While they are very precise, they are not perfect. Sometimes rounding erors do occur when using numbers with many significant digits."
   ]
  },
  {
   "cell_type": "code",
   "execution_count": 195,
   "metadata": {},
   "outputs": [
    {
     "data": {
      "text/plain": [
       "3.141592653589"
      ]
     },
     "execution_count": 195,
     "metadata": {},
     "output_type": "execute_result"
    }
   ],
   "source": [
    "pi = 3.141592653589\n",
    "pi"
   ]
  },
  {
   "cell_type": "code",
   "execution_count": 37,
   "metadata": {},
   "outputs": [
    {
     "data": {
      "text/plain": [
       "float"
      ]
     },
     "execution_count": 37,
     "metadata": {},
     "output_type": "execute_result"
    }
   ],
   "source": [
    "type(pi)"
   ]
  },
  {
   "cell_type": "markdown",
   "metadata": {},
   "source": [
    "**Functions** can be **called** by using the function name, followed by paranthesis with the **argument** in between those paranthesis. Here we'll find the absolute value using the abs() function."
   ]
  },
  {
   "cell_type": "code",
   "execution_count": 38,
   "metadata": {},
   "outputs": [
    {
     "data": {
      "text/plain": [
       "543.234"
      ]
     },
     "execution_count": 38,
     "metadata": {},
     "output_type": "execute_result"
    }
   ],
   "source": [
    "abs(-543.234)"
   ]
  },
  {
   "cell_type": "code",
   "execution_count": 39,
   "metadata": {},
   "outputs": [
    {
     "data": {
      "text/plain": [
       "float"
      ]
     },
     "execution_count": 39,
     "metadata": {},
     "output_type": "execute_result"
    }
   ],
   "source": [
    "type(abs(-543.234))"
   ]
  },
  {
   "cell_type": "markdown",
   "metadata": {},
   "source": [
    "Mathmatical operations that use a float and an int will always result in a float"
   ]
  },
  {
   "cell_type": "code",
   "execution_count": 40,
   "metadata": {},
   "outputs": [
    {
     "data": {
      "text/plain": [
       "0.0"
      ]
     },
     "execution_count": 40,
     "metadata": {},
     "output_type": "execute_result"
    }
   ],
   "source": [
    "five_plus_neg_five * pi"
   ]
  },
  {
   "cell_type": "code",
   "execution_count": 41,
   "metadata": {},
   "outputs": [
    {
     "data": {
      "text/plain": [
       "float"
      ]
     },
     "execution_count": 41,
     "metadata": {},
     "output_type": "execute_result"
    }
   ],
   "source": [
    "type(five_plus_neg_five * pi)"
   ]
  },
  {
   "cell_type": "markdown",
   "metadata": {},
   "source": [
    "#### Breakout Session\n",
    "\n",
    "Let's practice making some integer and float **names**.\n",
    "- Create a **name** that is the sum of 8, 16 and 40 and name it six.\n",
    "- Now take the base 2 logarithm of this **name**, using the `math.log()` function. Note that this is a function from a new module, so you'll need to import it using `import math`. What is this new value?\n",
    "- What type is this log value?\n",
    "- Now divide it by 4. What type is this new value?\n"
   ]
  },
  {
   "cell_type": "code",
   "execution_count": 42,
   "metadata": {
    "scrolled": false
   },
   "outputs": [
    {
     "name": "stdout",
     "output_type": "stream",
     "text": [
      "6.0\n",
      "<class 'float'>\n",
      "<class 'float'>\n"
     ]
    }
   ],
   "source": [
    "### STUDENT ANSWER\n",
    "\n"
   ]
  },
  {
   "cell_type": "markdown",
   "metadata": {},
   "source": [
    "### Strings\n",
    "\n",
    "Strings are a data type that store text in the form of a sequence of letters, numbers and punctuation symbols."
   ]
  },
  {
   "cell_type": "code",
   "execution_count": 43,
   "metadata": {},
   "outputs": [
    {
     "data": {
      "text/plain": [
       "'This is a string. Duh!'"
      ]
     },
     "execution_count": 43,
     "metadata": {},
     "output_type": "execute_result"
    }
   ],
   "source": [
    "\"This is a string. Duh!\""
   ]
  },
  {
   "cell_type": "code",
   "execution_count": 44,
   "metadata": {},
   "outputs": [],
   "source": [
    "class_name = 'Data Science for Cognitive Neuroscience'"
   ]
  },
  {
   "cell_type": "code",
   "execution_count": 45,
   "metadata": {},
   "outputs": [
    {
     "data": {
      "text/plain": [
       "str"
      ]
     },
     "execution_count": 45,
     "metadata": {},
     "output_type": "execute_result"
    }
   ],
   "source": [
    "type(class_name)"
   ]
  },
  {
   "cell_type": "code",
   "execution_count": 48,
   "metadata": {},
   "outputs": [],
   "source": [
    "five_string = str(five)"
   ]
  },
  {
   "cell_type": "code",
   "execution_count": 49,
   "metadata": {},
   "outputs": [
    {
     "data": {
      "text/plain": [
       "('5', 5)"
      ]
     },
     "execution_count": 49,
     "metadata": {},
     "output_type": "execute_result"
    }
   ],
   "source": [
    "five_string, five"
   ]
  },
  {
   "cell_type": "code",
   "execution_count": 50,
   "metadata": {},
   "outputs": [
    {
     "data": {
      "text/plain": [
       "str"
      ]
     },
     "execution_count": 50,
     "metadata": {},
     "output_type": "execute_result"
    }
   ],
   "source": [
    "type(five_string)"
   ]
  },
  {
   "cell_type": "markdown",
   "metadata": {},
   "source": [
    "#### Formatting Strings\n",
    "\n",
    "There are two ways to build text that include the current values of **names**. This can be useful when you want to check the value of a **name**, creating a customized filename, or label figure axes dynamically, for example. \n",
    "\n",
    "The first way is done using the `%` symbol: "
   ]
  },
  {
   "cell_type": "code",
   "execution_count": 51,
   "metadata": {},
   "outputs": [
    {
     "data": {
      "text/plain": [
       "'This is the first way to make a formatted string that prints our class name here: Data Science for Cognitive Neuroscience'"
      ]
     },
     "execution_count": 51,
     "metadata": {},
     "output_type": "execute_result"
    }
   ],
   "source": [
    "'This is the first way to make a formatted string that prints our class name here: %s' % (class_name)"
   ]
  },
  {
   "cell_type": "markdown",
   "metadata": {},
   "source": [
    "We see a string defined that has a special character, the `%` symbol in it, followed by the letter `s`. The `%` character tells Python you want to replace the  `%` with the value of a **name**, and the `s` indicates the variable will be a `string`. There are other letters you can use to insert an integer (`i`), float (`f`), or boolean(`b`). After that first string, there is another `%` symbol, followed by the **name(s)** you want to insert into the string. Those **name(s)** are surrounded by parentheses.\n",
    "\n",
    "The second way is using the `format()` function: "
   ]
  },
  {
   "cell_type": "code",
   "execution_count": 52,
   "metadata": {},
   "outputs": [
    {
     "data": {
      "text/plain": [
       "'This is the second way to make a formatted string that prints our class name here: Data Science for Cognitive Neuroscience'"
      ]
     },
     "execution_count": 52,
     "metadata": {},
     "output_type": "execute_result"
    }
   ],
   "source": [
    "'This is the second way to make a formatted string that prints our class name here: {0}'.format(class_name)"
   ]
  },
  {
   "cell_type": "markdown",
   "metadata": {},
   "source": [
    "Here, we use the `{}` (called *curly brackets*) to indicate where we want the **name(s)** inserted. We put the variable number that should be inserted in between the curly brackets, starting with zero. We follow this with a `.` (period) and the `format()` function. The parameters to the `format(*)` function are the **names** to insert.\n",
    "\n",
    "Some examples of formatting numbers:"
   ]
  },
  {
   "cell_type": "code",
   "execution_count": 62,
   "metadata": {},
   "outputs": [
    {
     "name": "stdout",
     "output_type": "stream",
     "text": [
      "If we divide 7 by 3, we get 2.333333\n",
      "If we divide 8 by 3, we get 2.6666666667\n",
      "If we divide 8 by 3, we get 2\n"
     ]
    }
   ],
   "source": [
    "print(\"If we divide 7 by 3, we get %f\" % (7 / 3))\n",
    "print(\"If we divide 8 by 3, we get %1.10f\" % (8 / 3)) # We can say how many decimals we'd like\n",
    "print(\"If we divide 8 by 3, we get %i\" % (8 / 3)) # If we tell it to print an integer, it will round down\n",
    "\n"
   ]
  },
  {
   "cell_type": "markdown",
   "metadata": {},
   "source": [
    "### Booleans\n",
    "\n",
    "Booleans are a data type that store a simple `True` or `False` value. They are used when doing **comparisons** and in **conditional** (if) statements which you'll learn more about in a couple of weeks. "
   ]
  },
  {
   "cell_type": "code",
   "execution_count": 63,
   "metadata": {},
   "outputs": [
    {
     "data": {
      "text/plain": [
       "False"
      ]
     },
     "execution_count": 63,
     "metadata": {},
     "output_type": "execute_result"
    }
   ],
   "source": [
    "False"
   ]
  },
  {
   "cell_type": "code",
   "execution_count": 64,
   "metadata": {},
   "outputs": [
    {
     "data": {
      "text/plain": [
       "bool"
      ]
     },
     "execution_count": 64,
     "metadata": {},
     "output_type": "execute_result"
    }
   ],
   "source": [
    "type(False)"
   ]
  },
  {
   "cell_type": "code",
   "execution_count": 65,
   "metadata": {},
   "outputs": [
    {
     "name": "stdout",
     "output_type": "stream",
     "text": [
      "True\n"
     ]
    }
   ],
   "source": [
    "pi_is_gt_3 = pi > 3\n",
    "print(pi_is_gt_3)"
   ]
  },
  {
   "cell_type": "code",
   "execution_count": 67,
   "metadata": {},
   "outputs": [
    {
     "data": {
      "text/plain": [
       "bool"
      ]
     },
     "execution_count": 67,
     "metadata": {},
     "output_type": "execute_result"
    }
   ],
   "source": [
    "type(pi_is_gt_3)"
   ]
  },
  {
   "cell_type": "markdown",
   "metadata": {},
   "source": [
    "#### Breakout Session\n",
    "\n",
    "Create some Boolean and String **names**, and do some string formatting.\n",
    "- Use the `==` operator to see if the integer value 5 equals the `five_string` name we created above. Store it in a **name** called `five_string_equals_5`\n",
    "- Convert the boolean **name** `five_string_equals_5` to a string.\n",
    "- Format a string that displays the values of the two **names**: `five` and `five_string`. Use both ways of formatting a string to do this.\n",
    "- Do the two **names** look the same when formatted in a string? Why or why not?"
   ]
  },
  {
   "cell_type": "code",
   "execution_count": 196,
   "metadata": {
    "scrolled": true
   },
   "outputs": [
    {
     "name": "stdout",
     "output_type": "stream",
     "text": [
      "False\n",
      "five is: 5 and five_string is: 5\n",
      "five is: 5 and five_string is: 5\n"
     ]
    }
   ],
   "source": [
    "### STUDENT ANSWER\n"
   ]
  },
  {
   "cell_type": "markdown",
   "metadata": {},
   "source": [
    "## Containers\n",
    "Python has several built-in ways of representing collections of things. Two of these are `list`s and `tuple`s. Both of them are **sequences**: they store the values they contain in a specific order. \n",
    "\n",
    "### Lists\n",
    "You can make a list out of any number of Python items by simply putting square brackets `[`, `]` around them and separating them with a comma. This creates a list. Lists have two special properties that differentiate them from the other types of containers we will use in this class.\n",
    "1. Lists may contain objects that are of different types. \n",
    "2. Objects can be added or, or removed from, a list. Another way of saying this is that lists are **mutable**.\n",
    "\n",
    "Although lists can contain different types of objects, they don't have to. Let's create a list of integers:"
   ]
  },
  {
   "cell_type": "code",
   "execution_count": 202,
   "metadata": {},
   "outputs": [
    {
     "data": {
      "text/plain": [
       "[1, 2, 3, 4, 5]"
      ]
     },
     "execution_count": 202,
     "metadata": {},
     "output_type": "execute_result"
    }
   ],
   "source": [
    "l1 = [1, 2, 3, 4, 5]\n",
    "l1"
   ]
  },
  {
   "cell_type": "markdown",
   "metadata": {},
   "source": [
    "Now let's create a list of objects with different types"
   ]
  },
  {
   "cell_type": "code",
   "execution_count": 203,
   "metadata": {},
   "outputs": [
    {
     "data": {
      "text/plain": [
       "[5, 'hello', 5, '5', 3.141592653589]"
      ]
     },
     "execution_count": 203,
     "metadata": {},
     "output_type": "execute_result"
    }
   ],
   "source": [
    "l2 = [5, 'hello', five, five_string, pi]\n",
    "l2"
   ]
  },
  {
   "cell_type": "markdown",
   "metadata": {},
   "source": [
    "You can append things to lists by calling the `.append` method with the new item:"
   ]
  },
  {
   "cell_type": "code",
   "execution_count": 204,
   "metadata": {},
   "outputs": [
    {
     "data": {
      "text/plain": [
       "[5, 'hello', 5, '5', 3.141592653589, 100]"
      ]
     },
     "execution_count": 204,
     "metadata": {},
     "output_type": "execute_result"
    }
   ],
   "source": [
    "l2.append(100)\n",
    "l2"
   ]
  },
  {
   "cell_type": "markdown",
   "metadata": {},
   "source": [
    "You can remove objects from a list by calling the `.remove()` method. This will remove the first appearance of the object you pass in."
   ]
  },
  {
   "cell_type": "code",
   "execution_count": 205,
   "metadata": {},
   "outputs": [
    {
     "data": {
      "text/plain": [
       "['hello', 5, '5', 3.141592653589, 100]"
      ]
     },
     "execution_count": 205,
     "metadata": {},
     "output_type": "execute_result"
    }
   ],
   "source": [
    "l2.remove(5)\n",
    "l2"
   ]
  },
  {
   "cell_type": "markdown",
   "metadata": {},
   "source": [
    "### Tuples\n",
    "\n",
    "Tuples are very much like lists in that they can store an ordered collection of objects of different types. In contrast, once a tuple has been created, you cannot change it (meaning add objects to or remove objects from it). Thus, tuples are called **immutable**, or not changeable.\n",
    "\n",
    "Tuples use round brackets (parentheses `()`) instead of the square brackets that lists use. \n",
    "\n",
    "Let's make a tuple of different types"
   ]
  },
  {
   "cell_type": "code",
   "execution_count": 206,
   "metadata": {},
   "outputs": [
    {
     "data": {
      "text/plain": [
       "(5, 'hello', 5, '5', 3.141592653589)"
      ]
     },
     "execution_count": 206,
     "metadata": {},
     "output_type": "execute_result"
    }
   ],
   "source": [
    "t  = (5, 'hello', five, five_string, pi)\n",
    "t"
   ]
  },
  {
   "cell_type": "markdown",
   "metadata": {},
   "source": [
    "Now let's add another object to this tuple"
   ]
  },
  {
   "cell_type": "code",
   "execution_count": 207,
   "metadata": {},
   "outputs": [
    {
     "ename": "AttributeError",
     "evalue": "'tuple' object has no attribute 'append'",
     "output_type": "error",
     "traceback": [
      "\u001b[0;31m---------------------------------------------------------------------------\u001b[0m",
      "\u001b[0;31mAttributeError\u001b[0m                            Traceback (most recent call last)",
      "\u001b[0;32m<ipython-input-207-4c2a0c89951f>\u001b[0m in \u001b[0;36m<module>\u001b[0;34m()\u001b[0m\n\u001b[0;32m----> 1\u001b[0;31m \u001b[0mt\u001b[0m\u001b[0;34m.\u001b[0m\u001b[0mappend\u001b[0m\u001b[0;34m(\u001b[0m\u001b[0;36m100\u001b[0m\u001b[0;34m)\u001b[0m\u001b[0;34m\u001b[0m\u001b[0m\n\u001b[0m",
      "\u001b[0;31mAttributeError\u001b[0m: 'tuple' object has no attribute 'append'"
     ]
    }
   ],
   "source": [
    "t.append(100)"
   ]
  },
  {
   "cell_type": "markdown",
   "metadata": {},
   "source": [
    "**Oops! We can't append anything to a tuple because it is immutable!**"
   ]
  },
  {
   "cell_type": "markdown",
   "metadata": {},
   "source": [
    "#### Breakout Session\n",
    "\n",
    "* Create a list that contains the numbers 1 through 10 in order, and call it `list_ten`. Print the list.\n",
    "* Now `append` the string `eleven` to the list. Print the list.\n",
    "* Create a a tuple that contains your first name, last name, birthday month, birthday day (of the month), a boolean indicating whether you're a senior, and the number pi to as many significant digits as you know, and the `list_ten` name you just created. Call this `tuple_stuff` and print it.\n",
    "* Now try to `append` the word `'NOPE'` to this tuple and make sure it does what you expect."
   ]
  },
  {
   "cell_type": "code",
   "execution_count": 208,
   "metadata": {},
   "outputs": [
    {
     "name": "stdout",
     "output_type": "stream",
     "text": [
      "[1, 2, 3, 4, 5, 6, 7, 8, 9, 10]\n",
      "[1, 2, 3, 4, 5, 6, 7, 8, 9, 10, 'eleven']\n",
      "('Samy', 'Abdel-Ghaffar', 3, 30, False, 3.141592653589, [1, 2, 3, 4, 5, 6, 7, 8, 9, 10, 'eleven'])\n"
     ]
    },
    {
     "ename": "AttributeError",
     "evalue": "'tuple' object has no attribute 'append'",
     "output_type": "error",
     "traceback": [
      "\u001b[0;31m---------------------------------------------------------------------------\u001b[0m",
      "\u001b[0;31mAttributeError\u001b[0m                            Traceback (most recent call last)",
      "\u001b[0;32m<ipython-input-208-db0b64a81920>\u001b[0m in \u001b[0;36m<module>\u001b[0;34m()\u001b[0m\n\u001b[1;32m      5\u001b[0m \u001b[0mtuple_stuff\u001b[0m \u001b[0;34m=\u001b[0m \u001b[0;34m(\u001b[0m\u001b[0;34m'Samy'\u001b[0m\u001b[0;34m,\u001b[0m \u001b[0;34m'Abdel-Ghaffar'\u001b[0m\u001b[0;34m,\u001b[0m \u001b[0;36m3\u001b[0m\u001b[0;34m,\u001b[0m \u001b[0;36m30\u001b[0m\u001b[0;34m,\u001b[0m \u001b[0;32mFalse\u001b[0m\u001b[0;34m,\u001b[0m \u001b[0;36m3.141592653589\u001b[0m\u001b[0;34m,\u001b[0m \u001b[0mlist_ten\u001b[0m\u001b[0;34m)\u001b[0m\u001b[0;34m\u001b[0m\u001b[0m\n\u001b[1;32m      6\u001b[0m \u001b[0mprint\u001b[0m\u001b[0;34m(\u001b[0m\u001b[0mtuple_stuff\u001b[0m\u001b[0;34m)\u001b[0m\u001b[0;34m\u001b[0m\u001b[0m\n\u001b[0;32m----> 7\u001b[0;31m \u001b[0mtuple_stuff\u001b[0m\u001b[0;34m.\u001b[0m\u001b[0mappend\u001b[0m\u001b[0;34m(\u001b[0m\u001b[0;34m'NOPE'\u001b[0m\u001b[0;34m)\u001b[0m\u001b[0;34m\u001b[0m\u001b[0m\n\u001b[0m",
      "\u001b[0;31mAttributeError\u001b[0m: 'tuple' object has no attribute 'append'"
     ]
    }
   ],
   "source": [
    "list_ten = [1,2,3,4,5,6,7,8,9,10]\n",
    "print(list_ten)\n",
    "list_ten.append('eleven')\n",
    "print(list_ten)\n",
    "tuple_stuff = ('Samy', 'Abdel-Ghaffar', 3, 30, False, 3.141592653589, list_ten)\n",
    "print(tuple_stuff)\n",
    "tuple_stuff.append('NOPE')"
   ]
  },
  {
   "cell_type": "markdown",
   "metadata": {},
   "source": [
    "### Arrays\n",
    "\n",
    "Arrays are a data type that is a **collection** of objects of the same type. They can contain integers, floats, strings and booleans, among other data types. Arrays can be 1-dimensional (1-D), 2-dimesional (2-D) and 3-dimensional (3-D). In fact, they can have any number of dimensions you like, which is usually called N-dimensional. "
   ]
  },
  {
   "cell_type": "markdown",
   "metadata": {},
   "source": [
    "#### Arrays vs. Lists (or Tuples)\n",
    "Although lists, tuples and arrays are all containers that can contain a collection of objects, there are some big differences between how they work and when you should use them. Here's a short list:\n",
    "\n",
    "1. Contrary to lists and tuples, all of the values in an array are of the **same type**. \n",
    "2. Because arrays are of this same type, they are specially suited to mathematical operations, while lists and tuples are not. For example, you can add 1 to all the values of an array, but you cannot to a list or tuple.\n",
    "3. Lists and tuples are always 1-Dimensional (although you can have a list of lists, for example), while arrays can have as many dimensions as you like.\n",
    "4. Lists and arrays are both **mutable**, while tuples are **immutable**. "
   ]
  },
  {
   "cell_type": "markdown",
   "metadata": {},
   "source": [
    "#### Importing Python Modules\n",
    "\n",
    "You have learned how to create arrays using the `make_array()` function in the data-8 lecture. This function creates 1-D arrays using the values you pass into it as arguments. While this is a very useful function, working with fMRI data requires the use of 2-D, 3-D and even 4-D arrays, so we will need to learn another way to create arrays. For this we will use the `numpy` module, which we have to `import`. You will about this module in data8, too."
   ]
  },
  {
   "cell_type": "code",
   "execution_count": 209,
   "metadata": {},
   "outputs": [],
   "source": [
    "import numpy as np"
   ]
  },
  {
   "cell_type": "markdown",
   "metadata": {},
   "source": [
    "Remember from above: The &lt;TAB&gt; key can give you suggestions for how to complete a word you may have started. This is particularly useful for browsing through the functionality of a package.\n",
    "\n",
    "Try typing `np.` and hitting the TAB key!"
   ]
  },
  {
   "cell_type": "code",
   "execution_count": 210,
   "metadata": {},
   "outputs": [
    {
     "ename": "SyntaxError",
     "evalue": "invalid syntax (<ipython-input-210-df0eca0bfa5c>, line 1)",
     "output_type": "error",
     "traceback": [
      "\u001b[0;36m  File \u001b[0;32m\"<ipython-input-210-df0eca0bfa5c>\"\u001b[0;36m, line \u001b[0;32m1\u001b[0m\n\u001b[0;31m    np.\u001b[0m\n\u001b[0m       ^\u001b[0m\n\u001b[0;31mSyntaxError\u001b[0m\u001b[0;31m:\u001b[0m invalid syntax\n"
     ]
    }
   ],
   "source": [
    "np."
   ]
  },
  {
   "cell_type": "markdown",
   "metadata": {},
   "source": [
    "If you want to find out more about a specific function, you can pull up a **help text** (the python community refers to these as docstrings) or even its code!\n",
    "\n",
    "Just add a question mark (?) to the end of the function to obtain the docstring, which should give you enough instructions to be able to work with the function.\n",
    "\n",
    "If you add two question marks (??), then ipython will show you the actual python code of that function. "
   ]
  },
  {
   "cell_type": "code",
   "execution_count": 127,
   "metadata": {},
   "outputs": [],
   "source": [
    "np.arange?"
   ]
  },
  {
   "cell_type": "code",
   "execution_count": 128,
   "metadata": {},
   "outputs": [],
   "source": [
    "np.sum??"
   ]
  },
  {
   "cell_type": "markdown",
   "metadata": {},
   "source": [
    "### Creating 1-D arrays\n",
    "\n",
    "Perhaps the simplest way to create a 1-D array in `numpy` is to use the `np.arange()` **function**. As you've seen in lecture, it creates a range of numbers, specified by a starting point, ending point, and increment value."
   ]
  },
  {
   "cell_type": "code",
   "execution_count": 211,
   "metadata": {},
   "outputs": [
    {
     "name": "stdout",
     "output_type": "stream",
     "text": [
      "[2000 2001 2002 2003 2004 2005 2006 2007 2008 2009 2010 2011 2012 2013 2014\n",
      " 2015 2016 2017]\n"
     ]
    }
   ],
   "source": [
    "years_since_millenium = np.arange(2000, 2018)\n",
    "print(years_since_millenium)"
   ]
  },
  {
   "cell_type": "markdown",
   "metadata": {},
   "source": [
    "Uh-oh, where's 2018?"
   ]
  },
  {
   "cell_type": "code",
   "execution_count": 212,
   "metadata": {},
   "outputs": [
    {
     "name": "stdout",
     "output_type": "stream",
     "text": [
      "[2000 2001 2002 2003 2004 2005 2006 2007 2008 2009 2010 2011 2012 2013 2014\n",
      " 2015 2016 2017 2018]\n"
     ]
    }
   ],
   "source": [
    "years_since_millenium = np.arange(2000, 2019)\n",
    "print(years_since_millenium)"
   ]
  },
  {
   "cell_type": "markdown",
   "metadata": {},
   "source": [
    "There we go. With `np.arange()`, the end point you specify is the one past the last item you want included. This is because Python is **zero-indexed**, meaning that it starts counting from 0 instead of 1.\n",
    "\n",
    "Adding a third argument gives us the possibility of stepping in increments other than 1! Let's get every other year since the new millenium."
   ]
  },
  {
   "cell_type": "code",
   "execution_count": 213,
   "metadata": {},
   "outputs": [
    {
     "name": "stdout",
     "output_type": "stream",
     "text": [
      "[2000 2002 2004 2006 2008 2010 2012 2014 2016 2018]\n"
     ]
    }
   ],
   "source": [
    "everyother_year_since_millenium = np.arange(2000, 2019, 2)\n",
    "print(everyother_year_since_millenium)"
   ]
  },
  {
   "cell_type": "markdown",
   "metadata": {},
   "source": [
    "But what if you want a range of numbers that has 5 values in it? Then you would use:"
   ]
  },
  {
   "cell_type": "code",
   "execution_count": 214,
   "metadata": {},
   "outputs": [
    {
     "name": "stdout",
     "output_type": "stream",
     "text": [
      "[0 1 2 3 4]\n"
     ]
    }
   ],
   "source": [
    "fives = np.arange(5)\n",
    "print(fives)"
   ]
  },
  {
   "cell_type": "markdown",
   "metadata": {},
   "source": [
    "While this is probably confusing when first learning Python, it makes a lot of sense once you get used to it.\n",
    "\n",
    "Arrays can also be made from an arbitrary sequence of values, using a **list** or **tuple**:"
   ]
  },
  {
   "cell_type": "code",
   "execution_count": 215,
   "metadata": {},
   "outputs": [
    {
     "name": "stdout",
     "output_type": "stream",
     "text": [
      "[ 8 20 14 78 34]\n"
     ]
    }
   ],
   "source": [
    "some_values = np.array([8, 20, 14, 78, 34])\n",
    "print(some_values)"
   ]
  },
  {
   "cell_type": "markdown",
   "metadata": {},
   "source": [
    "There are also some functions to help create special kinds of arrays containing all zeros or ones."
   ]
  },
  {
   "cell_type": "code",
   "execution_count": 216,
   "metadata": {},
   "outputs": [
    {
     "data": {
      "text/plain": [
       "array([ 0.,  0.,  0.,  0.,  0.,  0.,  0.,  0.,  0.,  0.])"
      ]
     },
     "execution_count": 216,
     "metadata": {},
     "output_type": "execute_result"
    }
   ],
   "source": [
    "ten_zeros = np.zeros(10)\n",
    "ten_zeros"
   ]
  },
  {
   "cell_type": "code",
   "execution_count": 217,
   "metadata": {},
   "outputs": [
    {
     "name": "stdout",
     "output_type": "stream",
     "text": [
      "[ 1.  1.  1.  1.  1.  1.  1.  1.  1.  1.]\n"
     ]
    }
   ],
   "source": [
    "ten_ones = np.ones(10)\n",
    "print(ten_ones)"
   ]
  },
  {
   "cell_type": "markdown",
   "metadata": {},
   "source": [
    "What happens if we do not explicitly specify the data type? A default is selected depending on the function. Let's check the data type of the ten_ones variable"
   ]
  },
  {
   "cell_type": "code",
   "execution_count": 218,
   "metadata": {},
   "outputs": [
    {
     "data": {
      "text/plain": [
       "dtype('float64')"
      ]
     },
     "execution_count": 218,
     "metadata": {},
     "output_type": "execute_result"
    }
   ],
   "source": [
    "ten_ones.dtype"
   ]
  },
  {
   "cell_type": "markdown",
   "metadata": {},
   "source": [
    "Notice that the data type for this array of ones is a float! We can be explicit about the type we want by using 'dtype' when we call `np.zeros`."
   ]
  },
  {
   "cell_type": "code",
   "execution_count": 219,
   "metadata": {},
   "outputs": [
    {
     "data": {
      "text/plain": [
       "array([0, 0, 0, 0, 0, 0, 0, 0, 0, 0])"
      ]
     },
     "execution_count": 219,
     "metadata": {},
     "output_type": "execute_result"
    }
   ],
   "source": [
    "ten_zeros_int = np.zeros(10, dtype='int')\n",
    "ten_zeros_int"
   ]
  },
  {
   "cell_type": "markdown",
   "metadata": {},
   "source": [
    "Alhough we can use `dtype` with `np.arange`, there is a shortcut to specify the type we want. If we give `np.arange` a `float`, it will return a sequence of floats, and if we give it an `int`, it will return a sequence of ints."
   ]
  },
  {
   "cell_type": "code",
   "execution_count": 220,
   "metadata": {},
   "outputs": [
    {
     "data": {
      "text/plain": [
       "dtype('int64')"
      ]
     },
     "execution_count": 220,
     "metadata": {},
     "output_type": "execute_result"
    }
   ],
   "source": [
    "ten_range = np.arange(10)\n",
    "ten_range.dtype"
   ]
  },
  {
   "cell_type": "code",
   "execution_count": 221,
   "metadata": {},
   "outputs": [
    {
     "data": {
      "text/plain": [
       "dtype('float64')"
      ]
     },
     "execution_count": 221,
     "metadata": {},
     "output_type": "execute_result"
    }
   ],
   "source": [
    "ten_range_f = np.arange(10.)\n",
    "ten_range_f.dtype"
   ]
  },
  {
   "cell_type": "markdown",
   "metadata": {},
   "source": [
    "#### Creating 2-D Arrays"
   ]
  },
  {
   "cell_type": "markdown",
   "metadata": {},
   "source": [
    "Making 2-D arrays can be done by combining several 1-D arrays together. Think of it as copying multiple rows of a spreadsheet together:"
   ]
  },
  {
   "cell_type": "code",
   "execution_count": 222,
   "metadata": {},
   "outputs": [
    {
     "name": "stdout",
     "output_type": "stream",
     "text": [
      "The first row looks like:\n",
      " [1 3 5 7 9]\n",
      "The second row looks like:\n",
      " [1 3 5 7 9]\n",
      "And the whole 2-D array looks like:\n",
      " [[ 1  3  5  7  9]\n",
      " [ 2  4  6  8 10]]\n"
     ]
    }
   ],
   "source": [
    "# Make the first row\n",
    "row1 = np.arange(1,10,2)\n",
    "print('The first row looks like:\\n', row1)\n",
    "\n",
    "# Make the second row\n",
    "row2 = np.arange(2,11,2)\n",
    "print('The second row looks like:\\n', row1)\n",
    "\n",
    "# Combine the two rows into a 2-D array\n",
    "array_2D = np.array([row1, row2])\n",
    "print('And the whole 2-D array looks like:\\n', array_2D)"
   ]
  },
  {
   "cell_type": "markdown",
   "metadata": {},
   "source": [
    "Note the `\\n` in the `print()` statements? The `\\` (pronounced backslash) is called an **escape** character, and tells the print function that the symbol after it has a special meaning. In this case, the `\\n` tells Python to add a **newline** when printing, so that the array's data is not on the same line as the text.\n",
    "\n",
    "We can also ask `numpy` to create arrays filled with random numbers, all ones, or all zeros:"
   ]
  },
  {
   "cell_type": "code",
   "execution_count": 223,
   "metadata": {},
   "outputs": [
    {
     "name": "stdout",
     "output_type": "stream",
     "text": [
      "[[ 0.07844968  0.79106274  1.47904654  1.61977697 -0.7409853 ]\n",
      " [-0.79925064  1.03410983 -0.26874792 -1.47345682  0.46596931]\n",
      " [-1.78348283  0.01959603  1.48292404  0.72898018 -0.7408096 ]]\n",
      "[[ 0.  0.  0.  0.  0.]\n",
      " [ 0.  0.  0.  0.  0.]\n",
      " [ 0.  0.  0.  0.  0.]]\n",
      "[[ 1.  1.  1.  1.  1.]\n",
      " [ 1.  1.  1.  1.  1.]\n",
      " [ 1.  1.  1.  1.  1.]]\n"
     ]
    }
   ],
   "source": [
    "random_vals_2D = np.random.randn(3, 5)\n",
    "print(random_vals_2D)\n",
    "\n",
    "zero_vals_2D = np.zeros((3, 5))\n",
    "print(zero_vals_2D)\n",
    "\n",
    "ones_vals_2D = np.ones((3, 5))\n",
    "print(ones_vals_2D)"
   ]
  },
  {
   "cell_type": "markdown",
   "metadata": {},
   "source": [
    "**Note:** The `np.random.randn()` function's parameters are the size of the dimension(s) that you want, while the `np.zeros()` and `np.ones()` functions needa **tuple** which specifies the shape of the array to create. That's why there are two paranthesis `((` and `))` for those."
   ]
  },
  {
   "cell_type": "markdown",
   "metadata": {},
   "source": [
    "It is often important to know the shape of the N-D arrays you are working with. Let's print the shape of the array, which tells us how many dimensions the array has, and how big each of those dimensions are (e.g. number of rows and columns in a 2-D array):"
   ]
  },
  {
   "cell_type": "code",
   "execution_count": 224,
   "metadata": {},
   "outputs": [
    {
     "name": "stdout",
     "output_type": "stream",
     "text": [
      "This array has shape (2, 5).\n"
     ]
    }
   ],
   "source": [
    "print(\"This array has shape {}.\".format(array_2D.shape))"
   ]
  },
  {
   "cell_type": "markdown",
   "metadata": {},
   "source": [
    "The first value shown in this **tuple** is the number of rows, and the second value is the number of columns. "
   ]
  },
  {
   "cell_type": "markdown",
   "metadata": {},
   "source": [
    "#### Creating 3-D Arrays"
   ]
  },
  {
   "cell_type": "markdown",
   "metadata": {},
   "source": [
    "Creating 3-D arrays using the `np.random()`, `np.zeros()` and `np.ones()` functions is very similar to how we did it for 2-D arrays. We only need to add one more number indicating the size of the 3rd dimensions:"
   ]
  },
  {
   "cell_type": "code",
   "execution_count": 225,
   "metadata": {},
   "outputs": [
    {
     "name": "stdout",
     "output_type": "stream",
     "text": [
      "[[[-0.48200246  0.64284256 -2.15410511]\n",
      "  [-0.18652133  0.50110257  0.86426513]\n",
      "  [-0.33539978  0.29995554  0.01905695]\n",
      "  [ 1.44858276  0.66450506 -1.54264595]]\n",
      "\n",
      " [[ 0.59569081 -1.20102947 -1.631401  ]\n",
      "  [-0.90307751 -0.34718475 -0.72045798]\n",
      "  [-0.63070443  2.15802752 -0.03875022]\n",
      "  [ 0.51336359 -1.59044582  0.03439368]]]\n",
      "[[[ 0.  0.  0.]\n",
      "  [ 0.  0.  0.]\n",
      "  [ 0.  0.  0.]\n",
      "  [ 0.  0.  0.]]\n",
      "\n",
      " [[ 0.  0.  0.]\n",
      "  [ 0.  0.  0.]\n",
      "  [ 0.  0.  0.]\n",
      "  [ 0.  0.  0.]]]\n",
      "[[[ 1.  1.  1.]\n",
      "  [ 1.  1.  1.]\n",
      "  [ 1.  1.  1.]\n",
      "  [ 1.  1.  1.]]\n",
      "\n",
      " [[ 1.  1.  1.]\n",
      "  [ 1.  1.  1.]\n",
      "  [ 1.  1.  1.]\n",
      "  [ 1.  1.  1.]]]\n"
     ]
    }
   ],
   "source": [
    "random_vals_3D = np.random.randn(2, 4, 3)\n",
    "print(random_vals_3D)\n",
    "\n",
    "zero_vals_3D = np.zeros((2, 4, 3))\n",
    "print(zero_vals_3D)\n",
    "\n",
    "ones_vals_3D = np.ones((2, 4, 3))\n",
    "print(ones_vals_3D)"
   ]
  },
  {
   "cell_type": "markdown",
   "metadata": {},
   "source": [
    "### Arrays vs. Tables"
   ]
  },
  {
   "cell_type": "markdown",
   "metadata": {},
   "source": [
    "At this point you've learned about `Tables` in lecture class, and may be asking yourself: 'What is the difference between 2-D Arrays and Tables?' As you might expect, there are some similarities and some differences. We will outline some of the main similarities and differences below.\n",
    "\n",
    "**Similarities**\n",
    "- They are both collections of data that are stored in a 2-D spreadsheet like way, with rows and columns.\n",
    "- Operations like sorting and selecting can be done on both (although the syntax is different).\n",
    "- Both can have named columns (although generally N-D Arrays' columns are not named, as will be the case in this class).\n",
    "\n",
    "**Differences**\n",
    "- Tables can have columns that contain data of different type (e.g. column 1 is floats and column 2 is strings), while N-D Arrays have the same data type everywhere.\n",
    "- Tables have advanced functions for selecting subsets of your data, where N-D Arrays have a more simple way to do that.\n",
    "- Tables are useful when you have a group of variables that you've measured across a number of observations (or subjects, or trials, etc.). \n",
    "- Since N-D Arrays can have more than 2 dimensions, they are useful in representing higher dimensional data, such as fMRI brain data and time-series astro-physics data, among many others.\n",
    "\n",
    "So you can see that even the similarities have some caveats which make them kinda differences!\n",
    "\n",
    ">**We will be using N-D Arrays (and not Tables) throughout this class.**"
   ]
  },
  {
   "cell_type": "markdown",
   "metadata": {},
   "source": [
    "###  Breakout session\n",
    "\n",
    "Now you'll practice creating some arrays. Print out the values of each one you create below.\n",
    "\n",
    "- Create a 1-D range called `A` that contains **even** numbers between 10 and 20, **inclusive** (meaning both 10 and 20 should be in the array)\n",
    "- Create a 2-D Array called `B` with 4 rows and 2 colums. You can use whatever approach we've outlined so far.\n",
    "- Create a 3-D array of zeros called `C` that has dimensions of 2 x 3 x 4. Make it be of data type `float32`."
   ]
  },
  {
   "cell_type": "code",
   "execution_count": 70,
   "metadata": {},
   "outputs": [
    {
     "name": "stdout",
     "output_type": "stream",
     "text": [
      "[10 12 14 16 18 20]\n",
      "[[1 2]\n",
      " [3 4]\n",
      " [5 6]\n",
      " [7 8]]\n",
      "[[[ 0.  0.  0.  0.]\n",
      "  [ 0.  0.  0.  0.]\n",
      "  [ 0.  0.  0.  0.]]\n",
      "\n",
      " [[ 0.  0.  0.  0.]\n",
      "  [ 0.  0.  0.  0.]\n",
      "  [ 0.  0.  0.  0.]]]\n"
     ]
    }
   ],
   "source": [
    "### STUDENT ANSWER\n"
   ]
  },
  {
   "cell_type": "markdown",
   "metadata": {},
   "source": [
    "### Array Operations\n",
    "\n",
    "One of the advantages to working with arrays is that we can do mathematical and logical operations on all the values in an array in one line of code. Many of the statistical techniques we'll be using in this class need to do math on all the data at the same time, so being able to do it in one command is very useful!"
   ]
  },
  {
   "cell_type": "markdown",
   "metadata": {},
   "source": [
    "Let's start by looking at simple arithmetic on a 1-D array:"
   ]
  },
  {
   "cell_type": "code",
   "execution_count": 226,
   "metadata": {},
   "outputs": [
    {
     "name": "stdout",
     "output_type": "stream",
     "text": [
      "The original array looks like this:\n",
      " [0 1 2 3 4]\n"
     ]
    }
   ],
   "source": [
    "math_ops_array = np.arange(5)\n",
    "print('The original array looks like this:\\n', math_ops_array)"
   ]
  },
  {
   "cell_type": "markdown",
   "metadata": {},
   "source": [
    "Add 5 to all the values in the array"
   ]
  },
  {
   "cell_type": "code",
   "execution_count": 227,
   "metadata": {},
   "outputs": [
    {
     "name": "stdout",
     "output_type": "stream",
     "text": [
      "But if we add 5 to it:\n",
      " [5 6 7 8 9]\n"
     ]
    }
   ],
   "source": [
    "math_ops_array_plus5 = math_ops_array + 5\n",
    "print('But if we add 5 to it:\\n', math_ops_array_plus5)"
   ]
  },
  {
   "cell_type": "markdown",
   "metadata": {},
   "source": [
    "Remember that we said arrays are useful for mathematical operations, but not lists? Let's see what happens if we try to do the same thing using a list and not an array."
   ]
  },
  {
   "cell_type": "code",
   "execution_count": 228,
   "metadata": {},
   "outputs": [
    {
     "name": "stdout",
     "output_type": "stream",
     "text": [
      "[1, 2, 3, 4, 5]\n"
     ]
    },
    {
     "ename": "TypeError",
     "evalue": "can only concatenate list (not \"int\") to list",
     "output_type": "error",
     "traceback": [
      "\u001b[0;31m---------------------------------------------------------------------------\u001b[0m",
      "\u001b[0;31mTypeError\u001b[0m                                 Traceback (most recent call last)",
      "\u001b[0;32m<ipython-input-228-821713218042>\u001b[0m in \u001b[0;36m<module>\u001b[0;34m()\u001b[0m\n\u001b[1;32m      1\u001b[0m \u001b[0mmath_ops_list\u001b[0m \u001b[0;34m=\u001b[0m \u001b[0;34m[\u001b[0m\u001b[0;36m1\u001b[0m\u001b[0;34m,\u001b[0m\u001b[0;36m2\u001b[0m\u001b[0;34m,\u001b[0m\u001b[0;36m3\u001b[0m\u001b[0;34m,\u001b[0m\u001b[0;36m4\u001b[0m\u001b[0;34m,\u001b[0m\u001b[0;36m5\u001b[0m\u001b[0;34m]\u001b[0m\u001b[0;34m\u001b[0m\u001b[0m\n\u001b[1;32m      2\u001b[0m \u001b[0mprint\u001b[0m\u001b[0;34m(\u001b[0m\u001b[0mmath_ops_list\u001b[0m\u001b[0;34m)\u001b[0m\u001b[0;34m\u001b[0m\u001b[0m\n\u001b[0;32m----> 3\u001b[0;31m \u001b[0mmath_ops_list_plus5\u001b[0m \u001b[0;34m=\u001b[0m \u001b[0mmath_ops_list\u001b[0m \u001b[0;34m+\u001b[0m \u001b[0;36m5\u001b[0m\u001b[0;34m\u001b[0m\u001b[0m\n\u001b[0m\u001b[1;32m      4\u001b[0m \u001b[0mprint\u001b[0m\u001b[0;34m(\u001b[0m\u001b[0;34m'But if we add 5 to it:\\n'\u001b[0m\u001b[0;34m,\u001b[0m \u001b[0mmath_ops_array_plus5\u001b[0m\u001b[0;34m)\u001b[0m\u001b[0;34m\u001b[0m\u001b[0m\n",
      "\u001b[0;31mTypeError\u001b[0m: can only concatenate list (not \"int\") to list"
     ]
    }
   ],
   "source": [
    "math_ops_list = [1,2,3,4,5]\n",
    "print(math_ops_list)\n",
    "math_ops_list_plus5 = math_ops_list + 5\n",
    "print('But if we add 5 to it:\\n', math_ops_array_plus5)"
   ]
  },
  {
   "cell_type": "markdown",
   "metadata": {},
   "source": [
    "Now let's multiply all the values of `math_ops_array` by 3:"
   ]
  },
  {
   "cell_type": "code",
   "execution_count": 230,
   "metadata": {},
   "outputs": [
    {
     "name": "stdout",
     "output_type": "stream",
     "text": [
      "Or multiply it by 3:\n",
      " [ 0  3  6  9 12]\n"
     ]
    }
   ],
   "source": [
    "math_ops_array_times3 = math_ops_array * 3\n",
    "print('Or multiply it by 3:\\n', math_ops_array_times3)"
   ]
  },
  {
   "cell_type": "markdown",
   "metadata": {},
   "source": [
    "Or raise all the values to the power 2:"
   ]
  },
  {
   "cell_type": "code",
   "execution_count": 231,
   "metadata": {},
   "outputs": [
    {
     "name": "stdout",
     "output_type": "stream",
     "text": [
      "Or raise all the values to the power 2:\n",
      " [ 0  1  4  9 16]\n"
     ]
    }
   ],
   "source": [
    "math_ops_array_power2 = math_ops_array ** 2\n",
    "print('Or raise all the values to the power 2:\\n', math_ops_array_power2)"
   ]
  },
  {
   "cell_type": "markdown",
   "metadata": {},
   "source": [
    "Or we can do these operations on two arrays together. Let's create a second array to work with:"
   ]
  },
  {
   "cell_type": "code",
   "execution_count": 232,
   "metadata": {},
   "outputs": [
    {
     "name": "stdout",
     "output_type": "stream",
     "text": [
      "The second array looks like this:\n",
      " [ 6  7  8  9 10]\n"
     ]
    }
   ],
   "source": [
    "math_ops_array2 = np.arange(6, 11)\n",
    "print('The second array looks like this:\\n', math_ops_array2)"
   ]
  },
  {
   "cell_type": "markdown",
   "metadata": {},
   "source": [
    "When doing operations on two arrays, the operation is applied **element-wise**. Element-wise operations done on each corresponding pair of items in the two arrays. For example, if we subtract two arrays, then the first items in both arrays are subtracted and put into a new array, and so on for all corresponding items in the two arrays.\n",
    "\n",
    "**This implies that the two arrays must be the same shape.**\n",
    "\n",
    "Let's subtract the second array from the first one:"
   ]
  },
  {
   "cell_type": "code",
   "execution_count": 233,
   "metadata": {},
   "outputs": [
    {
     "name": "stdout",
     "output_type": "stream",
     "text": [
      "The second array minus the first: [-6 -6 -6 -6 -6]\n"
     ]
    }
   ],
   "source": [
    "math_ops_array_1minus2 = math_ops_array - math_ops_array2\n",
    "print('The second array minus the first:', math_ops_array_1minus2)"
   ]
  },
  {
   "cell_type": "markdown",
   "metadata": {},
   "source": [
    "Divide the first array by the second"
   ]
  },
  {
   "cell_type": "code",
   "execution_count": 234,
   "metadata": {},
   "outputs": [
    {
     "name": "stdout",
     "output_type": "stream",
     "text": [
      "And the first divided by the second: [ 0.          0.14285714  0.25        0.33333333  0.4       ]\n"
     ]
    }
   ],
   "source": [
    "math_ops_array_divide = math_ops_array / math_ops_array2\n",
    "print('And the first divided by the second:', math_ops_array_divide)"
   ]
  },
  {
   "cell_type": "markdown",
   "metadata": {},
   "source": [
    "So what happens if the two arrays are not the same size?"
   ]
  },
  {
   "cell_type": "code",
   "execution_count": 235,
   "metadata": {},
   "outputs": [
    {
     "name": "stdout",
     "output_type": "stream",
     "text": [
      "[0 1 2 3 4]\n",
      "[0 1 2 3]\n"
     ]
    },
    {
     "ename": "ValueError",
     "evalue": "operands could not be broadcast together with shapes (5,) (4,) ",
     "output_type": "error",
     "traceback": [
      "\u001b[0;31m---------------------------------------------------------------------------\u001b[0m",
      "\u001b[0;31mValueError\u001b[0m                                Traceback (most recent call last)",
      "\u001b[0;32m<ipython-input-235-d5e066fccaed>\u001b[0m in \u001b[0;36m<module>\u001b[0;34m()\u001b[0m\n\u001b[1;32m      2\u001b[0m \u001b[0mprint\u001b[0m\u001b[0;34m(\u001b[0m\u001b[0mmath_ops_array\u001b[0m\u001b[0;34m)\u001b[0m\u001b[0;34m\u001b[0m\u001b[0m\n\u001b[1;32m      3\u001b[0m \u001b[0mprint\u001b[0m\u001b[0;34m(\u001b[0m\u001b[0mmath_ops_array3\u001b[0m\u001b[0;34m)\u001b[0m\u001b[0;34m\u001b[0m\u001b[0m\n\u001b[0;32m----> 4\u001b[0;31m \u001b[0mmath_ops_array_1minus3\u001b[0m \u001b[0;34m=\u001b[0m \u001b[0mmath_ops_array\u001b[0m \u001b[0;34m-\u001b[0m \u001b[0mmath_ops_array3\u001b[0m\u001b[0;34m\u001b[0m\u001b[0m\n\u001b[0m\u001b[1;32m      5\u001b[0m \u001b[0mprint\u001b[0m\u001b[0;34m(\u001b[0m\u001b[0;34m'The second array minus the first:'\u001b[0m\u001b[0;34m,\u001b[0m \u001b[0mmath_ops_array_1minus3\u001b[0m\u001b[0;34m)\u001b[0m\u001b[0;34m\u001b[0m\u001b[0m\n",
      "\u001b[0;31mValueError\u001b[0m: operands could not be broadcast together with shapes (5,) (4,) "
     ]
    }
   ],
   "source": [
    "math_ops_array3 = np.arange(4)\n",
    "print(math_ops_array)\n",
    "print(math_ops_array3)\n",
    "math_ops_array_1minus3 = math_ops_array - math_ops_array3\n",
    "print('The second array minus the first:', math_ops_array_1minus3)"
   ]
  },
  {
   "cell_type": "markdown",
   "metadata": {},
   "source": [
    "###  Breakout session\n",
    "\n",
    "Now we practice using simple mathematical operations on arrays.\n",
    "\n",
    "- Create a new array that is 10 times the square root of `math_ops_array`. Hint: use `np.sqrt()` to find the square root. Call it `math_ops_array4`.\n",
    "- Create a new array that is a range from 10 to 20 **exclusive** (meaning it doesn't contain 20) and call it `math_ops_array5`.\n",
    "- Add `math_ops_array` to `math_ops_array5` and call the result `math_ops_array6`\n",
    "- Finally, subtract 5 times `math_ops_array` from `math_ops_array2` divided by 3 and store it in a name called `math_ops_array7`."
   ]
  },
  {
   "cell_type": "code",
   "execution_count": 237,
   "metadata": {},
   "outputs": [
    {
     "name": "stdout",
     "output_type": "stream",
     "text": [
      "[  0.          10.          14.14213562  17.32050808  20.        ]\n",
      "[10 11 12 13 14 15 16 17 18 19]\n",
      "[  2.          -2.66666667  -7.33333333 -12.         -16.66666667]\n"
     ]
    }
   ],
   "source": [
    "### STUDENT ANSWER\n",
    "\n"
   ]
  },
  {
   "cell_type": "markdown",
   "metadata": {},
   "source": [
    "**NOTE** Order of operations matter!! What are they again? Your aunt Sally can tell you...\n",
    "\n",
    "P - Parenthesis - Please\n",
    "\n",
    "E - Exponents - Excuse\n",
    "\n",
    "M - Multiplication - My\n",
    "\n",
    "D - Division - Dear\n",
    "\n",
    "A - Addition - Aunt\n",
    " \n",
    "S - Subtraction - Sally"
   ]
  },
  {
   "cell_type": "markdown",
   "metadata": {},
   "source": [
    "# Loading and Saving Data\n"
   ]
  },
  {
   "cell_type": "markdown",
   "metadata": {
    "collapsed": true
   },
   "source": [
    "In order to store, share and make analyses reproducible, it is necessary to be able to save and load data to files for permanent storage. \n",
    "\n",
    "We will be looking at two main types of data storage. each used for different types of data:\n",
    "\n",
    "1. `numpy` provides many functions for saving and loading N-D Arrays. We will use two of these functions to save and load non-fMRI data arrays.\n",
    "\n",
    "2. fMRI data is generally stored in a specific format which we can read using the package `nibabel`."
   ]
  },
  {
   "cell_type": "markdown",
   "metadata": {},
   "source": [
    "### Loading Arrays from File\n",
    "\n",
    "`numpy` uses the `.npy` file extension to save N-D Arrays. The `np.load()` function takes a filename and reads in the N-D Array stored in that file. Let's load a sample file that is stored in a shared folder on your datahub account. This file contains an array which indicates the types of stimuli used during an fMRI experiment."
   ]
  },
  {
   "cell_type": "code",
   "execution_count": 245,
   "metadata": {},
   "outputs": [
    {
     "name": "stdout",
     "output_type": "stream",
     "text": [
      "--2018-01-23 22:17:36--  https://berkeley.box.com/shared/static/6y3h0bk2fvfdlelvcq1y0mnqzdwl7rrm.npy\n",
      "Resolving berkeley.box.com (berkeley.box.com)... 107.152.24.197, 107.152.25.197\n",
      "Connecting to berkeley.box.com (berkeley.box.com)|107.152.24.197|:443... connected.\n",
      "HTTP request sent, awaiting response... 301 Moved Permanently\n",
      "Location: https://berkeley.app.box.com/shared/static/6y3h0bk2fvfdlelvcq1y0mnqzdwl7rrm.npy [following]\n",
      "--2018-01-23 22:17:37--  https://berkeley.app.box.com/shared/static/6y3h0bk2fvfdlelvcq1y0mnqzdwl7rrm.npy\n",
      "Resolving berkeley.app.box.com (berkeley.app.box.com)... 107.152.25.199\n",
      "Connecting to berkeley.app.box.com (berkeley.app.box.com)|107.152.25.199|:443... connected.\n",
      "HTTP request sent, awaiting response... 302 Found\n",
      "Location: https://public.boxcloud.com/d/1/gher6gth_Zz6nhDye-ZQTZvVgB-A0zzEilvbmbbbs3uJgy0LlCoVdufNGP_y_WFIvWKZd-n_Di-DKcoA1-da1GnyFy-x4dyuPqZZbqFTyggXIBBgHIhjd7wC9Jwm7HQcCv0TwQa5GeOBp6OEPktLccVofKEbvqd6pDBuVbB18HnVszS3HfsFNdp9O6ySvgIPpSTkAmlN8-Tm4VItc3IXK5TUUgNk5yydt6WJq_9PpjLw7tMlvaKwG_MzgcKuVNZky7BF5Se7VZpqaDfw0Ssb1JXh7KLiUSQ40eONVDJqjRPF0djATetoVnbqWGHIsqTVbfUD6m04j-49Vqz0qwtNM0oHRa9cpeKkZN7XfdgneiqQlY-9wdAc3leRznuCF0Ps48QLBRXLJJlPSGP15enE_V8rq1wPcVFGwc79lGYlAZ5TqFPS_AmTTy_MXfy0givDVXU2joMYl01yk7H4LE4OXtmpvsGVNLDVY-n1YQvmdTR_5ttqCwvwIKPeBH04uHIld9ywO_nwM6NH5w6p52hX-Z21QSW_AJO8Cv5JM9uJFfevNgraDhSKXcXk2NTILQ0oH-ZfgW0hJpABmSMKPEzZoZdmNRTmelZDknFzBIfmC9UL805iEjHbJHCRZnwp5SkEqyxjvBWhoVCBOXokj3IyIkdRtsd8p8Z8FiXwtR2AxgJ8ZhRSd7I1MrBA0DwPyrCs1cW2L-MZ0-sGuceDblTIEKGKvFDhm1tK-6omCwEXD4Ijqlv7vCNwaWHWGY9lnNHp2I-FG2Nb6-x8FRFDqjma4j201oJA-yIpJ6nAPiT3CV5fBgE6vjClzuSIVNTySAqYC2R4N2DIoJ8z4l7WAWaXwBEUZyi7f_dVHHpCCMlXnCplWIWh0mn4Qhzatcm7fqNy4FqsjwLRG-hWWYvW_Xch8ePPpZg_6NL2k8Dc0KfFliEYraxaPi667gmRtxzvr3vJnPEVkJyieR3FMoVZ5kBT2MEDOounVxlthA6OCcXyO8tE2unjqqjmo3PKcCBtl1w8N86RezX9ecalNh4X6jZqrzykOHt0ScJLmPeYH8BzZJf0Hdb4FP_mbulJzvIo7uRVPWgZzwUgXYAd29CmzmvM2A0N1uOsfW_gSIgj2B7utzRF_SxKBKlm5My3UuxMWkctOE4UyCkV5qCyYoxxD71A2ZwDaKkuPBKShXCK38K5LgskT1pjJX7mu-Y19IRaG8uJ6vumKWlALfJzgsXfWaoLhroAQqhqOeMOcrwKHHPGjFptMVB4vZZgI1sic9kTE2YWbGwxJhW3a14jpetlWZ5oHVJGkujHj69p3szV7K8_aOTcpAYFgnI0ZXFuI6mU7aT16o5PeTFM8KsScA-gTjdHmCSk5AQ4r5uKf4xn5vIkveI./download [following]\n",
      "--2018-01-23 22:17:37--  https://public.boxcloud.com/d/1/gher6gth_Zz6nhDye-ZQTZvVgB-A0zzEilvbmbbbs3uJgy0LlCoVdufNGP_y_WFIvWKZd-n_Di-DKcoA1-da1GnyFy-x4dyuPqZZbqFTyggXIBBgHIhjd7wC9Jwm7HQcCv0TwQa5GeOBp6OEPktLccVofKEbvqd6pDBuVbB18HnVszS3HfsFNdp9O6ySvgIPpSTkAmlN8-Tm4VItc3IXK5TUUgNk5yydt6WJq_9PpjLw7tMlvaKwG_MzgcKuVNZky7BF5Se7VZpqaDfw0Ssb1JXh7KLiUSQ40eONVDJqjRPF0djATetoVnbqWGHIsqTVbfUD6m04j-49Vqz0qwtNM0oHRa9cpeKkZN7XfdgneiqQlY-9wdAc3leRznuCF0Ps48QLBRXLJJlPSGP15enE_V8rq1wPcVFGwc79lGYlAZ5TqFPS_AmTTy_MXfy0givDVXU2joMYl01yk7H4LE4OXtmpvsGVNLDVY-n1YQvmdTR_5ttqCwvwIKPeBH04uHIld9ywO_nwM6NH5w6p52hX-Z21QSW_AJO8Cv5JM9uJFfevNgraDhSKXcXk2NTILQ0oH-ZfgW0hJpABmSMKPEzZoZdmNRTmelZDknFzBIfmC9UL805iEjHbJHCRZnwp5SkEqyxjvBWhoVCBOXokj3IyIkdRtsd8p8Z8FiXwtR2AxgJ8ZhRSd7I1MrBA0DwPyrCs1cW2L-MZ0-sGuceDblTIEKGKvFDhm1tK-6omCwEXD4Ijqlv7vCNwaWHWGY9lnNHp2I-FG2Nb6-x8FRFDqjma4j201oJA-yIpJ6nAPiT3CV5fBgE6vjClzuSIVNTySAqYC2R4N2DIoJ8z4l7WAWaXwBEUZyi7f_dVHHpCCMlXnCplWIWh0mn4Qhzatcm7fqNy4FqsjwLRG-hWWYvW_Xch8ePPpZg_6NL2k8Dc0KfFliEYraxaPi667gmRtxzvr3vJnPEVkJyieR3FMoVZ5kBT2MEDOounVxlthA6OCcXyO8tE2unjqqjmo3PKcCBtl1w8N86RezX9ecalNh4X6jZqrzykOHt0ScJLmPeYH8BzZJf0Hdb4FP_mbulJzvIo7uRVPWgZzwUgXYAd29CmzmvM2A0N1uOsfW_gSIgj2B7utzRF_SxKBKlm5My3UuxMWkctOE4UyCkV5qCyYoxxD71A2ZwDaKkuPBKShXCK38K5LgskT1pjJX7mu-Y19IRaG8uJ6vumKWlALfJzgsXfWaoLhroAQqhqOeMOcrwKHHPGjFptMVB4vZZgI1sic9kTE2YWbGwxJhW3a14jpetlWZ5oHVJGkujHj69p3szV7K8_aOTcpAYFgnI0ZXFuI6mU7aT16o5PeTFM8KsScA-gTjdHmCSk5AQ4r5uKf4xn5vIkveI./download\n",
      "Resolving public.boxcloud.com (public.boxcloud.com)... 107.152.25.200\n",
      "Connecting to public.boxcloud.com (public.boxcloud.com)|107.152.25.200|:443... connected.\n",
      "HTTP request sent, awaiting response... 200 OK\n",
      "Length: 4880 (4.8K) [application/octet-stream]\n",
      "Saving to: ‘6y3h0bk2fvfdlelvcq1y0mnqzdwl7rrm.npy.1’\n",
      "\n",
      "6y3h0bk2fvfdlelvcq1 100%[===================>]   4.77K  --.-KB/s    in 0s      \n",
      "\n",
      "2018-01-23 22:17:38 (194 MB/s) - ‘6y3h0bk2fvfdlelvcq1y0mnqzdwl7rrm.npy.1’ saved [4880/4880]\n",
      "\n",
      "/home/jovyan/tmp/experiment_design_run1.npy: Scheme missing.\n",
      "FINISHED --2018-01-23 22:17:38--\n",
      "Total wall clock time: 1.5s\n",
      "Downloaded: 1 files, 4.8K in 0s (194 MB/s)\n"
     ]
    }
   ],
   "source": [
    "# Download some data\n",
    "!(mkdir -p /home/jovyan/tmp && wget https://berkeley.box.com/shared/static/6y3h0bk2fvfdlelvcq1y0mnqzdwl7rrm.npy /home/jovyan/tmp/experiment_design_run1.npy)"
   ]
  },
  {
   "cell_type": "code",
   "execution_count": 243,
   "metadata": {},
   "outputs": [
    {
     "name": "stdout",
     "output_type": "stream",
     "text": [
      "float64\n"
     ]
    }
   ],
   "source": [
    "# Load the fMRI data from a numpy array file\n",
    "fname_in = '/home/jovyan/experiment_design_run1.npy'\n",
    "run1_stimuli_data = np.load(fname_in)\n",
    "print(run1_stimuli_data.dtype)"
   ]
  },
  {
   "cell_type": "markdown",
   "metadata": {},
   "source": [
    "The first thing to look at whenever you load N-D Array data is its shape, which tells us the number of dimensions and size of each one. How many dimensions does this data array have?"
   ]
  },
  {
   "cell_type": "code",
   "execution_count": 244,
   "metadata": {},
   "outputs": [
    {
     "name": "stdout",
     "output_type": "stream",
     "text": [
      "The stimuli of this run is shaped:  (120, 5)\n"
     ]
    }
   ],
   "source": [
    "# Print out the size of the data array we've loaded\n",
    "print('The stimuli of this run is shaped: ', run1_stimuli_data.shape)"
   ]
  },
  {
   "cell_type": "markdown",
   "metadata": {},
   "source": [
    "How is this shape interpreted? The first axis indicates there are 120 TRs (or volumes) in this run. The second axis indicates there were 5 types of stimulus shown. So this array uses a 1 to indicate whether a given stimulus type was shown at a given TR."
   ]
  },
  {
   "cell_type": "markdown",
   "metadata": {},
   "source": [
    "### Saving Arrays to File\n",
    "Now that we've extracted the first run's stimuli array, let's save it out to permanent file storage using the `np.save()` function."
   ]
  },
  {
   "cell_type": "code",
   "execution_count": 246,
   "metadata": {},
   "outputs": [],
   "source": [
    "# save out the float data\n",
    "fname_out = '/home/jovyan/experiment_design_run1.npy'\n",
    "np.save(fname_out, run1_stimuli_data)"
   ]
  },
  {
   "cell_type": "markdown",
   "metadata": {},
   "source": [
    ">Now check your datahub file list to see if the save worked!"
   ]
  },
  {
   "cell_type": "markdown",
   "metadata": {
    "collapsed": true
   },
   "source": [
    "## Loading fMRI Data\n",
    "\n",
    "\n",
    "In general, fMRI data is not stored as numpy arrays. As a matter of fact, there are many different file formats in which fMRI data can be saved. The scanner often saves each volume as a so-called DICOM file. Usually in a first step of fMRI data analysis, these DICOM files are collected together into so-called NIFTI files. Fortunately, there exists a python package  called `nibabel` which can read many neuroimaging file formats. Let's import the `nibabel` module here."
   ]
  },
  {
   "cell_type": "code",
   "execution_count": 247,
   "metadata": {},
   "outputs": [],
   "source": [
    "import nibabel"
   ]
  },
  {
   "cell_type": "markdown",
   "metadata": {},
   "source": [
    "To read in a nifti file, we first use the `nibabel.load()` function, giving it the filename of the file to load. "
   ]
  },
  {
   "cell_type": "code",
   "execution_count": 249,
   "metadata": {},
   "outputs": [],
   "source": [
    "fname = '/data/cogneuro/fMRI/categories/s01_categories_01.nii.gz'\n",
    "nii = nibabel.load(fname)"
   ]
  },
  {
   "cell_type": "markdown",
   "metadata": {},
   "source": [
    "This object stores the infomation *about* the fMRI data stored in the file, but not the actual fMRI data itself. \n",
    "This meta-data can be accessed via attributes of the `nii` object."
   ]
  },
  {
   "cell_type": "code",
   "execution_count": 250,
   "metadata": {},
   "outputs": [
    {
     "name": "stdout",
     "output_type": "stream",
     "text": [
      "nii.in_memory : False\n",
      "nii.shape : (100, 100, 30, 120)\n",
      "voxel sizes : (2.24, 2.24, 4.1300001, 1.0)\n"
     ]
    }
   ],
   "source": [
    "print('nii.in_memory :', nii.in_memory)\n",
    "print('nii.shape :', nii.shape)\n",
    "print('voxel sizes :', nii.header.get_zooms())"
   ]
  },
  {
   "cell_type": "markdown",
   "metadata": {},
   "source": [
    "As we expected, the data is not yet in memory. To load the data into memory, we use a second function called `.get_data()`, this time on the **name** returned by the `load()` function."
   ]
  },
  {
   "cell_type": "code",
   "execution_count": 251,
   "metadata": {},
   "outputs": [
    {
     "name": "stdout",
     "output_type": "stream",
     "text": [
      "data.dtype:  float32\n",
      "data.shape:  (100, 100, 30, 120)\n"
     ]
    }
   ],
   "source": [
    "data = nii.get_data()\n",
    "print('data.dtype: ', data.dtype)\n",
    "print('data.shape: ', data.shape)"
   ]
  },
  {
   "cell_type": "markdown",
   "metadata": {},
   "source": [
    "As we said above, the first thing to do when loading data is to look at it's shape. For this data, we happen to know (since we collected the data ourselves!) that the MRI scanner saves the data such that it's dimensions are (X, Y, Z, T), where: X, Y, and Z are the three dimensions in space, and T is time, in volumes. Thus, there are 120 volumes (120 time points). Each volume has 30 horizontal (AKA axial) slices with 100 x 100 pixels.\n",
    "\n",
    "<img src=\"figures/slices.png\" style=\"height: 200px;\">"
   ]
  },
  {
   "cell_type": "code",
   "execution_count": 57,
   "metadata": {},
   "outputs": [
    {
     "name": "stdout",
     "output_type": "stream",
     "text": [
      "Each volume has 100 entries on the X axis, 100 on Y, 30 on Z. There are 120 volumes.\n"
     ]
    }
   ],
   "source": [
    "print('Each volume has {0} entries on the X axis, {1} on Y, {2} on Z. There are {3} volumes.'.format(\n",
    "        data.shape[0], data.shape[1], data.shape[2], data.shape[3]))"
   ]
  },
  {
   "cell_type": "markdown",
   "metadata": {},
   "source": [
    "### Transposing 4D fMRI data for convenience\n",
    "\n",
    "When we work with fMRI data, it is in general more convenient to have the data in (T, Z, Y, X) format. The reasons why this convention is more convenient (like easier syntax and shortcuts while averaging over time and transfering data to a standard units, for example) will become more obvious as we go. \n",
    "\n",
    "Fortunately there is a simple command that will do this transformation for us. It is called **transpose**. Before we apply the transpose to fMRI data, let's learn exactly what it does on some sample data."
   ]
  },
  {
   "cell_type": "markdown",
   "metadata": {},
   "source": [
    "#### How to Transpose Arrays\n",
    "\n",
    "The function to tranpose a `numpy` array is `transpose()`. However, since taking the transpose of an array is a very common operation in `numpy`, there is a shortcut to do it! Simply add `.T` after the **name** of your array:\n",
    "\n",
    "First, let's remind ourselves what's in the sample 2-D array we created earlier, and what it's shape is."
   ]
  },
  {
   "cell_type": "code",
   "execution_count": 65,
   "metadata": {},
   "outputs": [
    {
     "name": "stdout",
     "output_type": "stream",
     "text": [
      "[[ 1  3  5  7  9]\n",
      " [ 2  4  6  8 10]]\n",
      "This array has shape (2, 5).\n"
     ]
    }
   ],
   "source": [
    "print(array_2D)\n",
    "print(\"This array has shape {}.\".format(array_2D.shape))"
   ]
  },
  {
   "cell_type": "markdown",
   "metadata": {},
   "source": [
    "Now let's take the transpose of that array, store it in a new name, and see what it's new shape is."
   ]
  },
  {
   "cell_type": "code",
   "execution_count": 66,
   "metadata": {},
   "outputs": [
    {
     "name": "stdout",
     "output_type": "stream",
     "text": [
      "[[ 1  2]\n",
      " [ 3  4]\n",
      " [ 5  6]\n",
      " [ 7  8]\n",
      " [ 9 10]]\n",
      "This transposed array has shape (5, 2).\n"
     ]
    }
   ],
   "source": [
    "array_2D_T = array_2D.T\n",
    "print(array_2D_T)\n",
    "print(\"This transposed array has shape {}.\".format(array_2D_T.shape))"
   ]
  },
  {
   "cell_type": "markdown",
   "metadata": {},
   "source": [
    "So what happened when you transposed this 2-D array?\n",
    "\n",
    "And what do you think would happend if you transpose a 3-D array? Let's again remind ourselves of our 3-D array"
   ]
  },
  {
   "cell_type": "code",
   "execution_count": null,
   "metadata": {},
   "outputs": [],
   "source": [
    "print(random_vals_3D)\n",
    "print(\"This array has shape {}.\".format(random_vals_3D.shape))"
   ]
  },
  {
   "cell_type": "markdown",
   "metadata": {},
   "source": [
    "And now tranpose that 3-D array."
   ]
  },
  {
   "cell_type": "code",
   "execution_count": 68,
   "metadata": {},
   "outputs": [
    {
     "name": "stdout",
     "output_type": "stream",
     "text": [
      "[[[ 0.76699569  0.42237766]\n",
      "  [-1.89359676 -0.60820399]\n",
      "  [-1.09358981  0.52084066]\n",
      "  [ 1.26547644 -2.07877421]]\n",
      "\n",
      " [[-0.26987398  0.13515866]\n",
      "  [-2.15653545  1.06297985]\n",
      "  [-1.33739895 -1.29031273]\n",
      "  [ 0.31060741  0.73958927]]\n",
      "\n",
      " [[ 0.53433737  0.48883929]\n",
      "  [-0.69236487  0.02864403]\n",
      "  [-0.38852138 -1.28465898]\n",
      "  [ 1.19655109  1.08904781]]]\n",
      "This transposed array has shape (3, 4, 2).\n"
     ]
    }
   ],
   "source": [
    "random_vals_3D_T = random_vals_3D.T\n",
    "print(random_vals_3D_T)\n",
    "print(\"This transposed array has shape {}.\".format(random_vals_3D_T.shape))"
   ]
  },
  {
   "cell_type": "markdown",
   "metadata": {},
   "source": [
    "What we've seen is that the **tranpose** operator inverts the order of the dimensions of an array (e.g. the last dimension becomes the first dimension)."
   ]
  },
  {
   "cell_type": "markdown",
   "metadata": {},
   "source": [
    "#### Transpose the fMRI Data \n",
    "Our aim in learning how to transpose an array is to transform fMRI data into a move convenient format, which we can do using `.T`. Remember that the shape of the axes of the fMRI data we loaded is currently ordered (X, Y, Z, T) and so the ordering we want is (T, Z, Y, X)."
   ]
  },
  {
   "cell_type": "markdown",
   "metadata": {},
   "source": [
    "#### Breakout Session\n",
    "\n",
    "Now let's transpose the fMRI data we've loaded and explore it's shape.\n",
    "\n",
    "- Create the transposed matrix of the 4-D fMRI data array that we loaded (`data`). Call it `data_T`.\n",
    "- Print the dimensions of `data`\n",
    "- What do you think the dimensions of `data_T` will be?\n",
    "- Print out the dimensions of `dataT`."
   ]
  },
  {
   "cell_type": "code",
   "execution_count": 90,
   "metadata": {
    "scrolled": false
   },
   "outputs": [
    {
     "name": "stdout",
     "output_type": "stream",
     "text": [
      "The shape of the data is: (100, 100, 30, 120)\n",
      "The shape of the dataT is: (120, 30, 100, 100)\n",
      "There are 100 volumes. Each volume has 100 entries on the Z axis, 30 on Y, 120 on X. \n"
     ]
    }
   ],
   "source": [
    "### STUDENT ANSWER\n",
    "data_T = data.T\n",
    "print('The shape of the data is: {0}'.format(data.shape))\n",
    "\n",
    "# I think the dimensions will be (120,30,100,100)\n",
    "\n",
    "print('The shape of the dataT is: {0}'.format(data_T.shape))\n",
    "print('There are {0} volumes. Each volume has {1} entries on the Z axis, {2} on Y, {3} on X. '.format(\n",
    "        data.shape[0], data.shape[1], data.shape[2], data.shape[3]))"
   ]
  },
  {
   "cell_type": "markdown",
   "metadata": {},
   "source": [
    "# Memory management [Optional - Time Permitting]\n",
    "\n",
    "A big difficulty in data science in general is how to deal with large data sets. Let's look at a couple simple ways of reducing the amount of memory (RAM) that is used when dealing with large arrays."
   ]
  },
  {
   "cell_type": "markdown",
   "metadata": {},
   "source": [
    "### Python digression: Floating point vs integer numbers\n",
    "\n",
    "`numpy` stores numbers in several different formats: numbers can be stored as boolean values (True or False); as integers (0, 1, 2...) or as floating-point numbers (2.3256..., 3.63212..., etc). This is a common aspect of all programming languages that deal with images or numbers. Different formats for numbers use different amounts of memory. For data types that allow decimals (e.g. `numpy`'s `float32` and `float64`), the more decimal places that are stored for each number in an array, the more memory the array takes up. \n",
    "\n",
    "Thus, converting to a less precise format (`np.float32`) can save memory, if precision is not critically important."
   ]
  },
  {
   "cell_type": "code",
   "execution_count": 20,
   "metadata": {},
   "outputs": [
    {
     "name": "stdout",
     "output_type": "stream",
     "text": [
      "3.14159265359\n",
      "3.14159\n"
     ]
    }
   ],
   "source": [
    "print(np.float64(np.pi))\n",
    "print(np.float32(np.pi))"
   ]
  },
  {
   "cell_type": "code",
   "execution_count": 21,
   "metadata": {},
   "outputs": [
    {
     "name": "stdout",
     "output_type": "stream",
     "text": [
      "data type of `r64` is:  float64\n",
      "data type of `r32` is:  float32\n"
     ]
    }
   ],
   "source": [
    "r64 = np.random.rand(30,100,100)\n",
    "r32 = r64.astype(np.float32)\n",
    "print('data type of `r64` is: ', r64.dtype)\n",
    "print('data type of `r32` is: ', r32.dtype)"
   ]
  },
  {
   "cell_type": "markdown",
   "metadata": {},
   "source": [
    "### Breakout Session\n",
    "\n",
    "Take a look at the top right of your notebook. It should say **Mem:** xxx/1024 (MB). This tells you about the amount of memory available to you on datahub and the amount of it that you are using. If you cannot see this, go to the **View** menu and select *Toggle Toolbar*. Then it should appear.\n",
    "\n",
    "In this breakout session, you are going to construct an array that breaks your memory limits.\n",
    "\n",
    "1. Subtract the used memory from 1024, and multiply it by `(1024 * 1024)`. You have that many bytes free.\n",
    "2. Divide this value by 8. You can store that many `float64`\n",
    "3. Multiply that value by 0.75 and create an array of that many `ones`\n",
    "4. Watch the memory go up\n",
    "5. Make another array of that size and watch the kernel die"
   ]
  },
  {
   "cell_type": "code",
   "execution_count": null,
   "metadata": {},
   "outputs": [
    {
     "name": "stdout",
     "output_type": "stream",
     "text": [
      "3507486720\n",
      "438435840\n"
     ]
    }
   ],
   "source": [
    "a = (4096 - 751) * (1024 * 1024)\n",
    "print(a)\n",
    "b = a // 8\n",
    "print(b)\n",
    "c = int(b * 0.75)\n",
    "d = np.ones(c)\n",
    "e = np.ones(c)"
   ]
  },
  {
   "cell_type": "markdown",
   "metadata": {},
   "source": [
    "## Memory maps\n",
    "When data files are many gigabytes large, too large for computer memory, then we have to come up with ways of not having all of it in computer memory at once. This is such a common problem, that modern operating systems have come up with ways of doing this as best as possible without the computer programs even knowing that not all of the data they are working with is in live memory. One of the mechanisms by which this can happen is **memory mapped arrays**: These are arrays that are stored on the hard drive, but the relevant chunks of it are loaded into memory.\n",
    "\n",
    "It turns out that if we **unzip** our nifti file, then nibabel can read it as a memory map:\n"
   ]
  },
  {
   "cell_type": "code",
   "execution_count": 253,
   "metadata": {},
   "outputs": [],
   "source": [
    "!gunzip -c /data/cogneuro/fMRI/categories/s01_categories_01.nii.gz > /home/jovyan/s01_categories_01.nii\n"
   ]
  },
  {
   "cell_type": "code",
   "execution_count": 256,
   "metadata": {},
   "outputs": [],
   "source": [
    "nii_nozip = nibabel.load(\"/home/jovyan/s01_categories_01.nii\")\n",
    "data_nozip = nii_nozip.get_data()"
   ]
  },
  {
   "cell_type": "code",
   "execution_count": 257,
   "metadata": {},
   "outputs": [
    {
     "data": {
      "text/plain": [
       "memmap([[[[  0.        ,   0.        ,   0.        , ...,   0.        ,\n",
       "            0.        ,   0.        ],\n",
       "         [  0.        ,   0.        ,   0.        , ...,   0.        ,\n",
       "            0.        ,   0.        ],\n",
       "         [  0.        ,   0.        ,   0.        , ...,   0.        ,\n",
       "            0.        ,   0.        ],\n",
       "         ..., \n",
       "         [  0.        ,   0.        ,   0.        , ...,   0.        ,\n",
       "            0.        ,   0.        ],\n",
       "         [  0.        ,   0.        ,   0.        , ...,   0.        ,\n",
       "            0.        ,   0.        ],\n",
       "         [  0.        ,   0.        ,   0.        , ...,   0.        ,\n",
       "            0.        ,   0.        ]],\n",
       "\n",
       "        [[  0.        ,   0.        ,   0.        , ...,   0.        ,\n",
       "            0.        ,   0.        ],\n",
       "         [  0.        ,   0.        ,   0.        , ...,   0.        ,\n",
       "            0.        ,   0.        ],\n",
       "         [  0.        ,   0.        ,   0.        , ...,   0.        ,\n",
       "            0.        ,   0.        ],\n",
       "         ..., \n",
       "         [  0.        ,   0.        ,   0.        , ...,   0.        ,\n",
       "            0.        ,   0.        ],\n",
       "         [  0.        ,   0.        ,   0.        , ...,   0.        ,\n",
       "            0.        ,   0.        ],\n",
       "         [  0.        ,   0.        ,   0.        , ...,   0.        ,\n",
       "            0.        ,   0.        ]],\n",
       "\n",
       "        [[  0.        ,   0.        ,   0.        , ...,   0.        ,\n",
       "            0.        ,   0.        ],\n",
       "         [  0.        ,   0.        ,   0.        , ...,   0.        ,\n",
       "            0.        ,   0.        ],\n",
       "         [  0.        ,   0.        ,   0.        , ...,   0.        ,\n",
       "            0.        ,   0.        ],\n",
       "         ..., \n",
       "         [  0.        ,   0.        ,   0.        , ...,   0.        ,\n",
       "            0.        ,   0.        ],\n",
       "         [  0.        ,   0.        ,   0.        , ...,   0.        ,\n",
       "            0.        ,   0.        ],\n",
       "         [  0.        ,   0.        ,   0.        , ...,   0.        ,\n",
       "            0.        ,   0.        ]],\n",
       "\n",
       "        ..., \n",
       "        [[  0.        ,   0.        ,   0.        , ...,   0.        ,\n",
       "            0.        ,   0.        ],\n",
       "         [  0.        ,   0.        ,   0.        , ...,   0.        ,\n",
       "            0.        ,   0.        ],\n",
       "         [  0.        ,   0.        ,   0.        , ...,   0.        ,\n",
       "            0.        ,   0.        ],\n",
       "         ..., \n",
       "         [  0.        ,   0.        ,   0.        , ...,   0.        ,\n",
       "            0.        ,   0.        ],\n",
       "         [  0.        ,   0.        ,   0.        , ...,   0.        ,\n",
       "            0.        ,   0.        ],\n",
       "         [  0.        ,   0.        ,   0.        , ...,   0.        ,\n",
       "            0.        ,   0.        ]],\n",
       "\n",
       "        [[  0.        ,   0.        ,   0.        , ...,   0.        ,\n",
       "            0.        ,   0.        ],\n",
       "         [  0.        ,   0.        ,   0.        , ...,   0.        ,\n",
       "            0.        ,   0.        ],\n",
       "         [  0.        ,   0.        ,   0.        , ...,   0.        ,\n",
       "            0.        ,   0.        ],\n",
       "         ..., \n",
       "         [  0.        ,   0.        ,   0.        , ...,   0.        ,\n",
       "            0.        ,   0.        ],\n",
       "         [  0.        ,   0.        ,   0.        , ...,   0.        ,\n",
       "            0.        ,   0.        ],\n",
       "         [  0.        ,   0.        ,   0.        , ...,   0.        ,\n",
       "            0.        ,   0.        ]],\n",
       "\n",
       "        [[  0.        ,   0.        ,   0.        , ...,   0.        ,\n",
       "            0.        ,   0.        ],\n",
       "         [  0.        ,   0.        ,   0.        , ...,   0.        ,\n",
       "            0.        ,   0.        ],\n",
       "         [  0.        ,   0.        ,   0.        , ...,   0.        ,\n",
       "            0.        ,   0.        ],\n",
       "         ..., \n",
       "         [  0.        ,   0.        ,   0.        , ...,   0.        ,\n",
       "            0.        ,   0.        ],\n",
       "         [  0.        ,   0.        ,   0.        , ...,   0.        ,\n",
       "            0.        ,   0.        ],\n",
       "         [  0.        ,   0.        ,   0.        , ...,   0.        ,\n",
       "            0.        ,   0.        ]]],\n",
       "\n",
       "\n",
       "       [[[  5.1247077 ,   8.17555618,   8.22548485, ...,   5.83932972,\n",
       "           12.78268433,  10.72512054],\n",
       "         [ 18.52385902,  12.59286213,   4.66074181, ...,  12.97262096,\n",
       "            7.91016531,   4.84658575],\n",
       "         [  2.14177394,   6.19111586,   6.23956966, ...,   8.89055252,\n",
       "            9.8360281 ,   5.78061676],\n",
       "         ..., \n",
       "         [  8.73474693,   9.70815277,   2.68192124, ...,   3.08092451,\n",
       "            2.09670424,   8.11284637],\n",
       "         [  8.23278427,   7.27913475,   9.32463455, ...,   7.88377094,\n",
       "            5.8306036 ,   1.77658629],\n",
       "         [  5.3148036 ,   9.29428482,   8.27415371, ...,   7.54130745,\n",
       "            7.56608534,   7.59124994]],\n",
       "\n",
       "        [[  8.69883728,   8.77022743,   0.84035802, ...,   4.50771332,\n",
       "            8.43179703,   4.35462236],\n",
       "         [  6.27513456,   3.20517492,   4.13644886, ...,  13.46230507,\n",
       "           11.53669739,   7.61232424],\n",
       "         [  3.27000856,   7.23992825,  12.2104969 , ...,  10.15731621,\n",
       "            5.20321369,   9.24976063],\n",
       "         ..., \n",
       "         [  3.40891242,   7.36971045,  13.33090305, ...,   9.50035954,\n",
       "           10.50733089,   8.51469803],\n",
       "         [  8.00045395,   9.06317139,  10.12472153, ...,   1.41630435,\n",
       "            3.34243393,   5.26739597],\n",
       "         [  6.82753229,   5.83681154,   9.84592819, ...,   5.81238461,\n",
       "           10.80268383,   9.79282188]],\n",
       "\n",
       "        [[  9.01545429,   6.01933479,  11.02311039, ...,   4.75515795,\n",
       "            6.74672222,   7.73818159],\n",
       "         [ 11.20648479,  12.20493603,   7.20333767, ...,   3.69378853,\n",
       "            8.68652439,   5.67921257],\n",
       "         [  5.3041029 ,   0.33585656,   6.36710024, ...,   4.55878019,\n",
       "            2.5308702 ,   6.50244999],\n",
       "         ..., \n",
       "         [  7.02165461,  10.02747345,   9.03313446, ...,   3.63579774,\n",
       "           12.62322617,   2.61049771],\n",
       "         [  4.84160662,   9.75949001,   4.67867327, ...,   5.06130409,\n",
       "            8.1313839 ,   5.20276403],\n",
       "         [ 11.58931732,   4.59842587,  11.60747814, ...,   3.27436495,\n",
       "            2.27691054,  11.27939987]],\n",
       "\n",
       "        ..., \n",
       "        [[  7.59854603,   0.62158602,   5.64421177, ...,   5.48328066,\n",
       "            7.4578557 ,   9.43201733],\n",
       "         [  1.55157614,   3.5751164 ,   9.59824944, ...,   6.54473925,\n",
       "            4.52067518,   8.49620438],\n",
       "         [  1.03857195,  15.08047009,   2.12214184, ...,   6.39947033,\n",
       "            4.41479588,   9.42989445],\n",
       "         ..., \n",
       "         [ 12.13912487,  10.11215782,  11.08581638, ...,   4.23310089,\n",
       "            7.2793951 ,   9.32631493],\n",
       "         [  9.09020901,   3.10559273,   7.12054682, ...,  12.97445965,\n",
       "            4.93957424,   6.90425873],\n",
       "         [  8.40604019,  10.37668514,   8.3479023 , ...,   6.85865021,\n",
       "            3.89631486,   4.93455267]],\n",
       "\n",
       "        [[ 11.0527277 ,   9.03690147,   6.02145529, ...,  11.77859116,\n",
       "            0.80720508,   7.83619881],\n",
       "         [ 11.29996872,  11.27780151,  10.25607014, ...,   6.66099453,\n",
       "           11.68976784,  10.71897697],\n",
       "         [ 14.94597435,   2.93776655,   3.92979097, ...,   9.55834198,\n",
       "            7.57724857,   6.59638691],\n",
       "         ..., \n",
       "         [  8.8846426 ,   5.86387396,  10.84325504, ...,   6.47274351,\n",
       "            1.46952736,   8.46646118],\n",
       "         [  4.36084557,  11.32640743,   4.29226351, ...,   8.32714462,\n",
       "            6.3271122 ,   2.32737446],\n",
       "         [  2.81413078,   3.76703334,   7.72078514, ...,   5.06860447,\n",
       "            4.12090158,   7.17404842]],\n",
       "\n",
       "        [[  6.95551395,   8.88970375,   7.82473087, ...,   8.93947887,\n",
       "            2.97166443,   5.00468779],\n",
       "         [ 10.497015  ,   7.46380901,   3.43123484, ...,  11.89965248,\n",
       "            8.94037342,   9.98172569],\n",
       "         [  3.43164659,  11.33217621,   6.23462296, ...,  10.80360317,\n",
       "            3.92844319,   5.0552001 ],\n",
       "         ..., \n",
       "         [  6.08034372,   1.06291676,   8.04589844, ...,  15.81501484,\n",
       "            6.84540844,   4.87621164],\n",
       "         [  3.47732925,   5.43805265,   9.39914322, ...,   5.37452412,\n",
       "            9.37822247,   4.38228798],\n",
       "         [  2.25451612,   8.17567158,   9.09786892, ...,  11.09521198,\n",
       "            7.13818645,   7.18220186]]],\n",
       "\n",
       "\n",
       "       [[[ 11.00099373,  12.00493717,   6.00877953, ...,   4.77916288,\n",
       "           15.77132702,   7.76339006],\n",
       "         [ 16.847435  ,   8.87224674,   5.89649248, ...,  16.91213608,\n",
       "            9.87077045,   6.82883978],\n",
       "         [  2.83034134,   2.80937958,  12.7890234 , ...,  10.48618984,\n",
       "            2.536062  ,   5.58653975],\n",
       "         ..., \n",
       "         [  3.99624491,   7.95235491,   9.90915489, ...,   7.54456329,\n",
       "            3.58142281,   1.61897218],\n",
       "         [  3.8368175 ,  14.83839226,   8.83999634, ...,  17.22255707,\n",
       "            8.22760677,   2.23268533],\n",
       "         [ 12.20840931,   6.15625906,  10.10491848, ...,  11.60016155,\n",
       "            7.64272356,   4.68609476]],\n",
       "\n",
       "        [[  6.02382231,  15.07710457,   9.12944889, ...,  10.89583874,\n",
       "            7.83943129,   9.78208733],\n",
       "         [ 12.40585995,  -0.55570394,   8.48200893, ...,  15.99442291,\n",
       "            5.94823027,   7.90131426],\n",
       "         [  8.36388206,  10.26689148,  12.17135525, ...,   7.89508629,\n",
       "            9.96842575,   5.04322147],\n",
       "         ..., \n",
       "         [ 10.48692322,   9.45001793,   8.41341496, ...,  12.22466946,\n",
       "            4.223207  ,   5.22204781],\n",
       "         [  7.70030689,   4.72998095,   7.75902891, ...,   6.92162704,\n",
       "           10.87801552,  11.83377838],\n",
       "         [ 11.05048561,   7.00631905,   5.96282673, ...,   7.45687151,\n",
       "            2.49156451,   9.52693176]],\n",
       "\n",
       "        [[  5.53540611,   4.52080774,   3.50635147, ...,   6.79354143,\n",
       "           12.79560089,   9.79780293],\n",
       "         [  4.53662109,   6.50461292,   3.47318912, ...,   7.75791359,\n",
       "            4.79428911,   7.83124924],\n",
       "         [  4.12186909,  11.20638371,   4.28955173, ...,   6.87497425,\n",
       "            7.80198765,   4.72765446],\n",
       "         ..., \n",
       "         [ 13.91169643,   2.92053127,  10.92917919, ...,   5.67719936,\n",
       "            7.66416979,  11.65095329],\n",
       "         [ 10.26553535,   6.28117704,   9.29673481, ...,   7.52668095,\n",
       "           10.53251362,  10.53826237],\n",
       "         [  7.68998575,   9.77696133,   2.86271381, ...,   4.55868244,\n",
       "            6.50242519,   9.44494438]],\n",
       "\n",
       "        ..., \n",
       "        [[  7.24663115,   5.25723219,  11.26745796, ...,  12.94287014,\n",
       "            3.90960741,   7.87596989],\n",
       "         [  9.53680801,   4.56710052,  13.59682083, ...,  11.19788647,\n",
       "            6.16122866,  10.12399864],\n",
       "         [ 13.44036007,   0.45522243,  12.46994591, ...,   7.23786354,\n",
       "            7.23649549,  10.23498821],\n",
       "         ..., \n",
       "         [  7.0445199 ,   4.98900032,   9.93444633, ...,   9.09857273,\n",
       "           12.15598106,  11.21435452],\n",
       "         [  6.86577225,   6.82631493,  14.78749084, ...,   5.54629326,\n",
       "           10.58092308,   7.61618567],\n",
       "         [ 12.59052944,  11.57129765,  11.55230236, ...,  10.94611359,\n",
       "            2.95456719,  10.96325684]],\n",
       "\n",
       "        [[  6.63429737,   8.59731579,   4.56100321, ...,   9.84852314,\n",
       "            4.88983631,   7.93181801],\n",
       "         [ 11.71796036,  13.76856518,  11.81843185, ...,   9.62548447,\n",
       "            9.58965397,   5.55308437],\n",
       "         [  5.80939579,  16.8170681 ,   4.8246274 , ...,  10.93604183,\n",
       "            3.93041992,  11.92468548],\n",
       "         ..., \n",
       "         [  7.23707962,  11.20774269,   8.17905045, ...,   4.17858171,\n",
       "           11.22465706,   7.27137709],\n",
       "         [  6.757833  ,   4.73348522,  12.7094326 , ...,   7.91236305,\n",
       "            5.92255402,  11.93303967],\n",
       "         [  9.9709301 ,   6.93874025,   7.90695477, ...,  10.9429636 ,\n",
       "            3.95798492,   7.97340918]],\n",
       "\n",
       "        [[  3.46254563,   9.47740078,   9.49210739, ...,   8.19613171,\n",
       "            2.19366884,  13.19105816],\n",
       "         [ 10.95877457,   4.93114281,   6.90380383, ...,   9.71299171,\n",
       "            7.71962118,   7.72654343],\n",
       "         [  5.89523315,   3.88865376,   8.88228607, ...,   8.56434727,\n",
       "            3.58257675,   4.60101843],\n",
       "         ..., \n",
       "         [  3.98510361,  12.02969074,   5.07357883, ...,  16.45214653,\n",
       "            1.41484284,   1.37683916],\n",
       "         [  8.25575829,   6.25696087,  10.25802422, ...,  12.4473772 ,\n",
       "            4.43221617,   5.41691494],\n",
       "         [  8.61019039,   9.64370728,   6.67653751, ...,  13.87946892,\n",
       "           10.83277607,  13.78539753]]],\n",
       "\n",
       "\n",
       "       ..., \n",
       "       [[[ 10.08217716,   4.09308338,   7.10367727, ...,   4.23832226,\n",
       "            8.21267891,   9.18672276],\n",
       "         [  6.66219139,   5.67416763,   7.68598413, ...,   6.97669888,\n",
       "            4.96993828,   5.96301746],\n",
       "         [  6.088696  ,   4.12429619,   6.15938091, ...,   4.75438738,\n",
       "            1.72965086,  11.70439911],\n",
       "         ..., \n",
       "         [  4.85096407,   7.84956837,   7.84827137, ...,   7.36061621,\n",
       "           13.37082291,  10.38112926],\n",
       "         [  4.79985332,   6.82513332,  10.84985638, ...,   4.97651434,\n",
       "            0.93660277,  11.89613438],\n",
       "         [  9.43576527,   4.38356256,   7.33207369, ...,   2.17121196,\n",
       "            6.20251179,   3.23452568]],\n",
       "\n",
       "        [[  1.77402341,   6.76632547,   5.75892019, ...,   6.85668707,\n",
       "            6.88318443,   5.90997362],\n",
       "         [  3.16027856,   8.1569128 ,   7.15356445, ...,  18.88241768,\n",
       "            4.88105011,   3.87970018],\n",
       "         [  3.67876744,   6.79709625,   7.91340828, ...,  10.83913231,\n",
       "            1.72152853,   7.60190821],\n",
       "         ..., \n",
       "         [  4.65927601,   6.64508533,   7.63140059, ...,   6.43518925,\n",
       "            7.48024368,   6.525805  ],\n",
       "         [  7.0992775 ,   6.08600044,   7.07301855, ...,   8.54862404,\n",
       "            5.56987762,   6.59142637],\n",
       "         [ 15.01503658,   9.05286407,   4.09015131, ...,   9.77061558,\n",
       "            6.74516249,   5.71916866]],\n",
       "\n",
       "        [[  7.10701561,  14.10069656,   4.09449196, ...,   7.14760303,\n",
       "            4.15473127,   6.16197443],\n",
       "         [  1.01896083,  13.04611778,   2.07257652, ...,   6.45607519,\n",
       "            2.4015038 ,   3.34623361],\n",
       "         [  6.7808404 ,   3.69776583,  10.61604214, ...,   7.22988701,\n",
       "            7.30489492,   7.38125372],\n",
       "         ..., \n",
       "         [  3.32741499,   3.36352134,   7.39899731, ...,   2.27280807,\n",
       "            1.23513746,   8.19683647],\n",
       "         [ 10.54327106,  14.59072495,   5.63759422, ...,   0.13229883,\n",
       "            7.11142397,  10.08996487],\n",
       "         [  7.17396021,   9.1710577 ,   9.16815472, ...,   4.83071756,\n",
       "            5.82775259,   8.82478619]],\n",
       "\n",
       "        ..., \n",
       "        [[  6.89587212,   4.81576252,   7.73687887, ...,   6.84676504,\n",
       "            3.91016817,  18.9747982 ],\n",
       "         [  9.66213894,  10.67764664,  10.69290352, ...,  11.78075695,\n",
       "           14.76702785,   9.75304794],\n",
       "         [  3.10096645,   6.10748053,   6.11378622, ...,   5.4465003 ,\n",
       "           10.42858982,   4.41047049],\n",
       "         ..., \n",
       "         [ 11.63956356,   8.65428448,  13.66878605, ...,   4.86725473,\n",
       "           -0.14379479,  10.84493542],\n",
       "         [  9.75595474,   7.71157503,   3.66800046, ...,   6.0281992 ,\n",
       "            6.07803774,   2.12868166],\n",
       "         [ 12.25544453,   9.24040508,   0.22563855, ...,  11.34983158,\n",
       "            4.36675739,   6.38395643]],\n",
       "\n",
       "        [[  2.23833036,  14.26501751,  10.29135227, ...,   5.96502733,\n",
       "            8.95040894,   5.93543768],\n",
       "         [  7.32046938,   5.33779955,   9.35497952, ...,   8.32855415,\n",
       "            7.32830572,   5.32790709],\n",
       "         [  2.97900009,  11.99794197,   3.01683879, ...,   4.88771534,\n",
       "            8.90135574,   5.91495037],\n",
       "         ..., \n",
       "         [  8.63657379,   6.62400675,  12.61148739, ...,   5.48856211,\n",
       "            4.48155212,  13.4745903 ],\n",
       "         [  8.42814255,   9.43088341,   2.43337154, ...,   4.03450727,\n",
       "            4.00769043,   9.98062134],\n",
       "         [  6.13164663,   7.12784958,   8.1240921 , ...,   9.96076488,\n",
       "           14.96168137,   4.96263838]],\n",
       "\n",
       "        [[  4.68740892,   4.70295477,   7.71823883, ...,   7.730618  ,\n",
       "           14.71554947,  11.70021915],\n",
       "         [  2.04066968,  10.08427525,   9.12718201, ...,   8.401124  ,\n",
       "            3.36298203,   3.32414079],\n",
       "         [  8.80106544,   9.84752178,   5.89331007, ...,   2.69796634,\n",
       "            6.66617298,   1.63371038],\n",
       "         ..., \n",
       "         [  9.37921047,   1.44407535,   8.50755692, ...,   8.57757854,\n",
       "            3.48053265,   2.38210273],\n",
       "         [  3.88159227,   9.87869358,   7.87591982, ...,  10.38586807,\n",
       "            6.39751101,  12.40927792],\n",
       "         [  6.65427923,   8.6927948 ,   2.73047972, ...,   7.51810408,\n",
       "            5.45933437,   5.39973354]]],\n",
       "\n",
       "\n",
       "       [[[  9.36099625,  10.33893394,   5.31727743, ...,  10.53930664,\n",
       "            8.5648241 ,   7.59074879],\n",
       "         [  3.10910678,   3.18504167,   4.25985432, ...,  16.37559128,\n",
       "            6.32018328,  11.26365185],\n",
       "         [  4.73287249,   4.7441535 ,   6.7552619 , ...,  10.88105202,\n",
       "            8.87213135,   3.86303806],\n",
       "         ..., \n",
       "         [  6.26325703,  14.28192329,   6.30042982, ...,   9.36305523,\n",
       "            3.36302948,   6.36284399],\n",
       "         [  9.33041382,   3.34943724,   2.36826324, ...,   8.21564865,\n",
       "            4.21155977,   8.20727348],\n",
       "         [  6.76619244,  12.75172234,   8.73729229, ...,   7.34801197,\n",
       "            7.3382802 ,   2.3285892 ]],\n",
       "\n",
       "        [[  6.20753527,   9.22423267,   0.24084452, ...,   5.57821178,\n",
       "            6.58485842,   8.59141922],\n",
       "         [  7.64490604,   1.7444613 ,  14.8424921 , ...,   3.94584966,\n",
       "            3.86700797,   8.78664112],\n",
       "         [  9.02890491,   8.01473141,   8.00090599, ...,   7.73208523,\n",
       "            5.75862694,  10.78551674],\n",
       "         ..., \n",
       "         [  3.52350187,   5.58000851,   5.63570929, ...,   5.66718721,\n",
       "            7.62942505,   8.59085751],\n",
       "         [  7.31690359,   4.33777523,   7.35840797, ...,  10.13870525,\n",
       "            4.13164282,   9.12434196],\n",
       "         [  7.40689135,  13.38650799,   9.36646843, ...,  14.358881  ,\n",
       "            3.37878871,   4.39904022]],\n",
       "\n",
       "        [[  8.48871899,   1.50259411,   1.51633501, ...,   4.20079231,\n",
       "            3.19895482,  14.19698334],\n",
       "         [  1.1494807 ,   5.17966175,   6.2094388 , ...,   6.93981934,\n",
       "            3.92274451,   5.90526581],\n",
       "         [  6.18550348,  14.13543892,   2.08614111, ...,   5.52787304,\n",
       "           10.56746197,   3.60781741],\n",
       "         ..., \n",
       "         [  4.65620041,   8.61950397,   2.5834589 , ...,   6.79111242,\n",
       "            7.83076811,  11.87107658],\n",
       "         [  7.40123272,  11.42739487,  10.45314693, ...,   1.68476069,\n",
       "           12.66303635,   6.64090252],\n",
       "         [  2.9832294 ,   0.99238813,  15.00174809, ...,   6.42290592,\n",
       "           10.45565319,   7.48860121]],\n",
       "\n",
       "        ..., \n",
       "        [[  6.19029045,   5.16186142,   7.13407373, ...,  15.21706581,\n",
       "            7.26368761,   2.31095147],\n",
       "         [ 10.00647354,  10.00009155,   6.99386835, ...,   7.34208727,\n",
       "            6.35436583,   2.36680436],\n",
       "         [  8.45699978,   7.39272594,   2.32946348, ...,   7.80114555,\n",
       "            7.85521984,   9.91030598],\n",
       "         ..., \n",
       "         [ 11.6170435 ,   6.6050725 ,   7.59314203, ...,   8.49257946,\n",
       "            7.48536968,  10.47820091],\n",
       "         [  9.46101665,   1.51030529,   4.55899811, ...,   5.18668032,\n",
       "            9.16629505,   3.14531446],\n",
       "         [  8.39220047,  11.42704773,   5.46126842, ...,  11.2196722 ,\n",
       "            3.18124938,  11.14220047]],\n",
       "\n",
       "        [[  7.2866683 ,   7.26906157,   7.25178003, ...,  21.43307686,\n",
       "            6.45351171,   5.47427177],\n",
       "         [ -0.2542361 ,   4.72785807,   4.71051645, ...,  12.47716713,\n",
       "           11.52523327,   7.57386303],\n",
       "         [  3.83764839,   2.84034085,   4.84303427, ...,   8.15890694,\n",
       "            4.16170692,   5.16450787],\n",
       "         ..., \n",
       "         [  0.2228718 ,   9.29361248,   5.36331415, ...,   6.44790316,\n",
       "            6.39706421,   5.34518576],\n",
       "         [  8.56184101,  13.53711033,   5.51276875, ...,   5.30591393,\n",
       "            2.32665849,  10.34779167],\n",
       "         [  7.58662558,   7.63480997,   7.68237352, ...,   3.00935817,\n",
       "            2.98487258,   3.95976615]],\n",
       "\n",
       "        [[  3.30796647,   1.29618204,   6.28499269, ...,   6.96891212,\n",
       "           10.02677822,   7.08523893],\n",
       "         [  9.2556181 ,   6.28184366,   4.30772018, ...,  11.9578352 ,\n",
       "           13.94326401,   6.9283452 ],\n",
       "         [  7.81873941,  12.79963398,  11.78066349, ...,  10.50559235,\n",
       "            3.50238729,   8.49931812],\n",
       "         ..., \n",
       "         [  1.6586529 ,   9.71516514,   4.77081347, ...,   6.41014624,\n",
       "            3.36561632,   8.32022285],\n",
       "         [  7.95889664,   4.95567703,   3.95255685, ...,   1.25684893,\n",
       "            6.26526117,   4.27377272],\n",
       "         [  5.79234314,  14.75856018,   5.72529745, ...,   9.37068939,\n",
       "            7.39778471,   5.42540073]]],\n",
       "\n",
       "\n",
       "       [[[  6.82063198,  14.82905006,  10.83775902, ...,  11.77285862,\n",
       "            4.81519556,   6.85782194],\n",
       "         [  6.55905008,   6.5570035 ,   5.55476999, ...,   3.05167961,\n",
       "            8.02777195,  10.00367832],\n",
       "         [ 11.36113644,   6.36211014,  10.36290455, ...,  10.25994587,\n",
       "            6.23996973,  10.2198143 ],\n",
       "         ..., \n",
       "         [  2.09849834,   6.07654476,   2.05467987, ...,   8.13228989,\n",
       "            8.12072182,   7.10924196],\n",
       "         [  6.370399  ,  15.37210655,   0.37404037, ...,   7.10115671,\n",
       "            7.12926006,  12.15758896],\n",
       "         [  7.96838713,   3.92716575,   9.88657856, ...,   1.44930851,\n",
       "            3.48229098,  14.51590824]],\n",
       "\n",
       "        [[ 11.08425236,  10.02206993,   6.96100473, ...,   8.39308357,\n",
       "            5.46166277,   5.53135967],\n",
       "         [  7.23378038,   8.2516346 ,  10.2693615 , ...,  10.46416664,\n",
       "            4.4672184 ,   9.47014427],\n",
       "         [  3.02252412,  15.06427288,  10.1053791 , ...,   4.53865528,\n",
       "            8.50508499,   6.47087097],\n",
       "         ..., \n",
       "         [  0.23957233,   8.25477314,   4.26991177, ...,   5.60049009,\n",
       "           10.6084919 ,   5.61643171],\n",
       "         [  4.91635036,   7.90240717,   8.88885403, ...,   3.93311048,\n",
       "            8.96482468,  18.99692917],\n",
       "         [  3.38172555,   6.39775229,   2.41320825, ...,   2.38499451,\n",
       "            6.33426523,   2.28296518]],\n",
       "\n",
       "        [[  5.83583307,   1.85572922,   2.87518978, ...,   7.20710516,\n",
       "            6.17602587,  16.14451027],\n",
       "         [  7.50521135,   7.49128103,   4.47748899, ...,   9.813797  ,\n",
       "            7.81604671,   4.81843472],\n",
       "         [  7.54788399,   6.53511477,   4.52243614, ...,  10.66826248,\n",
       "           12.6660862 ,   3.6639998 ],\n",
       "         ..., \n",
       "         [ 11.27260303,   5.33619022,  11.39889908, ...,   4.75064182,\n",
       "           11.71144199,   9.67136383],\n",
       "         [ 11.62693596,  10.63314152,   2.63934779, ...,   4.36413765,\n",
       "            7.37053633,   6.37693644],\n",
       "         [  6.08197403,   7.07716036,   7.07243395, ...,   3.11156845,\n",
       "            6.11697531,  10.1224699 ]],\n",
       "\n",
       "        ..., \n",
       "        [[  5.67599678,   8.71391773,  11.75101376, ...,  11.50988579,\n",
       "            7.45120525,   5.39169931],\n",
       "         [ 16.3386879 ,   7.3310833 ,   3.32352829, ...,   6.77883768,\n",
       "            3.77691984,   6.77505064],\n",
       "         [ 10.00627995,   6.99935818,   2.99261045, ...,   8.37237644,\n",
       "            4.38572884,   8.3992548 ],\n",
       "         ..., \n",
       "         [  4.66278982,   5.68355608,   4.70393848, ...,  11.48750019,\n",
       "           16.46335411,   1.43882263],\n",
       "         [  9.20981598,   3.23035693,   8.25071335, ...,   4.36046076,\n",
       "            1.35940421,  12.35816288],\n",
       "         [ 10.86801243,   8.82144833,   7.77569723, ...,  13.93662834,\n",
       "            2.98517847,  10.03454113]],\n",
       "\n",
       "        [[ 11.52530861,   2.52550459,   8.52547169, ...,  12.99123287,\n",
       "            3.96458364,   6.93770504],\n",
       "         [ 10.95509434,   6.91681385,   6.87909842, ...,   3.31124663,\n",
       "            6.33908606,   8.36749077],\n",
       "         [  2.61687446,  13.65713787,   8.69696808, ...,   6.39173841,\n",
       "            3.38138223,   9.37059307],\n",
       "         ..., \n",
       "         [  5.90943432,   1.90190244,   3.89460087, ...,   4.59023952,\n",
       "            4.60963917,   3.62926888],\n",
       "         [  2.6913743 ,  14.72681808,   6.76149368, ...,   6.61820221,\n",
       "            6.56364393,   8.50831604],\n",
       "         [  2.82201147,   5.81639433,  13.81099606, ...,   9.6499958 ,\n",
       "            1.66998494,   6.69019318]],\n",
       "\n",
       "        [[ 10.78024197,  10.78880119,   6.79723692, ...,  10.94219494,\n",
       "            5.93628025,   6.93024206],\n",
       "         [ 13.22276974,   3.19909978,   4.17593575, ...,   8.89114189,\n",
       "            2.92674398,   5.96285295],\n",
       "         [  7.92543697,  10.87121296,   8.81797218, ...,   5.25284672,\n",
       "            4.31365013,  12.37543678],\n",
       "         ..., \n",
       "         [  4.34320784,   6.31987476,   9.29698849, ...,   2.64361   ,\n",
       "            5.67252445,   7.7018857 ],\n",
       "         [  5.84511566,   4.82897902,   5.81331873, ...,  10.19021988,\n",
       "            7.22982645,   3.26990914],\n",
       "         [  4.56123829,  10.54815006,  11.53558159, ...,  18.56020164,\n",
       "           10.60798073,   3.65627956]]]], dtype=float32)"
      ]
     },
     "execution_count": 257,
     "metadata": {},
     "output_type": "execute_result"
    }
   ],
   "source": [
    "data_nozip"
   ]
  },
  {
   "cell_type": "code",
   "execution_count": null,
   "metadata": {},
   "outputs": [],
   "source": []
  }
 ],
 "metadata": {
  "kernelspec": {
   "display_name": "Python 3",
   "language": "python",
   "name": "python3"
  },
  "language_info": {
   "codemirror_mode": {
    "name": "ipython",
    "version": 3
   },
   "file_extension": ".py",
   "mimetype": "text/x-python",
   "name": "python",
   "nbconvert_exporter": "python",
   "pygments_lexer": "ipython3",
   "version": "3.6.1"
  },
  "timetravel": {
   "allowedContentTypes": [
    "text/plain"
   ],
   "enabled": false,
   "version": "1.0"
  }
 },
 "nbformat": 4,
 "nbformat_minor": 1
}
