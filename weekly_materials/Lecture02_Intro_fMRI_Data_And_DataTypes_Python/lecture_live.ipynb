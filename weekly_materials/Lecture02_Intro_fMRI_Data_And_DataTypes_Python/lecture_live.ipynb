{
 "cells": [
  {
   "cell_type": "markdown",
   "metadata": {},
   "source": [
    "# Lecture 2: Introduction to fMRI data & data types in Python\n",
    "\n",
    "## Goals\n",
    "\n",
    "- **Neuroscience / Neuroimaging concepts**\n",
    "    - Nifti file format for fMRI data\n",
    "- **Datascience / Coding concepts**\n",
    "    - Jupyter notebook basics\n",
    "    - Review of data types and arrays\n",
    "    - Lists and Tuples\n",
    "    - Arrays vs. tables    \n",
    "    - Operations with arrays\n",
    "    - Loading and saving data\n",
    "    - Memory management"
   ]
  },
  {
   "cell_type": "markdown",
   "metadata": {},
   "source": [
    "## Key Terms and Concepts\n",
    "\n",
    "`command/edit mode`\n",
    "\n",
    "`int`, `float`, `string`, `boolean`\n",
    "\n",
    "`list`, `tuple`, `array` \n",
    "\n",
    "`mutable/immutable`\n",
    "\n",
    "`dtype`, `shape`\n",
    "\n",
    "`transpose`\n",
    "\n",
    "`np.save`, `np.load`, `nibabel.load`, `nibabel.save`\n",
    "\n",
    "`memory maps`"
   ]
  },
  {
   "cell_type": "markdown",
   "metadata": {},
   "source": [
    "# A few words about Jupyter Notebooks\n",
    "\n",
    "Since we'll be using Jupyter notebooks for the entire course, it is good to become familiar with them as quickly as possible.\n",
    "\n",
    "You can read a notebook just like any other website, but you can also interact with it. To interact with it, you select one (or more) cells to act on. When a cell is selected, there are two modes the notebook can be in. The first is `command` mode, and the second is `edit` mode.\n",
    "\n",
    "To get into `command` mode, press `Esc`. You know you're in `command` mode because the box outlining the current cell is **BLUE**. From here, press `h` to see a list of all the possible commands. From this mode you can more easily create, modify and move cells. You probably will not use this as much. \n",
    "> Try this now in the cell below! \n",
    "\n",
    "To get into `edit` mode, press `Enter`. You know you're in `edit` mode because the box outlining the current cell is **GREEN**. From here you can edit code and text, and run your code. You will be in this mode most of the time.\n",
    "> Try this now in the cell below!\n",
    "\n",
    "You are currently reading text that is not code and will have observed that different formats and font sizes have been used. This cell is written in **Markdown**.\n",
    "> Try selecting this cell and going into edit mode (press `Enter`, green frame). Then press `Shift + Enter` to render the Markdown again\n",
    "\n",
    "**Tab-completion**: To make your life easier, tab-completion is a feature of notebooks that will try and complete a **name** or **function** that you are typing for you. Once you start typing, you can press `Tab` and the notebook will create a little textbox that has all the possible options that the notebook knows about. This makes it faster to write code.\n",
    "> Try this out in the cell below!"
   ]
  },
  {
   "cell_type": "code",
   "execution_count": 105,
   "metadata": {},
   "outputs": [],
   "source": [
    "# click into this cell (it will be green), then press ESC to enter command mode (turns blue).\n",
    "# Then press ENTER for edit mode (green)"
   ]
  },
  {
   "cell_type": "code",
   "execution_count": 106,
   "metadata": {},
   "outputs": [],
   "source": [
    "a_name = 'Hello!'"
   ]
  },
  {
   "cell_type": "markdown",
   "metadata": {
    "collapsed": true
   },
   "source": [
    "After evaluating the above cell with `Shift + Enter`, the current cell should be blue\n",
    "Press `a` to create an empty cell above this one. Then go into *edit mode* with `Enter`\n",
    "\n",
    "Then start typing the name created above by pressing: `a` then `_`, and then press the `Tab` key to tab-complete the name. Next type \"im\" and then press the Tab key. What happens?"
   ]
  },
  {
   "cell_type": "markdown",
   "metadata": {},
   "source": [
    "### Comments\n",
    "An important, and often overlooked, part of writing code is including useful English (or other human language) **comments**. They can be used for many reasons, although most commonly they are used to explain in plain human language what the code below the comment does. They can also be used to write reminders that you still need to work on some part of your code.\n",
    "\n",
    "To write a comment in Python, you simply put a `#` (pronounced hashtag, duh!) before any human language comment you want to write, like this:"
   ]
  },
  {
   "cell_type": "code",
   "execution_count": 107,
   "metadata": {},
   "outputs": [],
   "source": [
    "# Here's a simple comment"
   ]
  },
  {
   "cell_type": "markdown",
   "metadata": {},
   "source": [
    "You can even put comments after a line of code, like this:"
   ]
  },
  {
   "cell_type": "code",
   "execution_count": 108,
   "metadata": {},
   "outputs": [],
   "source": [
    "another_name = 'Comment Practice' # This is another comment to show you they can go after code too!"
   ]
  },
  {
   "cell_type": "markdown",
   "metadata": {},
   "source": [
    "### Displaying content and the print function\n",
    "\n",
    "Before we begin, let's review some ways to see what **names** contain.\n",
    "1. If you write a name at the end of a cell, some content representing it will be displayed\n",
    "2. If you need to perform more complex display of text, the print function is appropriate. We'll use it throughout this class to print values out. We can use it to print simple things."
   ]
  },
  {
   "cell_type": "code",
   "execution_count": 109,
   "metadata": {},
   "outputs": [
    {
     "data": {
      "text/plain": [
       "'Hello!'"
      ]
     },
     "execution_count": 109,
     "metadata": {},
     "output_type": "execute_result"
    }
   ],
   "source": [
    "# jupyter notebooks display the output of the last operation in a cell\n",
    "a_name"
   ]
  },
  {
   "cell_type": "code",
   "execution_count": 110,
   "metadata": {},
   "outputs": [
    {
     "name": "stdout",
     "output_type": "stream",
     "text": [
      "We're finally writing some code!\n"
     ]
    }
   ],
   "source": [
    "# The print function displays the input string\n",
    "print(\"We're finally writing some code!\")"
   ]
  },
  {
   "cell_type": "code",
   "execution_count": 111,
   "metadata": {},
   "outputs": [
    {
     "name": "stdout",
     "output_type": "stream",
     "text": [
      "We're finally writing some code!\n"
     ]
    },
    {
     "data": {
      "text/plain": [
       "'Hello!'"
      ]
     },
     "execution_count": 111,
     "metadata": {},
     "output_type": "execute_result"
    }
   ],
   "source": [
    "print(\"We're finally writing some code!\")\n",
    "a_name # content of a_name also displays, because it's the last operation. What is the difference?"
   ]
  },
  {
   "cell_type": "code",
   "execution_count": 112,
   "metadata": {},
   "outputs": [
    {
     "name": "stdout",
     "output_type": "stream",
     "text": [
      "We're finally writing some code!\n"
     ]
    }
   ],
   "source": [
    "a_name # content of a_name is not displayed\n",
    "print(\"We're finally writing some code!\")"
   ]
  },
  {
   "cell_type": "markdown",
   "metadata": {},
   "source": [
    "We can also use it to print out **names**"
   ]
  },
  {
   "cell_type": "code",
   "execution_count": 113,
   "metadata": {},
   "outputs": [
    {
     "name": "stdout",
     "output_type": "stream",
     "text": [
      "Michael\n"
     ]
    }
   ],
   "source": [
    "my_first_name = 'Michael'\n",
    "print(my_first_name)"
   ]
  },
  {
   "cell_type": "markdown",
   "metadata": {},
   "source": [
    "\n",
    "The print function is powerful and can be used to combine simple strings with **names**. To do this, just put commas in between the simple strings and the **names**. Note that Python will put a space after each comma."
   ]
  },
  {
   "cell_type": "code",
   "execution_count": 114,
   "metadata": {},
   "outputs": [
    {
     "name": "stdout",
     "output_type": "stream",
     "text": [
      "My name is Michael and I can program in Python\n"
     ]
    }
   ],
   "source": [
    "my_language = 'Python'\n",
    "print('My name is', my_first_name, 'and I can program in', my_language)"
   ]
  },
  {
   "cell_type": "markdown",
   "metadata": {},
   "source": [
    "# Review of Data Types in Python"
   ]
  },
  {
   "cell_type": "markdown",
   "metadata": {},
   "source": [
    "So far in the data8 lecture you've learned that Python stores data in several different ways, known as **Data Types**. You've learned about 4 basic data types: \n",
    "- Integers\n",
    "- Floats\n",
    "- Strings \n",
    "- Booleans\n",
    "\n",
    "plus 2 kinds of collections: \n",
    "- Arrays \n",
    "- Tables\n",
    "\n",
    "which are also data types. Here we will do a quick review of all of these data types. We'll also cover 2 new types of containers:\n",
    "\n",
    "- Lists\n",
    "- Tuples\n",
    "\n",
    "You also learned that data can be stored into **names**, so that they can be referenced later. Names are crucial to programming, and we will be using them extensively throughout this class."
   ]
  },
  {
   "cell_type": "markdown",
   "metadata": {},
   "source": [
    "## Basic Data Types"
   ]
  },
  {
   "cell_type": "markdown",
   "metadata": {},
   "source": [
    "### Integers\n",
    "\n",
    "Integers are a data type that stores whole numbers. They can be positive, negative or zero. \n",
    "\n",
    "They are often used to count things or **index** into arrays, which we'll learn about in a little bit."
   ]
  },
  {
   "cell_type": "code",
   "execution_count": 115,
   "metadata": {},
   "outputs": [
    {
     "data": {
      "text/plain": [
       "5"
      ]
     },
     "execution_count": 115,
     "metadata": {},
     "output_type": "execute_result"
    }
   ],
   "source": [
    "5 # just writing 5 in a cell leads to output 5"
   ]
  },
  {
   "cell_type": "code",
   "execution_count": 116,
   "metadata": {},
   "outputs": [
    {
     "data": {
      "text/plain": [
       "int"
      ]
     },
     "execution_count": 116,
     "metadata": {},
     "output_type": "execute_result"
    }
   ],
   "source": [
    "type(5) # What is the type of 5? Answer: int (That is what Python calls Integers)"
   ]
  },
  {
   "cell_type": "code",
   "execution_count": 117,
   "metadata": {},
   "outputs": [],
   "source": [
    "five = 5 # Store 5 in the name five"
   ]
  },
  {
   "cell_type": "code",
   "execution_count": 118,
   "metadata": {},
   "outputs": [
    {
     "name": "stdout",
     "output_type": "stream",
     "text": [
      "0\n"
     ]
    }
   ],
   "source": [
    "five_plus_neg_five = five + -5 # store the result of five + -5 in the name five_plus_neg_five\n",
    "print(five_plus_neg_five)"
   ]
  },
  {
   "cell_type": "code",
   "execution_count": 119,
   "metadata": {},
   "outputs": [
    {
     "name": "stdout",
     "output_type": "stream",
     "text": [
      "0\n"
     ]
    }
   ],
   "source": [
    "five_plus_neg_five = five + -five # store the result of five + -5 in the name five_plus_neg_five\n",
    "print(five_plus_neg_five)"
   ]
  },
  {
   "cell_type": "code",
   "execution_count": 120,
   "metadata": {},
   "outputs": [
    {
     "data": {
      "text/plain": [
       "int"
      ]
     },
     "execution_count": 120,
     "metadata": {},
     "output_type": "execute_result"
    }
   ],
   "source": [
    "type(five_plus_neg_five)"
   ]
  },
  {
   "cell_type": "code",
   "execution_count": 121,
   "metadata": {},
   "outputs": [
    {
     "data": {
      "text/plain": [
       "1.0"
      ]
     },
     "execution_count": 121,
     "metadata": {},
     "output_type": "execute_result"
    }
   ],
   "source": [
    "# While adding integers up leads to new integers, dividing by them gives something else!\n",
    "5 / 5"
   ]
  },
  {
   "cell_type": "code",
   "execution_count": 122,
   "metadata": {},
   "outputs": [
    {
     "data": {
      "text/plain": [
       "float"
      ]
     },
     "execution_count": 122,
     "metadata": {},
     "output_type": "execute_result"
    }
   ],
   "source": [
    "type(5 / 5)"
   ]
  },
  {
   "cell_type": "code",
   "execution_count": 123,
   "metadata": {},
   "outputs": [
    {
     "data": {
      "text/plain": [
       "2.3333333333333335"
      ]
     },
     "execution_count": 123,
     "metadata": {},
     "output_type": "execute_result"
    }
   ],
   "source": [
    "7 / 3"
   ]
  },
  {
   "cell_type": "code",
   "execution_count": 124,
   "metadata": {},
   "outputs": [
    {
     "data": {
      "text/plain": [
       "2"
      ]
     },
     "execution_count": 124,
     "metadata": {},
     "output_type": "execute_result"
    }
   ],
   "source": [
    "# Because most people intuitively expect 7/3 to yield 2.3333333 (representing 2 + 1/3)\n",
    "# and not the rounded-down integer version, and this led to many unexpected and hard-to-find\n",
    "# errors, Python now outputs floats after integer division.\n",
    "# To obtain integer division, you need to put two slashes:\n",
    "7 // 3"
   ]
  },
  {
   "cell_type": "markdown",
   "metadata": {},
   "source": [
    "### Floats\n",
    "\n",
    "Floats, or floating point numbers, are a data type that stores numbers with decimal points. They can store up to 15 or 16 numbers after the decimal point, also known as **significant digits**.\n",
    "\n",
    "While they are very precise, they are not perfect. Sometimes rounding erors do occur when using numbers with many significant digits."
   ]
  },
  {
   "cell_type": "code",
   "execution_count": 125,
   "metadata": {},
   "outputs": [
    {
     "data": {
      "text/plain": [
       "3.141592653589"
      ]
     },
     "execution_count": 125,
     "metadata": {},
     "output_type": "execute_result"
    }
   ],
   "source": [
    "pi = 3.141592653589\n",
    "pi"
   ]
  },
  {
   "cell_type": "code",
   "execution_count": 126,
   "metadata": {},
   "outputs": [
    {
     "data": {
      "text/plain": [
       "float"
      ]
     },
     "execution_count": 126,
     "metadata": {},
     "output_type": "execute_result"
    }
   ],
   "source": [
    "type(pi)"
   ]
  },
  {
   "cell_type": "markdown",
   "metadata": {},
   "source": [
    "**Functions** can be **called** by using the function name, followed by paranthesis with the **argument** in between those paranthesis. Here we'll find the absolute value using the abs() function."
   ]
  },
  {
   "cell_type": "code",
   "execution_count": 127,
   "metadata": {},
   "outputs": [
    {
     "data": {
      "text/plain": [
       "543.234"
      ]
     },
     "execution_count": 127,
     "metadata": {},
     "output_type": "execute_result"
    }
   ],
   "source": [
    "abs(-543.234)"
   ]
  },
  {
   "cell_type": "code",
   "execution_count": 128,
   "metadata": {},
   "outputs": [
    {
     "data": {
      "text/plain": [
       "float"
      ]
     },
     "execution_count": 128,
     "metadata": {},
     "output_type": "execute_result"
    }
   ],
   "source": [
    "type(abs(-543.234))"
   ]
  },
  {
   "cell_type": "markdown",
   "metadata": {},
   "source": [
    "Mathematical operations that use a float and an int will always result in a float"
   ]
  },
  {
   "cell_type": "code",
   "execution_count": 129,
   "metadata": {},
   "outputs": [
    {
     "data": {
      "text/plain": [
       "0.0"
      ]
     },
     "execution_count": 129,
     "metadata": {},
     "output_type": "execute_result"
    }
   ],
   "source": [
    "five_plus_neg_five * pi"
   ]
  },
  {
   "cell_type": "code",
   "execution_count": 130,
   "metadata": {},
   "outputs": [
    {
     "data": {
      "text/plain": [
       "float"
      ]
     },
     "execution_count": 130,
     "metadata": {},
     "output_type": "execute_result"
    }
   ],
   "source": [
    "type(five_plus_neg_five * pi)"
   ]
  },
  {
   "cell_type": "markdown",
   "metadata": {},
   "source": [
    "#### Breakout Session\n",
    "\n",
    "Let's practice making some integer and float **names**.\n",
    "- Create a **name** that is the sum of 8, 16 and 40 and name it six.\n",
    "- Now take the base 2 logarithm of this **name**, using the `math.log()` function. Note that this is a function from a new module, so you'll need to import it using `import math`. What is this new value?\n",
    "- What type is this log value?\n",
    "- Now divide it by 4. What type is this new value?\n"
   ]
  },
  {
   "cell_type": "code",
   "execution_count": 131,
   "metadata": {
    "scrolled": false
   },
   "outputs": [
    {
     "name": "stdout",
     "output_type": "stream",
     "text": [
      "<class 'float'>\n",
      "1.5\n",
      "<class 'float'>\n"
     ]
    }
   ],
   "source": [
    "### STUDENT ANSWER\n",
    "\n",
    "six = 8 + 16 + 40\n",
    "import math\n",
    "math.log(six, 2)\n",
    "print(type(math.log(six, 2)))\n",
    "print(math.log(six, 2) / 4)\n",
    "print(type(math.log(six, 2) / 4))\n"
   ]
  },
  {
   "cell_type": "markdown",
   "metadata": {},
   "source": [
    "### Strings\n",
    "\n",
    "Strings are a data type that store text in the form of a sequence of letters, numbers and punctuation symbols."
   ]
  },
  {
   "cell_type": "code",
   "execution_count": 132,
   "metadata": {},
   "outputs": [
    {
     "data": {
      "text/plain": [
       "'This is a string. Duh!'"
      ]
     },
     "execution_count": 132,
     "metadata": {},
     "output_type": "execute_result"
    }
   ],
   "source": [
    "\"This is a string. Duh!\""
   ]
  },
  {
   "cell_type": "code",
   "execution_count": 133,
   "metadata": {},
   "outputs": [],
   "source": [
    "class_name = 'Data Science for Cognitive Neuroscience'"
   ]
  },
  {
   "cell_type": "code",
   "execution_count": 134,
   "metadata": {},
   "outputs": [
    {
     "data": {
      "text/plain": [
       "str"
      ]
     },
     "execution_count": 134,
     "metadata": {},
     "output_type": "execute_result"
    }
   ],
   "source": [
    "type(class_name)"
   ]
  },
  {
   "cell_type": "code",
   "execution_count": 135,
   "metadata": {},
   "outputs": [
    {
     "data": {
      "text/plain": [
       "(5, int)"
      ]
     },
     "execution_count": 135,
     "metadata": {},
     "output_type": "execute_result"
    }
   ],
   "source": [
    "five, type(five)"
   ]
  },
  {
   "cell_type": "code",
   "execution_count": 136,
   "metadata": {},
   "outputs": [],
   "source": [
    "five_string = str(five)"
   ]
  },
  {
   "cell_type": "code",
   "execution_count": 137,
   "metadata": {},
   "outputs": [
    {
     "data": {
      "text/plain": [
       "('5', 5)"
      ]
     },
     "execution_count": 137,
     "metadata": {},
     "output_type": "execute_result"
    }
   ],
   "source": [
    "five_string, five"
   ]
  },
  {
   "cell_type": "code",
   "execution_count": 138,
   "metadata": {},
   "outputs": [
    {
     "data": {
      "text/plain": [
       "str"
      ]
     },
     "execution_count": 138,
     "metadata": {},
     "output_type": "execute_result"
    }
   ],
   "source": [
    "type(five_string)"
   ]
  },
  {
   "cell_type": "markdown",
   "metadata": {},
   "source": [
    "#### Formatting Strings\n",
    "\n",
    "There are two ways to build text that include the current values of **names**. This can be useful when you want to check the value of a **name**, creating a customized filename, or label figure axes dynamically, for example. \n",
    "\n",
    "The first way is done using the `%` symbol: "
   ]
  },
  {
   "cell_type": "code",
   "execution_count": 139,
   "metadata": {},
   "outputs": [
    {
     "data": {
      "text/plain": [
       "'This is the first way to make a formatted string that prints our class name here: Data Science for Cognitive Neuroscience'"
      ]
     },
     "execution_count": 139,
     "metadata": {},
     "output_type": "execute_result"
    }
   ],
   "source": [
    "'This is the first way to make a formatted string that prints our class name here: %s' % (class_name)"
   ]
  },
  {
   "cell_type": "markdown",
   "metadata": {},
   "source": [
    "We see a string defined that has a special character, the `%` symbol in it, followed by the letter `s`. The `%` character tells Python you want to replace the  `%` with the value of a **name**, and the `s` indicates the variable will be a `string`. There are other letters you can use to insert an integer (`i`), float (`f`), or boolean(`b`). After that first string, there is another `%` symbol, followed by the **name(s)** you want to insert into the string. Those **name(s)** are surrounded by parentheses.\n",
    "\n",
    "The second way is using the `format()` function: "
   ]
  },
  {
   "cell_type": "code",
   "execution_count": 140,
   "metadata": {},
   "outputs": [
    {
     "data": {
      "text/plain": [
       "'This is the second way to make a formatted string that prints our class name here: Data Science for Cognitive Neuroscience'"
      ]
     },
     "execution_count": 140,
     "metadata": {},
     "output_type": "execute_result"
    }
   ],
   "source": [
    "'This is the {1} way to make a formatted string that prints our class name here: {0}'.format(class_name, \"second\")"
   ]
  },
  {
   "cell_type": "markdown",
   "metadata": {},
   "source": [
    "Here, we use the `{}` (called *curly brackets*) to indicate where we want the **name(s)** inserted. We put the variable number that should be inserted in between the curly brackets, starting with zero. We follow this with a `.` (period) and the `format()` function. The parameters to the `format(*)` function are the **names** to insert.\n",
    "\n",
    "Some examples of formatting numbers:"
   ]
  },
  {
   "cell_type": "code",
   "execution_count": 141,
   "metadata": {},
   "outputs": [
    {
     "name": "stdout",
     "output_type": "stream",
     "text": [
      "If we divide 7 by 3, we get 2.333333\n",
      "If we divide 8 by 3, we get 0000000000000000029.3333333333\n",
      "If we divide 8 by 3, we get 000002\n"
     ]
    }
   ],
   "source": [
    "print(\"If we divide 7 by 3, we get %f\" % (7 / 3))\n",
    "print(\"If we divide 8 by 3, we get %030.10f\" % (88 / 3)) # We can say how many decimals we'd like\n",
    "print(\"If we divide 8 by 3, we get %06i\" % (8 / 3)) # If we tell it to print an integer, it will round down\n",
    "\n"
   ]
  },
  {
   "cell_type": "markdown",
   "metadata": {},
   "source": [
    "### Booleans\n",
    "\n",
    "Booleans are a data type that store a simple `True` or `False` value. They are used when doing **comparisons** and in **conditional** (if) statements which you'll learn more about in a couple of weeks. "
   ]
  },
  {
   "cell_type": "code",
   "execution_count": 142,
   "metadata": {},
   "outputs": [
    {
     "data": {
      "text/plain": [
       "False"
      ]
     },
     "execution_count": 142,
     "metadata": {},
     "output_type": "execute_result"
    }
   ],
   "source": [
    "False"
   ]
  },
  {
   "cell_type": "code",
   "execution_count": 143,
   "metadata": {},
   "outputs": [
    {
     "data": {
      "text/plain": [
       "bool"
      ]
     },
     "execution_count": 143,
     "metadata": {},
     "output_type": "execute_result"
    }
   ],
   "source": [
    "type(False)"
   ]
  },
  {
   "cell_type": "code",
   "execution_count": 144,
   "metadata": {},
   "outputs": [
    {
     "name": "stdout",
     "output_type": "stream",
     "text": [
      "True\n"
     ]
    }
   ],
   "source": [
    "pi_is_gt_3 = pi > 3\n",
    "print(pi_is_gt_3)"
   ]
  },
  {
   "cell_type": "code",
   "execution_count": 145,
   "metadata": {},
   "outputs": [
    {
     "data": {
      "text/plain": [
       "bool"
      ]
     },
     "execution_count": 145,
     "metadata": {},
     "output_type": "execute_result"
    }
   ],
   "source": [
    "type(pi_is_gt_3)"
   ]
  },
  {
   "cell_type": "markdown",
   "metadata": {},
   "source": [
    "#### Breakout Session\n",
    "\n",
    "Create some Boolean and String **names**, and do some string formatting.\n",
    "- Use the `==` operator to see if the integer value 5 equals the `five_string` name we created above. Store it in a **name** called `five_string_equals_5`\n",
    "- Convert the boolean **name** `five_string_equals_5` to a string.\n",
    "- Format a string that displays the values of the two **names**: `five` and `five_string`. Use both ways of formatting a string to do this.\n",
    "- Do the two **names** look the same when formatted in a string? Why or why not?"
   ]
  },
  {
   "cell_type": "code",
   "execution_count": 146,
   "metadata": {},
   "outputs": [
    {
     "data": {
      "text/plain": [
       "'5'"
      ]
     },
     "execution_count": 146,
     "metadata": {},
     "output_type": "execute_result"
    }
   ],
   "source": [
    "five_string"
   ]
  },
  {
   "cell_type": "code",
   "execution_count": 147,
   "metadata": {},
   "outputs": [
    {
     "data": {
      "text/plain": [
       "5"
      ]
     },
     "execution_count": 147,
     "metadata": {},
     "output_type": "execute_result"
    }
   ],
   "source": [
    "five"
   ]
  },
  {
   "cell_type": "code",
   "execution_count": 148,
   "metadata": {
    "scrolled": true
   },
   "outputs": [
    {
     "name": "stdout",
     "output_type": "stream",
     "text": [
      "False\n",
      "The value of five is 5. The value of five_string is 5\n",
      "The value of five is 5. The value of five_string is 5\n"
     ]
    }
   ],
   "source": [
    "### STUDENT ANSWER\n",
    "five_string_equals_five = 5 == five_string\n",
    "print(five_string_equals_five)\n",
    "str(five_string_equals_five)\n",
    "print(\"The value of five is {0}. The value of five_string is {1}\".format(five, five_string))\n",
    "print('The value of five is %i. The value of five_string is %s' % (five, five_string))"
   ]
  },
  {
   "cell_type": "code",
   "execution_count": 149,
   "metadata": {},
   "outputs": [
    {
     "data": {
      "text/plain": [
       "'5'"
      ]
     },
     "execution_count": 149,
     "metadata": {},
     "output_type": "execute_result"
    }
   ],
   "source": [
    "five_string"
   ]
  },
  {
   "cell_type": "code",
   "execution_count": 150,
   "metadata": {},
   "outputs": [
    {
     "data": {
      "text/plain": [
       "str"
      ]
     },
     "execution_count": 150,
     "metadata": {},
     "output_type": "execute_result"
    }
   ],
   "source": [
    "type(five_string)"
   ]
  },
  {
   "cell_type": "markdown",
   "metadata": {},
   "source": [
    "## Containers\n",
    "Python has several built-in ways of representing collections of things. Two of these are `list`s and `tuple`s. Both of them are **sequences**: they store the values they contain in a specific order. \n",
    "\n",
    "### Lists\n",
    "You can make a list out of any number of Python items by simply putting square brackets `[`, `]` around them and separating them with a comma. This creates a list. Lists have two special properties that differentiate them from the other types of containers we will use in this class.\n",
    "1. Lists may contain objects that are of different types. \n",
    "2. Objects can be added or, or removed from, a list. Another way of saying this is that lists are **mutable**.\n",
    "\n",
    "Although lists can contain different types of objects, they don't have to. Let's create a list of integers:"
   ]
  },
  {
   "cell_type": "code",
   "execution_count": 151,
   "metadata": {},
   "outputs": [
    {
     "data": {
      "text/plain": [
       "[1, 2, 3, 4, 5]"
      ]
     },
     "execution_count": 151,
     "metadata": {},
     "output_type": "execute_result"
    }
   ],
   "source": [
    "l1 = [1, 2, 3, 4, 5]\n",
    "l1"
   ]
  },
  {
   "cell_type": "markdown",
   "metadata": {},
   "source": [
    "Now let's create a list of objects with different types"
   ]
  },
  {
   "cell_type": "code",
   "execution_count": 152,
   "metadata": {},
   "outputs": [
    {
     "data": {
      "text/plain": [
       "[5, 'hello', 5, '5', 3.141592653589]"
      ]
     },
     "execution_count": 152,
     "metadata": {},
     "output_type": "execute_result"
    }
   ],
   "source": [
    "l2 = [5, 'hello', five, five_string, pi]\n",
    "l2"
   ]
  },
  {
   "cell_type": "markdown",
   "metadata": {},
   "source": [
    "You can append things to lists by calling the `.append` method with the new item:"
   ]
  },
  {
   "cell_type": "code",
   "execution_count": 153,
   "metadata": {},
   "outputs": [
    {
     "data": {
      "text/plain": [
       "[5, 'hello', 5, '5', 3.141592653589, 100]"
      ]
     },
     "execution_count": 153,
     "metadata": {},
     "output_type": "execute_result"
    }
   ],
   "source": [
    "l2.append(100)\n",
    "l2"
   ]
  },
  {
   "cell_type": "markdown",
   "metadata": {},
   "source": [
    "You can remove objects from a list by calling the `.remove()` method. This will remove the first appearance of the object you pass in."
   ]
  },
  {
   "cell_type": "code",
   "execution_count": 154,
   "metadata": {},
   "outputs": [
    {
     "data": {
      "text/plain": [
       "['hello', 5, '5', 3.141592653589, 100]"
      ]
     },
     "execution_count": 154,
     "metadata": {},
     "output_type": "execute_result"
    }
   ],
   "source": [
    "l2.remove(5)\n",
    "l2"
   ]
  },
  {
   "cell_type": "markdown",
   "metadata": {},
   "source": [
    "### Tuples\n",
    "\n",
    "Tuples are very much like lists in that they can store an ordered collection of objects of different types. In contrast, once a tuple has been created, you cannot change it (meaning add objects to or remove objects from it). Thus, tuples are called **immutable**, or not changeable.\n",
    "\n",
    "Tuples use round brackets (parentheses `()`) instead of the square brackets that lists use. \n",
    "\n",
    "Let's make a tuple of different types"
   ]
  },
  {
   "cell_type": "code",
   "execution_count": 155,
   "metadata": {},
   "outputs": [
    {
     "data": {
      "text/plain": [
       "(5, 'hello', 5, '5', 3.141592653589)"
      ]
     },
     "execution_count": 155,
     "metadata": {},
     "output_type": "execute_result"
    }
   ],
   "source": [
    "t  = (5, 'hello', five, five_string, pi)\n",
    "t"
   ]
  },
  {
   "cell_type": "markdown",
   "metadata": {},
   "source": [
    "Now let's add another object to this tuple"
   ]
  },
  {
   "cell_type": "code",
   "execution_count": 156,
   "metadata": {},
   "outputs": [
    {
     "ename": "AttributeError",
     "evalue": "'tuple' object has no attribute 'append'",
     "output_type": "error",
     "traceback": [
      "\u001b[0;31m---------------------------------------------------------------------------\u001b[0m",
      "\u001b[0;31mAttributeError\u001b[0m                            Traceback (most recent call last)",
      "\u001b[0;32m<ipython-input-156-4c2a0c89951f>\u001b[0m in \u001b[0;36m<module>\u001b[0;34m()\u001b[0m\n\u001b[0;32m----> 1\u001b[0;31m \u001b[0mt\u001b[0m\u001b[0;34m.\u001b[0m\u001b[0mappend\u001b[0m\u001b[0;34m(\u001b[0m\u001b[0;36m100\u001b[0m\u001b[0;34m)\u001b[0m\u001b[0;34m\u001b[0m\u001b[0m\n\u001b[0m",
      "\u001b[0;31mAttributeError\u001b[0m: 'tuple' object has no attribute 'append'"
     ]
    }
   ],
   "source": [
    "t.append(100)"
   ]
  },
  {
   "cell_type": "markdown",
   "metadata": {},
   "source": [
    "**Oops! We can't append anything to a tuple because it is immutable!**"
   ]
  },
  {
   "cell_type": "markdown",
   "metadata": {},
   "source": [
    "#### Breakout Session\n",
    "\n",
    "* Create a list that contains the numbers 1 through 10 in order, and call it `list_ten`. Print the list.\n",
    "* Now `append` the string `eleven` to the list. Print the list.\n",
    "* Create a a tuple that contains your first name, last name, birthday month, birthday day (of the month), a boolean indicating whether you're a senior, and the number pi to as many significant digits as you know, and the `list_ten` name you just created. Call this `tuple_stuff` and print it.\n",
    "* Now try to `append` the word `'NOPE'` to this tuple and make sure it does what you expect."
   ]
  },
  {
   "cell_type": "code",
   "execution_count": 157,
   "metadata": {},
   "outputs": [
    {
     "ename": "AttributeError",
     "evalue": "'tuple' object has no attribute 'append'",
     "output_type": "error",
     "traceback": [
      "\u001b[0;31m---------------------------------------------------------------------------\u001b[0m",
      "\u001b[0;31mAttributeError\u001b[0m                            Traceback (most recent call last)",
      "\u001b[0;32m<ipython-input-157-297795421c93>\u001b[0m in \u001b[0;36m<module>\u001b[0;34m()\u001b[0m\n\u001b[1;32m      3\u001b[0m \u001b[0mlist_ten\u001b[0m\u001b[0;34m.\u001b[0m\u001b[0mappend\u001b[0m\u001b[0;34m(\u001b[0m\u001b[0;34m\"eleven\"\u001b[0m\u001b[0;34m)\u001b[0m\u001b[0;34m\u001b[0m\u001b[0m\n\u001b[1;32m      4\u001b[0m \u001b[0mtuple_stuff\u001b[0m \u001b[0;34m=\u001b[0m \u001b[0;34m(\u001b[0m\u001b[0;34m'Michael'\u001b[0m\u001b[0;34m,\u001b[0m \u001b[0;34m\"Eickenberg\"\u001b[0m\u001b[0;34m,\u001b[0m \u001b[0;36m2\u001b[0m\u001b[0;34m,\u001b[0m \u001b[0;36m2\u001b[0m\u001b[0;34m,\u001b[0m \u001b[0;32mFalse\u001b[0m\u001b[0;34m,\u001b[0m \u001b[0;36m3.14159265358979864\u001b[0m\u001b[0;34m,\u001b[0m \u001b[0mlist_ten\u001b[0m\u001b[0;34m)\u001b[0m\u001b[0;34m\u001b[0m\u001b[0m\n\u001b[0;32m----> 5\u001b[0;31m \u001b[0mtuple_stuff\u001b[0m\u001b[0;34m.\u001b[0m\u001b[0mappend\u001b[0m\u001b[0;34m(\u001b[0m\u001b[0;34m'NOPE'\u001b[0m\u001b[0;34m)\u001b[0m\u001b[0;34m\u001b[0m\u001b[0m\n\u001b[0m",
      "\u001b[0;31mAttributeError\u001b[0m: 'tuple' object has no attribute 'append'"
     ]
    }
   ],
   "source": [
    "# STUDENT ANSWER\n",
    "list_ten = [1, 2, 3, 4, 5, 6, 7, 8, 9, 10]\n",
    "list_ten.append(\"eleven\")\n",
    "tuple_stuff = ('Michael', \"Eickenberg\", 2, 2, False, 3.14159265358979864, list_ten)\n",
    "tuple_stuff.append('NOPE')"
   ]
  },
  {
   "cell_type": "markdown",
   "metadata": {},
   "source": [
    "### Arrays\n",
    "\n",
    "Arrays are a data type that is a **collection** of objects of the same type. They can contain integers, floats, strings and booleans, among other data types. Arrays can be 1-dimensional (1-D), 2-dimesional (2-D) and 3-dimensional (3-D). In fact, they can have any number of dimensions you like, which is usually called N-dimensional. "
   ]
  },
  {
   "cell_type": "markdown",
   "metadata": {},
   "source": [
    "#### Arrays vs. Lists (or Tuples)\n",
    "Although lists, tuples and arrays are all containers that can contain a collection of objects, there are some big differences between how they work and when you should use them. Here's a short list:\n",
    "\n",
    "1. Contrary to lists and tuples, all of the values in an array are of the **same type**. \n",
    "2. Because arrays are of this same type, they are specially suited to mathematical operations, while lists and tuples are not. For example, you can add 1 to all the values of an array, but you cannot to a list or tuple.\n",
    "3. Lists and tuples are always 1-Dimensional (although you can have a list of lists, for example), while arrays can have as many dimensions as you like.\n",
    "4. Lists and arrays are both **mutable**, while tuples are **immutable**. "
   ]
  },
  {
   "cell_type": "markdown",
   "metadata": {},
   "source": [
    "#### Importing Python Modules\n",
    "\n",
    "You have learned how to create arrays using the `make_array()` function in the data-8 lecture. This function creates 1-D arrays using the values you pass into it as arguments. While this is a very useful function, working with fMRI data requires the use of 2-D, 3-D and even 4-D arrays, so we will need to learn another way to create arrays. For this we will use the `numpy` module, which we have to `import`. You will about this module in data8, too."
   ]
  },
  {
   "cell_type": "code",
   "execution_count": 158,
   "metadata": {},
   "outputs": [],
   "source": [
    "import numpy as np"
   ]
  },
  {
   "cell_type": "markdown",
   "metadata": {},
   "source": [
    "Remember from above: The &lt;TAB&gt; key can give you suggestions for how to complete a word you may have started. This is particularly useful for browsing through the functionality of a package.\n",
    "\n",
    "Try typing `np.` and hitting the TAB key!"
   ]
  },
  {
   "cell_type": "code",
   "execution_count": null,
   "metadata": {},
   "outputs": [],
   "source": [
    "np."
   ]
  },
  {
   "cell_type": "markdown",
   "metadata": {},
   "source": [
    "If you want to find out more about a specific function, you can pull up a **help text** (the python community refers to these as docstrings) or even its code!\n",
    "\n",
    "Just add a question mark (?) to the end of the function to obtain the docstring, which should give you enough instructions to be able to work with the function.\n",
    "\n",
    "If you add two question marks (??), then ipython will show you the actual python code of that function. "
   ]
  },
  {
   "cell_type": "code",
   "execution_count": 159,
   "metadata": {},
   "outputs": [],
   "source": [
    "np.arange?"
   ]
  },
  {
   "cell_type": "code",
   "execution_count": 160,
   "metadata": {},
   "outputs": [],
   "source": [
    "np.sum??"
   ]
  },
  {
   "cell_type": "markdown",
   "metadata": {},
   "source": [
    "### Creating 1-D arrays\n",
    "\n",
    "Perhaps the simplest way to create a 1-D array in `numpy` is to use the `np.arange()` **function**. As you've seen in lecture, it creates a range of numbers, specified by a starting point, ending point, and increment value."
   ]
  },
  {
   "cell_type": "code",
   "execution_count": 161,
   "metadata": {},
   "outputs": [
    {
     "name": "stdout",
     "output_type": "stream",
     "text": [
      "[2000 2001 2002 2003 2004 2005 2006 2007 2008 2009 2010 2011 2012 2013 2014\n",
      " 2015 2016 2017]\n"
     ]
    }
   ],
   "source": [
    "years_since_millenium = np.arange(2000, 2018)\n",
    "print(years_since_millenium)"
   ]
  },
  {
   "cell_type": "markdown",
   "metadata": {},
   "source": [
    "Uh-oh, where's 2018?"
   ]
  },
  {
   "cell_type": "code",
   "execution_count": 162,
   "metadata": {},
   "outputs": [
    {
     "name": "stdout",
     "output_type": "stream",
     "text": [
      "[2000 2001 2002 2003 2004 2005 2006 2007 2008 2009 2010 2011 2012 2013 2014\n",
      " 2015 2016 2017 2018]\n"
     ]
    }
   ],
   "source": [
    "years_since_millenium = np.arange(2000, 2019)\n",
    "print(years_since_millenium)"
   ]
  },
  {
   "cell_type": "code",
   "execution_count": 163,
   "metadata": {},
   "outputs": [
    {
     "data": {
      "text/plain": [
       "array([2000, 2001, 2002, 2003, 2004, 2005, 2006, 2007, 2008, 2009, 2010,\n",
       "       2011, 2012, 2013, 2014, 2015, 2016, 2017, 2018])"
      ]
     },
     "execution_count": 163,
     "metadata": {},
     "output_type": "execute_result"
    }
   ],
   "source": [
    "years_since_millenium"
   ]
  },
  {
   "cell_type": "markdown",
   "metadata": {},
   "source": [
    "There we go. With `np.arange()`, the end point you specify is the one past the last item you want included. This is because Python is **zero-indexed**, meaning that it starts counting from 0 instead of 1.\n",
    "\n",
    "Adding a third argument gives us the possibility of stepping in increments other than 1! Let's get every other year since the new millenium."
   ]
  },
  {
   "cell_type": "code",
   "execution_count": 164,
   "metadata": {},
   "outputs": [
    {
     "name": "stdout",
     "output_type": "stream",
     "text": [
      "[2000 2002 2004 2006 2008 2010 2012 2014 2016 2018]\n"
     ]
    }
   ],
   "source": [
    "everyother_year_since_millenium = np.arange(2000, 2019, 2)\n",
    "print(everyother_year_since_millenium)"
   ]
  },
  {
   "cell_type": "markdown",
   "metadata": {},
   "source": [
    "But what if you want a range of numbers that has 5 values in it? Then you would use:"
   ]
  },
  {
   "cell_type": "code",
   "execution_count": 165,
   "metadata": {},
   "outputs": [
    {
     "name": "stdout",
     "output_type": "stream",
     "text": [
      "[0 1 2 3 4]\n"
     ]
    }
   ],
   "source": [
    "fives = np.arange(5)\n",
    "print(fives)"
   ]
  },
  {
   "cell_type": "markdown",
   "metadata": {},
   "source": [
    "While this is probably confusing when first learning Python, it makes a lot of sense once you get used to it.\n",
    "\n",
    "Arrays can also be made from an arbitrary sequence of values, using a **list** or **tuple**:"
   ]
  },
  {
   "cell_type": "code",
   "execution_count": 166,
   "metadata": {},
   "outputs": [
    {
     "name": "stdout",
     "output_type": "stream",
     "text": [
      "[ 8 20 14 78 34]\n"
     ]
    }
   ],
   "source": [
    "some_values = np.array([8, 20, 14, 78, 34])\n",
    "print(some_values)"
   ]
  },
  {
   "cell_type": "code",
   "execution_count": 167,
   "metadata": {},
   "outputs": [
    {
     "data": {
      "text/plain": [
       "array([ 8, 20, 14, 78, 34])"
      ]
     },
     "execution_count": 167,
     "metadata": {},
     "output_type": "execute_result"
    }
   ],
   "source": [
    "some_values"
   ]
  },
  {
   "cell_type": "markdown",
   "metadata": {},
   "source": [
    "There are also some functions to help create special kinds of arrays containing all zeros or ones."
   ]
  },
  {
   "cell_type": "code",
   "execution_count": 168,
   "metadata": {},
   "outputs": [
    {
     "data": {
      "text/plain": [
       "array([ 0.,  0.,  0.,  0.,  0.,  0.,  0.,  0.,  0.,  0.])"
      ]
     },
     "execution_count": 168,
     "metadata": {},
     "output_type": "execute_result"
    }
   ],
   "source": [
    "ten_zeros = np.zeros(10)\n",
    "ten_zeros"
   ]
  },
  {
   "cell_type": "code",
   "execution_count": 169,
   "metadata": {},
   "outputs": [
    {
     "name": "stdout",
     "output_type": "stream",
     "text": [
      "[ 1.  1.  1.  1.  1.  1.  1.  1.  1.  1.]\n"
     ]
    }
   ],
   "source": [
    "ten_ones = np.ones(10)\n",
    "print(ten_ones)"
   ]
  },
  {
   "cell_type": "markdown",
   "metadata": {},
   "source": [
    "What happens if we do not explicitly specify the data type? A default is selected depending on the function. Let's check the data type of the ten_ones variable"
   ]
  },
  {
   "cell_type": "code",
   "execution_count": 170,
   "metadata": {},
   "outputs": [
    {
     "data": {
      "text/plain": [
       "dtype('float64')"
      ]
     },
     "execution_count": 170,
     "metadata": {},
     "output_type": "execute_result"
    }
   ],
   "source": [
    "ten_ones.dtype"
   ]
  },
  {
   "cell_type": "markdown",
   "metadata": {},
   "source": [
    "Notice that the data type for this array of ones is a float! We can be explicit about the type we want by using 'dtype' when we call `np.zeros`."
   ]
  },
  {
   "cell_type": "code",
   "execution_count": 171,
   "metadata": {},
   "outputs": [
    {
     "data": {
      "text/plain": [
       "array([0, 0, 0, 0, 0, 0, 0, 0, 0, 0])"
      ]
     },
     "execution_count": 171,
     "metadata": {},
     "output_type": "execute_result"
    }
   ],
   "source": [
    "ten_zeros_int = np.zeros(10, dtype='int')\n",
    "ten_zeros_int"
   ]
  },
  {
   "cell_type": "code",
   "execution_count": 172,
   "metadata": {},
   "outputs": [
    {
     "data": {
      "text/plain": [
       "array([False, False, False, False, False, False, False, False, False, False], dtype=bool)"
      ]
     },
     "execution_count": 172,
     "metadata": {},
     "output_type": "execute_result"
    }
   ],
   "source": [
    "ten_zeros_int = np.zeros(10, dtype='bool')\n",
    "ten_zeros_int"
   ]
  },
  {
   "cell_type": "code",
   "execution_count": 173,
   "metadata": {},
   "outputs": [
    {
     "data": {
      "text/plain": [
       "array([ True,  True,  True,  True,  True,  True,  True,  True,  True,  True], dtype=bool)"
      ]
     },
     "execution_count": 173,
     "metadata": {},
     "output_type": "execute_result"
    }
   ],
   "source": [
    "ten_zeros_int = np.ones(10, dtype='bool')\n",
    "ten_zeros_int"
   ]
  },
  {
   "cell_type": "markdown",
   "metadata": {},
   "source": [
    "Alhough we can use `dtype` with `np.arange`, there is a shortcut to specify the type we want. If we give `np.arange` a `float`, it will return a sequence of floats, and if we give it an `int`, it will return a sequence of ints."
   ]
  },
  {
   "cell_type": "code",
   "execution_count": 174,
   "metadata": {},
   "outputs": [
    {
     "data": {
      "text/plain": [
       "dtype('int64')"
      ]
     },
     "execution_count": 174,
     "metadata": {},
     "output_type": "execute_result"
    }
   ],
   "source": [
    "ten_range = np.arange(10)\n",
    "ten_range.dtype"
   ]
  },
  {
   "cell_type": "code",
   "execution_count": 175,
   "metadata": {},
   "outputs": [
    {
     "data": {
      "text/plain": [
       "dtype('float64')"
      ]
     },
     "execution_count": 175,
     "metadata": {},
     "output_type": "execute_result"
    }
   ],
   "source": [
    "ten_range_f = np.arange(10.0)\n",
    "ten_range_f.dtype"
   ]
  },
  {
   "cell_type": "code",
   "execution_count": 176,
   "metadata": {},
   "outputs": [
    {
     "data": {
      "text/plain": [
       "array([ 0.,  1.,  2.,  3.,  4.,  5.,  6.,  7.,  8.,  9.])"
      ]
     },
     "execution_count": 176,
     "metadata": {},
     "output_type": "execute_result"
    }
   ],
   "source": [
    "ten_range_f"
   ]
  },
  {
   "cell_type": "code",
   "execution_count": 177,
   "metadata": {},
   "outputs": [
    {
     "data": {
      "text/plain": [
       "array([0, 1, 2, 3, 4, 5, 6, 7, 8, 9])"
      ]
     },
     "execution_count": 177,
     "metadata": {},
     "output_type": "execute_result"
    }
   ],
   "source": [
    "ten_range"
   ]
  },
  {
   "cell_type": "markdown",
   "metadata": {},
   "source": [
    "#### Creating 2-D Arrays"
   ]
  },
  {
   "cell_type": "markdown",
   "metadata": {},
   "source": [
    "Making 2-D arrays can be done by combining several 1-D arrays together. Think of it as copying multiple rows of a spreadsheet together:"
   ]
  },
  {
   "cell_type": "code",
   "execution_count": 181,
   "metadata": {},
   "outputs": [
    {
     "name": "stdout",
     "output_type": "stream",
     "text": [
      "The first row looks like: [1 3 5 7 9]\n",
      "The second row looks like:\n",
      " [ 2  4  6  8 10]\n"
     ]
    }
   ],
   "source": [
    "# Make the first row\n",
    "row1 = np.arange(1,10,2)\n",
    "print('The first row looks like:', row1)\n",
    "\n",
    "# Make the second row\n",
    "row2 = np.arange(2,11,2)\n",
    "print('The second row looks like:\\n', row2)"
   ]
  },
  {
   "cell_type": "code",
   "execution_count": 180,
   "metadata": {},
   "outputs": [
    {
     "name": "stdout",
     "output_type": "stream",
     "text": [
      "And the whole 2-D array looks like:\n",
      " [[ 1  3  5  7  9]\n",
      " [ 2  4  6  8 10]]\n"
     ]
    }
   ],
   "source": [
    "# Combine the two rows into a 2-D array\n",
    "array_2D = np.array([row1, row2])\n",
    "print('And the whole 2-D array looks like:\\n', array_2D)"
   ]
  },
  {
   "cell_type": "markdown",
   "metadata": {},
   "source": [
    "Note the `\\n` in the `print()` statements? The `\\` (pronounced backslash) is called an **escape** character, and tells the print function that the symbol after it has a special meaning. In this case, the `\\n` tells Python to add a **newline** when printing, so that the array's data is not on the same line as the text.\n",
    "\n",
    "We can also ask `numpy` to create arrays filled with random numbers, all ones, or all zeros:"
   ]
  },
  {
   "cell_type": "code",
   "execution_count": 182,
   "metadata": {},
   "outputs": [
    {
     "name": "stdout",
     "output_type": "stream",
     "text": [
      "[[ 1.36930279 -1.23694681  1.05093764 -1.32417935  1.08856591]\n",
      " [-1.09124752 -0.51350052 -0.57423493  1.45135934  0.19130206]\n",
      " [-0.99934072 -0.08677594 -1.30309241 -0.78795724  1.05237653]]\n",
      "[[ 0.  0.  0.  0.  0.]\n",
      " [ 0.  0.  0.  0.  0.]\n",
      " [ 0.  0.  0.  0.  0.]]\n",
      "[[ 1.  1.  1.  1.  1.]\n",
      " [ 1.  1.  1.  1.  1.]\n",
      " [ 1.  1.  1.  1.  1.]]\n"
     ]
    }
   ],
   "source": [
    "random_vals_2D = np.random.randn(3, 5)\n",
    "print(random_vals_2D)\n",
    "\n",
    "zero_vals_2D = np.zeros((3, 5))\n",
    "print(zero_vals_2D)\n",
    "\n",
    "ones_vals_2D = np.ones((3, 5))\n",
    "print(ones_vals_2D)"
   ]
  },
  {
   "cell_type": "markdown",
   "metadata": {},
   "source": [
    "**Note:** The `np.random.randn()` function's parameters are the size of the dimension(s) that you want, while the `np.zeros()` and `np.ones()` functions needa **tuple** which specifies the shape of the array to create. That's why there are two paranthesis `((` and `))` for those."
   ]
  },
  {
   "cell_type": "markdown",
   "metadata": {},
   "source": [
    "It is often important to know the shape of the N-D arrays you are working with. Let's print the shape of the array, which tells us how many dimensions the array has, and how big each of those dimensions are (e.g. number of rows and columns in a 2-D array):"
   ]
  },
  {
   "cell_type": "code",
   "execution_count": 183,
   "metadata": {},
   "outputs": [
    {
     "name": "stdout",
     "output_type": "stream",
     "text": [
      "This array has shape (2, 5).\n"
     ]
    }
   ],
   "source": [
    "print(\"This array has shape {}.\".format(array_2D.shape))"
   ]
  },
  {
   "cell_type": "code",
   "execution_count": 185,
   "metadata": {},
   "outputs": [
    {
     "name": "stdout",
     "output_type": "stream",
     "text": [
      "This array has shape (3, 5).\n"
     ]
    }
   ],
   "source": [
    "print(\"This array has shape {}.\".format(ones_vals_2D.shape))"
   ]
  },
  {
   "cell_type": "markdown",
   "metadata": {},
   "source": [
    "The first value shown in this **tuple** is the number of rows, and the second value is the number of columns. "
   ]
  },
  {
   "cell_type": "markdown",
   "metadata": {},
   "source": [
    "#### Creating 3-D Arrays"
   ]
  },
  {
   "cell_type": "markdown",
   "metadata": {},
   "source": [
    "Creating 3-D arrays using the `np.random()`, `np.zeros()` and `np.ones()` functions is very similar to how we did it for 2-D arrays. We only need to add one more number indicating the size of the 3rd dimensions:"
   ]
  },
  {
   "cell_type": "code",
   "execution_count": 186,
   "metadata": {},
   "outputs": [
    {
     "name": "stdout",
     "output_type": "stream",
     "text": [
      "[[[ 1.34615304  0.94029651 -0.12019353]\n",
      "  [ 0.10792167 -0.40789383  1.35037826]\n",
      "  [-0.10904714 -0.03390468  1.87842057]\n",
      "  [-0.92630416  0.26058803  0.98484577]]\n",
      "\n",
      " [[-0.02211576 -0.5012081   0.20712114]\n",
      "  [ 0.65122269 -0.6482566   1.30287854]\n",
      "  [ 2.01092607  0.54276498 -1.6058154 ]\n",
      "  [-1.18835269 -1.35259601 -0.92247322]]]\n",
      "[[[ 0.  0.  0.]\n",
      "  [ 0.  0.  0.]\n",
      "  [ 0.  0.  0.]\n",
      "  [ 0.  0.  0.]]\n",
      "\n",
      " [[ 0.  0.  0.]\n",
      "  [ 0.  0.  0.]\n",
      "  [ 0.  0.  0.]\n",
      "  [ 0.  0.  0.]]]\n",
      "[[[ 1.  1.  1.]\n",
      "  [ 1.  1.  1.]\n",
      "  [ 1.  1.  1.]\n",
      "  [ 1.  1.  1.]]\n",
      "\n",
      " [[ 1.  1.  1.]\n",
      "  [ 1.  1.  1.]\n",
      "  [ 1.  1.  1.]\n",
      "  [ 1.  1.  1.]]]\n"
     ]
    }
   ],
   "source": [
    "random_vals_3D = np.random.randn(2, 4, 3)\n",
    "print(random_vals_3D)\n",
    "\n",
    "zero_vals_3D = np.zeros((2, 4, 3))\n",
    "print(zero_vals_3D)\n",
    "\n",
    "ones_vals_3D = np.ones((2, 4, 3))\n",
    "print(ones_vals_3D)"
   ]
  },
  {
   "cell_type": "markdown",
   "metadata": {},
   "source": [
    "### Arrays vs. Tables"
   ]
  },
  {
   "cell_type": "markdown",
   "metadata": {},
   "source": [
    "At this point you've learned about `Tables` in lecture class, and may be asking yourself: 'What is the difference between 2-D Arrays and Tables?' As you might expect, there are some similarities and some differences. We will outline some of the main similarities and differences below.\n",
    "\n",
    "**Similarities**\n",
    "- They are both collections of data that are stored in a 2-D spreadsheet like way, with rows and columns.\n",
    "- Operations like sorting and selecting can be done on both (although the syntax is different).\n",
    "- Both can have named columns (although generally N-D Arrays' columns are not named, as will be the case in this class).\n",
    "\n",
    "**Differences**\n",
    "- Tables can have columns that contain data of different type (e.g. column 1 is floats and column 2 is strings), while N-D Arrays have the same data type everywhere.\n",
    "- Tables have advanced functions for selecting subsets of your data, where N-D Arrays have a more simple way to do that.\n",
    "- Tables are useful when you have a group of variables that you've measured across a number of observations (or subjects, or trials, etc.). \n",
    "- Since N-D Arrays can have more than 2 dimensions, they are useful in representing higher dimensional data, such as fMRI brain data and time-series astro-physics data, among many others.\n",
    "\n",
    "So you can see that even the similarities have some caveats which make them kinda differences!\n",
    "\n",
    ">**We will be using N-D Arrays (and not Tables) throughout this class.**"
   ]
  },
  {
   "cell_type": "markdown",
   "metadata": {},
   "source": [
    "###  Breakout session\n",
    "\n",
    "Now you'll practice creating some arrays. Print out the values of each one you create below.\n",
    "\n",
    "- Create a 1-D range called `A` that contains **even** numbers between 10 and 20, **inclusive** (meaning both 10 and 20 should be in the array)\n",
    "- Create a 2-D Array called `B` with 4 rows and 2 columns. You can use whatever approach we've outlined so far.\n",
    "- Create a 3-D array of zeros called `C` that has dimensions of 2 x 3 x 4. Make it be of data type `float32`."
   ]
  },
  {
   "cell_type": "code",
   "execution_count": 196,
   "metadata": {},
   "outputs": [],
   "source": [
    "### STUDENT ANSWER\n",
    "A = np.arange(10, 22, 2)\n",
    "B = np.random.randn(4, 2)\n",
    "B = np.array([\n",
    "    np.array([1, 2]),\n",
    "    np.array([4, 5]),\n",
    "    np.array([6, 7]),\n",
    "    np.array([8, 9])\n",
    "])\n",
    "B = np.zeros((4, 2))\n",
    "C = np.zeros((2, 3, 4), dtype='float32')\n"
   ]
  },
  {
   "cell_type": "markdown",
   "metadata": {},
   "source": [
    "### Array Operations\n",
    "\n",
    "One of the advantages to working with arrays is that we can do mathematical and logical operations on all the values in an array in one line of code. Many of the statistical techniques we'll be using in this class need to do math on all the data at the same time, so being able to do it in one command is very useful!"
   ]
  },
  {
   "cell_type": "markdown",
   "metadata": {},
   "source": [
    "Let's start by looking at simple arithmetic on a 1-D array:"
   ]
  },
  {
   "cell_type": "code",
   "execution_count": 197,
   "metadata": {},
   "outputs": [
    {
     "name": "stdout",
     "output_type": "stream",
     "text": [
      "The original array looks like this:\n",
      " [0 1 2 3 4]\n"
     ]
    }
   ],
   "source": [
    "math_ops_array = np.arange(5)\n",
    "print('The original array looks like this:\\n', math_ops_array)"
   ]
  },
  {
   "cell_type": "markdown",
   "metadata": {},
   "source": [
    "Add 5 to all the values in the array"
   ]
  },
  {
   "cell_type": "code",
   "execution_count": 198,
   "metadata": {},
   "outputs": [
    {
     "name": "stdout",
     "output_type": "stream",
     "text": [
      "But if we add 5 to it:\n",
      " [5 6 7 8 9]\n"
     ]
    }
   ],
   "source": [
    "math_ops_array_plus5 = math_ops_array + 5\n",
    "print('But if we add 5 to it:\\n', math_ops_array_plus5)"
   ]
  },
  {
   "cell_type": "markdown",
   "metadata": {},
   "source": [
    "Remember that we said arrays are useful for mathematical operations, but not lists? Let's see what happens if we try to do the same thing using a list and not an array."
   ]
  },
  {
   "cell_type": "code",
   "execution_count": 203,
   "metadata": {},
   "outputs": [
    {
     "name": "stdout",
     "output_type": "stream",
     "text": [
      "[1, 2, 3, 4, 5]\n"
     ]
    },
    {
     "ename": "TypeError",
     "evalue": "can only concatenate list (not \"int\") to list",
     "output_type": "error",
     "traceback": [
      "\u001b[0;31m---------------------------------------------------------------------------\u001b[0m",
      "\u001b[0;31mTypeError\u001b[0m                                 Traceback (most recent call last)",
      "\u001b[0;32m<ipython-input-203-31a505615bd5>\u001b[0m in \u001b[0;36m<module>\u001b[0;34m()\u001b[0m\n\u001b[1;32m      1\u001b[0m \u001b[0mmath_ops_list\u001b[0m \u001b[0;34m=\u001b[0m \u001b[0;34m[\u001b[0m\u001b[0;36m1\u001b[0m\u001b[0;34m,\u001b[0m\u001b[0;36m2\u001b[0m\u001b[0;34m,\u001b[0m\u001b[0;36m3\u001b[0m\u001b[0;34m,\u001b[0m\u001b[0;36m4\u001b[0m\u001b[0;34m,\u001b[0m\u001b[0;36m5\u001b[0m\u001b[0;34m]\u001b[0m\u001b[0;34m\u001b[0m\u001b[0m\n\u001b[1;32m      2\u001b[0m \u001b[0mprint\u001b[0m\u001b[0;34m(\u001b[0m\u001b[0mmath_ops_list\u001b[0m\u001b[0;34m)\u001b[0m\u001b[0;34m\u001b[0m\u001b[0m\n\u001b[0;32m----> 3\u001b[0;31m \u001b[0mmath_ops_list_plus5\u001b[0m \u001b[0;34m=\u001b[0m \u001b[0mmath_ops_list\u001b[0m \u001b[0;34m+\u001b[0m \u001b[0;36m5\u001b[0m\u001b[0;34m\u001b[0m\u001b[0m\n\u001b[0m\u001b[1;32m      4\u001b[0m \u001b[0mmath_ops_list_plus5\u001b[0m\u001b[0;34m\u001b[0m\u001b[0m\n",
      "\u001b[0;31mTypeError\u001b[0m: can only concatenate list (not \"int\") to list"
     ]
    }
   ],
   "source": [
    "math_ops_list = [1,2,3,4,5]\n",
    "print(math_ops_list)\n",
    "math_ops_list_plus5 = math_ops_list + 5\n",
    "math_ops_list_plus5"
   ]
  },
  {
   "cell_type": "markdown",
   "metadata": {},
   "source": [
    "Now let's multiply all the values of `math_ops_array` by 3:"
   ]
  },
  {
   "cell_type": "code",
   "execution_count": 204,
   "metadata": {},
   "outputs": [
    {
     "name": "stdout",
     "output_type": "stream",
     "text": [
      "Or multiply it by 3:\n",
      " [ 0  3  6  9 12]\n"
     ]
    }
   ],
   "source": [
    "math_ops_array_times3 = math_ops_array * 3\n",
    "print('Or multiply it by 3:\\n', math_ops_array_times3)"
   ]
  },
  {
   "cell_type": "markdown",
   "metadata": {},
   "source": [
    "Or raise all the values to the power 2:"
   ]
  },
  {
   "cell_type": "code",
   "execution_count": 205,
   "metadata": {},
   "outputs": [
    {
     "name": "stdout",
     "output_type": "stream",
     "text": [
      "Or raise all the values to the power 2:\n",
      " [ 0  1  4  9 16]\n"
     ]
    }
   ],
   "source": [
    "math_ops_array_power2 = math_ops_array ** 2\n",
    "print('Or raise all the values to the power 2:\\n', math_ops_array_power2)"
   ]
  },
  {
   "cell_type": "markdown",
   "metadata": {},
   "source": [
    "Or we can do these operations on two arrays together. Let's create a second array to work with:"
   ]
  },
  {
   "cell_type": "code",
   "execution_count": 206,
   "metadata": {},
   "outputs": [
    {
     "name": "stdout",
     "output_type": "stream",
     "text": [
      "The second array looks like this:\n",
      " [ 6  7  8  9 10]\n"
     ]
    }
   ],
   "source": [
    "math_ops_array2 = np.arange(6, 11)\n",
    "print('The second array looks like this:\\n', math_ops_array2)"
   ]
  },
  {
   "cell_type": "markdown",
   "metadata": {},
   "source": [
    "When doing operations on two arrays, the operation is applied **element-wise**. Element-wise operations done on each corresponding pair of items in the two arrays. For example, if we subtract two arrays, then the first items in both arrays are subtracted and put into a new array, and so on for all corresponding items in the two arrays.\n",
    "\n",
    "**This implies that the two arrays must be the same shape.**\n",
    "\n",
    "Let's subtract the second array from the first one:"
   ]
  },
  {
   "cell_type": "code",
   "execution_count": 207,
   "metadata": {},
   "outputs": [
    {
     "name": "stdout",
     "output_type": "stream",
     "text": [
      "The second array minus the first: [-6 -6 -6 -6 -6]\n"
     ]
    }
   ],
   "source": [
    "math_ops_array_1minus2 = math_ops_array - math_ops_array2\n",
    "print('The second array minus the first:', math_ops_array_1minus2)"
   ]
  },
  {
   "cell_type": "markdown",
   "metadata": {},
   "source": [
    "Divide the first array by the second"
   ]
  },
  {
   "cell_type": "code",
   "execution_count": 208,
   "metadata": {},
   "outputs": [
    {
     "name": "stdout",
     "output_type": "stream",
     "text": [
      "And the first divided by the second: [ 0.          0.14285714  0.25        0.33333333  0.4       ]\n"
     ]
    }
   ],
   "source": [
    "math_ops_array_divide = math_ops_array / math_ops_array2\n",
    "print('And the first divided by the second:', math_ops_array_divide)"
   ]
  },
  {
   "cell_type": "markdown",
   "metadata": {},
   "source": [
    "So what happens if the two arrays are not the same size?"
   ]
  },
  {
   "cell_type": "code",
   "execution_count": 209,
   "metadata": {},
   "outputs": [
    {
     "name": "stdout",
     "output_type": "stream",
     "text": [
      "[0 1 2 3 4]\n",
      "[0 1 2 3]\n"
     ]
    },
    {
     "ename": "ValueError",
     "evalue": "operands could not be broadcast together with shapes (5,) (4,) ",
     "output_type": "error",
     "traceback": [
      "\u001b[0;31m---------------------------------------------------------------------------\u001b[0m",
      "\u001b[0;31mValueError\u001b[0m                                Traceback (most recent call last)",
      "\u001b[0;32m<ipython-input-209-d5e066fccaed>\u001b[0m in \u001b[0;36m<module>\u001b[0;34m()\u001b[0m\n\u001b[1;32m      2\u001b[0m \u001b[0mprint\u001b[0m\u001b[0;34m(\u001b[0m\u001b[0mmath_ops_array\u001b[0m\u001b[0;34m)\u001b[0m\u001b[0;34m\u001b[0m\u001b[0m\n\u001b[1;32m      3\u001b[0m \u001b[0mprint\u001b[0m\u001b[0;34m(\u001b[0m\u001b[0mmath_ops_array3\u001b[0m\u001b[0;34m)\u001b[0m\u001b[0;34m\u001b[0m\u001b[0m\n\u001b[0;32m----> 4\u001b[0;31m \u001b[0mmath_ops_array_1minus3\u001b[0m \u001b[0;34m=\u001b[0m \u001b[0mmath_ops_array\u001b[0m \u001b[0;34m-\u001b[0m \u001b[0mmath_ops_array3\u001b[0m\u001b[0;34m\u001b[0m\u001b[0m\n\u001b[0m\u001b[1;32m      5\u001b[0m \u001b[0mprint\u001b[0m\u001b[0;34m(\u001b[0m\u001b[0;34m'The second array minus the first:'\u001b[0m\u001b[0;34m,\u001b[0m \u001b[0mmath_ops_array_1minus3\u001b[0m\u001b[0;34m)\u001b[0m\u001b[0;34m\u001b[0m\u001b[0m\n",
      "\u001b[0;31mValueError\u001b[0m: operands could not be broadcast together with shapes (5,) (4,) "
     ]
    }
   ],
   "source": [
    "math_ops_array3 = np.arange(4)\n",
    "print(math_ops_array)\n",
    "print(math_ops_array3)\n",
    "math_ops_array_1minus3 = math_ops_array - math_ops_array3\n",
    "print('The second array minus the first:', math_ops_array_1minus3)"
   ]
  },
  {
   "cell_type": "markdown",
   "metadata": {},
   "source": [
    "###  Breakout session\n",
    "\n",
    "Now we practice using simple mathematical operations on arrays.\n",
    "\n",
    "- Create a new array that is 10 times the square root of `math_ops_array`. Hint: use `np.sqrt()` to find the square root. Call it `math_ops_array4`.\n",
    "- Create a new array that is a range from 10 to 20 **exclusive** (meaning it doesn't contain 20) and call it `math_ops_array5`.\n",
    "- Add `math_ops_array` to `math_ops_array5` and call the result `math_ops_array6`\n",
    "- Finally, subtract 5 times `math_ops_array` from `math_ops_array2` divided by 3 and store it in a name called `math_ops_array7`."
   ]
  },
  {
   "cell_type": "code",
   "execution_count": 217,
   "metadata": {},
   "outputs": [],
   "source": [
    "### STUDENT ANSWER\n",
    "math_ops_array4 = 10 * np.sqrt(math_ops_array)\n",
    "math_ops_array5 = np.arange(10, 15)\n",
    "math_ops_array6 = math_ops_array + math_ops_array5\n",
    "math_ops_array7 = (math_ops_array2 / 3) - (5 * math_ops_array) \n"
   ]
  },
  {
   "cell_type": "code",
   "execution_count": 219,
   "metadata": {},
   "outputs": [
    {
     "name": "stdout",
     "output_type": "stream",
     "text": [
      "[0 1 2 3 4]\n",
      "[10 11 12 13 14]\n",
      "[10 12 14 16 18]\n"
     ]
    }
   ],
   "source": [
    "print(math_ops_array)\n",
    "print(math_ops_array5)\n",
    "print(math_ops_array6)"
   ]
  },
  {
   "cell_type": "code",
   "execution_count": 216,
   "metadata": {},
   "outputs": [
    {
     "data": {
      "text/plain": [
       "((5,), (10,))"
      ]
     },
     "execution_count": 216,
     "metadata": {},
     "output_type": "execute_result"
    }
   ],
   "source": [
    "math_ops_array.shape, math_ops_array5.shape"
   ]
  },
  {
   "cell_type": "markdown",
   "metadata": {},
   "source": [
    "**NOTE** Order of operations matter!! What are they again? Your aunt Sally can tell you...\n",
    "\n",
    "P - Parenthesis - Please\n",
    "\n",
    "E - Exponents - Excuse\n",
    "\n",
    "M - Multiplication - My\n",
    "\n",
    "D - Division - Dear\n",
    "\n",
    "A - Addition - Aunt\n",
    " \n",
    "S - Subtraction - Sally"
   ]
  },
  {
   "cell_type": "markdown",
   "metadata": {},
   "source": [
    "# Loading and Saving Data\n"
   ]
  },
  {
   "cell_type": "markdown",
   "metadata": {
    "collapsed": true
   },
   "source": [
    "In order to store, share and make analyses reproducible, it is necessary to be able to save and load data to files for permanent storage. \n",
    "\n",
    "We will be looking at two main types of data storage. each used for different types of data:\n",
    "\n",
    "1. `numpy` provides many functions for saving and loading N-D Arrays. We will use two of these functions to save and load non-fMRI data arrays.\n",
    "\n",
    "2. fMRI data is generally stored in a specific format which we can read using the package `nibabel`."
   ]
  },
  {
   "cell_type": "markdown",
   "metadata": {},
   "source": [
    "### Loading Arrays from File\n",
    "\n",
    "`numpy` uses the `.npy` file extension to save N-D Arrays. The `np.load()` function takes a filename and reads in the N-D Array stored in that file. Let's load a sample file that is stored in a shared folder on your datahub account. This file contains an array which indicates the types of stimuli used during an fMRI experiment."
   ]
  },
  {
   "cell_type": "code",
   "execution_count": 220,
   "metadata": {},
   "outputs": [
    {
     "name": "stdout",
     "output_type": "stream",
     "text": [
      "--2018-01-24 01:08:25--  https://berkeley.box.com/shared/static/6y3h0bk2fvfdlelvcq1y0mnqzdwl7rrm.npy\n",
      "Resolving berkeley.box.com (berkeley.box.com)... 107.152.25.197, 107.152.24.197\n",
      "Connecting to berkeley.box.com (berkeley.box.com)|107.152.25.197|:443... connected.\n",
      "HTTP request sent, awaiting response... 301 Moved Permanently\n",
      "Location: https://berkeley.app.box.com/shared/static/6y3h0bk2fvfdlelvcq1y0mnqzdwl7rrm.npy [following]\n",
      "--2018-01-24 01:08:25--  https://berkeley.app.box.com/shared/static/6y3h0bk2fvfdlelvcq1y0mnqzdwl7rrm.npy\n",
      "Resolving berkeley.app.box.com (berkeley.app.box.com)... 107.152.24.199, 107.152.25.199\n",
      "Connecting to berkeley.app.box.com (berkeley.app.box.com)|107.152.24.199|:443... connected.\n",
      "HTTP request sent, awaiting response... 302 Found\n",
      "Location: https://public.boxcloud.com/d/1/51YGU1sHYEerJ5oHuIPL3wOY-z8Ydjk3cCZ1nancZgKnggtPmD4R6yjfHW29JpCXOqWakc0wliMJ6mTRZmX2nnHGoNn8NE7ojMn2-SkPkSYtsBwk00Cx6vw45cBZ81EylaMYDw7Xl75p95mKgXRGTt8aSSQmil92gcUieTF24FeEGEmU_ZE_JWHqephnvcxZfX5YePHjRFQkRvNhnR2Xj1xhM0gkkRhmLPa5jsrVt9xHIiNQPdFfM4Qns7Ay0GLNTI7HaiT5TLF3Pmq406b3cWIzw-_tZ7AOUSn_fAoSt-7JHlyhyBFmQ0SWzom-e6K4Nmmm9EAKVJlkJqBCswsy2GwQDIq7vcET_SpwCJQUY8wghJ6_5W-S2O1h4CD2w0Vm3hqAuXsR7Y8L6a3xpnWsZpHNA3XGhl2PlpMZcjlb72a6qSslmC2Q4Dtb6pAZSMacjf66Ex-Xy8JCTuk2jJL5vaFnpmLI0ZikLmoexKaDTB-fIP5HDxbz_xnn1QSmlCKUMhijgRxFPqiNUbpfnEiFbsI5GfxlKOjO8ON_1c9GH4kNq9_pmy3Aec6AdLcvumQEmVZURfnPKJZ7249hZYLc3nPDGB2SCDUoacuKuefh2Y3ltAcQ4OjoVSxoImb53S4v3FZDwZklg9gkHKmH3cACqDPjMUe7n6WxPfX1LTYad9z46n-F1aUPUx3GhE7mJbLXYXstpQ82PSWJPwvXYWTRFfoxqs0AiWCZwaSVCT2euUbvAcbqlRGmTHkYax2Mpufg0K9ZAe6ZDGRUM9GnY9D_HMEgyUCkou0m3-9gtMU8ge3pfKHPe-36qXkLyPC5imTmVtvZ_NFTLDDSBEhWqTjj7Jf6Iw0aZCjs4paOp2fHXxfJ5MuZ2uUHot_Dot_iTXFAjxYV54qEk2avrOoFVO_pq2D-Z33LM_gjf0vITe6u0VPTMM06U5RSpJx9YVEF9b--QwgvpHo_HFKXmS6WTLhHUc1MKmgcfI3-72ew6ZlegAYsvqpwzoaL6soB9hMm6YkEw_mbzy7stmaqwEjTt1JHUzv2e_uK5yVQFCRSriDZ7bM4riY3Stvh_koHxpJ6xYW2n2X7BWpAHQuFor4pAPVxz7Wsq9E-OVAFLF4YNmFTCFH5gxGxy2kLkrmE2j1K7_2ZSBOGdyCgApon6HPMMDSrwm2HwoNrUtjMRVfdOOdPrGRiVOfBgo7_KV8m0Lr5KF_kmQ06FwuQz9Lg55zjeJCzFaf8zMZwYhfxIJVwtj1eHJkfeiF9crhKcjjqobHj7S1xc6SarUDlo1nvR9zWZTfik5Uz3ZuXYXoLgWuYckOt0gvC-VO_QlRw9Kag8mFqU2m0MlQcKFpIHNW7X4VbJD73BkEI30t06zsnB-HxUJWRVqY-LA../download [following]\n",
      "--2018-01-24 01:08:26--  https://public.boxcloud.com/d/1/51YGU1sHYEerJ5oHuIPL3wOY-z8Ydjk3cCZ1nancZgKnggtPmD4R6yjfHW29JpCXOqWakc0wliMJ6mTRZmX2nnHGoNn8NE7ojMn2-SkPkSYtsBwk00Cx6vw45cBZ81EylaMYDw7Xl75p95mKgXRGTt8aSSQmil92gcUieTF24FeEGEmU_ZE_JWHqephnvcxZfX5YePHjRFQkRvNhnR2Xj1xhM0gkkRhmLPa5jsrVt9xHIiNQPdFfM4Qns7Ay0GLNTI7HaiT5TLF3Pmq406b3cWIzw-_tZ7AOUSn_fAoSt-7JHlyhyBFmQ0SWzom-e6K4Nmmm9EAKVJlkJqBCswsy2GwQDIq7vcET_SpwCJQUY8wghJ6_5W-S2O1h4CD2w0Vm3hqAuXsR7Y8L6a3xpnWsZpHNA3XGhl2PlpMZcjlb72a6qSslmC2Q4Dtb6pAZSMacjf66Ex-Xy8JCTuk2jJL5vaFnpmLI0ZikLmoexKaDTB-fIP5HDxbz_xnn1QSmlCKUMhijgRxFPqiNUbpfnEiFbsI5GfxlKOjO8ON_1c9GH4kNq9_pmy3Aec6AdLcvumQEmVZURfnPKJZ7249hZYLc3nPDGB2SCDUoacuKuefh2Y3ltAcQ4OjoVSxoImb53S4v3FZDwZklg9gkHKmH3cACqDPjMUe7n6WxPfX1LTYad9z46n-F1aUPUx3GhE7mJbLXYXstpQ82PSWJPwvXYWTRFfoxqs0AiWCZwaSVCT2euUbvAcbqlRGmTHkYax2Mpufg0K9ZAe6ZDGRUM9GnY9D_HMEgyUCkou0m3-9gtMU8ge3pfKHPe-36qXkLyPC5imTmVtvZ_NFTLDDSBEhWqTjj7Jf6Iw0aZCjs4paOp2fHXxfJ5MuZ2uUHot_Dot_iTXFAjxYV54qEk2avrOoFVO_pq2D-Z33LM_gjf0vITe6u0VPTMM06U5RSpJx9YVEF9b--QwgvpHo_HFKXmS6WTLhHUc1MKmgcfI3-72ew6ZlegAYsvqpwzoaL6soB9hMm6YkEw_mbzy7stmaqwEjTt1JHUzv2e_uK5yVQFCRSriDZ7bM4riY3Stvh_koHxpJ6xYW2n2X7BWpAHQuFor4pAPVxz7Wsq9E-OVAFLF4YNmFTCFH5gxGxy2kLkrmE2j1K7_2ZSBOGdyCgApon6HPMMDSrwm2HwoNrUtjMRVfdOOdPrGRiVOfBgo7_KV8m0Lr5KF_kmQ06FwuQz9Lg55zjeJCzFaf8zMZwYhfxIJVwtj1eHJkfeiF9crhKcjjqobHj7S1xc6SarUDlo1nvR9zWZTfik5Uz3ZuXYXoLgWuYckOt0gvC-VO_QlRw9Kag8mFqU2m0MlQcKFpIHNW7X4VbJD73BkEI30t06zsnB-HxUJWRVqY-LA../download\n",
      "Resolving public.boxcloud.com (public.boxcloud.com)... 107.152.25.200, 107.152.24.200\n",
      "Connecting to public.boxcloud.com (public.boxcloud.com)|107.152.25.200|:443... connected.\n",
      "HTTP request sent, awaiting response... 200 OK\n",
      "Length: 4880 (4.8K) [application/octet-stream]\n",
      "Saving to: ‘6y3h0bk2fvfdlelvcq1y0mnqzdwl7rrm.npy’\n",
      "\n",
      "6y3h0bk2fvfdlelvcq1 100%[===================>]   4.77K  --.-KB/s    in 0s      \n",
      "\n",
      "2018-01-24 01:08:26 (95.0 MB/s) - ‘6y3h0bk2fvfdlelvcq1y0mnqzdwl7rrm.npy’ saved [4880/4880]\n",
      "\n",
      "/home/jovyan/tmp/experiment_design_run1.npy: Scheme missing.\n",
      "FINISHED --2018-01-24 01:08:26--\n",
      "Total wall clock time: 1.1s\n",
      "Downloaded: 1 files, 4.8K in 0s (95.0 MB/s)\n"
     ]
    }
   ],
   "source": [
    "# Download some data\n",
    "!(mkdir -p /home/jovyan/tmp && wget https://berkeley.box.com/shared/static/6y3h0bk2fvfdlelvcq1y0mnqzdwl7rrm.npy /home/jovyan/tmp/experiment_design_run1.npy)"
   ]
  },
  {
   "cell_type": "code",
   "execution_count": 223,
   "metadata": {},
   "outputs": [
    {
     "name": "stdout",
     "output_type": "stream",
     "text": [
      "float64\n"
     ]
    }
   ],
   "source": [
    "# Load the fMRI data from a numpy array file\n",
    "fname_in = '6y3h0bk2fvfdlelvcq1y0mnqzdwl7rrm.npy'\n",
    "run1_stimuli_data = np.load(fname_in)\n",
    "print(run1_stimuli_data.dtype)"
   ]
  },
  {
   "cell_type": "markdown",
   "metadata": {},
   "source": [
    "The first thing to look at whenever you load N-D Array data is its shape, which tells us the number of dimensions and size of each one. How many dimensions does this data array have?"
   ]
  },
  {
   "cell_type": "code",
   "execution_count": 224,
   "metadata": {},
   "outputs": [
    {
     "name": "stdout",
     "output_type": "stream",
     "text": [
      "The stimuli of this run is shaped:  (120, 5)\n"
     ]
    }
   ],
   "source": [
    "# Print out the size of the data array we've loaded\n",
    "print('The stimuli of this run is shaped: ', run1_stimuli_data.shape)"
   ]
  },
  {
   "cell_type": "code",
   "execution_count": 226,
   "metadata": {},
   "outputs": [
    {
     "data": {
      "text/plain": [
       "array([[ 0.,  1.,  0.,  0.,  0.],\n",
       "       [ 0.,  1.,  0.,  0.,  0.],\n",
       "       [ 0.,  1.,  0.,  0.,  0.],\n",
       "       [ 0.,  1.,  0.,  0.,  0.],\n",
       "       [ 0.,  1.,  0.,  0.,  0.],\n",
       "       [ 0.,  1.,  0.,  0.,  0.],\n",
       "       [ 0.,  1.,  0.,  0.,  0.],\n",
       "       [ 0.,  1.,  0.,  0.,  0.],\n",
       "       [ 0.,  1.,  0.,  0.,  0.],\n",
       "       [ 0.,  1.,  0.,  0.,  0.],\n",
       "       [ 0.,  0.,  1.,  0.,  0.],\n",
       "       [ 0.,  0.,  1.,  0.,  0.],\n",
       "       [ 0.,  0.,  1.,  0.,  0.],\n",
       "       [ 0.,  0.,  1.,  0.,  0.],\n",
       "       [ 0.,  0.,  1.,  0.,  0.],\n",
       "       [ 0.,  0.,  1.,  0.,  0.],\n",
       "       [ 0.,  0.,  1.,  0.,  0.],\n",
       "       [ 0.,  0.,  1.,  0.,  0.],\n",
       "       [ 0.,  0.,  1.,  0.,  0.],\n",
       "       [ 0.,  0.,  1.,  0.,  0.],\n",
       "       [ 1.,  0.,  0.,  0.,  0.],\n",
       "       [ 1.,  0.,  0.,  0.,  0.],\n",
       "       [ 1.,  0.,  0.,  0.,  0.],\n",
       "       [ 1.,  0.,  0.,  0.,  0.],\n",
       "       [ 1.,  0.,  0.,  0.,  0.],\n",
       "       [ 1.,  0.,  0.,  0.,  0.],\n",
       "       [ 1.,  0.,  0.,  0.,  0.],\n",
       "       [ 1.,  0.,  0.,  0.,  0.],\n",
       "       [ 1.,  0.,  0.,  0.,  0.],\n",
       "       [ 1.,  0.,  0.,  0.,  0.],\n",
       "       [ 0.,  0.,  0.,  0.,  1.],\n",
       "       [ 0.,  0.,  0.,  0.,  1.],\n",
       "       [ 0.,  0.,  0.,  0.,  1.],\n",
       "       [ 0.,  0.,  0.,  0.,  1.],\n",
       "       [ 0.,  0.,  0.,  0.,  1.],\n",
       "       [ 0.,  0.,  0.,  0.,  1.],\n",
       "       [ 0.,  0.,  0.,  0.,  1.],\n",
       "       [ 0.,  0.,  0.,  0.,  1.],\n",
       "       [ 0.,  0.,  0.,  0.,  1.],\n",
       "       [ 0.,  0.,  0.,  0.,  1.],\n",
       "       [ 0.,  0.,  0.,  1.,  0.],\n",
       "       [ 0.,  0.,  0.,  1.,  0.],\n",
       "       [ 0.,  0.,  0.,  1.,  0.],\n",
       "       [ 0.,  0.,  0.,  1.,  0.],\n",
       "       [ 0.,  0.,  0.,  1.,  0.],\n",
       "       [ 0.,  0.,  0.,  1.,  0.],\n",
       "       [ 0.,  0.,  0.,  1.,  0.],\n",
       "       [ 0.,  0.,  0.,  1.,  0.],\n",
       "       [ 0.,  0.,  0.,  1.,  0.],\n",
       "       [ 0.,  0.,  0.,  1.,  0.],\n",
       "       [ 0.,  0.,  0.,  0.,  0.],\n",
       "       [ 0.,  0.,  0.,  0.,  0.],\n",
       "       [ 0.,  0.,  0.,  0.,  0.],\n",
       "       [ 0.,  0.,  0.,  0.,  0.],\n",
       "       [ 0.,  0.,  0.,  0.,  0.],\n",
       "       [ 0.,  0.,  0.,  0.,  0.],\n",
       "       [ 0.,  0.,  0.,  0.,  0.],\n",
       "       [ 0.,  0.,  0.,  0.,  0.],\n",
       "       [ 0.,  0.,  0.,  0.,  0.],\n",
       "       [ 0.,  0.,  0.,  0.,  0.],\n",
       "       [ 0.,  0.,  1.,  0.,  0.],\n",
       "       [ 0.,  0.,  1.,  0.,  0.],\n",
       "       [ 0.,  0.,  1.,  0.,  0.],\n",
       "       [ 0.,  0.,  1.,  0.,  0.],\n",
       "       [ 0.,  0.,  1.,  0.,  0.],\n",
       "       [ 0.,  0.,  1.,  0.,  0.],\n",
       "       [ 0.,  0.,  1.,  0.,  0.],\n",
       "       [ 0.,  0.,  1.,  0.,  0.],\n",
       "       [ 0.,  0.,  1.,  0.,  0.],\n",
       "       [ 0.,  0.,  1.,  0.,  0.],\n",
       "       [ 0.,  1.,  0.,  0.,  0.],\n",
       "       [ 0.,  1.,  0.,  0.,  0.],\n",
       "       [ 0.,  1.,  0.,  0.,  0.],\n",
       "       [ 0.,  1.,  0.,  0.,  0.],\n",
       "       [ 0.,  1.,  0.,  0.,  0.],\n",
       "       [ 0.,  1.,  0.,  0.,  0.],\n",
       "       [ 0.,  1.,  0.,  0.,  0.],\n",
       "       [ 0.,  1.,  0.,  0.,  0.],\n",
       "       [ 0.,  1.,  0.,  0.,  0.],\n",
       "       [ 0.,  1.,  0.,  0.,  0.],\n",
       "       [ 0.,  0.,  0.,  0.,  1.],\n",
       "       [ 0.,  0.,  0.,  0.,  1.],\n",
       "       [ 0.,  0.,  0.,  0.,  1.],\n",
       "       [ 0.,  0.,  0.,  0.,  1.],\n",
       "       [ 0.,  0.,  0.,  0.,  1.],\n",
       "       [ 0.,  0.,  0.,  0.,  1.],\n",
       "       [ 0.,  0.,  0.,  0.,  1.],\n",
       "       [ 0.,  0.,  0.,  0.,  1.],\n",
       "       [ 0.,  0.,  0.,  0.,  1.],\n",
       "       [ 0.,  0.,  0.,  0.,  1.],\n",
       "       [ 1.,  0.,  0.,  0.,  0.],\n",
       "       [ 1.,  0.,  0.,  0.,  0.],\n",
       "       [ 1.,  0.,  0.,  0.,  0.],\n",
       "       [ 1.,  0.,  0.,  0.,  0.],\n",
       "       [ 1.,  0.,  0.,  0.,  0.],\n",
       "       [ 1.,  0.,  0.,  0.,  0.],\n",
       "       [ 1.,  0.,  0.,  0.,  0.],\n",
       "       [ 1.,  0.,  0.,  0.,  0.],\n",
       "       [ 1.,  0.,  0.,  0.,  0.],\n",
       "       [ 1.,  0.,  0.,  0.,  0.],\n",
       "       [ 0.,  0.,  0.,  1.,  0.],\n",
       "       [ 0.,  0.,  0.,  1.,  0.],\n",
       "       [ 0.,  0.,  0.,  1.,  0.],\n",
       "       [ 0.,  0.,  0.,  1.,  0.],\n",
       "       [ 0.,  0.,  0.,  1.,  0.],\n",
       "       [ 0.,  0.,  0.,  1.,  0.],\n",
       "       [ 0.,  0.,  0.,  1.,  0.],\n",
       "       [ 0.,  0.,  0.,  1.,  0.],\n",
       "       [ 0.,  0.,  0.,  1.,  0.],\n",
       "       [ 0.,  0.,  0.,  1.,  0.],\n",
       "       [ 0.,  0.,  0.,  0.,  0.],\n",
       "       [ 0.,  0.,  0.,  0.,  0.],\n",
       "       [ 0.,  0.,  0.,  0.,  0.],\n",
       "       [ 0.,  0.,  0.,  0.,  0.],\n",
       "       [ 0.,  0.,  0.,  0.,  0.],\n",
       "       [ 0.,  0.,  0.,  0.,  0.],\n",
       "       [ 0.,  0.,  0.,  0.,  0.],\n",
       "       [ 0.,  0.,  0.,  0.,  0.],\n",
       "       [ 0.,  0.,  0.,  0.,  0.],\n",
       "       [ 0.,  0.,  0.,  0.,  0.]])"
      ]
     },
     "execution_count": 226,
     "metadata": {},
     "output_type": "execute_result"
    }
   ],
   "source": [
    "run1_stimuli_data"
   ]
  },
  {
   "cell_type": "markdown",
   "metadata": {},
   "source": [
    "How is this shape interpreted? The first axis indicates there are 120 TRs (or volumes) in this run. The second axis indicates there were 5 types of stimulus shown. So this array uses a 1 to indicate whether a given stimulus type was shown at a given TR."
   ]
  },
  {
   "cell_type": "markdown",
   "metadata": {},
   "source": [
    "### Saving Arrays to File\n",
    "Now that we've extracted the first run's stimuli array, let's save it out to permanent file storage using the `np.save()` function."
   ]
  },
  {
   "cell_type": "code",
   "execution_count": 227,
   "metadata": {},
   "outputs": [],
   "source": [
    "# save out the float data\n",
    "fname_out = '/home/jovyan/experiment_design_run1.npy'\n",
    "np.save(fname_out, run1_stimuli_data)"
   ]
  },
  {
   "cell_type": "markdown",
   "metadata": {},
   "source": [
    ">Now check your datahub file list to see if the save worked!"
   ]
  },
  {
   "cell_type": "markdown",
   "metadata": {
    "collapsed": true
   },
   "source": [
    "## Loading fMRI Data\n",
    "\n",
    "\n",
    "In general, fMRI data is not stored as numpy arrays. As a matter of fact, there are many different file formats in which fMRI data can be saved. The scanner often saves each volume as a so-called DICOM file. Usually in a first step of fMRI data analysis, these DICOM files are collected together into so-called NIFTI files. Fortunately, there exists a python package  called `nibabel` which can read many neuroimaging file formats. Let's import the `nibabel` module here."
   ]
  },
  {
   "cell_type": "code",
   "execution_count": 228,
   "metadata": {},
   "outputs": [],
   "source": [
    "import nibabel"
   ]
  },
  {
   "cell_type": "markdown",
   "metadata": {},
   "source": [
    "To read in a nifti file, we first use the `nibabel.load()` function, giving it the filename of the file to load. "
   ]
  },
  {
   "cell_type": "code",
   "execution_count": 229,
   "metadata": {},
   "outputs": [],
   "source": [
    "fname = '/data/cogneuro/fMRI/categories/s01_categories_01.nii.gz'\n",
    "nii = nibabel.load(fname)"
   ]
  },
  {
   "cell_type": "markdown",
   "metadata": {},
   "source": [
    "This object stores the infomation *about* the fMRI data stored in the file, but not the actual fMRI data itself. \n",
    "This meta-data can be accessed via attributes of the `nii` object."
   ]
  },
  {
   "cell_type": "code",
   "execution_count": 230,
   "metadata": {},
   "outputs": [
    {
     "name": "stdout",
     "output_type": "stream",
     "text": [
      "nii.in_memory : False\n",
      "nii.shape : (100, 100, 30, 120)\n",
      "voxel sizes : (2.24, 2.24, 4.1300001, 1.0)\n"
     ]
    }
   ],
   "source": [
    "print('nii.in_memory :', nii.in_memory)\n",
    "print('nii.shape :', nii.shape)\n",
    "print('voxel sizes :', nii.header.get_zooms())"
   ]
  },
  {
   "cell_type": "markdown",
   "metadata": {},
   "source": [
    "As we expected, the data is not yet in memory. To load the data into memory, we use a second function called `.get_data()`, this time on the **name** returned by the `load()` function."
   ]
  },
  {
   "cell_type": "code",
   "execution_count": 231,
   "metadata": {},
   "outputs": [
    {
     "name": "stdout",
     "output_type": "stream",
     "text": [
      "data.dtype:  float32\n",
      "data.shape:  (100, 100, 30, 120)\n"
     ]
    }
   ],
   "source": [
    "data = nii.get_data()\n",
    "print('data.dtype: ', data.dtype)\n",
    "print('data.shape: ', data.shape)"
   ]
  },
  {
   "cell_type": "markdown",
   "metadata": {},
   "source": [
    "As we said above, the first thing to do when loading data is to look at it's shape. For this data, we happen to know (since we collected the data ourselves!) that the MRI scanner saves the data such that it's dimensions are (X, Y, Z, T), where: X, Y, and Z are the three dimensions in space, and T is time, in volumes. Thus, there are 120 volumes (120 time points). Each volume has 30 horizontal (AKA axial) slices with 100 x 100 pixels.\n",
    "\n",
    "<img src=\"figures/slices.png\" style=\"height: 200px;\">"
   ]
  },
  {
   "cell_type": "code",
   "execution_count": 232,
   "metadata": {},
   "outputs": [
    {
     "name": "stdout",
     "output_type": "stream",
     "text": [
      "Each volume has 100 entries on the X axis, 100 on Y, 30 on Z. There are 120 volumes.\n"
     ]
    }
   ],
   "source": [
    "print('Each volume has {0} entries on the X axis, {1} on Y, {2} on Z. There are {3} volumes.'.format(\n",
    "        data.shape[0], data.shape[1], data.shape[2], data.shape[3]))"
   ]
  },
  {
   "cell_type": "markdown",
   "metadata": {},
   "source": [
    "### Transposing 4D fMRI data for convenience\n",
    "\n",
    "When we work with fMRI data, it is in general more convenient to have the data in (T, Z, Y, X) format. The reasons why this convention is more convenient (like easier syntax and shortcuts while averaging over time and transfering data to a standard units, for example) will become more obvious as we go. \n",
    "\n",
    "Fortunately there is a simple command that will do this transformation for us. It is called **transpose**. Before we apply the transpose to fMRI data, let's learn exactly what it does on some sample data."
   ]
  },
  {
   "cell_type": "markdown",
   "metadata": {},
   "source": [
    "#### How to Transpose Arrays\n",
    "\n",
    "The function to tranpose a `numpy` array is `transpose()`. However, since taking the transpose of an array is a very common operation in `numpy`, there is a shortcut to do it! Simply add `.T` after the **name** of your array:\n",
    "\n",
    "First, let's remind ourselves what's in the sample 2-D array we created earlier, and what it's shape is."
   ]
  },
  {
   "cell_type": "code",
   "execution_count": 233,
   "metadata": {},
   "outputs": [
    {
     "name": "stdout",
     "output_type": "stream",
     "text": [
      "[[ 1  3  5  7  9]\n",
      " [ 2  4  6  8 10]]\n",
      "This array has shape (2, 5).\n"
     ]
    }
   ],
   "source": [
    "print(array_2D)\n",
    "print(\"This array has shape {}.\".format(array_2D.shape))"
   ]
  },
  {
   "cell_type": "markdown",
   "metadata": {},
   "source": [
    "Now let's take the transpose of that array, store it in a new name, and see what it's new shape is."
   ]
  },
  {
   "cell_type": "code",
   "execution_count": 234,
   "metadata": {},
   "outputs": [
    {
     "name": "stdout",
     "output_type": "stream",
     "text": [
      "[[ 1  2]\n",
      " [ 3  4]\n",
      " [ 5  6]\n",
      " [ 7  8]\n",
      " [ 9 10]]\n",
      "This transposed array has shape (5, 2).\n"
     ]
    }
   ],
   "source": [
    "array_2D_T = array_2D.T\n",
    "print(array_2D_T)\n",
    "print(\"This transposed array has shape {}.\".format(array_2D_T.shape))"
   ]
  },
  {
   "cell_type": "markdown",
   "metadata": {},
   "source": [
    "So what happened when you transposed this 2-D array?\n",
    "\n",
    "And what do you think would happend if you transpose a 3-D array? Let's again remind ourselves of our 3-D array"
   ]
  },
  {
   "cell_type": "code",
   "execution_count": 235,
   "metadata": {},
   "outputs": [
    {
     "name": "stdout",
     "output_type": "stream",
     "text": [
      "[[[ 1.34615304  0.94029651 -0.12019353]\n",
      "  [ 0.10792167 -0.40789383  1.35037826]\n",
      "  [-0.10904714 -0.03390468  1.87842057]\n",
      "  [-0.92630416  0.26058803  0.98484577]]\n",
      "\n",
      " [[-0.02211576 -0.5012081   0.20712114]\n",
      "  [ 0.65122269 -0.6482566   1.30287854]\n",
      "  [ 2.01092607  0.54276498 -1.6058154 ]\n",
      "  [-1.18835269 -1.35259601 -0.92247322]]]\n",
      "This array has shape (2, 4, 3).\n"
     ]
    }
   ],
   "source": [
    "print(random_vals_3D)\n",
    "print(\"This array has shape {}.\".format(random_vals_3D.shape))"
   ]
  },
  {
   "cell_type": "markdown",
   "metadata": {},
   "source": [
    "And now tranpose that 3-D array."
   ]
  },
  {
   "cell_type": "code",
   "execution_count": 236,
   "metadata": {},
   "outputs": [
    {
     "name": "stdout",
     "output_type": "stream",
     "text": [
      "[[[ 1.34615304 -0.02211576]\n",
      "  [ 0.10792167  0.65122269]\n",
      "  [-0.10904714  2.01092607]\n",
      "  [-0.92630416 -1.18835269]]\n",
      "\n",
      " [[ 0.94029651 -0.5012081 ]\n",
      "  [-0.40789383 -0.6482566 ]\n",
      "  [-0.03390468  0.54276498]\n",
      "  [ 0.26058803 -1.35259601]]\n",
      "\n",
      " [[-0.12019353  0.20712114]\n",
      "  [ 1.35037826  1.30287854]\n",
      "  [ 1.87842057 -1.6058154 ]\n",
      "  [ 0.98484577 -0.92247322]]]\n",
      "This transposed array has shape (3, 4, 2).\n"
     ]
    }
   ],
   "source": [
    "random_vals_3D_T = random_vals_3D.T\n",
    "print(random_vals_3D_T)\n",
    "print(\"This transposed array has shape {}.\".format(random_vals_3D_T.shape))"
   ]
  },
  {
   "cell_type": "markdown",
   "metadata": {},
   "source": [
    "What we've seen is that the **tranpose** operator inverts the order of the dimensions of an array (e.g. the last dimension becomes the first dimension)."
   ]
  },
  {
   "cell_type": "markdown",
   "metadata": {},
   "source": [
    "#### Transpose the fMRI Data \n",
    "Our aim in learning how to transpose an array is to transform fMRI data into a move convenient format, which we can do using `.T`. Remember that the shape of the axes of the fMRI data we loaded is currently ordered (X, Y, Z, T) and so the ordering we want is (T, Z, Y, X)."
   ]
  },
  {
   "cell_type": "markdown",
   "metadata": {},
   "source": [
    "#### Breakout Session\n",
    "\n",
    "Now let's transpose the fMRI data we've loaded and explore it's shape.\n",
    "\n",
    "- Create the transposed matrix of the 4-D fMRI data array that we loaded (`data`). Call it `data_T`.\n",
    "- Print the dimensions of `data`\n",
    "- What do you think the dimensions of `data_T` will be?\n",
    "- Print out the dimensions of `dataT`."
   ]
  },
  {
   "cell_type": "code",
   "execution_count": 237,
   "metadata": {
    "scrolled": false
   },
   "outputs": [
    {
     "name": "stdout",
     "output_type": "stream",
     "text": [
      "The shape of the data is: (100, 100, 30, 120)\n",
      "The shape of the dataT is: (120, 30, 100, 100)\n",
      "There are 100 volumes. Each volume has 100 entries on the Z axis, 30 on Y, 120 on X. \n"
     ]
    }
   ],
   "source": [
    "### STUDENT ANSWER\n",
    "data_T = data.T\n",
    "print('The shape of the data is: {0}'.format(data.shape))\n",
    "\n",
    "# I think the dimensions will be (120,30,100,100)\n",
    "\n",
    "print('The shape of the dataT is: {0}'.format(data_T.shape))\n",
    "print('There are {0} volumes. Each volume has {1} entries on the Z axis, {2} on Y, {3} on X. '.format(\n",
    "        data.shape[0], data.shape[1], data.shape[2], data.shape[3]))"
   ]
  },
  {
   "cell_type": "markdown",
   "metadata": {},
   "source": [
    "# Memory management [Optional - Time Permitting]\n",
    "\n",
    "A big difficulty in data science in general is how to deal with large data sets. Let's look at a couple simple ways of reducing the amount of memory (RAM) that is used when dealing with large arrays."
   ]
  },
  {
   "cell_type": "markdown",
   "metadata": {},
   "source": [
    "### Python digression: Floating point vs integer numbers\n",
    "\n",
    "`numpy` stores numbers in several different formats: numbers can be stored as boolean values (True or False); as integers (0, 1, 2...) or as floating-point numbers (2.3256..., 3.63212..., etc). This is a common aspect of all programming languages that deal with images or numbers. Different formats for numbers use different amounts of memory. For data types that allow decimals (e.g. `numpy`'s `float32` and `float64`), the more decimal places that are stored for each number in an array, the more memory the array takes up. \n",
    "\n",
    "Thus, converting to a less precise format (`np.float32`) can save memory, if precision is not critically important."
   ]
  },
  {
   "cell_type": "code",
   "execution_count": null,
   "metadata": {},
   "outputs": [],
   "source": [
    "print(np.float64(np.pi))\n",
    "print(np.float32(np.pi))"
   ]
  },
  {
   "cell_type": "code",
   "execution_count": null,
   "metadata": {},
   "outputs": [],
   "source": [
    "r64 = np.random.rand(30,100,100)\n",
    "r32 = r64.astype(np.float32)\n",
    "print('data type of `r64` is: ', r64.dtype)\n",
    "print('data type of `r32` is: ', r32.dtype)"
   ]
  },
  {
   "cell_type": "markdown",
   "metadata": {},
   "source": [
    "### Breakout Session\n",
    "\n",
    "Take a look at the top right of your notebook. It should say **Mem:** xxx/1024 (MB). This tells you about the amount of memory available to you on datahub and the amount of it that you are using. If you cannot see this, go to the **View** menu and select *Toggle Toolbar*. Then it should appear.\n",
    "\n",
    "In this breakout session, you are going to construct an array that breaks your memory limits.\n",
    "\n",
    "1. Subtract the used memory from 1024, and multiply it by `(1024 * 1024)`. You have that many bytes free.\n",
    "2. Divide this value by 8. You can store that many `float64`\n",
    "3. Multiply that value by 0.75 and create an array of that many `ones`\n",
    "4. Watch the memory go up\n",
    "5. Make another array of that size and watch the kernel die"
   ]
  },
  {
   "cell_type": "code",
   "execution_count": null,
   "metadata": {},
   "outputs": [],
   "source": [
    "a = (4096 - 751) * (1024 * 1024)\n",
    "print(a)\n",
    "b = a // 8\n",
    "print(b)\n",
    "c = int(b * 0.75)\n",
    "d = np.ones(c)\n",
    "e = np.ones(c)"
   ]
  },
  {
   "cell_type": "markdown",
   "metadata": {},
   "source": [
    "## Memory maps\n",
    "When data files are many gigabytes large, too large for computer memory, then we have to come up with ways of not having all of it in computer memory at once. This is such a common problem, that modern operating systems have come up with ways of doing this as best as possible without the computer programs even knowing that not all of the data they are working with is in live memory. One of the mechanisms by which this can happen is **memory mapped arrays**: These are arrays that are stored on the hard drive, but the relevant chunks of it are loaded into memory.\n",
    "\n",
    "It turns out that if we **unzip** our nifti file, then nibabel can read it as a memory map:\n"
   ]
  },
  {
   "cell_type": "code",
   "execution_count": null,
   "metadata": {},
   "outputs": [],
   "source": [
    "!gunzip -c /data/cogneuro/fMRI/categories/s01_categories_01.nii.gz > /home/jovyan/s01_categories_01.nii\n"
   ]
  },
  {
   "cell_type": "code",
   "execution_count": null,
   "metadata": {},
   "outputs": [],
   "source": [
    "nii_nozip = nibabel.load(\"/home/jovyan/s01_categories_01.nii\")\n",
    "data_nozip = nii_nozip.get_data()"
   ]
  },
  {
   "cell_type": "code",
   "execution_count": null,
   "metadata": {},
   "outputs": [],
   "source": [
    "data_nozip"
   ]
  },
  {
   "cell_type": "code",
   "execution_count": null,
   "metadata": {},
   "outputs": [],
   "source": []
  }
 ],
 "metadata": {
  "kernelspec": {
   "display_name": "Python 3",
   "language": "python",
   "name": "python3"
  },
  "timetravel": {
   "allowedContentTypes": [
    "text/plain"
   ],
   "enabled": false,
   "version": "1.0"
  }
 },
 "nbformat": 4,
 "nbformat_minor": 1
}
