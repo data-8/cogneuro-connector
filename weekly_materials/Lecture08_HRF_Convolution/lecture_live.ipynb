{
 "cells": [
  {
   "cell_type": "markdown",
   "metadata": {
    "deletable": true,
    "editable": true
   },
   "source": [
    "# Overview\n",
    "\n",
    "## Lecture 8: fMRI hemodynamic response function and convolution\n",
    "\n",
    "In this session, we will learn about the hemodynamic response function and how *convolve* a signal with this function.\n",
    "\n",
    "In the last few weeks, we computed event-related averages for responses to different categories of objects. We saw that responses in fMRI emerge slowly (2-3 TRs or 4-6 seconds) after the onset of a stimulus.\n",
    "\n",
    "In an fMRI experiment, we usually would like to know how some event is related to brain responses and where in the brain we can find representations of these events. Using the event related averages we can investigate which brain regions respond more to a particular stimuli than others. This week, we will introduce how we can model the slow nature of the fMRI signal. To drive any valid conclusions from the fMRI data we need to make sure that our events model the actual changes in the brain. By modeling the delay that is inate to the fMRI signal, we can later try to find a direct mapping between the event and the brain response (which we will see in in the lectures after the Spring break).\n",
    "\n",
    "# Goals for today\n",
    "\n",
    "We will go over some important concepts of how to incorporate the delan in the fMRI signal after a stimulus (or event) onset \n",
    "\n",
    "- Neuroscience concepts\n",
    "    - Modeling hemodynamic responses\n",
    "- Coding concepts\n",
    "    - Implementing convolution\n",
    "- Datascience concepts\n",
    "    - Time series convolution\n",
    "    - Correlation "
   ]
  },
  {
   "cell_type": "code",
   "execution_count": null,
   "metadata": {
    "collapsed": false,
    "deletable": true,
    "editable": true
   },
   "outputs": [],
   "source": [
    "# Imports\n",
    "import numpy as np\n",
    "import matplotlib.pyplot as plt\n",
    "\n",
    "# Configure defaults for plots\n",
    "plt.rcParams['image.interpolation'] = 'nearest'\n",
    "plt.rcParams['image.aspect'] = 'auto'\n",
    "plt.rcParams['image.cmap'] = 'viridis'\n",
    "\n",
    "# New defaults!\n",
    "from cycler import cycler\n",
    "plt.rcParams['axes.grid'] = True\n",
    "plt.rcParams['axes.prop_cycle'] = cycler('color', ['k','r', (0,0,0.8),(0.95,0.8,0),(0,.8,0),(1.0, 0.5, 0)])"
   ]
  },
  {
   "cell_type": "code",
   "execution_count": null,
   "metadata": {
    "collapsed": false,
    "deletable": true,
    "editable": true
   },
   "outputs": [],
   "source": [
    "# Update neurods\n",
    "import neurods as nds\n",
    "nds.io.update_neurods()"
   ]
  },
  {
   "cell_type": "code",
   "execution_count": null,
   "metadata": {
    "collapsed": true,
    "deletable": true,
    "editable": true
   },
   "outputs": [],
   "source": [
    "%matplotlib inline\n",
    "# %config InlineBackend.figure_format = 'retina' # prettier plots for retina screens (optional)"
   ]
  },
  {
   "cell_type": "markdown",
   "metadata": {
    "deletable": true,
    "editable": true
   },
   "source": [
    "# fMRI responses do not occur immediately after a stimulus\n",
    "\n",
    "fMRI responses emerge slowly after the onset of a stimulus (or any other event). This means that, if we want to make an accurate mathematical model of how the brain responds to a given stimulus, we have to incorporate this delay into our model. \n",
    "\n",
    "To do this, we will borrow a concept from signal processing theory called the impulse response function. An impulse response function describes a system's response (this can be the signal that we measure using fMRI) to an external change (e.g. the stimulus or event onset). As we know, fMRI measures BOLD signal and not neuronal activity directly. Therefore, to model the hemodynamic response (BOLD signal) to an event we would like to have a function that describes how the BOLD signal looks like when it responds to a given event. This function is called the *hemodynamic response function* or HRF. \n",
    "\n",
    "A great deal of early fMRI research went into accurately describing how the BOLD signal rises, falls, and resets to baseline after an event. We will rely on the conclusions of this research without going into much detail about it. For an overview of hemodynamic responses in fMRI, check out [this blog post](http://mindhive.mit.edu/node/72), and the papers in the `figures/` directory for this lecture (Handwerker, Bandettini et al 2012; Logothetis & Wandell, 2004). The practical upshot of this work is that BOLD responses have a fairly characteristic shape, which is well described by a mathematical function called the *gamma function*. \n"
   ]
  },
  {
   "cell_type": "markdown",
   "metadata": {
    "deletable": true,
    "editable": true
   },
   "source": [
    "#### Generate and plot the hemodynamic response function\n",
    "\n",
    "Below we will use the fmri module in the neurods package to generate a canonical HRF:\n",
    "\n",
    "`neurods.fmri.hrf()`"
   ]
  },
  {
   "cell_type": "code",
   "execution_count": null,
   "metadata": {
    "collapsed": false,
    "deletable": true,
    "editable": true
   },
   "outputs": [],
   "source": [
    "# Let's check what arguments this function takes\n",
    "import neurods\n",
    "neurods.fmri.hrf??"
   ]
  },
  {
   "cell_type": "code",
   "execution_count": null,
   "metadata": {
    "collapsed": false,
    "deletable": true,
    "editable": true
   },
   "outputs": [],
   "source": [
    "# Import a function that generates an HRF\n",
    "from neurods.fmri import hrf as generate_hrf\n",
    "\n",
    "# Set the TR, or repetition time, a.k.a. the sampling rate\n",
    "TR = 1.0 # One measurement per second\n",
    "\n",
    "# Get a canonical HRF\n",
    "t_hrf, hrf_1 = generate_hrf(tr=TR)\n",
    "print('hrf_1 shape is', hrf_1.shape)\n",
    "__ = plt.plot(t_hrf, hrf_1)\n",
    "plt.title(\"Canonical HRF\")"
   ]
  },
  {
   "cell_type": "markdown",
   "metadata": {
    "deletable": true,
    "editable": true
   },
   "source": [
    "#### Plot a single discrete stimulus"
   ]
  },
  {
   "cell_type": "code",
   "execution_count": null,
   "metadata": {
    "collapsed": false,
    "deletable": true,
    "editable": true
   },
   "outputs": [],
   "source": [
    "# Plot a single discrete stimulus that appears at time 0\n",
    "t = t_hrf\n",
    "stimulus = np.zeros(t.shape)\n",
    "stimulus[0] = 1\n",
    "\n",
    "plt.figure(1, figsize=(10, 5))\n",
    "plt.subplot(121)\n",
    "plt.plot(t, stimulus)\n",
    "\n",
    "# There is a better function that we can use to make this plot more explicit\n",
    "#plt.subplot(122)\n",
    "#plt.stem(t, stimulus, linefmt='k-', markerfmt='.', basefmt='k-', label='Stimulus')"
   ]
  },
  {
   "cell_type": "markdown",
   "metadata": {
    "deletable": true,
    "editable": true
   },
   "source": [
    "#### The HRF is the BOLD response to this single discrete stimulus\n",
    "\n",
    "Let's plot the HRF together with the stimulus"
   ]
  },
  {
   "cell_type": "code",
   "execution_count": null,
   "metadata": {
    "collapsed": false,
    "deletable": true,
    "editable": true
   },
   "outputs": [],
   "source": [
    "# We will be plotting stimulus / response pairs several times\n",
    "# Hence, here is a function that can plot these two together\n",
    "def stim_resp_plot(t, stimulus, response, yl=(-0.2, 1.2)):\n",
    "    \"\"\"Plot stimulus and response.\"\"\"\n",
    "    plt.figure(figsize=(10,4))\n",
    "    plt.stem(t, stimulus, linefmt='k-', markerfmt='.', basefmt='k-', label='Stimulus')\n",
    "    plt.plot(t, response, 'r.-', label='BOLD response (HRF)')\n",
    "    plt.ylim(yl)\n",
    "    plt.xlim([-1,t.max()+1])\n",
    "    plt.xlabel('Time (seconds)')\n",
    "    plt.ylabel('Response (arbitrary units)')\n",
    "    _ = plt.legend()\n",
    "\n",
    "# Plot\n",
    "stim_resp_plot(t, stimulus, hrf_1)"
   ]
  },
  {
   "cell_type": "markdown",
   "metadata": {
    "deletable": true,
    "editable": true
   },
   "source": [
    "### Breakout session\n",
    "Play with the parameters of the `neurods.fmri.hrf()` function. See what happens if you change them. "
   ]
  },
  {
   "cell_type": "code",
   "execution_count": null,
   "metadata": {
    "collapsed": false,
    "deletable": true,
    "editable": true
   },
   "outputs": [],
   "source": [
    "### STUDENT ANSWER\n"
   ]
  },
  {
   "cell_type": "markdown",
   "metadata": {
    "deletable": true,
    "editable": true
   },
   "source": [
    "Every time an event occurs, the response we measure is similar to this slow hemodynamic response. We will slowly explore how this hemodynamic response can affect the signal in a voxel.\n",
    "\n",
    "First, we start with a hypothetical run of 200 TRs, in which no stimuli is presented."
   ]
  },
  {
   "cell_type": "code",
   "execution_count": null,
   "metadata": {
    "collapsed": false,
    "deletable": true,
    "editable": true
   },
   "outputs": [],
   "source": [
    "n = 200 # Total time points (TRs)\n",
    "t = np.arange(n,)\n",
    "\n",
    "# No stimulus\n",
    "stimuli = np.zeros((n))\n",
    "\n",
    "plt.figure(figsize=(10,4))\n",
    "plt.xlabel('Time (seconds)')\n",
    "plt.ylabel('Response (arbitrary units)')\n",
    "plt.stem(t, stimuli)\n",
    "\n",
    "# We assume no response\n",
    "response = np.zeros((n))\n",
    "\n",
    "# Here we plot the function\n",
    "# stim_resp_plot(t, stimuli, response, yl=(-0.2, 1.2))"
   ]
  },
  {
   "cell_type": "markdown",
   "metadata": {
    "deletable": true,
    "editable": true
   },
   "source": [
    "### Breakout session (a)\n",
    "\n",
    "A few cells above we plotted how the signal changes when we have a stimulus at time 0. \n",
    "\n",
    "Now, imagine we have a stimulus at time `i=10`. What do you expect will happen when we plot the stimulus and response?\n",
    "\n",
    "Hint: This stimulus will create an HRF that will be *added* to the signal from times i to times i + hrf_length (hrf_length is the length of our canonical HRF, which was 32 above).\n",
    "\n",
    "Attention: Make sure you modify the response by adding something to it's values, and not only changing it."
   ]
  },
  {
   "cell_type": "code",
   "execution_count": null,
   "metadata": {
    "collapsed": false,
    "deletable": true,
    "editable": true
   },
   "outputs": [],
   "source": [
    "t_hrf, hrf_1 = generate_hrf(tr=TR)\n",
    "hrf_length = len(hrf_1)\n",
    "n = 200\n",
    "t = np.arange(n,)\n",
    "stimuli = np.zeros((n))\n",
    "response = np.zeros((n))\n",
    "\n",
    "# Add a stimlus onset at time 10\n",
    "i = 10\n",
    "stimuli[i] = 1\n",
    "\n",
    "plt.figure(figsize=(10,4))\n",
    "plt.xlabel('Time (seconds)')\n",
    "plt.ylabel('Response (arbitrary units)')\n",
    "plt.stem(t, stimuli)\n",
    "\n",
    "# Now add the response to stimulus i to the response, then plot using stim_resp_plot like above\n",
    "### STUDENT ANSWER\n"
   ]
  },
  {
   "cell_type": "markdown",
   "metadata": {
    "deletable": true,
    "editable": true
   },
   "source": [
    "### Breakout session (b)\n",
    "\n",
    "\n",
    "Now let's say that there were 3 event onsets, one at `i=10`, one at `i=70` and one at `i=150`, plot the resulting activity. "
   ]
  },
  {
   "cell_type": "code",
   "execution_count": null,
   "metadata": {
    "collapsed": false,
    "deletable": true,
    "editable": true
   },
   "outputs": [],
   "source": [
    "t_hrf, hrf_1 = generate_hrf(tr=TR)\n",
    "hrf_length = len(hrf_1)\n",
    "n = 200\n",
    "t = np.arange(n,)\n",
    "stimuli = np.zeros((n))\n",
    "response = np.zeros((n))\n",
    "\n",
    "stim_times = [10, 70, 150]\n",
    "for i in stim_times:\n",
    "    stimuli[i] = 1\n",
    "    \n",
    "plt.figure(figsize=(10,4))\n",
    "plt.xlabel('Time (seconds)')\n",
    "plt.ylabel('Response (arbitrary units)')\n",
    "plt.stem(t, stimuli)\n",
    "\n",
    "# Now add the response to these three events, then plot using stim_resp_plot like above\n",
    "### STUDENT ANSWER\n"
   ]
  },
  {
   "cell_type": "markdown",
   "metadata": {
    "deletable": true,
    "editable": true
   },
   "source": [
    "### Breakout session (c)\n",
    "\n",
    "Now say that the stimuli are closer together than the length of the hemodynamic function: let's say they occur at times 10, 21, 25, 70, 71,74, 75, 80 and 150, what happens? "
   ]
  },
  {
   "cell_type": "code",
   "execution_count": null,
   "metadata": {
    "collapsed": false,
    "deletable": true,
    "editable": true
   },
   "outputs": [],
   "source": [
    "t_hrf, hrf_1 = generate_hrf(tr=TR)\n",
    "hrf_length = len(hrf_1)\n",
    "n = 200\n",
    "t = np.arange(n,)\n",
    "stimuli = np.zeros((n))\n",
    "response = np.zeros((n))\n",
    "\n",
    "stim_times = [10, 21, 25, 70, 75, 80, 150]\n",
    "for i in stim_times:\n",
    "    stimuli[i] = 1\n",
    "\n",
    "plt.figure(figsize=(10,4))\n",
    "plt.xlabel('Time (seconds)')\n",
    "plt.ylabel('Response (arbitrary units)')\n",
    "plt.stem(t, stimuli)\n",
    "\n",
    "# Now add the response to these events to the response, then plot using stim_resp_plot like above\n",
    "### STUDENT ANSWER\n"
   ]
  },
  {
   "cell_type": "markdown",
   "metadata": {
    "deletable": true,
    "editable": true
   },
   "source": [
    "### Breakout session (d)\n",
    "What happens if the event appears at time `i=180`? \n",
    "\n",
    "Hint: You may need to make a change involving the min function."
   ]
  },
  {
   "cell_type": "code",
   "execution_count": null,
   "metadata": {
    "collapsed": false,
    "deletable": true,
    "editable": true
   },
   "outputs": [],
   "source": [
    "t_hrf, hrf_1 = generate_hrf(tr=TR)\n",
    "hrf_length = 32\n",
    "n = 200\n",
    "t = np.arange(n,)\n",
    "stimuli = np.zeros((n))\n",
    "response = np.zeros((n))\n",
    "\n",
    "stim_times = [180]\n",
    "for i in stim_times:\n",
    "    stimuli[i] = 1\n",
    "\n",
    "plt.figure(figsize=(10,4))\n",
    "plt.xlabel('Time (seconds)')\n",
    "plt.ylabel('Response (arbitrary units)')\n",
    "plt.stem(t, stimuli)\n",
    "\n",
    "# Now add the response to this event to the response, then plot using stim_resp_plot like above\n",
    "### STUDENT ANSWER\n"
   ]
  },
  {
   "cell_type": "markdown",
   "metadata": {
    "deletable": true,
    "editable": true
   },
   "source": [
    "### Breakout session (e)\n",
    "\n",
    "Now write a function that will produce the correct response vectors given the stimulus vector and the hrf_1 vector. Make sure that the function will go over every element in the stimulus vector. You might need to do an adjustment to the last breakout session (d)."
   ]
  },
  {
   "cell_type": "code",
   "execution_count": null,
   "metadata": {
    "collapsed": false,
    "deletable": true,
    "editable": true
   },
   "outputs": [],
   "source": [
    "t_hrf, hrf_1 = generate_hrf(tr=TR)\n",
    "hrf_length = len(hrf_1)\n",
    "n = 200\n",
    "t = np.arange(n,)\n",
    "stimuli = np.zeros((n))\n",
    "\n",
    "stim_times = [10, 21, 25, 70, 75, 80, 150]\n",
    "for i in stim_times:\n",
    "    stimuli[i] = 1\n",
    "\n",
    "plt.figure(figsize=(10,4))\n",
    "\n",
    "plt.figure(figsize=(10,4))\n",
    "plt.xlabel('Time (seconds)')\n",
    "plt.ylabel('Response (arbitrary units)')\n",
    "plt.stem(t, stimuli)\n",
    "    \n",
    "# Define your function here, then use it to generate output and plot the above plots:\n",
    "def gen_responses(stimulus_vec, hrf_canonical):\n",
    "    n = stimulus_vec.shape[0]\n",
    "    hrf_length = len(hrf_canonical)\n",
    "    response = np.zeros((n,))\n",
    "    for i in range(n):\n",
    "### STUDENT ANSWER\n"
   ]
  },
  {
   "cell_type": "markdown",
   "metadata": {
    "deletable": true,
    "editable": true
   },
   "source": [
    "### Breakout session (f)\n",
    "\n",
    "Now assume that the events occur with different intensities: for example, a tactile stimulus with different levels of intensities. \n",
    "\n",
    "We will assume that the measured response to each event is proportional to the intensity of the event.  So, please modify the function `gen_responses` from Breakout session (e) to adjust for this change in intensity for each event."
   ]
  },
  {
   "cell_type": "code",
   "execution_count": null,
   "metadata": {
    "collapsed": false,
    "deletable": true,
    "editable": true
   },
   "outputs": [],
   "source": [
    "t_hrf, hrf_1 = generate_hrf(tr=TR)\n",
    "hrf_length = len(hrf_1)\n",
    "n = 200\n",
    "t = np.arange(n,)\n",
    "stimuli = np.zeros((n))\n",
    "\n",
    "stim_times = [10, 21, 25, 70, 75, 80, 150]\n",
    "stim_intensities = [0.25, 0.25, 1, 1, 1, 0.5, 0.5]\n",
    "for idx, i_time in enumerate(stim_times):\n",
    "    stimuli[i_time] = stim_intensities[idx]\n",
    "\n",
    "plt.figure(figsize=(10,4))\n",
    "plt.xlabel('Time (seconds)')\n",
    "plt.ylabel('Response (arbitrary units)')\n",
    "plt.stem(t, stimuli)\n",
    "    \n",
    "# Define your function here, then use it to generate output and plot the above plots:\n",
    "def gen_responses(stimulus_vec, hrf_canonical):\n",
    "    n = stimulus_vec.shape[0]\n",
    "    hrf_length = len(hrf_canonical)\n",
    "    response = np.zeros((n,))\n",
    "    for i in range(n):\n",
    "### STUDENT ANSWER\n"
   ]
  },
  {
   "cell_type": "code",
   "execution_count": null,
   "metadata": {
    "collapsed": true
   },
   "outputs": [],
   "source": [
    "### TEACHER NOTE"
   ]
  },
  {
   "cell_type": "markdown",
   "metadata": {
    "deletable": true,
    "editable": true
   },
   "source": [
    "### Breakout session (g)\n",
    "\n",
    "This time assume that we have a _blocked_ stimulus, i.e. the simulus is on for 30 seconds, starting at 10, 70 and 130. How will the response change?"
   ]
  },
  {
   "cell_type": "code",
   "execution_count": null,
   "metadata": {
    "collapsed": false,
    "deletable": true,
    "editable": true
   },
   "outputs": [],
   "source": [
    "t_hrf, hrf_1 = generate_hrf(tr=TR)\n",
    "hrf_length = 32\n",
    "n = 200\n",
    "t = np.arange(n,)\n",
    "stimuli = np.zeros((n))\n",
    "\n",
    "stim_times = list(range(10, 40)) + list(range(70, 100))+ list(range(130, 160))\n",
    "for i in stim_times:\n",
    "    stimuli[i] = 1\n",
    "\n",
    "plt.figure(figsize=(10,4))\n",
    "plt.xlabel('Time (seconds)')\n",
    "plt.ylabel('Response (arbitrary units)')\n",
    "plt.stem(t, stimuli)\n",
    "    \n",
    "# you can use your function here again, then use it to generate output and plot the above plots:\n",
    "def gen_responses(stimulus_vec, hrf_canonical):\n",
    "    n = stimulus_vec.shape[0]\n",
    "    hrf_length = len(hrf_canonical)\n",
    "    response = np.zeros((n,))\n",
    "    for i in range(n):\n",
    "### STUDENT ANSWER\n"
   ]
  },
  {
   "cell_type": "markdown",
   "metadata": {
    "deletable": true,
    "editable": true
   },
   "source": [
    "Effectively, a box of 30 impulses (or spikes) at the sampling frequency 1 s is the same as having a constant step function for 30 seconds."
   ]
  },
  {
   "cell_type": "markdown",
   "metadata": {
    "deletable": true,
    "editable": true
   },
   "source": [
    "#### Convolution \n",
    "What we did in these breakout sessions (a-g) is called a **convolution**: we have a measured signal and the stimulus. The signal is modified by a function, this is in our case the HRF. \n",
    "\n",
    "Convolution is an operation where you integrate a given signal with a modifying function. What we did so far is a simplified integration: Because our example was in a discrete time domain, we manually added the contributions of the modifying function (the HRF) to each time point after the event onset. By doing this, previous values of the signal (before time i) affect the new transformed signal (at time i). \n",
    "\n",
    "Mathematically we did the following:\n",
    "\n",
    "If is $T$ the length of the HRF. For each event onset, we made it affect the response at later time points. At the end, every value of the response $r(i)$ will have contributions to the stimulus $s$ from the previous $T$ time points:\n",
    "\n",
    "$r(i) = s(i-1) \\times hrf(1) +  s(i-2) \\times hrf(2) + ... +  s(i-T+1)  \\times hrf(T) \\\\\n",
    "  \\ \\ \\   = \\Sigma_{\\tau=1}^{T} s(i-\\tau) \\times h(\\tau)$\n",
    "\n",
    "This is exactly the expression of the discrete convolution function between functions $s$ and $h$. In continuous time, the convolution operation is written as:\n",
    "\n",
    "$r(i) = \\int_{\\tau=1}^{T} s(i-\\tau) \\times h(\\tau) = s \\ast h(i)$"
   ]
  },
  {
   "cell_type": "markdown",
   "metadata": {
    "deletable": true,
    "editable": true
   },
   "source": [
    "#### np.convolve()\n",
    "\n",
    "We will use the `np.convolve()` numpy function to convolve the event onsets (design matrix) with the HRF."
   ]
  },
  {
   "cell_type": "code",
   "execution_count": null,
   "metadata": {
    "collapsed": false,
    "deletable": true,
    "editable": true
   },
   "outputs": [],
   "source": [
    "t_hrf, hrf_1 = generate_hrf(tr=TR)\n",
    "hrf_length = 32\n",
    "n = 200\n",
    "t = np.arange(n,)\n",
    "stimuli = np.zeros((n))\n",
    "\n",
    "stim_times = list(range(10,40)) + list(range(70,100))+ list(range(130,160))\n",
    "for i in stim_times:\n",
    "    stimuli[i] = 1\n",
    "\n",
    "plt.figure(figsize=(10,4))\n",
    "plt.xlabel('Time (seconds)')\n",
    "plt.ylabel('Response (arbitrary units)')\n",
    "plt.stem(t, stimuli)\n",
    "    \n",
    "response = np.convolve(stimuli, hrf_1, mode='full')\n",
    "print('resulting response has length {} and should be cropped'.format(len(response)))\n",
    "# Here we also have to crop the signal because np.convolve creates a signal longer than n\n",
    "# because it computes the response of stimuli appearing up to time n-1, which affect the \n",
    "# signal for longer than n.\n",
    "stim_resp_plot(t, stimuli, response[:n], yl=(-0.2, 1.2))"
   ]
  },
  {
   "cell_type": "markdown",
   "metadata": {
    "deletable": true,
    "editable": true
   },
   "source": [
    "### Breakout session\n",
    "\n",
    "Using the `np.convolve()` function convolve a simple periodic signal with the HRF function."
   ]
  },
  {
   "cell_type": "code",
   "execution_count": null,
   "metadata": {
    "collapsed": false,
    "deletable": true,
    "editable": true
   },
   "outputs": [],
   "source": [
    "t_hrf, hrf_1 = generate_hrf(tr=TR)\n",
    "hrf_length = 32\n",
    "n = 200\n",
    "t = np.arange(n,)\n",
    "stimuli = np.zeros((n))\n",
    "\n",
    "stim_times = range(0,200,20)\n",
    "for i in stim_times:\n",
    "    stimuli[i] = 1\n",
    "\n",
    "plt.figure(figsize=(10,4))\n",
    "plt.xlabel('Time (seconds)')\n",
    "plt.ylabel('Response (arbitrary units)')\n",
    "plt.stem(t, stimuli)\n",
    "    \n",
    "### STUDENT ANSWER\n"
   ]
  },
  {
   "cell_type": "markdown",
   "metadata": {
    "deletable": true,
    "editable": true
   },
   "source": [
    "### Breakout session\n",
    "\n",
    "Using the `np.convolve()` function convolve a signal that has overlapping events with the HRF function."
   ]
  },
  {
   "cell_type": "code",
   "execution_count": null,
   "metadata": {
    "collapsed": false,
    "deletable": true,
    "editable": true
   },
   "outputs": [],
   "source": [
    "t_hrf, hrf_1 = generate_hrf(tr=TR)\n",
    "hrf_length = 32\n",
    "n = 200\n",
    "t = np.arange(n,)\n",
    "stimuli = np.zeros((n))\n",
    "\n",
    "idx = np.arange(0, n, 20)\n",
    "stimuli[idx] = 1\n",
    "add = np.arange(len(idx), 0, -1)\n",
    "stimuli[idx+add] = 1 \n",
    "    \n",
    "### STUDENT ANSWER\n"
   ]
  },
  {
   "cell_type": "markdown",
   "metadata": {
    "deletable": true,
    "editable": true
   },
   "source": [
    "### Important Observation \n",
    "So far we have assumed that every stimulus occurence creates a response in the voxel equal to the canonical HRF (and can be scaled by an event's value).\n",
    "\n",
    "However, voxels in different parts of the brain can be differently responsive to a stimulus, or not responsive at all. In fMRI, we are interested in finding how different voxels are responding to an event or stimulus. We will therefore introduce a new parameter: $w^v$, that describes the strength with which a voxel $v$ responds to the stimulus:\n",
    "\n",
    "$ r^v(i) = w^v \\times  (s \\ast hrf (i) )$\n",
    "\n",
    "We already know how to compute $s \\ast hrf (i)$. In the previous examples we implicitely used $w^v = 1$, and assumed the voxel responds to the stimulus. \n",
    "\n",
    "In the next few weeks, we will gradually learn how we can estimate $w^v$ from the data. We will try to find if and how responsive voxel $v$ is to a stimulus."
   ]
  },
  {
   "cell_type": "markdown",
   "metadata": {
    "deletable": true,
    "editable": true
   },
   "source": [
    "Next, we will show you two ways to account for this delay when trying to assess the relationship between brain signals and stimulus events. "
   ]
  },
  {
   "cell_type": "markdown",
   "metadata": {
    "deletable": true,
    "editable": true
   },
   "source": [
    "## Looking at example data\n",
    "\n",
    "In the next few examples, we will work with simulated data from a single voxel. We will use the same plotting function `stim_resp_plot()` that we defined in the beginning of today's lecture. Instead of generating the responses we will plot the simulated data."
   ]
  },
  {
   "cell_type": "code",
   "execution_count": null,
   "metadata": {
    "collapsed": false,
    "deletable": true,
    "editable": true
   },
   "outputs": [],
   "source": [
    "neurods.io.data_list['fmri']"
   ]
  },
  {
   "cell_type": "code",
   "execution_count": null,
   "metadata": {
    "collapsed": false,
    "deletable": true,
    "editable": true
   },
   "outputs": [],
   "source": [
    "# Load example data\n",
    "import os\n",
    "ex_data = np.load(os.path.join(neurods.io.data_list['fake'], 'example_data_01.npz'))\n",
    "t = ex_data['t']\n",
    "n_tps = len(t)\n",
    "stimulus = ex_data['x']\n",
    "data_sim = ex_data['data']\n",
    "stim_resp_plot(t, stimulus, data_sim, yl=(-2, 5))"
   ]
  },
  {
   "cell_type": "code",
   "execution_count": null,
   "metadata": {
    "collapsed": true,
    "deletable": true,
    "editable": true
   },
   "outputs": [],
   "source": [
    "### TEACHER NOTE"
   ]
  },
  {
   "cell_type": "markdown",
   "metadata": {
    "deletable": true,
    "editable": true
   },
   "source": [
    "Because of the hemodynamic delay, the BOLD response is *NOT* correlated with the stimulus events:"
   ]
  },
  {
   "cell_type": "code",
   "execution_count": null,
   "metadata": {
    "collapsed": false,
    "deletable": true,
    "editable": true
   },
   "outputs": [],
   "source": [
    "plt.scatter(stimulus, data_sim);\n",
    "print(\"the correlation between the stimulus and the data is {}\".format(np.corrcoef(stimulus, data_sim)[0,1]))"
   ]
  },
  {
   "cell_type": "markdown",
   "metadata": {
    "deletable": true,
    "editable": true
   },
   "source": [
    "How would the plot above be different if the data had been correlated?"
   ]
  },
  {
   "cell_type": "markdown",
   "metadata": {
    "deletable": true,
    "editable": true
   },
   "source": [
    "The presentation of the stimulus should create a hemodynamic response if this voxel is sensitive to that stimulus. We therefore need to convolve the stimulus first with the hemodynamic response function. \n",
    "\n",
    "But first, look at the time vector:"
   ]
  },
  {
   "cell_type": "code",
   "execution_count": null,
   "metadata": {
    "collapsed": false,
    "deletable": true,
    "editable": true
   },
   "outputs": [],
   "source": [
    "t[:10]"
   ]
  },
  {
   "cell_type": "markdown",
   "metadata": {
    "deletable": true,
    "editable": true
   },
   "source": [
    "The data is sampled with a TR of 2 seconds! Then we need an hrf that is sampled with the same rate. This will be the same curve as before, but is sampled differently."
   ]
  },
  {
   "cell_type": "code",
   "execution_count": null,
   "metadata": {
    "collapsed": false,
    "deletable": true,
    "editable": true
   },
   "outputs": [],
   "source": [
    "t2, hrf_2 = neurods.fmri.hrf(tr=2)\n",
    "plt.plot(t2, hrf_2);"
   ]
  },
  {
   "cell_type": "markdown",
   "metadata": {
    "deletable": true,
    "editable": true
   },
   "source": [
    "Now we can convolve the stimulus with the HRF:"
   ]
  },
  {
   "cell_type": "code",
   "execution_count": null,
   "metadata": {
    "collapsed": false,
    "deletable": true,
    "editable": true
   },
   "outputs": [],
   "source": [
    "conv_stimulus = np.convolve(stimulus, hrf_2, mode='full')[:n_tps]\n",
    "stim_resp_plot(t, stimulus, conv_stimulus);"
   ]
  },
  {
   "cell_type": "code",
   "execution_count": null,
   "metadata": {
    "collapsed": false,
    "deletable": true,
    "editable": true
   },
   "outputs": [],
   "source": [
    "stim_resp_plot(t, conv_stimulus, data_sim, yl=(-2, 5))"
   ]
  },
  {
   "cell_type": "code",
   "execution_count": null,
   "metadata": {
    "collapsed": false,
    "deletable": true,
    "editable": true
   },
   "outputs": [],
   "source": [
    "plt.scatter(conv_stimulus, data_sim);\n",
    "print(\"the correlation between the stimulus and the data is {}\".format(np.corrcoef(conv_stimulus, data_sim)[0,1]))"
   ]
  },
  {
   "cell_type": "markdown",
   "metadata": {
    "deletable": true,
    "editable": true
   },
   "source": [
    "We can now see that we are able to recover a clear relationship between the stimulus and the data.\n",
    "\n",
    "What is the variance of the noise that we can guess from this plot? Had this been real data, this would have been a very clean result. Usually in fMRI we are not so lucky to have effects that are this clear. We will study in future lectures how to expand this analysis.\n",
    "\n",
    "Can we estimate from this data the magnitude of the weight $w_v$?"
   ]
  },
  {
   "cell_type": "code",
   "execution_count": null,
   "metadata": {
    "collapsed": false,
    "deletable": true,
    "editable": true
   },
   "outputs": [],
   "source": [
    "# this function first a straight line through the points above\n",
    "slope, intercept = np.polyfit(data_sim, conv_stimulus, 1)\n",
    "print(slope)"
   ]
  },
  {
   "cell_type": "markdown",
   "metadata": {
    "collapsed": true,
    "deletable": true,
    "editable": true
   },
   "source": [
    "Remember, what is units of this value? fMRI signal doesn't have a unit and can be rescaled and normalized. The weight therefore depends on how the data is normalized and is only meaningful with respect to the variance of the data. \n",
    "\n",
    "What will happen when we have more than one stimulus?"
   ]
  },
  {
   "cell_type": "code",
   "execution_count": null,
   "metadata": {
    "collapsed": true,
    "deletable": true,
    "editable": true
   },
   "outputs": [],
   "source": []
  }
 ],
 "metadata": {
  "kernelspec": {
   "display_name": "Python 3",
   "language": "python",
   "name": "python3"
  },
  "language_info": {
   "codemirror_mode": {
    "name": "ipython",
    "version": 3
   },
   "file_extension": ".py",
   "mimetype": "text/x-python",
   "name": "python",
   "nbconvert_exporter": "python",
   "pygments_lexer": "ipython3",
   "version": "3.5.2"
  }
 },
 "nbformat": 4,
 "nbformat_minor": 0
}
