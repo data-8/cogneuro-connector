{
 "cells": [
  {
   "cell_type": "markdown",
   "metadata": {
    "deletable": true,
    "editable": true
   },
   "source": [
    "# Overview\n",
    "\n",
    "## Lecture 8: fMRI hemodynamic response function and convolution\n",
    "\n",
    "In this session, we will learn about the hemodynamic response function and how *convolve* a signal with this function.\n",
    "\n",
    "In the last few weeks, we computed event-related averages for responses to different categories of objects. We saw that responses in fMRI emerge slowly (2-3 TRs or 4-6 seconds) after the onset of a stimulus.\n",
    "\n",
    "In an fMRI experiment, we usually would like to know how some event is related to brain responses and where in the brain we can find representations of these events. Using the event related averages we can investigate which brain regions respond more to a particular stimuli than others. This week, we will introduce how we can model the slow nature of the fMRI signal. To drive any valid conclusions from the fMRI data we need to make sure that our events model the actual changes in the brain. By modeling the delay that is inate to the fMRI signal, we can later try to find a direct mapping between the event and the brain response (which we will see in in the lectures after the Spring break).\n",
    "\n",
    "# Goals for today\n",
    "\n",
    "We will go over some important concepts of how to incorporate the delan in the fMRI signal after a stimulus (or event) onset \n",
    "\n",
    "- Neuroscience concepts\n",
    "    - Modeling hemodynamic responses\n",
    "- Coding concepts\n",
    "    - Implementing convolution\n",
    "- Datascience concepts\n",
    "    - Time series convolution\n",
    "    - Correlation "
   ]
  },
  {
   "cell_type": "code",
   "execution_count": null,
   "metadata": {
    "collapsed": false,
    "deletable": true,
    "editable": true
   },
   "outputs": [],
   "source": [
    "# Update neurods\n",
    "# !!! Once updated remember to restart the jupyter notebook kernel !!!\n",
    "import neurods as nds\n",
    "nds.io.update_neurods()"
   ]
  },
  {
   "cell_type": "code",
   "execution_count": null,
   "metadata": {
    "collapsed": false,
    "deletable": true,
    "editable": true
   },
   "outputs": [],
   "source": [
    "# Imports\n",
    "import numpy as np\n",
    "import matplotlib.pyplot as plt\n",
    "\n",
    "# Configure defaults for plots\n",
    "plt.rcParams['image.interpolation'] = 'nearest'\n",
    "plt.rcParams['image.aspect'] = 'auto'\n",
    "plt.rcParams['image.cmap'] = 'viridis'\n",
    "\n",
    "# New defaults!\n",
    "from cycler import cycler\n",
    "plt.rcParams['axes.grid'] = True\n",
    "plt.rcParams['axes.prop_cycle'] = cycler('color', ['k','r', (0,0,0.8),(0.95,0.8,0),(0,.8,0),(1.0, 0.5, 0)])"
   ]
  },
  {
   "cell_type": "code",
   "execution_count": null,
   "metadata": {
    "collapsed": true,
    "deletable": true,
    "editable": true
   },
   "outputs": [],
   "source": [
    "%matplotlib inline\n",
    "# %config InlineBackend.figure_format = 'retina' # prettier plots for retina screens (optional)"
   ]
  },
  {
   "cell_type": "markdown",
   "metadata": {
    "deletable": true,
    "editable": true
   },
   "source": [
    "# fMRI responses do not occur immediately after a stimulus\n",
    "\n",
    "fMRI responses emerge slowly after the onset of a stimulus (or any other event). This means that, if we want to make an accurate mathematical model of how the brain responds to a given stimulus, we have to incorporate this delay into our model. \n",
    "\n",
    "To do this, we will borrow a concept from signal processing theory called the impulse response function. An impulse response function describes a system's response (this can be the signal that we measure using fMRI) to an external change (e.g. the stimulus or event onset). As we know, fMRI measures BOLD signal and not neuronal activity directly. Therefore, to model the hemodynamic response (BOLD signal) to an event we would like to have a function that describes how the BOLD signal looks like when it responds to a given event. This function is called the *hemodynamic response function* or HRF. \n",
    "\n",
    "A great deal of early fMRI research went into accurately describing how the BOLD signal rises, falls, and resets to baseline after an event. We will rely on the conclusions of this research without going into much detail about it. For an overview of hemodynamic responses in fMRI, check out [this blog post](http://mindhive.mit.edu/node/72), and the papers in the `figures/` directory for this lecture (Handwerker, Bandettini et al 2012; Logothetis & Wandell, 2004). The practical upshot of this work is that BOLD responses have a fairly characteristic shape, which is well described by a mathematical function called the *gamma function*. \n"
   ]
  },
  {
   "cell_type": "markdown",
   "metadata": {
    "deletable": true,
    "editable": true
   },
   "source": [
    "#### Generate and plot the hemodynamic response function\n",
    "\n",
    "Below we will use the fmri module in the neurods package to generate a canonical HRF:\n",
    "\n",
    "`neurods.fmri.hrf()`"
   ]
  },
  {
   "cell_type": "code",
   "execution_count": null,
   "metadata": {
    "collapsed": false,
    "deletable": true,
    "editable": true
   },
   "outputs": [],
   "source": [
    "# Let's check what arguments this function takes\n",
    "import neurods\n",
    "neurods.fmri.hrf??"
   ]
  },
  {
   "cell_type": "code",
   "execution_count": null,
   "metadata": {
    "collapsed": false,
    "deletable": true,
    "editable": true
   },
   "outputs": [],
   "source": [
    "# Import a function that generates an HRF\n",
    "from neurods.fmri import hrf as generate_hrf\n",
    "\n",
    "# Set the TR, or repetition time, a.k.a. the sampling rate\n",
    "TR = 1.0 # One measurement per second\n",
    "\n",
    "# Get a canonical HRF\n",
    "t_hrf, hrf_1 = generate_hrf(tr=TR)\n",
    "print('hrf_1 shape is', hrf_1.shape)\n",
    "__ = plt.plot(t_hrf, hrf_1)\n",
    "plt.title(\"Canonical HRF\")"
   ]
  },
  {
   "cell_type": "markdown",
   "metadata": {
    "deletable": true,
    "editable": true
   },
   "source": [
    "#### Plot a single discrete stimulus"
   ]
  },
  {
   "cell_type": "code",
   "execution_count": null,
   "metadata": {
    "collapsed": false,
    "deletable": true,
    "editable": true
   },
   "outputs": [],
   "source": [
    "# Plot a single discrete stimulus that appears at time 0\n",
    "t = t_hrf\n",
    "stimulus = np.zeros(t.shape)\n",
    "stimulus[0] = 1\n",
    "\n",
    "plt.figure(1, figsize=(10, 5))\n",
    "plt.subplot(121)\n",
    "plt.plot(t, stimulus)\n",
    "\n",
    "# There is a better function that we can use to make this plot more explicit\n",
    "plt.subplot(122)\n",
    "plt.stem(t, stimulus, linefmt='k-', markerfmt='.', basefmt='k-', label='Stimulus')"
   ]
  },
  {
   "cell_type": "markdown",
   "metadata": {
    "deletable": true,
    "editable": true
   },
   "source": [
    "#### The HRF is the BOLD response to this single discrete stimulus\n",
    "\n",
    "Let's plot the HRF together with the stimulus"
   ]
  },
  {
   "cell_type": "code",
   "execution_count": null,
   "metadata": {
    "collapsed": false,
    "deletable": true,
    "editable": true
   },
   "outputs": [],
   "source": [
    "# We will be plotting stimulus / response pairs several times\n",
    "# Hence, here is a function that can plot these two together\n",
    "def stim_resp_plot(t, stimulus, response, yl=(-0.2, 1.2), label_stim='Stimulus', label_resp='BOLD response (HRF)'):\n",
    "    \"\"\"Plot stimulus and response.\"\"\"\n",
    "    plt.figure(figsize=(10,4))\n",
    "    plt.stem(t, stimulus, linefmt='k-', markerfmt='.', basefmt='k-', label=label_stim)\n",
    "    plt.plot(t, response, 'r.-', label=label_resp)\n",
    "    plt.ylim(yl)\n",
    "    plt.xlim([-1,t.max()+1])\n",
    "    plt.xlabel('Time (seconds)')\n",
    "    plt.ylabel('Response (arbitrary units)')\n",
    "    _ = plt.legend()\n",
    "\n",
    "# Plot\n",
    "stim_resp_plot(t, stimulus, hrf_1)"
   ]
  },
  {
   "cell_type": "markdown",
   "metadata": {
    "deletable": true,
    "editable": true
   },
   "source": [
    "### Breakout session\n",
    "Play with the parameters of the `neurods.fmri.hrf()` function. See what happens if you change them. "
   ]
  },
  {
   "cell_type": "code",
   "execution_count": null,
   "metadata": {
    "collapsed": false,
    "deletable": true,
    "editable": true
   },
   "outputs": [],
   "source": [
    "### STUDENT ANSWER\n",
    "# The notation (*neurods.fmri.hrf())\n",
    "# in the plot function unzips the tuple (timepoints, hrf) that was returned by neurods.fmri.hrf()\n",
    "# timepoints, hrf = neurods.fmri.hrf()\n",
    "plt.plot(*neurods.fmri.hrf())\n",
    "plt.plot(*neurods.fmri.hrf(pttp=5, tr=1))\n",
    "plt.plot(*neurods.fmri.hrf(pttp=8))\n",
    "plt.plot(*neurods.fmri.hrf(pttp=8, tr=2))"
   ]
  },
  {
   "cell_type": "markdown",
   "metadata": {
    "deletable": true,
    "editable": true
   },
   "source": [
    "Every time an event occurs, the response we measure is similar to this slow hemodynamic response. We will slowly explore how this hemodynamic response can affect the signal in a voxel.\n",
    "\n",
    "First, we start with a hypothetical run of 200 TRs, in which no stimuli is presented."
   ]
  },
  {
   "cell_type": "code",
   "execution_count": null,
   "metadata": {
    "collapsed": false,
    "deletable": true,
    "editable": true
   },
   "outputs": [],
   "source": [
    "n = 200 # Total time points (TRs)\n",
    "t = np.arange(n,)\n",
    "\n",
    "# No stimulus\n",
    "stimuli = np.zeros((n))\n",
    "\n",
    "plt.figure(figsize=(10,4))\n",
    "plt.xlabel('Time (seconds)')\n",
    "plt.ylabel('Response (arbitrary units)')\n",
    "plt.stem(t, stimuli)\n",
    "\n",
    "# We assume no response\n",
    "response = np.zeros((n))\n",
    "\n",
    "# Here we plot the function\n",
    "stim_resp_plot(t, stimuli, response, yl=(-0.2, 1.2))"
   ]
  },
  {
   "cell_type": "markdown",
   "metadata": {
    "deletable": true,
    "editable": true
   },
   "source": [
    "### Breakout session (a)\n",
    "\n",
    "A few cells above we plotted how the signal changes when we have a stimulus at time 0. \n",
    "\n",
    "Now, imagine we have a stimulus at time `i=10`. What do you expect will happen when we plot the stimulus and response?\n",
    "\n",
    "Hint: This stimulus will create an HRF that will be *added* to the signal from times i to times i + hrf_length (hrf_length is the length of our canonical HRF, which was 32 above).\n",
    "\n",
    "Attention: Make sure you modify the response by adding something to it's values, and not only changing it."
   ]
  },
  {
   "cell_type": "code",
   "execution_count": null,
   "metadata": {
    "collapsed": false,
    "deletable": true,
    "editable": true
   },
   "outputs": [],
   "source": [
    "t_hrf, hrf_1 = generate_hrf(tr=TR)\n",
    "hrf_length = len(hrf_1)\n",
    "n = 200\n",
    "t = np.arange(n,)\n",
    "stimuli = np.zeros((n))\n",
    "response = np.zeros((n))\n",
    "\n",
    "# Add a stimlus onset at time 10\n",
    "i = 10\n",
    "stimuli[i] = 1\n",
    "\n",
    "plt.figure(figsize=(10,4))\n",
    "plt.xlabel('Time (seconds)')\n",
    "plt.ylabel('Response (arbitrary units)')\n",
    "plt.stem(t, stimuli)\n",
    "\n",
    "# Now add the response to stimulus i to the response, then plot using stim_resp_plot like above\n",
    "### STUDENT ANSWER\n",
    "response[range(i,i+hrf_length)] += hrf_1\n",
    "stim_resp_plot(t, stimuli, response, yl=(-0.2, 1.2))"
   ]
  },
  {
   "cell_type": "markdown",
   "metadata": {
    "deletable": true,
    "editable": true
   },
   "source": [
    "### Breakout session (b)\n",
    "\n",
    "\n",
    "Now let's say that there were 3 event onsets, one at `i=10`, one at `i=70` and one at `i=150`, plot the resulting activity. "
   ]
  },
  {
   "cell_type": "code",
   "execution_count": null,
   "metadata": {
    "collapsed": false,
    "deletable": true,
    "editable": true
   },
   "outputs": [],
   "source": [
    "t_hrf, hrf_1 = generate_hrf(tr=TR)\n",
    "hrf_length = len(hrf_1)\n",
    "n = 200\n",
    "t = np.arange(n,)\n",
    "stimuli = np.zeros((n))\n",
    "response = np.zeros((n))\n",
    "\n",
    "stim_times = [10, 70, 150]\n",
    "for i in stim_times:\n",
    "    stimuli[i] = 1\n",
    "    \n",
    "plt.figure(figsize=(10,4))\n",
    "plt.xlabel('Time (seconds)')\n",
    "plt.ylabel('Response (arbitrary units)')\n",
    "plt.stem(t, stimuli)\n",
    "\n",
    "# Now add the response to these three events, then plot using stim_resp_plot like above\n",
    "### STUDENT ANSWER\n",
    "for i in stim_times:\n",
    "    response[range(i,i+hrf_length)] += hrf_1\n",
    "stim_resp_plot(t, stimuli, response, yl=(-0.2, 1.2))"
   ]
  },
  {
   "cell_type": "markdown",
   "metadata": {
    "deletable": true,
    "editable": true
   },
   "source": [
    "### Breakout session (c)\n",
    "\n",
    "Now say that the stimuli are closer together than the length of the hemodynamic function: let's say they occur at times 10, 21, 25, 70, 71,74, 75, 80 and 150, what happens? "
   ]
  },
  {
   "cell_type": "code",
   "execution_count": null,
   "metadata": {
    "collapsed": false,
    "deletable": true,
    "editable": true
   },
   "outputs": [],
   "source": [
    "t_hrf, hrf_1 = generate_hrf(tr=TR)\n",
    "hrf_length = len(hrf_1)\n",
    "n = 200\n",
    "t = np.arange(n,)\n",
    "stimuli = np.zeros((n))\n",
    "response = np.zeros((n))\n",
    "\n",
    "stim_times = [10, 21, 25, 70, 75, 80, 150]\n",
    "for i in stim_times:\n",
    "    stimuli[i] = 1\n",
    "\n",
    "plt.figure(figsize=(10,4))\n",
    "plt.xlabel('Time (seconds)')\n",
    "plt.ylabel('Response (arbitrary units)')\n",
    "plt.stem(t, stimuli)\n",
    "\n",
    "# Now add the response to these events to the response, then plot using stim_resp_plot like above\n",
    "### STUDENT ANSWER\n",
    "for i in stim_times:\n",
    "    response[range(i,i+hrf_length)] += hrf_1\n",
    "stim_resp_plot(t, stimuli, response, yl=(-0.2, 1.2))"
   ]
  },
  {
   "cell_type": "markdown",
   "metadata": {
    "deletable": true,
    "editable": true
   },
   "source": [
    "### Breakout session (d)\n",
    "What happens if the event appears at time `i=180`? \n",
    "\n",
    "Hint: You may need to make a change involving the min function."
   ]
  },
  {
   "cell_type": "code",
   "execution_count": null,
   "metadata": {
    "collapsed": false,
    "deletable": true,
    "editable": true
   },
   "outputs": [],
   "source": [
    "t_hrf, hrf_1 = generate_hrf(tr=TR)\n",
    "hrf_length = 32\n",
    "n = 200\n",
    "t = np.arange(n,)\n",
    "stimuli = np.zeros((n))\n",
    "response = np.zeros((n))\n",
    "\n",
    "stim_times = [180]\n",
    "for i in stim_times:\n",
    "    stimuli[i] = 1\n",
    "\n",
    "plt.figure(figsize=(10,4))\n",
    "plt.xlabel('Time (seconds)')\n",
    "plt.ylabel('Response (arbitrary units)')\n",
    "plt.stem(t, stimuli)\n",
    "\n",
    "# Now add the response to this event to the response, then plot using stim_resp_plot like above\n",
    "### STUDENT ANSWER\n",
    "for i in stim_times:\n",
    "    index = range(i, min(i+hrf_length, n))\n",
    "    response[index] += hrf_1[:len(index)]\n",
    "stim_resp_plot(t, stimuli, response, yl=(-0.2, 1.2))\n",
    "\n",
    "#plt.figure()\n",
    "#plt.plot(hrf_1)\n",
    "#plt.plot(hrf_1[:len(index)])"
   ]
  },
  {
   "cell_type": "markdown",
   "metadata": {
    "deletable": true,
    "editable": true
   },
   "source": [
    "### Breakout session (e)\n",
    "\n",
    "Now write a function that will produce the correct response vectors given the stimulus vector and the hrf_1 vector. Make sure that the function will go over every element in the stimulus vector. You might need to do an adjustment to the last breakout session (d)."
   ]
  },
  {
   "cell_type": "code",
   "execution_count": null,
   "metadata": {
    "collapsed": false,
    "deletable": true,
    "editable": true
   },
   "outputs": [],
   "source": [
    "t_hrf, hrf_1 = generate_hrf(tr=TR)\n",
    "hrf_length = len(hrf_1)\n",
    "n = 200\n",
    "t = np.arange(n,)\n",
    "stimuli = np.zeros((n))\n",
    "\n",
    "stim_times = [10, 21, 25, 70, 75, 80, 150]\n",
    "for i in stim_times:\n",
    "    stimuli[i] = 1\n",
    "\n",
    "plt.figure(figsize=(10,4))\n",
    "\n",
    "plt.figure(figsize=(10,4))\n",
    "plt.xlabel('Time (seconds)')\n",
    "plt.ylabel('Response (arbitrary units)')\n",
    "plt.stem(t, stimuli)\n",
    "    \n",
    "# Define your function here, then use it to generate output and plot the above plots:\n",
    "def gen_responses(stimulus_vec, hrf_canonical):\n",
    "    n = stimulus_vec.shape[0]\n",
    "    hrf_length = len(hrf_canonical)\n",
    "    response = np.zeros((n,))\n",
    "    for i in range(n):\n",
    "### STUDENT ANSWER\n",
    "        if stimulus_vec[i]==1: # one way to do it: only if I have a stimulus, I will add a response\n",
    "            index = range(i, min(i+hrf_length, n))\n",
    "            response[index] += hrf_canonical[:len(index)]\n",
    "    return response\n",
    "\n",
    "response = gen_responses(stimuli,hrf_1)\n",
    "stim_resp_plot(t, stimuli, response, yl=(-0.2, 1.2))"
   ]
  }
 ],
 "metadata": {
  "kernelspec": {
   "display_name": "Python 3",
   "language": "python",
   "name": "python3"
  },
  "language_info": {
   "codemirror_mode": {
    "name": "ipython",
    "version": 3
   },
   "file_extension": ".py",
   "mimetype": "text/x-python",
   "name": "python",
   "nbconvert_exporter": "python",
   "pygments_lexer": "ipython3",
   "version": "3.5.2"
  }
 },
 "nbformat": 4,
 "nbformat_minor": 0
}
