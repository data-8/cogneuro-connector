{
 "cells": [
  {
   "cell_type": "markdown",
   "metadata": {
    "deletable": true,
    "editable": true
   },
   "source": [
    "# Overview\n",
    "\n",
    "In this week's class, we learned how to account for the hemodynamic response function in brain responses. We learned how to use the `neurods.fmri.hrf()` function. In this lab, we will continue to use this function on different examples.\n"
   ]
  },
  {
   "cell_type": "code",
   "execution_count": null,
   "metadata": {
    "collapsed": true,
    "deletable": true,
    "editable": true
   },
   "outputs": [],
   "source": [
    "# Imports\n",
    "import numpy as np\n",
    "import matplotlib.pyplot as plt\n",
    "\n",
    "import neurods\n",
    "\n",
    "# New defaults!\n",
    "from cycler import cycler\n",
    "plt.rcParams['axes.grid'] = True\n",
    "plt.rcParams['axes.prop_cycle'] = cycler('color', ['k','r', (0,0,0.8),(0.95,0.8,0),(0,.8,0),(1.0, 0.5, 0)])"
   ]
  },
  {
   "cell_type": "code",
   "execution_count": null,
   "metadata": {
    "collapsed": true,
    "deletable": true,
    "editable": true
   },
   "outputs": [],
   "source": [
    "%matplotlib inline\n",
    "# %config InlineBackend.figure_format = 'retina' # prettier plots for retina screens (optional)"
   ]
  },
  {
   "cell_type": "code",
   "execution_count": null,
   "metadata": {
    "collapsed": true,
    "deletable": true,
    "editable": true
   },
   "outputs": [],
   "source": [
    "# Plotting function from Lecture08 that we will continue to use\n",
    "def stim_resp_plot(t, stimulus, response, yl=(-0.2, 1.2), label_stim='Stimulus', label_resp='BOLD response (HRF)'):\n",
    "    \"\"\"Plot stimulus and response.\"\"\"\n",
    "    plt.figure(figsize=(10,4))\n",
    "    plt.stem(t, stimulus, linefmt='k-', markerfmt='.', basefmt='k-', label=label_stim)\n",
    "    plt.plot(t, response, 'r.-', label=label_resp)\n",
    "    plt.ylim(yl)\n",
    "    plt.xlim([-1,t.max()+1])\n",
    "    plt.xlabel('Time (seconds)')\n",
    "    plt.ylabel('Response (arbitrary units)')\n",
    "    _ = plt.legend()"
   ]
  },
  {
   "cell_type": "markdown",
   "metadata": {
    "deletable": true,
    "editable": true
   },
   "source": [
    "### 1. [2 pts.] Describe in words what the following  `gen_responses()` function does ?"
   ]
  },
  {
   "cell_type": "code",
   "execution_count": null,
   "metadata": {
    "collapsed": true,
    "deletable": true,
    "editable": true
   },
   "outputs": [],
   "source": [
    "def gen_responses(stimulus_vec, hrf_canonical):\n",
    "    n = stimulus_vec.shape[0]\n",
    "    hrf_length = len(hrf_canonical)\n",
    "    response = np.zeros((n,))\n",
    "    for i in range(n):\n",
    "        if stimulus_vec[i]==1:\n",
    "            index = range(i, min(i+hrf_length, n))\n",
    "            response[index] += hrf_canonical[:len(index)]\n",
    "    return response"
   ]
  },
  {
   "cell_type": "markdown",
   "metadata": {
    "deletable": true,
    "editable": true
   },
   "source": [
    "##### Student Answer\n",
    "Write your answer here\n",
    "\n",
    "1) The function takes inputs ...\n",
    "\n",
    "2) The function returns ...\n",
    "\n",
    "3) To compute the output the function does ..."
   ]
  },
  {
   "cell_type": "markdown",
   "metadata": {
    "deletable": true,
    "editable": true
   },
   "source": [
    "### 2.  [2 pts.] Using `gen_responses()`\n",
    "\n",
    "Now, imagine you have a 200 TR long stimulus. Given that you have an event in time points ([10, 21, 25, 70, 75, 80, 150]), generate responses and plot the stimulus and its response. The steps you need to write are:\n",
    "\n",
    "1) Generate an HRF with TR=1 (use the `neurods.fmri.hrf()` function)\n",
    "\n",
    "2) Generate the stimulus\n",
    "\n",
    "3) Generate responses for this stimulus\n",
    "\n",
    "4) Plot stimulus, response using the `stim_respo_plot()` function from the lecture.\n",
    "\n",
    "HINT: This should be very similar to what we already did in the class. The only difference is that you should use the `gen_responses()` function."
   ]
  },
  {
   "cell_type": "code",
   "execution_count": null,
   "metadata": {
    "collapsed": false,
    "deletable": true,
    "editable": true
   },
   "outputs": [],
   "source": [
    "### STUDENT ANSWER\n"
   ]
  },
  {
   "cell_type": "markdown",
   "metadata": {
    "deletable": true,
    "editable": true
   },
   "source": [
    "### 3. [2 pts.] Events with different intensities\n",
    "\n",
    "Until now, all the events had the same intensity (we set them in this lab and in the class to 1). Now, assume that the events occur with different intensities: for example, this could be caused by a tactile stimulus that had different levels of intensities. \n",
    "\n",
    "In this question, compute the measured response to each event by assuming that the response is proportional to the intensity of the event.  "
   ]
  },
  {
   "cell_type": "code",
   "execution_count": null,
   "metadata": {
    "collapsed": false,
    "deletable": true,
    "editable": true
   },
   "outputs": [],
   "source": [
    "import neurods\n",
    "t_hrf, hrf_1 = neurods.fmri.hrf(tr=1)\n",
    "hrf_length = len(hrf_1)\n",
    "n = 200\n",
    "t = np.arange(n,)\n",
    "stimuli = np.zeros((n))\n",
    "\n",
    "# Generate stimulus with different intensities\n",
    "stim_times = [10, 21, 25, 70, 75, 80, 150]\n",
    "stim_intensities = [0.25, 0.25, 1, 1, 1, 0.5, 0.5]\n",
    "for idx, i_time in enumerate(stim_times):\n",
    "    stimuli[i_time] = stim_intensities[idx]\n",
    "\n",
    "plt.figure(figsize=(10,4))\n",
    "plt.xlabel('Time (seconds)')\n",
    "plt.ylabel('Response (arbitrary units)')\n",
    "plt.stem(t, stimuli)"
   ]
  },
  {
   "cell_type": "markdown",
   "metadata": {
    "deletable": true,
    "editable": true
   },
   "source": [
    "**Modify the function `gen_responses` to adjust for this change in intensity for each event:**\n",
    "\n",
    "Here we provide you with the first part of the function and you can start modifying the function where the STUDENT ANSWER marker is (inside the for loop)."
   ]
  },
  {
   "cell_type": "code",
   "execution_count": null,
   "metadata": {
    "collapsed": true,
    "deletable": true,
    "editable": true
   },
   "outputs": [],
   "source": [
    "def gen_responses(stimulus_vec, hrf_canonical):\n",
    "    n = stimulus_vec.shape[0]\n",
    "    hrf_length = len(hrf_canonical)\n",
    "    response = np.zeros((n,))\n",
    "    for i in range(n):\n",
    "### STUDENT ANSWER\n"
   ]
  },
  {
   "cell_type": "markdown",
   "metadata": {
    "deletable": true,
    "editable": true
   },
   "source": [
    "**Plot stimulus and response**"
   ]
  },
  {
   "cell_type": "code",
   "execution_count": null,
   "metadata": {
    "collapsed": false,
    "deletable": true,
    "editable": true
   },
   "outputs": [],
   "source": [
    "### STUDENT ANSWER\n"
   ]
  },
  {
   "cell_type": "markdown",
   "metadata": {
    "deletable": true,
    "editable": true
   },
   "source": [
    "### 4. [2 pts.] Blocked stimulus"
   ]
  },
  {
   "cell_type": "markdown",
   "metadata": {
    "deletable": true,
    "editable": true
   },
   "source": [
    "In this question, we will create a _blocked_ stimulus, i.e. the simulus is on (you can set all events within one block to one) for 30 seconds, starting at 10, 70 and 130 seconds. Then, we will compute the measured response to each blocked stimulus, and plot the stimulus and response:\n",
    "\n",
    "1) Generate an HRF with TR=1 (use the neurods.fmri.hrf() function)\n",
    "\n",
    "2) Generate the blocked_stimulus that is on for 30 seconds, starting at 10, 70, and 130 seconds.\n",
    "\n",
    "3) Generate responses for this stimulus (Use `gen_responses()`)\n",
    "\n",
    "4) Plot stimulus, response using the stim_respo_plot() function from the lecture."
   ]
  },
  {
   "cell_type": "code",
   "execution_count": null,
   "metadata": {
    "collapsed": false,
    "deletable": true,
    "editable": true
   },
   "outputs": [],
   "source": [
    "### STUDENT ANSWER\n"
   ]
  },
  {
   "cell_type": "markdown",
   "metadata": {
    "deletable": true,
    "editable": true
   },
   "source": [
    "### Introducing the `np.convolve()` function\n",
    "\n",
    "What we did in this week's lecture and in this lab so far is called **convolution**: we have a measured signal and the stimulus. The signal is modified by a function, this is in our case the HRF and we would like to account for this.\n",
    "\n",
    "Convolution is an operation where you integrate a given signal with a modifying function. What we did so far is a simplified integration: Because our example was in a discrete time domain, we manually added the contributions of the modifying function (the HRF) to each time point after the event onset. By doing this, previous values of the signal (before time i) affect the new transformed signal (at time i).\n",
    "\n",
    "So, we can simply use the `np.convolve()` numpy function to convolve the event onsets (design matrix) with the HRF."
   ]
  },
  {
   "cell_type": "markdown",
   "metadata": {
    "deletable": true,
    "editable": true
   },
   "source": [
    "### 5. [2 pts.] Using `np.convolve()`\n",
    "\n",
    "Here we will build on question 4 and use the same _blocked_ stimulus, i.e. the simulus is on for 30 seconds, starting at 10, 70 and 130. \n",
    "\n",
    "This time use `np.convolve()` to generate responses and plot the stimulus and response. Check the docstring of this function to understand what arguments it takes.\n",
    "\n",
    "1) Generate an HRF with TR=1 (use the neurods.fmri.hrf() function)\n",
    "\n",
    "2) Use the blocked_stimulus from the previous question 4\n",
    "\n",
    "3) Generate responses for this stimulus (Use `np.convolve()`) \n",
    "\n",
    "4) Plot stimulus, response using the stim_respo_plot() function from the lecture.\n",
    "   \n",
    "   HINT for plotting: Check the \"mode\" argument to np.convolve() function. What does it do? Is the length of your response the same as the length of your timepoints or stimulus? You may need to specify how many timepoints you take when you plot."
   ]
  },
  {
   "cell_type": "code",
   "execution_count": null,
   "metadata": {
    "collapsed": false,
    "deletable": true,
    "editable": true
   },
   "outputs": [],
   "source": [
    "### STUDENT ANSWER\n"
   ]
  },
  {
   "cell_type": "code",
   "execution_count": null,
   "metadata": {
    "collapsed": true,
    "deletable": true,
    "editable": true
   },
   "outputs": [],
   "source": []
  }
 ],
 "metadata": {
  "kernelspec": {
   "display_name": "Python 3",
   "language": "python",
   "name": "python3"
  },
  "language_info": {
   "codemirror_mode": {
    "name": "ipython",
    "version": 3
   },
   "file_extension": ".py",
   "mimetype": "text/x-python",
   "name": "python",
   "nbconvert_exporter": "python",
   "pygments_lexer": "ipython3",
   "version": "3.5.2"
  }
 },
 "nbformat": 4,
 "nbformat_minor": 0
}
