{
 "cells": [
  {
   "cell_type": "markdown",
   "metadata": {},
   "source": [
    "# Homework 9\n",
    "\n",
    "In this homework we'll dig deeper into multiple regression, how it's done, and why it's important.\n"
   ]
  },
  {
   "cell_type": "code",
   "execution_count": null,
   "metadata": {},
   "outputs": [],
   "source": [
    "# Don't change this cell; just run it. \n",
    "# The result will give you directions about how to log in to the submission system, called OK.\n",
    "# Once you're logged in, you can run this cell again, but it won't ask you who you are because\n",
    "# it remembers you. However, you will need to log in once per assignment.\n",
    "from client.api.notebook import Notebook\n",
    "ok = Notebook('hw9.ok')\n",
    "_ = ok.auth(inline=True)"
   ]
  },
  {
   "cell_type": "code",
   "execution_count": null,
   "metadata": {},
   "outputs": [],
   "source": [
    "import numpy as np\n",
    "import matplotlib.pyplot as plt\n",
    "import nibabel\n",
    "from nistats.hemodynamic_models import glover_hrf as create_hrf\n",
    "import cortex\n",
    "from scipy.stats import zscore\n",
    "from sklearn.linear_model import LinearRegression"
   ]
  },
  {
   "cell_type": "markdown",
   "metadata": {},
   "source": [
    "Let's define our helper function to load fMRI data:"
   ]
  },
  {
   "cell_type": "code",
   "execution_count": null,
   "metadata": {},
   "outputs": [],
   "source": [
    "def load_nifti(filename, zscore=True, mask=None):\n",
    "    img = nibabel.load(filename)\n",
    "    data = img.get_data().T\n",
    "    if mask is not None:\n",
    "        data = data[:, mask]\n",
    "    if zscore:\n",
    "        data = (data - data.mean(0)) / (data.std(0) + 1e-7)\n",
    "    return data"
   ]
  },
  {
   "cell_type": "markdown",
   "metadata": {},
   "source": [
    "And let's create a response design matrix for the motor localizer:"
   ]
  },
  {
   "cell_type": "code",
   "execution_count": null,
   "metadata": {},
   "outputs": [],
   "source": [
    "hrf = create_hrf(tr=2, oversampling=1, time_length=32)\n",
    "\n",
    "motor_categories = np.load(\"/home/jovyan/motorloc_experimental_conditions.npy\")\n",
    "unique_motor_categories = np.unique(motor_categories)\n",
    "motor_response_vectors = []\n",
    "for category in unique_motor_categories:\n",
    "    stimulus_vector = motor_categories == category\n",
    "    response_vector = np.convolve(stimulus_vector, hrf)[:len(motor_categories)]\n",
    "    motor_response_vectors.append(response_vector)\n",
    "motor_response_design = np.stack(motor_response_vectors, axis=1)"
   ]
  },
  {
   "cell_type": "code",
   "execution_count": null,
   "metadata": {},
   "outputs": [],
   "source": [
    "mask = cortex.db.get_mask('s01', 'catloc', 'cortical')\n",
    "data = load_nifti('/data/cogneuro/fMRI/motor/s01_motorloc.nii.gz', mask=mask)\n",
    "\n",
    "voxel_indices = [34854, 37594, 36630, 25004, 12135, 0]\n",
    "voxels = data[:, voxel_indices]"
   ]
  },
  {
   "cell_type": "markdown",
   "metadata": {},
   "source": [
    "**1. Simple linear regression** \n",
    "\n",
    "**(a)** [1pt] Use the `sklearn` object `LinearRegression` to create a model called `linreg` and use it to perform simple linear regression between the first column of `motor_response_design` (associated with `move eyes`) and the first column of `voxels` - the time series of the first voxel, also associated with `move eyes`. \n",
    "\n",
    "Create a figure named `fig_regression1` of size `(10, 10)`, then make a scatterplot of the response vector (store it in `move_eyes_response`) and the voxel time series (store it in `voxel0`). \n",
    "\n",
    "Use the `predict` method of `linreg` to compute the predicted voxel values for the motor response vector and display them in the same plot as a line plot."
   ]
  },
  {
   "cell_type": "code",
   "execution_count": null,
   "metadata": {},
   "outputs": [],
   "source": []
  },
  {
   "cell_type": "markdown",
   "metadata": {},
   "source": [
    "**(b)** [1.5pts] Now you'll make scatter plots with the regression line (just as you did in part a) for all 36 pairs of the 6 response vectors and 6 selected voxels. You'll arrange the scatter plots such that each row of subplots will represent a voxel, and each column will represent a response vector.\n",
    "\n",
    "Create a figure called `fig_all_scatter_plots` and make it of size `(24, 24)`.\n",
    "Set a counter `counter` to 0 which you'll use to indicate which subplot to plot to. \n",
    "\n",
    "Write a `for` loop that iterates over `i` from 0 to the number of voxels. In the for loop:\n",
    "1. extract the `i`th column of `voxels` and call it `current_voxel`. \n",
    "2. Write a second `for` loop that iterates over `j` counting from 0 to the number of response vectors. Inside this second `for` loop:\n",
    "    1. Increment the counter. \n",
    "    2. Store the `j`th column from the design matrix (a response vector) in the name `current_response_vector` \n",
    "    3. Store the `j`th category in `current_category`. \n",
    "    4. Using `LinearRegression`, fit a regression model of `current_response_vector` as independent variable and `current_voxel` as dependent variable.  \n",
    "    5. Select the subplot with index `counter`. \n",
    "    6. Make a scatter plot of `current_response_vector` and `current_voxel`. \n",
    "    7. Compute the y-values of the regression line and call them `current_y` using the `predict` method of the `LinearRegression` model you just fit. \n",
    "    8. Plot the regression line. \n",
    "    9. Add a title showing `'voxel {i} / {category}'`. \n",
    "\n",
    "You should be able to easily identify which category has a positive regression slope for which voxel by examining these plots."
   ]
  },
  {
   "cell_type": "code",
   "execution_count": null,
   "metadata": {},
   "outputs": [],
   "source": []
  },
  {
   "cell_type": "markdown",
   "metadata": {},
   "source": [
    "**(c)** [1.5pts] Now you can also display the corresponding line plots. \n",
    "\n",
    "Make a figure of shape `(20, 20)` called `fig_line_plots` in which you arrange 5 subplots vertically (they will be wide to accommodate a time series). Each subplot should plot the following for one voxel:\n",
    "1. The voxel's BOLD timeseries\n",
    "2. All 6 response vectors multiplied by their estimated slopes and incremented by their respective intercepts. This will display each response vector's best fit to the time series. \n",
    "3. Label every plot appopriately and add a legend. \n",
    "4. Label the x and y axes appropriately (you can use either time or TRs, just make sure the numbers are correct for the label).\n",
    "5. Give each subplot a title that indicates the voxel and motor task being plotted.\n",
    "\n",
    "To do this, you will need two nested for loops just as above. The necessary slopes and intercepts are exactly the same as above, but for each voxel time series the 6 predictions get plotted into the same line plot."
   ]
  },
  {
   "cell_type": "code",
   "execution_count": null,
   "metadata": {},
   "outputs": [],
   "source": []
  },
  {
   "cell_type": "markdown",
   "metadata": {},
   "source": [
    "**2. Multiple linear regression** You will now perform multiple linear regression on the same voxels and look at the predicted responses.\n",
    "\n",
    "**(a)** [0.5pts] Create a `LinearRegression` object called `reg_mult`. Fit the full model (all 6 independent variables) to all 6 voxels in one step using `reg_mult.fit` with the `motor_response_design` as the independent variable and `voxels` as the dependent variable."
   ]
  },
  {
   "cell_type": "code",
   "execution_count": null,
   "metadata": {},
   "outputs": [],
   "source": []
  },
  {
   "cell_type": "markdown",
   "metadata": {},
   "source": [
    "**(b)** [0.5pts] Use the `reg_mult` object to compute the predictions for the full model on all 6 voxels using `motor_response_design`, and call the resulting predictions `y_hat`. \n",
    "\n",
    "Make a figure of size `(20, 2)` and plot the BOLD time series of the first voxel along with the predicted time series for the same voxel. Label both plots appopriately and plot a legend. Also label the x and y axes appropriately (you can use either time or TRs, just make sure the numbers are correct for the label).\n"
   ]
  },
  {
   "cell_type": "code",
   "execution_count": null,
   "metadata": {},
   "outputs": [],
   "source": []
  },
  {
   "cell_type": "markdown",
   "metadata": {},
   "source": [
    "**(c)** [1.5pts] Now we're going to pull apart the contributions of each motor task to the predicted time series of the full model. We'll visualize this by plotting the contributions to `y_hat` from every motor task so we can compare them with those we calculated with simple linear regression and get a feeling for how simple and multiple linear regression calculate different solutions. \n",
    "\n",
    "1. Use indexing to select the coefficients (weights) for all 6 motor tasks for the first voxel from the model `reg_mult.coef_`. Store them in a name called `weights_full_voxel0`. Also store the intercept for the first voxel in a name called `intercept_full_voxel0`\n",
    "2. Create an empty list called `multiplied_response_vectors`\n",
    "3. In a `for` loop that iterates over `i` from 0 to the number of motor tasks, calculate the contribution of each motor task to the predicted time series by multiplying the `i`th column with the `i`th weight from `weights_full_voxel0`. Append this product to `multiplied_response_vectors`. \n",
    "4. Sum `multiplied_response_vectors` along `axis=0` and add `intercept_full_voxel0` to this, storing the result in `y_hat_2`. \n",
    "5. Use `np.allclose` to see that `y_hat_2` and `y_hat` are equal. If they are not, make sure you selected the correct weights in the first step. \n",
    "6. Create a figure of `figsize=(20, 2)`. \n",
    "7. In a for loop that iterates over `i` from 0 to the number of motor tasks, plot each of the `multiplied_response_vectors` and give each one an appropriate label.\n",
    "8. Add a legend.\n",
    "9. Give the x and y axes appropriate labels.\n"
   ]
  },
  {
   "cell_type": "code",
   "execution_count": null,
   "metadata": {},
   "outputs": [],
   "source": []
  },
  {
   "cell_type": "markdown",
   "metadata": {},
   "source": [
    "\n",
    "**(d)** [0.5pts] Now make a similar plot to that from part **c**, but use the slopes and intercepts that you calculated using simple linear regression in question **1**. If you stored the models in question **1**, you can use them directly. Otherwise you can reuse your code from above, copy it to here and make it fit your needs.\n",
    "\n",
    "\n",
    "\n",
    "For each column in `motor_response_design`, fit a `LinearRegression` to the first voxel, then predict its activity. Plot all of these predictions into one plot like above"
   ]
  },
  {
   "cell_type": "code",
   "execution_count": null,
   "metadata": {},
   "outputs": [],
   "source": []
  },
  {
   "cell_type": "markdown",
   "metadata": {},
   "source": [
    "**(e)** [0.5pts]We observe that the predicted quantities differ noticeably, so let's make a direct comparison in the same plot to get a better feel for this difference. We'll plot the multiple linear regression predictions in red, and the simple linear regression predictions in blue:\n",
    "\n",
    "Create a figure of size `(20, 2)`, in which you plot the above two plots together. Use `plt.plot(x, y, 'r')` to plot in red and `plt.plot(x, y, 'b)` to plot in blue. Add appropriate axis labels, and, *if you want a small challenge*, a legend (but make sure it only has two entries, one for red, one for blue and not 6 for either).\n",
    "\n"
   ]
  },
  {
   "cell_type": "code",
   "execution_count": null,
   "metadata": {},
   "outputs": [],
   "source": []
  },
  {
   "cell_type": "markdown",
   "metadata": {},
   "source": [
    "We observe that the red lines (multiple regression) are more contained around 0 when the voxel is not active and show stronger activation when the voxel is active."
   ]
  },
  {
   "cell_type": "markdown",
   "metadata": {},
   "source": [
    "**3. Motor contrast maps**\n",
    "\n",
    "In class you saw a series of localizer contrast maps for specialized visual processing regions. Now you will create similar contrast maps for the motor localizer which will identify regions of motor cortex that control different parts of the body. The motor contrast maps you will create are \n",
    "\n",
    "- move hand - rest\n",
    "- move foot - rest\n",
    "- move eyes - rest\n",
    "- speak - rest\n",
    "- speak - move mouth\n",
    "\n",
    "Let's start by setting up the first one\n",
    "\n",
    "**(a)** [0.5pts] Print `unique_motor_categories` in order to know which column of `motor_response_design` corresponds to which task. Create a `LinearRegression` model called `full_reg` and use it to fit all 6 motor tasks (`motor_response_design`) to all the cortical voxels (`data`). This model will give you a weight for each of the 6 motor tasks across all the cortical voxels. Extract all the weights for each of the 6 motor tasks from  `full_reg.coef_` and store them in corresponding names `weight_move_eyes`, `weight_move_foot`, ..., `weight_speak`.\n",
    "\n"
   ]
  },
  {
   "cell_type": "code",
   "execution_count": null,
   "metadata": {},
   "outputs": [],
   "source": []
  },
  {
   "cell_type": "code",
   "execution_count": null,
   "metadata": {},
   "outputs": [],
   "source": []
  },
  {
   "cell_type": "markdown",
   "metadata": {},
   "source": [
    "**(b)** [1pt] Create the first contrast which localizes the region of motor cortex that controls the hand by by subtracting `weight_rest` from `weight_move_hand` and call it `c_hand_vs_rest`. Create a cortex volume called `vol_c_hand_vs_rest` and display it as a flatmap. Give it the title \"Hand vs Rest\"."
   ]
  },
  {
   "cell_type": "code",
   "execution_count": null,
   "metadata": {},
   "outputs": [],
   "source": []
  },
  {
   "cell_type": "markdown",
   "metadata": {},
   "source": [
    "**(c)** [1pt] Now create the remaining 5 contrasts and make a flatmap for each, just as in part **(b)**, calling the contrasts: `c_foot_vs_rest`, `c_eyes_vs_rest`, `c_speak_vs_rest`, and `c_speak_vs_mouth`."
   ]
  },
  {
   "cell_type": "code",
   "execution_count": null,
   "metadata": {},
   "outputs": [],
   "source": [
    "\n"
   ]
  },
  {
   "cell_type": "markdown",
   "metadata": {},
   "source": [
    "**(d)** [0.5pts] *Extra credit* For the visual category localizer in class we had to contrast two different conditions - contrasting against `nothing/rest` didn't yield the desired result. Why do you think it is OK to use `rest` as a contrast here?"
   ]
  },
  {
   "cell_type": "markdown",
   "metadata": {},
   "source": [
    "Answer in this cell by double-clicking it!"
   ]
  },
  {
   "cell_type": "markdown",
   "metadata": {},
   "source": [
    "Make sure to submit your homework to OKpy!"
   ]
  },
  {
   "cell_type": "code",
   "execution_count": null,
   "metadata": {},
   "outputs": [],
   "source": [
    "_ = ok.submit()"
   ]
  }
 ],
 "metadata": {
  "kernelspec": {
   "display_name": "Python 3",
   "language": "python",
   "name": "python3"
  },
  "language_info": {
   "codemirror_mode": {
    "name": "ipython",
    "version": 3
   },
   "file_extension": ".py",
   "mimetype": "text/x-python",
   "name": "python",
   "nbconvert_exporter": "python",
   "pygments_lexer": "ipython3",
   "version": "3.6.1"
  }
 },
 "nbformat": 4,
 "nbformat_minor": 2
}
