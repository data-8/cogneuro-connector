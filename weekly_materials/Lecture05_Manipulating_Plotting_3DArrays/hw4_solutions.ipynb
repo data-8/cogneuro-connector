{
 "cells": [
  {
   "cell_type": "markdown",
   "metadata": {},
   "source": [
    "# Homework #4 \n",
    "\n",
    "In this homework, you will be working with 3-D and 4-D neuroimaging arrays and applying the array manipulation and visualizing skills you learned in class."
   ]
  },
  {
   "cell_type": "code",
   "execution_count": null,
   "metadata": {},
   "outputs": [],
   "source": [
    "# Don't change this cell; just run it. \n",
    "# The result will give you directions about how to log in to the submission system, called OK.\n",
    "# Once you're logged in, you can run this cell again, but it won't ask you who you are because\n",
    "# it remembers you. However, you will need to log in once per assignment.\n",
    "from client.api.notebook import Notebook\n",
    "ok = Notebook('hw4.ok')\n",
    "#_ = ok.auth(inline=True)"
   ]
  },
  {
   "cell_type": "markdown",
   "metadata": {},
   "source": [
    "**1\\. Loading a nifti file, extracting relevant information and computing a mean volume**\n",
    "In this exercise you will load and prepare data for later visualization.\n",
    "\n",
    "**(a)** [0.5pts] Use `nibabel` to load the file `/data/cogneuro/fMRI/categories/s01_categories_01.nii.gz` into the name `img`."
   ]
  },
  {
   "cell_type": "code",
   "execution_count": null,
   "metadata": {},
   "outputs": [],
   "source": [
    "# (a)\n",
    "\n",
    "import nibabel\n",
    "img = nibabel.load(\"/data/cogneuro/fMRI/categories/s01_categories_01.nii.gz\")"
   ]
  },
  {
   "cell_type": "code",
   "execution_count": null,
   "metadata": {},
   "outputs": [],
   "source": [
    "# ok.grade(\"q4_1a\")"
   ]
  },
  {
   "cell_type": "code",
   "execution_count": null,
   "metadata": {},
   "outputs": [],
   "source": [
    "## ok.grade(\"q4_1a_full\")"
   ]
  },
  {
   "cell_type": "markdown",
   "metadata": {},
   "source": [
    "**(b)** [0.5pts] Get the data from `img` and store it in the name `raw_data`. Transpose `raw_data` and store the result in `data`."
   ]
  },
  {
   "cell_type": "code",
   "execution_count": null,
   "metadata": {},
   "outputs": [],
   "source": [
    "# (b)\n",
    "\n",
    "raw_data = img.get_data()\n",
    "data = raw_data.T"
   ]
  },
  {
   "cell_type": "code",
   "execution_count": null,
   "metadata": {},
   "outputs": [],
   "source": [
    "# ok.grade(\"q4_1b\")"
   ]
  },
  {
   "cell_type": "code",
   "execution_count": null,
   "metadata": {},
   "outputs": [],
   "source": [
    "## ok.grade(\"q4_1b_full\")"
   ]
  },
  {
   "cell_type": "markdown",
   "metadata": {},
   "source": [
    "**(c)** [0.5pts] Let's extract information necessary for good plotting: We need the voxel size in order to be able to compute the aspect ratio for our plots. Get the voxel shape from `img` and store it in `raw_voxel_shape`. Observe that this array has 4 entries, not three. Only the first three represent voxel shape in `x, y, z` directions. The last one is 1.0. Select the first three elements of `raw_voxel_shape`, flip their order so that the last element is first, and store the result in `voxel_shape`."
   ]
  },
  {
   "cell_type": "code",
   "execution_count": null,
   "metadata": {},
   "outputs": [],
   "source": [
    "# (c)\n",
    "\n",
    "raw_voxel_shape = img.header.get_zooms()\n",
    "print(raw_voxel_shape)\n",
    "\n",
    "voxel_shape = raw_voxel_shape[2::-1]\n",
    "voxel_shape"
   ]
  },
  {
   "cell_type": "code",
   "execution_count": null,
   "metadata": {},
   "outputs": [],
   "source": [
    "# ok.grade(\"q4_1c\")"
   ]
  },
  {
   "cell_type": "code",
   "execution_count": null,
   "metadata": {},
   "outputs": [],
   "source": [
    "## ok.grade(\"q4_1c_full\")"
   ]
  },
  {
   "cell_type": "markdown",
   "metadata": {},
   "source": [
    "**(d)** [1pt] Create a mean BOLD volume, by computing the mean over time for every voxel `data`. Remember, the time axis has index `0` in `data`. The output should be a 3D volume. Call it `mean_volume`.\n"
   ]
  },
  {
   "cell_type": "code",
   "execution_count": null,
   "metadata": {},
   "outputs": [],
   "source": [
    "# (d)\n",
    "\n",
    "mean_volume = data.mean(axis=0)"
   ]
  },
  {
   "cell_type": "code",
   "execution_count": null,
   "metadata": {},
   "outputs": [],
   "source": [
    "# ok.grade(\"q4_1d\")"
   ]
  },
  {
   "cell_type": "code",
   "execution_count": null,
   "metadata": {},
   "outputs": [],
   "source": [
    "## ok.grade(\"q4_1d_full\")"
   ]
  },
  {
   "cell_type": "markdown",
   "metadata": {},
   "source": [
    "**2\\. Displaying sagittal brain slices**\n",
    "In this exercise you will display the mean BOLD volume you created in exercise 1 as a series of sagittal brain slices."
   ]
  },
  {
   "cell_type": "markdown",
   "metadata": {},
   "source": [
    "**(a)** [0.5pts] `for`-loop warm-up. For-loops were taught in class and in data8. This first part is a warm-up exercise to get started: Create an empty list and name it `list_numbers`. Write a `for` loop over a `range` from `0` to `100` (exclusive, as always when this is not explicitly mentioned) where the index `i` takes each value from 0 to 99 one by one. At each step, append this value to `list_numbers`. Print `list_numbers`."
   ]
  },
  {
   "cell_type": "code",
   "execution_count": null,
   "metadata": {},
   "outputs": [],
   "source": [
    "# (a)\n",
    "\n",
    "list_numbers = []\n",
    "for i in range(100):\n",
    "    list_numbers.append(i)\n",
    "print(list_numbers)"
   ]
  },
  {
   "cell_type": "code",
   "execution_count": null,
   "metadata": {},
   "outputs": [],
   "source": [
    "# ok.grade(\"q4_2a\")"
   ]
  },
  {
   "cell_type": "code",
   "execution_count": null,
   "metadata": {},
   "outputs": [],
   "source": [
    "## ok.grade(\"q4_2a_full\")"
   ]
  },
  {
   "cell_type": "markdown",
   "metadata": {},
   "source": [
    "**(b)** [1pt]We'll start by plotting one sagittal slice. Select the middle sagittal slice of `mean_volume` (by *middle* we mean that the index of the slice should be one half of the shape entry of that axis) and store it in `middle_sagittal`. Use `voxel_shape` to determine the correct aspect ratio to use for plotting, and store it in `sagittal_aspect`. Use `plt.imshow` with a grayscale colormap and correct aspect ratio to plot this middle sagittal slice into a figure named `fig_middle_sagittal`.\n",
    "\n",
    "If the slice needs vertical flipping, go back and modify the procedure for obtaining `middle_sagittal` so that the plot is the right way round."
   ]
  },
  {
   "cell_type": "code",
   "execution_count": null,
   "metadata": {},
   "outputs": [],
   "source": [
    "# (b)\n",
    "\n",
    "import matplotlib.pyplot as plt\n",
    "%matplotlib inline\n",
    "\n",
    "middle_sagittal = mean_volume[::-1, :, 50]\n",
    "sagittal_aspect = voxel_shape[0] / voxel_shape[1]\n",
    "fig_middle_sagittal = plt.figure()\n",
    "plt.imshow(middle_sagittal, cmap='gray', aspect=sagittal_aspect)"
   ]
  },
  {
   "cell_type": "code",
   "execution_count": null,
   "metadata": {},
   "outputs": [],
   "source": [
    "# ok.grade(\"q4_2b\")"
   ]
  },
  {
   "cell_type": "code",
   "execution_count": null,
   "metadata": {},
   "outputs": [],
   "source": [
    "## ok.grade(\"q4_2b_full\")"
   ]
  },
  {
   "cell_type": "markdown",
   "metadata": {},
   "source": [
    "**(c)** [0.5pts] In this exercise you will extract all the sagittal slices and store them in a list, using a for loop. Do the following to accomplish this:\n",
    "1. Make an empty list name `list_sagittal_slices`. \n",
    "2. Extract the total number of sagittal slices in `mean_volume` and store it in `num_sagittal_slices`. \n",
    "3. In a for loop that iterates `i` from 0 to the number of sagittal slices:\n",
    "    1. store the `i`th sagittal slice in `sagittal_slice`. Make sure that you perform all necessary operations to make the top of the brain be at the top of the slice (as in the previous exercise). \n",
    "    2. Then append `sagittal_slice` to `list_sagittal_slices`."
   ]
  },
  {
   "cell_type": "code",
   "execution_count": null,
   "metadata": {},
   "outputs": [],
   "source": [
    "# (c)\n",
    "\n",
    "list_sagittal_slices = []\n",
    "num_sagittal_slices = mean_volume.shape[2]\n",
    "for i in range(0):\n",
    "    sagittal_slice = mean_volume[::-1, :, i]\n",
    "    list_sagittal_slices.append(sagittal_slice)"
   ]
  },
  {
   "cell_type": "code",
   "execution_count": null,
   "metadata": {},
   "outputs": [],
   "source": [
    "# ok.grade(\"q4_2c\")"
   ]
  },
  {
   "cell_type": "code",
   "execution_count": null,
   "metadata": {},
   "outputs": [],
   "source": [
    "## ok.grade(\"q4_2c_full\")"
   ]
  },
  {
   "cell_type": "markdown",
   "metadata": {},
   "source": [
    "**(d)**[1pt] `plt.subplot` warmup. In this part you will use `plt.subplot` on a simple example, plotting three sagittal slices next to each other. To accomplish this do the following:\n",
    "\n",
    "1. You have already extracted the middle slice in `middle_sagittal`. In addition to this, extract `quarter_sagittal` and `threequarter_sagittal`, which are located at the one quarter and three-quarters mark of indices, respectively (`middle_sagittal` is extracted half-way through the brain, `quarter_sagittal` is extracted half-way between the beginning [0 index] of the brain image and `middle_sagittal` and `threequarter_sagittal` is extracted half-way between `middle_sagittal` and the end of the brain image [highest index]).\n",
    "\n",
    "2. Display all three images horizontally next to each other using `plt.subplot` and `plt.imshow` with a gray colormap in a figure named `fig_quartiles` of size `figsize=(15, 3)`"
   ]
  },
  {
   "cell_type": "code",
   "execution_count": null,
   "metadata": {},
   "outputs": [],
   "source": [
    "# (d)\n",
    "\n",
    "quarter_sagittal = mean_volume[::-1, :, 25]\n",
    "threequarter_sagittal = mean_volume[::-1, :, 75]\n",
    "fig_quartiles = plt.figure(figsize=(15, 3))\n",
    "plt.subplot(1, 3, 1)\n",
    "plt.imshow(quarter_sagittal, aspect=sagittal_aspect, cmap='gray')\n",
    "plt.subplot(1, 3, 2)\n",
    "plt.imshow(middle_sagittal, aspect=sagittal_aspect, cmap='gray')\n",
    "plt.subplot(1, 3, 3)\n",
    "plt.imshow(threequarter_sagittal, aspect=sagittal_aspect, cmap='gray')"
   ]
  },
  {
   "cell_type": "code",
   "execution_count": null,
   "metadata": {},
   "outputs": [],
   "source": [
    "# ok.grade(\"q4_2d\")"
   ]
  },
  {
   "cell_type": "code",
   "execution_count": null,
   "metadata": {},
   "outputs": [],
   "source": [
    "## ok.grade(\"q4_2d_full\")"
   ]
  },
  {
   "cell_type": "markdown",
   "metadata": {},
   "source": [
    "**(e)** [1pt] Putting everything together: Now you will plot all of the sagittal slices in a single figure containing `10x10` subplots using a for loop. \n",
    "1. Create a figure named `fig_sagittal_panel` of size `15x10`. \n",
    "2. Write a for loop iterating over `i` from 0 to the number of sagittal slices. In the for loop:\n",
    "    1. Extract the current sagittal slice from `mean_volume` (remember to flip it), \n",
    "    2. Use `plt.subplot` to select a subplot (remember subplot indexing starts at 1!), \n",
    "    3. Use `plt.imshow` to show the slice with correct aspect ratio and gray scale. \n",
    "    4. Switch the `axis` ticks off."
   ]
  },
  {
   "cell_type": "code",
   "execution_count": null,
   "metadata": {},
   "outputs": [],
   "source": [
    "# (e)\n",
    "\n",
    "fig_sagittal_panel = plt.figure(figsize=(15, 10))\n",
    "for i in range(num_sagittal_slices):\n",
    "    sagittal_slice = mean_volume[::-1, :, i]\n",
    "    plt.subplot(10, 10, i + 1)\n",
    "    plt.imshow(sagittal_slice, aspect=sagittal_aspect, cmap='gray')\n",
    "    plt.axis('off')\n"
   ]
  },
  {
   "cell_type": "code",
   "execution_count": null,
   "metadata": {},
   "outputs": [],
   "source": [
    "# ok.grade(\"q4_2e\")"
   ]
  },
  {
   "cell_type": "code",
   "execution_count": null,
   "metadata": {},
   "outputs": [],
   "source": [
    "## ok.grade(\"q4_2e_full\")"
   ]
  },
  {
   "cell_type": "markdown",
   "metadata": {},
   "source": [
    "**(f)**[1pt] \n",
    "Notice that the first and last two rows of the sagittal panel are not very interesting if what we care about is the brain. They look different from the rest of the brain, because their values are very close to 0 and the colormap adjusts to the range of the image. This means that we can remove them without losing any important information. To remove those rows, we would remove 20 sagittal slices from the beginning and 20 sagittal slices from the end of the mean volume, reducing the number of slices to 60. This reduced mean volume can be plotted in 10 rows of 6 for example. Notice also that in the y-direction (left to right) there is some black space, so we can crop each slice by removing around 10 pixels from the left and the right. To do all of this:\n",
    "\n",
    "1. Create an array `cropped_mean_volume`, by slicing the mean volume and removing the first and last 20 sagittal slices (crop the x axis) and the first and last 10 coronal slices (crop in y-direction, removes the pixels on the left and right of the brain).\n",
    "2. Create the same plot as in **(e)** but displaying `cropped_mean_volume` in 10 rows and 6 columns. Make sure the for loop iteratores over `i` for the correct number of slices."
   ]
  },
  {
   "cell_type": "code",
   "execution_count": null,
   "metadata": {},
   "outputs": [],
   "source": [
    "# (f)\n",
    "\n",
    "cropped_mean_volume = mean_volume[:, 10:-10, 20:-20]\n",
    "\n",
    "fig_sagittal_panel = plt.figure(figsize=(20, 30))\n",
    "for i in range(60):\n",
    "    sagittal_slice = cropped_mean_volume[::-1, :, i]\n",
    "    plt.subplot(10, 6, i + 1)\n",
    "    plt.imshow(sagittal_slice, aspect=sagittal_aspect, cmap='gray')\n",
    "    plt.axis('off')\n"
   ]
  },
  {
   "cell_type": "code",
   "execution_count": null,
   "metadata": {},
   "outputs": [],
   "source": [
    "# ok.grade(\"q4_2f\")"
   ]
  },
  {
   "cell_type": "code",
   "execution_count": null,
   "metadata": {},
   "outputs": [],
   "source": [
    "## ok.grade(\"q4_2f_full\")"
   ]
  },
  {
   "cell_type": "markdown",
   "metadata": {},
   "source": [
    "**3\\. Masking and plotting on a surface**\n",
    "In this exercise we will go over the masking procedure necessary to extract cortical voxels and display `mean_volume` on a flatmap using `pycortex`.\n",
    "\n",
    "**(a)** [0.5pts]Use pycortex to get a cortical mask using `cortex.db.get_mask` for subject `s01`, transform name `catloc` and type `cortical`. Store it in `mask`. Print its shape. Don't forget to import pycortex first!"
   ]
  },
  {
   "cell_type": "code",
   "execution_count": null,
   "metadata": {},
   "outputs": [],
   "source": [
    "# (a)\n",
    "\n",
    "import cortex\n",
    "mask = cortex.db.get_mask('s01', 'catloc', 'cortical')\n",
    "print(mask.shape)"
   ]
  },
  {
   "cell_type": "code",
   "execution_count": null,
   "metadata": {},
   "outputs": [],
   "source": [
    "# ok.grade(\"q4_3a\")"
   ]
  },
  {
   "cell_type": "code",
   "execution_count": null,
   "metadata": {},
   "outputs": [],
   "source": [
    "## ok.grade(\"q4_3a_full\")"
   ]
  },
  {
   "cell_type": "markdown",
   "metadata": {},
   "source": [
    "**(b)** [0.5pts] Use the procedure from exercise **2E** to visualize `mask` as a panel of `10x10` sagittal slices. Call the figure `fig_sagittal_mask`."
   ]
  },
  {
   "cell_type": "code",
   "execution_count": null,
   "metadata": {},
   "outputs": [],
   "source": [
    "# (b)\n",
    "\n",
    "fig_sagittal_mask = plt.figure(figsize=(15, 10))\n",
    "for i in range(num_sagittal_slices):\n",
    "    sagittal_slice = mask[::-1, :, i]\n",
    "    plt.subplot(10, 10, i + 1)\n",
    "    plt.imshow(sagittal_slice, aspect=sagittal_aspect, cmap='gray')\n",
    "    plt.axis('off')\n"
   ]
  },
  {
   "cell_type": "code",
   "execution_count": null,
   "metadata": {},
   "outputs": [],
   "source": [
    "# ok.grade(\"q4_3b\")"
   ]
  },
  {
   "cell_type": "code",
   "execution_count": null,
   "metadata": {},
   "outputs": [],
   "source": [
    "## ok.grade(\"q4_3b_full\")"
   ]
  },
  {
   "cell_type": "markdown",
   "metadata": {},
   "source": [
    "**(c)** [0.5pts] Use masking to obtain the cortical voxels from `mean_volume`. Store them in `masked_voxels`. Print the shape of `masked_voxels`."
   ]
  },
  {
   "cell_type": "code",
   "execution_count": null,
   "metadata": {},
   "outputs": [],
   "source": [
    "# (c)\n",
    "\n",
    "masked_voxels = mean_volume[mask]\n",
    "print(masked_voxels.shape)"
   ]
  },
  {
   "cell_type": "code",
   "execution_count": null,
   "metadata": {},
   "outputs": [],
   "source": [
    "# ok.grade(\"q4_3c\")"
   ]
  },
  {
   "cell_type": "code",
   "execution_count": null,
   "metadata": {},
   "outputs": [],
   "source": [
    "## ok.grade(\"q4_3c_full\")"
   ]
  },
  {
   "cell_type": "markdown",
   "metadata": {},
   "source": [
    "**(d)** [0.5pts] Use `cortex.Volume` to create a pycortex volume from `masked_voxels` by specifying subject name `s01` and transform name `catloc`. Store it in `cortex_volume`."
   ]
  },
  {
   "cell_type": "code",
   "execution_count": null,
   "metadata": {},
   "outputs": [],
   "source": [
    "# (d)\n",
    "\n",
    "cortex_volume = cortex.Volume(masked_voxels, 's01', 'catloc')"
   ]
  },
  {
   "cell_type": "code",
   "execution_count": null,
   "metadata": {},
   "outputs": [],
   "source": [
    "# ok.grade(\"q4_3d\")"
   ]
  },
  {
   "cell_type": "code",
   "execution_count": null,
   "metadata": {},
   "outputs": [],
   "source": [
    "## ok.grade(\"q4_3d_full\")"
   ]
  },
  {
   "cell_type": "markdown",
   "metadata": {},
   "source": [
    "**(e)** [0.5pts] Create a figure named `fig_cortex`. Display the volume as a flatmap by using `cortex.quickshow`."
   ]
  },
  {
   "cell_type": "code",
   "execution_count": null,
   "metadata": {},
   "outputs": [],
   "source": [
    "# (e)\n",
    "\n",
    "fig_cortex = plt.figure()\n",
    "cortex.quickshow(cortex_volume)"
   ]
  },
  {
   "cell_type": "code",
   "execution_count": null,
   "metadata": {},
   "outputs": [],
   "source": [
    "# ok.grade(\"q4_3e\")"
   ]
  },
  {
   "cell_type": "code",
   "execution_count": null,
   "metadata": {},
   "outputs": [],
   "source": [
    "## ok.grade(\"q4_3e_full\")"
   ]
  },
  {
   "cell_type": "code",
   "execution_count": null,
   "metadata": {},
   "outputs": [],
   "source": [
    "# _ = ok.submit()"
   ]
  },
  {
   "cell_type": "code",
   "execution_count": null,
   "metadata": {},
   "outputs": [],
   "source": []
  }
 ],
 "metadata": {
  "kernelspec": {
   "display_name": "Python 3",
   "language": "python",
   "name": "python3"
  },
  "language_info": {
   "codemirror_mode": {
    "name": "ipython",
    "version": 3
   },
   "file_extension": ".py",
   "mimetype": "text/x-python",
   "name": "python",
   "nbconvert_exporter": "python",
   "pygments_lexer": "ipython3",
   "version": "3.6.1"
  }
 },
 "nbformat": 4,
 "nbformat_minor": 2
}
