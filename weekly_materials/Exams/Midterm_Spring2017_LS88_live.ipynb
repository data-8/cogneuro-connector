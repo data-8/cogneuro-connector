{
 "cells": [
  {
   "cell_type": "markdown",
   "metadata": {},
   "source": [
    "# Midterm"
   ]
  },
  {
   "cell_type": "markdown",
   "metadata": {},
   "source": [
    "# Part 1 - Planning an experiment\n",
    "In this part, we will design a cognitive neuroscience experiment. First, think of a controlled experiment that you would like to do consisting of two conditions. For example, if you are interested in color representation, you could show images that are colored in one condition, and images that are black and white in the other. To find which parts of the brain represent color, you can compare event-related fMRI responses and see which regions have higher responses when looking at colored images versus black and white images. To find out *when* the response to color images is different from black and white images, you could compare response time courses measured by EEG. (You have to chose another example besides color).\n",
    "\n",
    "## 1.1 Designing the experiment [10 points total]\n",
    "In the space below, describe an experiment that you would like to test:\n",
    "\n",
    "* Describe the question you are interested in [2 points].\n",
    "* What are the two conditions you would use? Make sure that your conditions allow you to answer the question you asked. [2 points]\n",
    "* Describe a simple experiment that you would run: \n",
    "    * What images, sounds, or other stimuli would you use? [2 points]\n",
    "    * Which type of measurement would you use? (fMRI, EEG, or some other?) Why? [2 points]\n",
    "    * How long would the experiment be? [1 points]\n",
    "    * What would the subjects be doing? [1 points]    "
   ]
  },
  {
   "cell_type": "markdown",
   "metadata": {},
   "source": [
    "** Student answer:**\n",
    "\n",
    "[Use this cell for your written answer]"
   ]
  },
  {
   "cell_type": "markdown",
   "metadata": {},
   "source": [
    "## 1.2 Analyzing the data [5 points total]\n",
    "Now assume that you have indeed collected this data and preprocessed it. It is now loaded on your computer in an array format, and so is the design matrix that describes the order of appearance of your stimulus. What are the steps that are required for you to find out which brain regions are more activated in your task of interest? Write up all the analytical steps you need to take. We are not asking you to write code, only a description of the steps that you need to take. [5 points]"
   ]
  },
  {
   "cell_type": "markdown",
   "metadata": {},
   "source": [
    "** Student answer:**\n",
    "\n",
    "[Use this cell for your written answer]"
   ]
  },
  {
   "cell_type": "markdown",
   "metadata": {},
   "source": [
    "# Part 2 - Motor localizer\n",
    "In this part, we will look at another localizer dataset, in which subjects performed different motor actions (e.g., moved different parts of their body) in the scanner. We load the data here and look at the conditions:"
   ]
  },
  {
   "cell_type": "code",
   "execution_count": null,
   "metadata": {
    "collapsed": true
   },
   "outputs": [],
   "source": [
    "# Imports\n",
    "import os\n",
    "import neurods\n",
    "import cortex\n",
    "import numpy as np\n",
    "import matplotlib.pyplot as plt\n",
    "# Configure defaults for plots\n",
    "plt.rcParams['image.interpolation'] = 'nearest'\n",
    "plt.rcParams['image.aspect'] = 'auto'\n",
    "plt.rcParams['image.cmap'] = 'viridis'\n",
    "%matplotlib inline\n",
    "#%config InlineBackend.figure_format = 'retina' # optional"
   ]
  },
  {
   "cell_type": "code",
   "execution_count": null,
   "metadata": {
    "collapsed": false
   },
   "outputs": [],
   "source": [
    "# Loading the design\n",
    "basedir = os.path.join(neurods.io.data_list['fmri'],'motor')\n",
    "design_file = os.path.join(basedir,'experiment_design.npz')\n",
    "design = np.load(design_file)\n",
    "# Get condition names\n",
    "condition_names = design['conditions'].tolist()\n",
    "# Show design - yellow indicates when a condition was on\n",
    "plt.figure(figsize=(10,4))\n",
    "plt.imshow(design['run1'].T)\n",
    "plt.ylabel('Condition')\n",
    "plt.yticks(range(design['run1'].shape[1]), condition_names)\n",
    "plt.xlabel('Time (TRs)')\n",
    "_ = plt.title('Condition labels')"
   ]
  },
  {
   "cell_type": "markdown",
   "metadata": {},
   "source": [
    "# 2.1 Describing the experiment [5 points total]\n",
    "* a. Describe the above experiment in two sentences. [2 points]\n",
    "* b. What was the length of each condition? [1 points]\n",
    "* c. What do you think you can test about the brain using this data? [2 points]"
   ]
  },
  {
   "cell_type": "markdown",
   "metadata": {},
   "source": [
    "**Student answer**\n",
    "\n",
    "[Use this cell for your written answer]\n",
    "\n",
    "\n",
    "a. \n",
    "\n",
    "b. \n",
    "\n",
    "c. "
   ]
  },
  {
   "cell_type": "markdown",
   "metadata": {},
   "source": [
    "# 2.2 Analyzing the data [18 points total]\n",
    "* **a.** Load the data using neurods.io.load_fmri_data() You should both (i) mask the data to include only cortical voxels and (ii) normalize (z-score) the data as it is loaded. [3 points]\n",
    "* **b.** Compute an event-related average for each condition, for 10 TRs after the onset of each condition. [4 points]\n",
    "* **c.** Compute the mean response from the second to the eighth TR of the event-related average for each condition for each cortical voxel. This should result in a 1-D array with one value for each cortical voxel. [3 points]\n",
    "* **d.** Use cortex.quickflat.make_figure() to make a map of the mean response to each condition that you computed in **c.** (this should result in five different maps). Make sure to label which map corresponds to which condition. If you have not been able to compute the mean in **c.**, make maps of the event-related average at the 5th TR after condition onset (as we did in the homework)  [4 points]\n",
    "* **e.** Compute the difference between the mean responses to the \"move mouth\" and \"speak\" conditions for each cortical voxel. (If you didn't successfully compute the mean, compute the difference between the 5th TR of the event-related average for each condition). The array of difference values should have one value per cortical voxel. Make a map of these difference values using cortex.quickflat.make_figure(). [2 points]\n",
    "* **f.** What does this map tell you about the brain? (written response) [2 points]"
   ]
  },
  {
   "cell_type": "code",
   "execution_count": null,
   "metadata": {
    "collapsed": true
   },
   "outputs": [],
   "source": [
    "# Data file is here:\n",
    "data_file = os.path.join(basedir,'s01_motorloc.nii.gz')\n",
    "# You can use the same pycortex subject and transform for this data \n",
    "# as for the cateogry experiment.\n",
    "sub, xfm = 's01', 'catloc'"
   ]
  },
  {
   "cell_type": "code",
   "execution_count": null,
   "metadata": {
    "collapsed": true
   },
   "outputs": [],
   "source": [
    "# Student answer\n",
    "# a.\n"
   ]
  },
  {
   "cell_type": "code",
   "execution_count": null,
   "metadata": {
    "collapsed": true
   },
   "outputs": [],
   "source": [
    "# b.\n"
   ]
  },
  {
   "cell_type": "code",
   "execution_count": null,
   "metadata": {
    "collapsed": true
   },
   "outputs": [],
   "source": [
    "# c.\n"
   ]
  },
  {
   "cell_type": "code",
   "execution_count": null,
   "metadata": {
    "collapsed": true
   },
   "outputs": [],
   "source": [
    "# d. \n"
   ]
  },
  {
   "cell_type": "code",
   "execution_count": null,
   "metadata": {
    "collapsed": true
   },
   "outputs": [],
   "source": [
    "# e. \n"
   ]
  },
  {
   "cell_type": "markdown",
   "metadata": {},
   "source": [
    "** f. **\n",
    "\n",
    "[Use this cell for your written response]"
   ]
  },
  {
   "cell_type": "markdown",
   "metadata": {},
   "source": [
    "# Part 3 - Data manipulation and plotting"
   ]
  },
  {
   "cell_type": "markdown",
   "metadata": {},
   "source": [
    "## Mystery shapes [6 points total]\n",
    "\n",
    "Use the commands below to download three files, each of which contains a volumetric representation of a mystery shape. The shapes are common simple 3D shapes you have encoutered before. Your task is to figure out the identity of that shape from the 3D data."
   ]
  },
  {
   "cell_type": "code",
   "execution_count": null,
   "metadata": {
    "collapsed": false
   },
   "outputs": [],
   "source": [
    "# Download the files:\n",
    "url_template = 'https://dl.dropboxusercontent.com/u/4263923/mystery_dataset_{}.npy'\n",
    "for i in [1,3,4]:\n",
    "    neurods.io.download_file(url_template.format(i),'mystery_dataset_{}.npy'.format(i),\n",
    "                             root_destination=os.path.abspath(os.curdir), replace = True)\n"
   ]
  },
  {
   "cell_type": "markdown",
   "metadata": {},
   "source": [
    "For every one of the downloaded files: [6 points total, 1 for plotting and 1 for your guess for each shape]\n",
    "- Load the file in the corresponding cells below\n",
    "- Use `neurods.viz.slice_3d_array` (or whatever other plotting function you want) to slice the 3D array along different axes so you can discover what the shape is. (Make sure to slice through multiple axes because one axis might not be enough!)\n",
    "- Report what the shape is in the designated cell. "
   ]
  },
  {
   "cell_type": "code",
   "execution_count": null,
   "metadata": {
    "collapsed": false
   },
   "outputs": [],
   "source": [
    "# Mystery shape I\n",
    "data = np.load('mystery_dataset_1.npy').astype('float')\n",
    "# Plot me!\n"
   ]
  },
  {
   "cell_type": "markdown",
   "metadata": {},
   "source": [
    "**The mystery shape I is**:\n",
    "\"Your answer here\""
   ]
  },
  {
   "cell_type": "code",
   "execution_count": null,
   "metadata": {
    "collapsed": false
   },
   "outputs": [],
   "source": [
    "# Mystery shape II\n",
    "data = np.load('mystery_dataset_4.npy').astype('float')\n",
    "# Plot me!\n"
   ]
  },
  {
   "cell_type": "markdown",
   "metadata": {},
   "source": [
    "**The mystery shape II is**:\n",
    "\"Your answer here\""
   ]
  },
  {
   "cell_type": "code",
   "execution_count": null,
   "metadata": {
    "collapsed": false
   },
   "outputs": [],
   "source": [
    "# Mystery shape III\n",
    "data = np.load('mystery_dataset_3.npy').astype('float')\n",
    "# Plot me!\n"
   ]
  },
  {
   "cell_type": "markdown",
   "metadata": {},
   "source": [
    "**The mystery shape III is**:\n",
    "\"Your answer here\""
   ]
  },
  {
   "cell_type": "markdown",
   "metadata": {},
   "source": [
    "## Mystery 2D image [3 points total]\n",
    "\n",
    "In this section, you have to load the mystery 2D image as shown below. Your task is to figure out what in the image is (there is an entire scene in the image, not just a shape like the last questions).\n",
    "\n",
    "Use the cell below to download the image:"
   ]
  },
  {
   "cell_type": "code",
   "execution_count": null,
   "metadata": {
    "collapsed": true
   },
   "outputs": [],
   "source": [
    "# Download the image:\n",
    "url_2D = 'https://dl.dropboxusercontent.com/u/4263923/mystery_2D.npy'\n",
    "neurods.io.download_file(url_2D,'/mystery_2D.npy'.format(i),\n",
    "                         root_destination=os.path.abspath(os.curdir),\n",
    "                         replace = True)"
   ]
  },
  {
   "cell_type": "markdown",
   "metadata": {},
   "source": [
    "Load the file and use plt.imshow to plot it:"
   ]
  },
  {
   "cell_type": "code",
   "execution_count": null,
   "metadata": {
    "collapsed": true
   },
   "outputs": [],
   "source": [
    "im = np.load('mystery_2D.npy')\n",
    "plt.imshow(im, cmap = 'gray')"
   ]
  },
  {
   "cell_type": "markdown",
   "metadata": {},
   "source": [
    "Something seems to be wrong here. What is it? What can you do to fix it? [3 points]\n",
    "\n",
    "Show us what you tried to be able to see the original 2D image:"
   ]
  },
  {
   "cell_type": "code",
   "execution_count": null,
   "metadata": {
    "collapsed": true
   },
   "outputs": [],
   "source": [
    "# Student answer\n"
   ]
  },
  {
   "cell_type": "markdown",
   "metadata": {},
   "source": [
    "## Mystery brain  [3 points]\n",
    "The following code will download a NIfTI file (.nii.gz) and load it using nibabel. What is this data? Your task is to plot it however you think is appropriate [2 points] and make a guess as to what it is [1 point]. (Note: the data array is larger than many we have worked with, so you may have to select only some parts of the data to plot it)."
   ]
  },
  {
   "cell_type": "code",
   "execution_count": null,
   "metadata": {
    "collapsed": false
   },
   "outputs": [],
   "source": [
    "url_brain = 'https://www.dropbox.com/s/dyug3bsg8v5m2nl/mystery_brain_01.nii.gz'\n",
    "fname_brain = 'mystery_brain_01.nii.gz'\n",
    "neurods.io.download_file(url_brain, fname_brain,\n",
    "                         root_destination=os.path.abspath(os.curdir),\n",
    "                         replace = True)\n",
    "nii = nibabel.load(fname_brain)\n",
    "data = nii.get_data()"
   ]
  },
  {
   "cell_type": "code",
   "execution_count": null,
   "metadata": {
    "collapsed": false
   },
   "outputs": [],
   "source": [
    "# Student answer\n"
   ]
  }
 ],
 "metadata": {
  "anaconda-cloud": {},
  "kernelspec": {
   "display_name": "Python [py35]",
   "language": "python",
   "name": "Python [py35]"
  },
  "language_info": {
   "codemirror_mode": {
    "name": "ipython",
    "version": 3
   },
   "file_extension": ".py",
   "mimetype": "text/x-python",
   "name": "python",
   "nbconvert_exporter": "python",
   "pygments_lexer": "ipython3",
   "version": "3.5.2"
  }
 },
 "nbformat": 4,
 "nbformat_minor": 0
}
