{
 "cells": [
  {
   "cell_type": "markdown",
   "metadata": {},
   "source": [
    "# Overview\n",
    "In class today, we learned about loading, manipulating, and visualizing EEG data. For the homework, we will clip out particular sections of EEG data that correspond to experimental events, and create event-related averages, as we did for the fMRI data last week. \n",
    "\n",
    "## Questions\n",
    "1. [3 points] Based on the code we wrote in class, write code to slice out the section of EEG data that corresponds to times from 100 ms (0.1 seconds) *before* the onset of each event and 600 ms (0.6 seconds) *after* the onset of each event for condition 1. Create a 3D array variable from these slices of the data that is of shape (repeats_per_condition, eeg_channels, time). \n",
    "\n",
    "2. [3 points] Compute the average response to condition1 across repeats. Then (using the variable created in the previous step) compute the average response across all electrodes. \n",
    "\n",
    "3. [2 points] Plot the resulting average over time (see the breakout lecture for an example of how to create a `time` variable to plot against!) Note that the time value on the x axis should range from -0.1 to 0.6! \n",
    "\n",
    "4. [3 points] Repeat steps 1-3 for conditions 2-6. Plot the average response for each condition (across repeats and across channels) on the same plot (this will result in a plot of six lines). Label the plot! (Label both axes and create a legend that indicates which line is which - look into the help for `plt.plot()` and `plt.legend()` for how to do this)\n",
    "\n",
    "## BONUS (extra credit)\n",
    "1. [2 points] make your plot pretty! Look up how to change the size, colors and widths of lines, etc. \n",
    "\n",
    "2. [3 points] If you have done the above steps correctly, you will see a plot of six lines. These lines will not start at the same place at the far left side of the plot, though! This means that during a blank period in the experiment, the response was not the same for all conditions (which we can assume it should be, since the screen was blank at that time). One way to account for this issue is to do the following for each trial (and each electrode): \n",
    "    * compute the mean response for the first 0.1 seconds (from -0.1 seconds [100 ms before trial onset] to 0 seconds [trial onset])\n",
    "    * subtract that mean from the rest the values for that trial, for that electrode\n",
    "\n",
    "For extra credit, try this, and plot the results!"
   ]
  },
  {
   "cell_type": "code",
   "execution_count": null,
   "metadata": {
    "collapsed": true
   },
   "outputs": [],
   "source": [
    "import os\n",
    "import glob\n",
    "import numpy as np\n",
    "import matplotlib.pyplot as plt\n",
    "import neurods\n",
    "from scipy.stats import zscore\n",
    "import mne"
   ]
  },
  {
   "cell_type": "code",
   "execution_count": null,
   "metadata": {
    "collapsed": true
   },
   "outputs": [],
   "source": [
    "%matplotlib inline"
   ]
  },
  {
   "cell_type": "code",
   "execution_count": null,
   "metadata": {
    "collapsed": true
   },
   "outputs": [],
   "source": [
    "# Function to load eeg data (from lecture, will eventually be in neurods)\n",
    "def load_eeg_data(fname, ref_electrode_idx=(6,23), verbose=False,\n",
    "                  filter_cutoffs=(1,12), return_mne=True):\n",
    "    \"\"\"Load EEG data\"\"\"\n",
    "    raw = mne.io.Raw(fname, preload=True, verbose=verbose)\n",
    "    # Remove mastoid channels\n",
    "    raw._data = raw._data[:-2]\n",
    "    # Reference signal to temporal lobe electrodes\n",
    "    if ref_electrode_idx is not None:\n",
    "        ref_electrodes = raw._data[list(ref_electrode_idx)]\n",
    "        raw._data -= ref_electrodes.mean(0)\n",
    "    # Smooth the data\n",
    "    if filter_cutoffs is not None:\n",
    "        fmin, fmax = filter_cutoffs # Set cutoffs for low and high frequency in data\n",
    "        raw._data = mne.filter.filter_data(raw._data, raw.info['sfreq'], fmin, fmax, verbose=verbose)\n",
    "    if return_mne:\n",
    "        return raw\n",
    "    else:\n",
    "        return raw.times, raw._data"
   ]
  },
  {
   "cell_type": "markdown",
   "metadata": {},
   "source": [
    "# Load data"
   ]
  },
  {
   "cell_type": "code",
   "execution_count": null,
   "metadata": {
    "collapsed": false
   },
   "outputs": [],
   "source": [
    "subject, session = 8, 1\n",
    "fdir = os.path.join(neurods.io.data_list['eeg'], 'subject{}', 'session{}').format(subject, session)\n",
    "# Load data from file\n",
    "datafile = os.path.join(fdir, 'eeg-raw.fif')\n",
    "times, data = load_eeg_data(datafile, return_mne=False)\n",
    "# Load events from file\n",
    "eventfile = os.path.join(fdir, 'events-eve.txt')\n",
    "events = mne.read_events(eventfile)"
   ]
  },
  {
   "cell_type": "markdown",
   "metadata": {},
   "source": [
    "### Question 1: Select events (epochs) for condition 1\n",
    "Modify the following code to select the times from 100 ms before stimulus onset to 600 ms after stimulus onset. There are only two lines of code that need changing! "
   ]
  },
  {
   "cell_type": "code",
   "execution_count": null,
   "metadata": {
    "collapsed": false
   },
   "outputs": [],
   "source": [
    "# Starting point code from end of lecture (slightly modified):\n",
    "\n",
    "# Relevant information\n",
    "sfreq = 2048. # Sampling frequency\n",
    "tmin = -0.1 # Start for time to select (relative to condition onset)\n",
    "tmax = 0.6 # Stop for time to select (relative to condition onset)\n",
    "\n",
    "# Initialize a variable\n",
    "cond_epochs = []\n",
    "\n",
    "# Columns in `events` are [onset_indices, <blank>, condition_number]\n",
    "# Select event indices in condition 1\n",
    "cond_idx = events[:, 2]==1 # This creates a logical index, as long as `events`, that is True for \n",
    "                           # events in condition 1 and False for all other conditions\n",
    "onsets = events[cond_idx, 0] # This selects all onset indices in condition 1\n",
    "\n",
    "# Loop over condition onsets to select particular time points\n",
    "for onset in onsets:\n",
    "    slice_start = 0 # ?? WHAT SHOULD THIS BE?\n",
    "    slice_stop = 10 # ?? WHAT SHOULD THIS BE? (10 is NOT correct)\n",
    "    data_slice = data[:, slice_start:slice_stop]\n",
    "    data_slice = zscore(data_slice, axis=1)\n",
    "    cond_epochs.append(data_slice)\n",
    "cond_epochs = np.array(cond_epochs)\n",
    "# Dimensions are (repeats, eeg channels, time)\n",
    "print(cond_epochs.shape)"
   ]
  },
  {
   "cell_type": "markdown",
   "metadata": {},
   "source": [
    "### Question 2: Compute event-related average for condition 1\n",
    "(this is a short answer...)"
   ]
  },
  {
   "cell_type": "code",
   "execution_count": null,
   "metadata": {
    "collapsed": true
   },
   "outputs": [],
   "source": [
    "### STUDENT ANSWER\n"
   ]
  },
  {
   "cell_type": "markdown",
   "metadata": {},
   "source": [
    "### Question 3: Plot Condition 1"
   ]
  },
  {
   "cell_type": "code",
   "execution_count": null,
   "metadata": {
    "collapsed": true
   },
   "outputs": [],
   "source": [
    "### STUDENT ANSWER\n"
   ]
  },
  {
   "cell_type": "markdown",
   "metadata": {},
   "source": [
    "### Question 4: Compute the above and plot results for all conditions"
   ]
  },
  {
   "cell_type": "code",
   "execution_count": null,
   "metadata": {
    "collapsed": true
   },
   "outputs": [],
   "source": [
    "### STUDENT ANSWER\n"
   ]
  },
  {
   "cell_type": "markdown",
   "metadata": {},
   "source": [
    "# Bonus!\n",
    "If you care to try."
   ]
  },
  {
   "cell_type": "code",
   "execution_count": null,
   "metadata": {
    "collapsed": true
   },
   "outputs": [],
   "source": [
    "### STUDENT ANSWER\n"
   ]
  }
 ],
 "metadata": {
  "kernelspec": {
   "display_name": "Python [py35]",
   "language": "python",
   "name": "Python [py35]"
  },
  "language_info": {
   "codemirror_mode": {
    "name": "ipython",
    "version": 3
   },
   "file_extension": ".py",
   "mimetype": "text/x-python",
   "name": "python",
   "nbconvert_exporter": "python",
   "pygments_lexer": "ipython3",
   "version": "3.5.2"
  }
 },
 "nbformat": 4,
 "nbformat_minor": 0
}
