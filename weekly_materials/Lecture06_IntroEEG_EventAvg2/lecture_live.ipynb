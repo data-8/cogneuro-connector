{
 "cells": [
  {
   "cell_type": "markdown",
   "metadata": {
    "collapsed": true,
    "deletable": true,
    "editable": true
   },
   "source": [
    "# Introduction to ECoG and EEG\n",
    "\n",
    "## Overview\n",
    "Our first class is going to cover the background of Electroencephalography (EEG) and Electrocorticography (ECoG). These are the kinds of data we'll use in the first half of this class. Below is a list of topics that we'll focus on.\n",
    "\n",
    "## Goals for today\n",
    "* Load some raw data into python\n",
    "* Simple visualizations to understand the kind of data we have\n",
    "* Learn some things about the data by scanning the raw values\n",
    "* Introduction to the MNE library for electrophysiology\n",
    "\n",
    "---\n",
    "\n",
    "# Background\n",
    "See the Powerpoint for this week for a quick intro to ECoG and EEG. It has some background on the history of these methods, what kinds of signals they measure, and what kinds of things we'll try to do with them.\n",
    "\n",
    "\n",
    "# Visualizing electrophysiology data in python\n",
    "\n",
    "## What is a timeseries?\n",
    "In neuroscience, the most common form of data is called a *timeseries*. This essentially means that we have a sensor that collects information about some signal in the brain as it changes across time.\n",
    "\n",
    "A timeseries can be anything from stock market fluctuations, to the changes in score during a basketball game, to electrical fluctuations in the brain.\n",
    "\n",
    "In this course, we discuss two types of timeseries from the human brain:\n",
    "\n",
    "1. Voltage on the brain surface, recorded from electrodes.\n",
    "2. A measure of blood flow in the cortex of the brain, recorded with an fMRI machine.\n",
    "\n"
   ]
  },
  {
   "cell_type": "code",
   "execution_count": null,
   "metadata": {
    "collapsed": false,
    "editable": true,
    "scrolled": true
   },
   "outputs": [],
   "source": [
    "import os\n",
    "import mne\n",
    "from matplotlib import pyplot as plt\n",
    "import numpy as np\n",
    "import os.path as op\n",
    "from glob import glob\n",
    "from warnings import simplefilter\n",
    "simplefilter('ignore')\n",
    "import neurods\n",
    "import sys"
   ]
  },
  {
   "cell_type": "code",
   "execution_count": null,
   "metadata": {
    "collapsed": true
   },
   "outputs": [],
   "source": [
    "plt.rcParams['image.interpolation'] = 'nearest'\n",
    "plt.rcParams['image.aspect'] = 'auto'\n",
    "plt.rcParams['image.cmap'] = 'viridis'"
   ]
  },
  {
   "cell_type": "code",
   "execution_count": null,
   "metadata": {
    "collapsed": false,
    "editable": true
   },
   "outputs": [],
   "source": [
    "%matplotlib inline"
   ]
  },
  {
   "cell_type": "code",
   "execution_count": null,
   "metadata": {
    "collapsed": false,
    "editable": true,
    "scrolled": true
   },
   "outputs": [],
   "source": [
    "import os\n",
    "import mne\n",
    "from matplotlib import pyplot as plt\n",
    "import numpy as np\n",
    "import os.path as op\n",
    "from glob import glob\n",
    "from warnings import simplefilter\n",
    "simplefilter('ignore')\n",
    "import neurods\n",
    "import sys"
   ]
  },
  {
   "cell_type": "code",
   "execution_count": null,
   "metadata": {
    "collapsed": true
   },
   "outputs": [],
   "source": [
    "plt.rcParams['image.interpolation'] = 'nearest'\n",
    "plt.rcParams['image.aspect'] = 'auto'\n",
    "plt.rcParams['image.cmap'] = 'viridis'"
   ]
  },
  {
   "cell_type": "code",
   "execution_count": null,
   "metadata": {
    "collapsed": false,
    "editable": true
   },
   "outputs": [],
   "source": [
    "%matplotlib inline"
   ]
  },
  {
   "cell_type": "markdown",
   "metadata": {},
   "source": [
    "## A sample timeseries\n",
    "First, let's load a sample EEG timeseries so we can see what it looks like."
   ]
  },
  {
   "cell_type": "code",
   "execution_count": null,
   "metadata": {
    "collapsed": false,
    "deletable": true,
    "editable": true
   },
   "outputs": [],
   "source": [
    "path_data = glob(neurods.io.data_list['eeg'] + '/subject8/session1/*-raw.fif')[0]\n",
    "path_events = glob(neurods.io.data_list['eeg'] + '/subject8/session1/*-eve*')[0]\n",
    "raw = mne.io.Raw(path_data, preload=True)\n",
    "\n",
    "# Drop mastoid channels\n",
    "chs_drop = ['MA1', 'MA2']\n",
    "raw.drop_channels(chs_drop)"
   ]
  },
  {
   "cell_type": "code",
   "execution_count": null,
   "metadata": {
    "collapsed": false
   },
   "outputs": [],
   "source": [
    "# The eeg data in this object is accessible at `raw._data`:\n",
    "raw._data"
   ]
  },
  {
   "cell_type": "markdown",
   "metadata": {},
   "source": [
    "## Breakout session\n",
    "> What does this data look like? explore it in as many ways as you can think of!\n",
    "> Hint: Try to plot individual EEG channels, and also multiple channels!"
   ]
  },
  {
   "cell_type": "code",
   "execution_count": null,
   "metadata": {
    "collapsed": false,
    "deletable": true,
    "editable": true
   },
   "outputs": [],
   "source": [
    "### STUDENT ANSWER\n"
   ]
  },
  {
   "cell_type": "markdown",
   "metadata": {},
   "source": [
    "What did you notice about the activity in these channels? Is it similar to what we saw in fMRI?\n",
    "\n",
    "How could you manipulate the data (add something, multiply by something, subtract something) to make a more sensible / informative plot?"
   ]
  },
  {
   "cell_type": "code",
   "execution_count": null,
   "metadata": {
    "collapsed": false,
    "deletable": true,
    "editable": true
   },
   "outputs": [],
   "source": [
    "### STUDENT ANSWER\n"
   ]
  },
  {
   "cell_type": "markdown",
   "metadata": {
    "deletable": true,
    "editable": true
   },
   "source": [
    "Remember that it's always important to take a look at the raw data first, and to make sure you've standardized / cleaned up the data if there are any obvious problems at the very beginning.\n",
    "\n",
    "## Using MNE to represent our data\n",
    "Because a timeseries has a specific structure (signals varying over time), there are a number of packages designed to handle this particular kind of data. One of the best python packages for neuroscience is called `MNE-python`. Check out their website here: http://martinos.org/mne/stable/index.html\n",
    "\n",
    "MNE has code that can handle datasets like the one we've used above. The main class we'll focus on are `Raw` objects. These are similar to the `.nii` files that we're been working with in fMRI, but they represent EEG data instead.\n",
    "\n",
    "`Raw` data objects are simple a way of keeping the data (which is of shape `n_channels x n_times`) along with some metadata that gives extra information about our data. Note that the convention here is different from fMRI data: time is the LAST dimension instead of the FIRST! (Confusing ,yes; so it goes.)\n",
    "\n",
    "For example, any object that represents data in `MNE-python` will have an `info` attribute. This is a collection of information about the data at hand. It includes information like:\n",
    "\n",
    "* `info['sfreq']` - The sampling frequency of the data\n",
    "* `info['ch_names']` - The names of channels in the data\n",
    "* `info['bads']` - A list of \"bad\" channels\n",
    "* `info['chs']` - A more complex collection of channel information, such as xyz location.\n",
    "\n",
    "There are many other pieces of information related to things that are important in EEG analysis, most of which we won't go into."
   ]
  },
  {
   "cell_type": "code",
   "execution_count": null,
   "metadata": {
    "collapsed": false,
    "deletable": true,
    "editable": true
   },
   "outputs": [],
   "source": [
    "# Here's a list of all the things in an Info object\n",
    "raw.info"
   ]
  },
  {
   "cell_type": "markdown",
   "metadata": {},
   "source": [
    "We can also always access the numpy array of data by accessing the `._data` attribute. **Note** This only works if the data has been *preloaded* (MNE sometimes holds off on loading the data from disk so that it doesn't use up memory, just like we saw with the nibabel package for fMRI data)."
   ]
  },
  {
   "cell_type": "code",
   "execution_count": null,
   "metadata": {
    "collapsed": false
   },
   "outputs": [],
   "source": [
    "# Make sure the data is loaded\n",
    "raw.load_data()"
   ]
  },
  {
   "cell_type": "code",
   "execution_count": null,
   "metadata": {
    "collapsed": false
   },
   "outputs": [],
   "source": [
    "print(raw._data.shape)\n",
    "print(raw._data)"
   ]
  },
  {
   "cell_type": "markdown",
   "metadata": {
    "editable": true
   },
   "source": [
    "### Sampling Frequency\n",
    "\n",
    "The time values for this signal tell us how much time passes between observations of the signal. It's a crucial piece of information in order to do many analyses in neuroscience.\n",
    "\n",
    "The **sampling frequency** (or sampling rate) is the number of samples we record *per second*. We can calculate this by this equation:\n",
    "\n",
    "$$sampling\\_frequency = samples\\_per\\_second = \\frac{n\\_samples}{1\\_second} = \\frac{1\\_sample}{seconds\\_between\\_samples} = \\frac{1}{signal\\_period}$$"
   ]
  },
  {
   "cell_type": "markdown",
   "metadata": {},
   "source": [
    "We know the sampling frequency of this dataset (it's stored in raw.info) How could we use it to calculate the time dimension?"
   ]
  },
  {
   "cell_type": "code",
   "execution_count": null,
   "metadata": {
    "collapsed": false,
    "editable": true
   },
   "outputs": [],
   "source": [
    "### STUDENT ANSWER\n"
   ]
  },
  {
   "cell_type": "markdown",
   "metadata": {
    "deletable": true,
    "editable": true
   },
   "source": [
    "## Plotting raw data with MNE\n",
    "MNE has a lot of plotting functionality, which is one of the most important things to do in data analysis. Below we'll explore the basic ways in which we can visualize our data."
   ]
  },
  {
   "cell_type": "code",
   "execution_count": null,
   "metadata": {
    "collapsed": false,
    "deletable": true,
    "editable": true
   },
   "outputs": [],
   "source": [
    "# To use this, we'll need to activate \"interactive\" mode\n",
    "# This lets us keep plots interactive in the notebook\n",
    "%matplotlib notebook"
   ]
  },
  {
   "cell_type": "markdown",
   "metadata": {
    "deletable": true,
    "editable": true
   },
   "source": [
    "First, we'll plot the raw data. This will give us an output of traces, one for each channel. The x-axis is time (in seconds). What we are looking at is the electrical activity (voltage) recorded at the scalp, and generated by neural activity."
   ]
  },
  {
   "cell_type": "code",
   "execution_count": null,
   "metadata": {
    "collapsed": false,
    "deletable": true,
    "editable": true
   },
   "outputs": [],
   "source": [
    "# Putting `_` before the equals sign tells Python to throw away the output\n",
    "# Otherwise, it will make 2 plots.\n",
    "raw.crop(0, 40)\n",
    "raw._data = raw._data - raw._data.mean(-1)[:, np.newaxis]\n",
    "_ = raw.plot(scalings='auto')"
   ]
  },
  {
   "cell_type": "markdown",
   "metadata": {},
   "source": [
    "### Breakout session\n",
    "Scan through this dataset using the `raw.plot` function.\n",
    "\n",
    "* Take note of the shapes and sizes of the signal in each electrode.\n",
    "* In addition, see if you notice any points in time where the nature of the signal changes."
   ]
  },
  {
   "cell_type": "markdown",
   "metadata": {
    "deletable": true,
    "editable": true
   },
   "source": [
    "## Smoothing our data\n",
    "You may notice that the raw signal seems to be quite noisy. Some electrodes have activity that is jumping around quite a lot, there are also some electrodes that seem to \"drift\" over time, meaning their average value slowly gets larger or smaller.\n",
    "\n",
    "Let's see an example of one plot of data below..."
   ]
  },
  {
   "cell_type": "code",
   "execution_count": null,
   "metadata": {
    "collapsed": true
   },
   "outputs": [],
   "source": [
    "%matplotlib inline"
   ]
  },
  {
   "cell_type": "code",
   "execution_count": null,
   "metadata": {
    "collapsed": false,
    "deletable": true,
    "editable": true
   },
   "outputs": [],
   "source": [
    "raw_filt = mne.io.Raw(path_data, preload=True)"
   ]
  },
  {
   "cell_type": "code",
   "execution_count": null,
   "metadata": {
    "collapsed": false,
    "deletable": true,
    "editable": true
   },
   "outputs": [],
   "source": [
    "# First, we'll plot a single channel\n",
    "fig, ax = plt.subplots()\n",
    "ch_plt = 2\n",
    "ax.plot(raw_filt._data[ch_plt, :6000].T)"
   ]
  },
  {
   "cell_type": "markdown",
   "metadata": {
    "deletable": true,
    "editable": true
   },
   "source": [
    "Notice how there are different kinds of activity here. There are some more slow-changing parts (e.g. the bumps that occur over 100 samples. There are also some really \"jittery\" parts of the signal that quickly bounce up and down.\n",
    "\n",
    "Neuroscientists often assume that the jittery parts of our data correspond to noise in the system. This kind of activity has a \"high frequency\", meaning that it changes very quickly.\n",
    "\n",
    "To emphasize either the slow-moving or fast-moving parts of our signal, we can *filter* it. This means removing the parts of the signal that we aren't interested in. For example, if we want to remove the fast-changing jittery stuff, we can filter out the higher frequency activity in the signal. This is called a *low pass filter*."
   ]
  },
  {
   "cell_type": "code",
   "execution_count": null,
   "metadata": {
    "collapsed": false,
    "deletable": true,
    "editable": true
   },
   "outputs": [],
   "source": [
    "fmin, fmax = None, 40\n",
    "raw_filt.filter(fmin, fmax)\n",
    "fig, ax = plt.subplots()\n",
    "ax.plot(raw_filt._data[ch_plt, :6000].T)"
   ]
  },
  {
   "cell_type": "markdown",
   "metadata": {},
   "source": [
    "### Breakout session\n",
    "We have mentioned \"drift\" a few times thus far. This occurs when the signal changes very slowly over time. One way to think of this kind of activity is that it is a very low-frequency component of the signal (AKA, it changes slowly). See if you can use the `.filter` method on our raw object to remove this drift in the signal."
   ]
  },
  {
   "cell_type": "code",
   "execution_count": null,
   "metadata": {
    "collapsed": false
   },
   "outputs": [],
   "source": [
    "### STUDENT ANSWER\n"
   ]
  },
  {
   "cell_type": "markdown",
   "metadata": {},
   "source": [
    "Below we can see how several kinds of filters have different effects on our data. We can remove the high-frequency parts of the signal as we did above (called low-pass filtering or smoothing), we can also remove the low-frequency parts of the signal as we did in the breakout session (called high-pass filtering). We can even isolate a part of the signal that is oscillating with a particular frequency (called a band-pass filter)."
   ]
  },
  {
   "cell_type": "code",
   "execution_count": null,
   "metadata": {
    "collapsed": false,
    "deletable": true,
    "editable": true
   },
   "outputs": [],
   "source": [
    "# Different kinds of filters produce different results:\n",
    "raw_filt = mne.io.Raw(path_data, preload=True).crop(0, 20)\n",
    "\n",
    "# These are filters we'll use on the data\n",
    "filters = [(1, None), (20, None), (50, None),\n",
    "           (None, 2), (None, 20), (None, 50),\n",
    "           (2, 3), (19, 21), (50, 52)]\n",
    "\n",
    "# Plot our original signal\n",
    "fig, ax = plt.subplots()\n",
    "tmin, tmax = 2, 5 # min, max time in seconds\n",
    "ax.plot(raw_filt.copy().crop(tmin, tmax)._data[ch_plt])\n",
    "ax.set(title='Original Signal')\n",
    "\n",
    "# Make a plot for each type of filtering\n",
    "fig, axs = plt.subplots(3, 3, figsize=(15, 10), sharex=True, sharey=True)\n",
    "for ax, (fmin, fmax) in zip(axs.ravel(), filters):\n",
    "    raw_plt = raw_filt.copy()\n",
    "    raw_plt = raw_plt.filter(fmin, fmax, verbose=False)\n",
    "    raw_plt = raw_plt.crop(tmin, tmax)\n",
    "    raw_plt._data = raw_plt._data - raw_plt._data.mean(-1)[:, np.newaxis]\n",
    "\n",
    "    ax.plot(raw_plt._data[ch_plt])\n",
    "    ax.set(title='Filter: {} to {}'.format(fmin, fmax))"
   ]
  },
  {
   "cell_type": "code",
   "execution_count": null,
   "metadata": {
    "collapsed": true
   },
   "outputs": [],
   "source": [
    "# Define a general function to load data, as we did with fMRI\n",
    "def load_eeg_data(fname, ref_electrode_idx=(6,23), verbose=False,\n",
    "                  filter_cutoffs=(1,12), return_mne=True):\n",
    "    \"\"\"Load EEG data\"\"\"\n",
    "    \n",
    "    \n",
    "    raw = mne.io.Raw(fname, preload=True)\n",
    "    # Remove mastoid channels\n",
    "    raw._data = raw._data[:-2]\n",
    "    # Reference signal to temporal lobe electrodes\n",
    "    if ref_electrode_idx is not None:\n",
    "        ref_electrodes = raw._data[list(ref_electrode_idx)]\n",
    "        raw._data -= ref_electrodes.mean(0)\n",
    "    # Smooth the data\n",
    "    if filter_cutoffs is not None:\n",
    "        fmin, fmax = filter_cutoffs # Set cutoffs for low and high frequency in data\n",
    "        raw._data = mne.filter.filter_data(raw._data, raw.info['sfreq'], fmin, fmax, verbose=verbose)\n",
    "    if return_mne:\n",
    "        return raw\n",
    "    else:\n",
    "        return raw.times, raw._data"
   ]
  },
  {
   "cell_type": "code",
   "execution_count": null,
   "metadata": {
    "collapsed": false
   },
   "outputs": [],
   "source": [
    "subject, session, run = 8, 1, 0\n",
    "fdir = os.path.join(neurods.io.data_list['eeg'], 'subject{}/session{}/'.format(subject, session))\n",
    "files = sorted(glob(os.path.join(fdir, '*fif')))\n",
    "fname = files[run]\n",
    "times, data = load_eeg_data(fname, return_mne=False)\n",
    "print(data.shape)"
   ]
  },
  {
   "cell_type": "code",
   "execution_count": null,
   "metadata": {
    "collapsed": false
   },
   "outputs": [],
   "source": [
    "_ = plt.plot(data[:10,:1000].T)"
   ]
  },
  {
   "cell_type": "markdown",
   "metadata": {
    "deletable": true,
    "editable": true
   },
   "source": [
    "## Plotting sensor locations\n",
    "Now that we've learned a little bit about the activity itself, there's one more thing we need to know: where these channels are located.\n",
    "\n",
    "Patterns of recorded neural activity wouldn't be very useful without knowing where that activity was generated. In EEG our sensors sit on the scalp of a person's head. The activity we've been plotting represents electrical activity occurring inside their brains, that makes its way through their skull and ultimately onto their scalp.\n",
    "\n",
    "MNE has simple functions for plotting the location of sensors with EEG. We can see this below:"
   ]
  },
  {
   "cell_type": "code",
   "execution_count": null,
   "metadata": {
    "collapsed": true,
    "deletable": true,
    "editable": true
   },
   "outputs": [],
   "source": [
    "%matplotlib inline"
   ]
  },
  {
   "cell_type": "code",
   "execution_count": null,
   "metadata": {
    "collapsed": false,
    "deletable": true,
    "editable": true
   },
   "outputs": [],
   "source": [
    "# A Montage represents the location of each electrode on the scale\n",
    "mon = mne.channels.read_montage('standard_1005', raw.ch_names)\n",
    "raw.set_montage(mon)"
   ]
  },
  {
   "cell_type": "code",
   "execution_count": null,
   "metadata": {
    "collapsed": false,
    "deletable": true,
    "editable": true
   },
   "outputs": [],
   "source": [
    "# We can look at the layout of channels on the brain.\n",
    "# Almost all EEG setups have the same general structure.\n",
    "_ = raw.plot_sensors(show_names=True)"
   ]
  },
  {
   "cell_type": "code",
   "execution_count": null,
   "metadata": {
    "collapsed": true
   },
   "outputs": [],
   "source": [
    "%matplotlib notebook"
   ]
  },
  {
   "cell_type": "code",
   "execution_count": null,
   "metadata": {
    "collapsed": false,
    "deletable": true,
    "editable": true
   },
   "outputs": [],
   "source": [
    "# We can also plot in 3d\n",
    "_ = raw.plot_sensors('3d')"
   ]
  },
  {
   "cell_type": "markdown",
   "metadata": {},
   "source": [
    "### Question\n",
    "* How given the electrode location plots above, how do you think neuroscientists made this movie:"
   ]
  },
  {
   "cell_type": "code",
   "execution_count": null,
   "metadata": {
    "collapsed": false
   },
   "outputs": [],
   "source": [
    "from IPython.display import YouTubeVideo\n",
    "YouTubeVideo('xmf3YC8jzWc')"
   ]
  },
  {
   "cell_type": "markdown",
   "metadata": {
    "deletable": true,
    "editable": true
   },
   "source": [
    "# Simple event slicing\n",
    "The last thing we'll look at is how to represent event information. Knowing about brain activity isn't very useful unless you also knew what was happening in the world. For this reason, neuroscientists often record events that correspond to a particular kind of stimulus being shown to a person.\n",
    "\n",
    "Below we'll show a simple way of representing events in python:"
   ]
  },
  {
   "cell_type": "code",
   "execution_count": null,
   "metadata": {
    "collapsed": false,
    "deletable": true,
    "editable": true
   },
   "outputs": [],
   "source": [
    "%matplotlib inline\n",
    "events = mne.read_events(path_events)\n",
    "events[:5]"
   ]
  },
  {
   "cell_type": "markdown",
   "metadata": {},
   "source": [
    "### Breakout session\n",
    "* Use matplotlib to plot the first and the third column of the array above. Plot the first 100 samples.\n",
    "* Now try the same thing, but for histograms (hint, use at least 20 bins in the histogram).\n",
    "* What do you think each of these two columns represents?"
   ]
  },
  {
   "cell_type": "code",
   "execution_count": null,
   "metadata": {
    "collapsed": false
   },
   "outputs": [],
   "source": [
    "### STUDENT ANSWER\n"
   ]
  },
  {
   "cell_type": "markdown",
   "metadata": {},
   "source": [
    "We can also use MNE to plot the event array itself. This makes it very easy to see what is going on..."
   ]
  },
  {
   "cell_type": "code",
   "execution_count": null,
   "metadata": {
    "collapsed": false,
    "deletable": true,
    "editable": true
   },
   "outputs": [],
   "source": [
    "fig, ax = plt.subplots(figsize=(10, 5))\n",
    "_ = mne.viz.plot_events(events, sfreq=raw.info['sfreq'], axes=ax)"
   ]
  },
  {
   "cell_type": "markdown",
   "metadata": {
    "deletable": true,
    "editable": true
   },
   "source": [
    "Let's visualize our EEG data along with these events"
   ]
  },
  {
   "cell_type": "code",
   "execution_count": null,
   "metadata": {
    "collapsed": false,
    "deletable": true,
    "editable": true
   },
   "outputs": [],
   "source": [
    "%matplotlib notebook\n",
    "_ = raw.plot(events=events, scalings='auto')"
   ]
  },
  {
   "cell_type": "markdown",
   "metadata": {
    "deletable": true,
    "editable": true
   },
   "source": [
    "# Wrapup part 1\n",
    "In this lecture we covered a couple of basic topics:\n",
    "* How to visualize the raw data\n",
    "* How to manipulate the raw data to highlight particular features of the data\n",
    "* How to show where each channel lies on the brain\n",
    "* How to note the time onsets of events in our data\n",
    "\n",
    "These are all the basic tools that we need in order to start figuring out what the brain is doing in response to experiments that we run. The next section will cover one such application."
   ]
  },
  {
   "cell_type": "markdown",
   "metadata": {
    "collapsed": true,
    "deletable": true,
    "editable": true
   },
   "source": [
    "# Computing event related averages in EEG\n",
    "Last lecture (and for homework), we computed event-related averages of fMRI data. To do this, we selected all data points after a set of event onset indices. Here, we will do the same with EEG data."
   ]
  },
  {
   "cell_type": "code",
   "execution_count": null,
   "metadata": {
    "collapsed": false
   },
   "outputs": [],
   "source": [
    "mdata = load_eeg_data(fname, return_mne=True)"
   ]
  },
  {
   "cell_type": "code",
   "execution_count": null,
   "metadata": {
    "collapsed": false
   },
   "outputs": [],
   "source": [
    "# Select the onsets of a particular condition using a logical index\n",
    "cond_1 = events[:,2]==1\n",
    "onset_indices = events[cond_1,0]\n",
    "print(onset_indices)"
   ]
  },
  {
   "cell_type": "markdown",
   "metadata": {},
   "source": [
    "# Breakout session\n",
    "> Modify the following cell to select the ***time*** period from 0.1 seconds BEFORE the event onset to 0.6 seconds AFTER the event onset"
   ]
  },
  {
   "cell_type": "code",
   "execution_count": null,
   "metadata": {
    "collapsed": false,
    "scrolled": true
   },
   "outputs": [],
   "source": [
    "# \n",
    "epochs = []\n",
    "duration = 10 # This value is wrong, even for the code as written! What should this be? \n",
    "              # How should you modify the code to select a duration in time?\n",
    "for o in onsets:\n",
    "    data_slice = mdata._data[:, o:(o+duration)]\n",
    "    # This if loop is here due to a small problem with the data... \n",
    "    if np.any(data_slice):\n",
    "        epochs.append(data_slice)\n",
    "epochs = np.array(epochs)\n",
    "print(epochs.shape)"
   ]
  },
  {
   "cell_type": "code",
   "execution_count": null,
   "metadata": {
    "collapsed": true
   },
   "outputs": [],
   "source": [
    "### STUDENT ANSWER\n"
   ]
  },
  {
   "cell_type": "code",
   "execution_count": null,
   "metadata": {
    "collapsed": true
   },
   "outputs": [],
   "source": []
  },
  {
   "cell_type": "code",
   "execution_count": null,
   "metadata": {
    "collapsed": false
   },
   "outputs": [],
   "source": [
    "epochs.mean(0).shape"
   ]
  },
  {
   "cell_type": "code",
   "execution_count": null,
   "metadata": {
    "collapsed": true
   },
   "outputs": [],
   "source": [
    "from scipy.stats import zscore"
   ]
  },
  {
   "cell_type": "code",
   "execution_count": null,
   "metadata": {
    "collapsed": false
   },
   "outputs": [],
   "source": [
    "# Compute the mean of the resulting data!\n",
    "epochs_z = zscore(epochs, axis=-1)\n",
    "event_avg = epochs_z.mean(0)\n",
    "etimes = np.linspace(-.1, 0.6, epochs.shape[-1])\n",
    "_ = plt.plot(etimes, event_avg.T)"
   ]
  },
  {
   "cell_type": "markdown",
   "metadata": {},
   "source": [
    "Instead of zscoring each entire timecourse, it is common to use the response just BEFORE the event as a baseline. "
   ]
  },
  {
   "cell_type": "code",
   "execution_count": null,
   "metadata": {
    "collapsed": false
   },
   "outputs": [],
   "source": [
    "tmin, tmax = -0.1, 0.6\n",
    "times = np.linspace(tmin, tmax, num=epochs.shape[-1])\n",
    "\n",
    "# Baseline by pre-stimulus times\n",
    "baseline_type = 'zscore'  # 'zscore' , 'mean'\n",
    "epochs_rescaled = mne.baseline.rescale(epochs, times, (None, 0), baseline_type, verbose=False)\n"
   ]
  },
  {
   "cell_type": "code",
   "execution_count": null,
   "metadata": {
    "collapsed": true
   },
   "outputs": [],
   "source": []
  }
 ],
 "metadata": {
  "kernelspec": {
   "display_name": "Python [py35]",
   "language": "python",
   "name": "Python [py35]"
  },
  "language_info": {
   "codemirror_mode": {
    "name": "ipython",
    "version": 3
   },
   "file_extension": ".py",
   "mimetype": "text/x-python",
   "name": "python",
   "nbconvert_exporter": "python",
   "pygments_lexer": "ipython3",
   "version": "3.5.2"
  }
 },
 "nbformat": 4,
 "nbformat_minor": 2
}
