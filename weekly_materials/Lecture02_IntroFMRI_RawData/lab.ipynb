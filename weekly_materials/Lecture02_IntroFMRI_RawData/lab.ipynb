{
 "cells": [
  {
   "cell_type": "markdown",
   "metadata": {
    "collapsed": false
   },
   "source": [
    "# Lab / Homework\n",
    "\n",
    "In this homework, we will load the dataset used in the last class, we will select a transverse slice by choosing X=45 and Y=45, and we will normalize every column of that slice. We will then make a plot of these normalized columns.\n",
    "\n",
    "IMPORTANT: You will need to download a PDF version of this homework and upload it to bcourses. YOU SHOULD CHECK THE PDF TO MAKE SURE THAT ALL THE LINES ARE INSIDE THE PAGE. Lines trailing off outside of the margin will not be graded. If your comments or your answers go outside the page, make sure to edit them appropriately.\n",
    "\n",
    "1- Load the data from the last time, and then transpose the matrix to get the order: Time, Z, Y, X"
   ]
  },
  {
   "cell_type": "code",
   "execution_count": null,
   "metadata": {
    "collapsed": true
   },
   "outputs": [],
   "source": [
    "### STUDENT ANSWER"
   ]
  },
  {
   "cell_type": "markdown",
   "metadata": {},
   "source": [
    "2- Create a transverse slice using X=45 and Y=45."
   ]
  },
  {
   "cell_type": "code",
   "execution_count": null,
   "metadata": {
    "collapsed": true
   },
   "outputs": [],
   "source": [
    "### STUDENT ANSWER"
   ]
  },
  {
   "cell_type": "markdown",
   "metadata": {},
   "source": [
    "3- Use np.min to make the minimum value of each column 0 as we did in class."
   ]
  },
  {
   "cell_type": "code",
   "execution_count": null,
   "metadata": {
    "collapsed": true
   },
   "outputs": [],
   "source": [
    "### STUDENT ANSWER"
   ]
  },
  {
   "cell_type": "markdown",
   "metadata": {},
   "source": [
    "4- Use np.max to make the maximum value of each column 1. Think of what this means. How can you do it?"
   ]
  },
  {
   "cell_type": "code",
   "execution_count": null,
   "metadata": {
    "collapsed": true
   },
   "outputs": [],
   "source": [
    "### STUDENT ANSWER"
   ]
  },
  {
   "cell_type": "markdown",
   "metadata": {},
   "source": [
    "5- Finally, make a plot of the normalized fMRI signal as a function of time. What is the difference between this plot and the one we did in class?"
   ]
  },
  {
   "cell_type": "code",
   "execution_count": null,
   "metadata": {
    "collapsed": true
   },
   "outputs": [],
   "source": [
    "### STUDENT ANSWER"
   ]
  }
 ],
 "metadata": {
  "kernelspec": {
   "display_name": "Python 3",
   "language": "python",
   "name": "python3"
  },
  "language_info": {
   "codemirror_mode": {
    "name": "ipython",
    "version": 3
   },
   "file_extension": ".py",
   "mimetype": "text/x-python",
   "name": "python",
   "nbconvert_exporter": "python",
   "pygments_lexer": "ipython3",
   "version": "3.5.2"
  }
 },
 "nbformat": 4,
 "nbformat_minor": 0
}
