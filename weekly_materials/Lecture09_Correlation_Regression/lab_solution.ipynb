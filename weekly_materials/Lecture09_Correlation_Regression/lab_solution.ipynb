{
 "cells": [
  {
   "cell_type": "markdown",
   "metadata": {
    "deletable": true,
    "editable": true
   },
   "source": [
    "# Overview \n",
    "In this homework, we will review the derivation of the solution to the ordinary least squares equations for linear regression that we went over in the last lecture. This homework will be slightly different than previous homeworks, in that it is mostly reading and simple tests for reading comprehension. Don't be daunted by the length of this notebook;  there won't be much writing of code. We just want to expose you to these ideas again, in a slightly different way."
   ]
  },
  {
   "cell_type": "code",
   "execution_count": null,
   "metadata": {
    "collapsed": true,
    "deletable": true,
    "editable": true
   },
   "outputs": [],
   "source": [
    "import numpy as np\n",
    "import matplotlib.pyplot as plt\n",
    "import neurods\n",
    "%matplotlib inline"
   ]
  },
  {
   "cell_type": "markdown",
   "metadata": {
    "deletable": true,
    "editable": true
   },
   "source": [
    "We will simulate data the same way we did in class.\n",
    "\n",
    "Our variable of interest is the amount of ice cream consume in a touristic village in one day (in arbitrary units).\n",
    "\n",
    "We want to find a relationship between the amount of ice cream consumed and the temperature in that day (in celcius)."
   ]
  },
  {
   "cell_type": "code",
   "execution_count": null,
   "metadata": {
    "collapsed": false,
    "deletable": true,
    "editable": true
   },
   "outputs": [],
   "source": [
    "# We'll begin by simulating a few signals, this will help with the intuition for what regression means\n",
    "# First, we'll create a random variable\n",
    "noise_amp = 10\n",
    "n_pts = 50\n",
    "temperature = np.random.uniform(low = 5 ,high = 35,size = n_pts)\n",
    "\n",
    "# Now, we'll define a \"weight\" w that causes a second variable to respond to it\n",
    "weight = 2\n",
    "\n",
    "# We will add a baseline w0:\n",
    "w0 = 15\n",
    "\n",
    "# Finally, we'll create some noise so that it's not a perfect mapping\n",
    "noise = noise_amp * np.random.randn(n_pts)\n",
    "\n",
    "# Then let's mix them together. In this case, b is explicitly created from the values in a\n",
    "ice_cream_consumption = w0 + weight * temperature + noise\n",
    "\n",
    "# Let's look at the signals\n",
    "f, ax = plt.subplots()\n",
    "ax.plot(temperature, label = 'temperature')\n",
    "ax.plot(ice_cream_consumption, label = 'ice cream consumption')\n",
    "ax.legend()"
   ]
  },
  {
   "cell_type": "code",
   "execution_count": null,
   "metadata": {
    "collapsed": false,
    "deletable": true,
    "editable": true
   },
   "outputs": [],
   "source": [
    "f, ax = plt.subplots()\n",
    "ax.scatter(temperature, ice_cream_consumption)\n",
    "plt.xlabel('temperature', fontsize = 16)\n",
    "plt.ylabel('ice cream consumption', fontsize = 16 )"
   ]
  },
  {
   "cell_type": "markdown",
   "metadata": {
    "deletable": true,
    "editable": true
   },
   "source": [
    "We assume that the ice cream consumption is a linear function of the temperature. That is, for a given day j, we have:\n",
    "\n",
    "\\begin{align}\n",
    "\\text{ice cream consumption}_\\text{on day j} = \\text{baseline level} + \\text{scale} * \\text{temperature}_\\text{on day j} + \\text{noise}_\\text{on day j} \n",
    "\\end{align}\n",
    "\n",
    "\n",
    "Ice cream consumption is our output variable, and it is common to refer to it with $y$. The input variable is the temperature, and it is common to use $x$ for it. We call the baseline (or intercept term) $w_0$ and the scale $w$. Finally, it is common to refer to the noise term with $\\epsilon$. We therefore have the following setup:\n",
    "\n",
    "\\begin{align}\n",
    "y_j = w_0 + w x_j+ \\epsilon_j\n",
    "\\end{align}\n",
    "\n",
    "As we saw in class, finding the optimal $(w_0,w)$ setting is equivalent to finding a line that gives the best fit of the points in the above scatter plot. It is common to chose the line that minimizes the error between the true $y$ value associated with each $x$ and the value that this line defines as the corresponding output for $x$. In this homework we show how to find this line by minimizing the error. \n",
    "\n",
    "We can do this using already implemented algorithms such as `np.poly1d` for example. The line below is the line that minimizes the error.  "
   ]
  },
  {
   "cell_type": "code",
   "execution_count": null,
   "metadata": {
    "collapsed": false,
    "deletable": true,
    "editable": true
   },
   "outputs": [],
   "source": [
    "plt.scatter(temperature, ice_cream_consumption);\n",
    "x_plot = [0,temperature.max()]\n",
    "plt.plot(x_plot, np.poly1d(np.polyfit(temperature, ice_cream_consumption, 1))(x_plot),'r')\n",
    "plt.xlabel('temperature', fontsize = 16)\n",
    "plt.ylabel('ice cream consumption', fontsize = 16 )"
   ]
  },
  {
   "cell_type": "markdown",
   "metadata": {
    "deletable": true,
    "editable": true
   },
   "source": [
    "But how is this solution derived? Remember, this is a simulated example in which we know what the true w0 and w should be. But what happens when we have real data?\n",
    "\n",
    "\n",
    "Before we explore this further, let's take a detour to understand matrix multiplication.\n",
    "\n",
    "https://upload.wikimedia.org/wikipedia/commons/thumb/e/eb/Matrix_multiplication_diagram_2.svg/626px-Matrix_multiplication_diagram_2.svg.png\n",
    "\n",
    "### Matrix Multiplication:\n",
    "\n",
    "A matrix multiplication is an operation on two matrices that produces a new matrix:\n",
    "\n",
    "\n",
    "\\begin{align}\n",
    "{\\bf AB} = {\\bf C}\n",
    "\\end{align}\n",
    "\n",
    "We can only multiply two matrices ${\\bf A}$ and ${\\bf B}$ if the number of columns of ${\\bf A}$   is equal to the number of rows of ${\\bf B}$. \n",
    "\n",
    "If ${\\bf A}$ is $(r\\times t)$ and ${\\bf B}$ is $(t\\times c)$, then ${\\bf C}$ will be $(r\\times c)$.\n",
    "\n",
    "This is the elements of ${\\bf C}$ are computed:\n",
    "- the entry ${c}_{i,j}$, i.e. the entry on the $i$th row of ${C}$ and the $j$th column is computed by:\n",
    "    - taking the $i$th row of the first matrix (A)\n",
    "    - taking the $j$th column of the second matrix (B)\n",
    "    - these two vectors will have the same lenght. Multiply their corresponding entries (i.e. the first element with the first element etc).\n",
    "    - take the sum of the elementwise multiplication.\n",
    "\n",
    "The picture below, taken from the wikipedia article on matrix multiplication, illustrates how to do this:"
   ]
  },
  {
   "cell_type": "code",
   "execution_count": null,
   "metadata": {
    "collapsed": false,
    "deletable": true,
    "editable": true
   },
   "outputs": [],
   "source": [
    "from IPython.display import Image\n",
    "from IPython.core.display import HTML \n",
    "Image(url= \"https://upload.wikimedia.org/wikipedia/commons/thumb/e/eb/Matrix_multiplication_diagram_2.svg/626px-Matrix_multiplication_diagram_2.svg.png\")"
   ]
  },
  {
   "cell_type": "markdown",
   "metadata": {
    "deletable": true,
    "editable": true
   },
   "source": [
    "In that picture, we multiply a (4,2) matrix with a (2,3) matrix to get a (4,3) matrix.\n",
    "\n",
    "The entry in the first row and the second column is equal to:\n",
    "$$ a_{1,1}\\times b_{1,2} + a_{1,2}\\times b_{2,2}.$$\n",
    "\n",
    "The entry in the third row and the third column is equal to:\n",
    "$$ a_{3,1}\\times b_{1,3} + a_{3,2}\\times b_{2,3}.$$\n",
    "\n",
    "\n",
    "If you want more information about matrix multiplication, you can see this video from the Khan academy, it even includes practice examples at the end: https://www.khanacademy.org/math/precalculus/precalc-matrices/multiplying-matrices-by-matrices/v/matrix-multiplication-intro"
   ]
  },
  {
   "cell_type": "markdown",
   "metadata": {
    "deletable": true,
    "editable": true
   },
   "source": [
    "### 1- [1pt] If the multiplication is possible between the following matrices, report the size of the resulting matrix. Otherwise, specify that the multiplication is not possible:"
   ]
  },
  {
   "cell_type": "code",
   "execution_count": null,
   "metadata": {
    "collapsed": false,
    "deletable": true,
    "editable": true
   },
   "outputs": [],
   "source": [
    "# 1-a\n",
    "# Size of A is (2,4) and size of B is (4,5)\n",
    "# What is the size of C = AB?\n",
    "### STUDENT ANSWER\n",
    "(2,5)"
   ]
  },
  {
   "cell_type": "code",
   "execution_count": null,
   "metadata": {
    "collapsed": false,
    "deletable": true,
    "editable": true
   },
   "outputs": [],
   "source": [
    "# 1-b\n",
    "# Size of A is (3,3) and size of B is (3,1)\n",
    "# What is the size of C = AB?\n",
    "### STUDENT ANSWER\n",
    "(3,1)"
   ]
  },
  {
   "cell_type": "code",
   "execution_count": null,
   "metadata": {
    "collapsed": true,
    "deletable": true,
    "editable": true
   },
   "outputs": [],
   "source": [
    "# 1-c\n",
    "# Size of A is (4,3) and size of B is (4,3)\n",
    "# What is the size of C = AB?\n",
    "### STUDENT ANSWER\n",
    "#multiplication not possible"
   ]
  },
  {
   "cell_type": "code",
   "execution_count": null,
   "metadata": {
    "collapsed": false,
    "deletable": true,
    "editable": true
   },
   "outputs": [],
   "source": [
    "# 1-d\n",
    "# Size of A is (3,1) and size of B is (1,4)\n",
    "# What is the size of C = AB?\n",
    "### STUDENT ANSWER\n",
    "(3,4)"
   ]
  },
  {
   "cell_type": "markdown",
   "metadata": {
    "deletable": true,
    "editable": true
   },
   "source": [
    "### 2- [3pt] Report the entries in the product of the following matrices:\n",
    "\n",
    "\\begin{align}\n",
    "\\left[\\begin{array}{c,c,c}\n",
    "3 & -2 & 3 \\\\\n",
    "9 & -1 & 4\\\\\n",
    "2 & 4 & r \\\\ \n",
    "\\end{array}\\right]\n",
    "\\left[\\begin{array}{c,c}\n",
    "7 & -3  \\\\\n",
    "s & 4 \\\\\n",
    "1 & 2  \\\\ \n",
    "\\end{array}\\right]\n",
    "= \n",
    "\\left[\\begin{array}{c,c}\n",
    "c_{1,1} & c_{1,2} \\\\\n",
    "c_{2,1} & c_{2,2} \\\\\n",
    "c_{3,1} & c_{3,2} \\\\\n",
    "\\end{array}\\right]\n",
    "\\end{align}\n",
    "\n",
    "Write down the corresponding product in terms of r and s."
   ]
  },
  {
   "cell_type": "code",
   "execution_count": null,
   "metadata": {
    "collapsed": true,
    "deletable": true,
    "editable": true
   },
   "outputs": [],
   "source": [
    "# 2-a\n",
    "# What is the value of c_{1,1}?\n",
    "### STUDENT ANSWER\n",
    "21 -2s +3 = 24 - 2s"
   ]
  },
  {
   "cell_type": "code",
   "execution_count": null,
   "metadata": {
    "collapsed": true,
    "deletable": true,
    "editable": true
   },
   "outputs": [],
   "source": [
    "# 2-b\n",
    "# What is the value of c_{3,1}?\n",
    "### STUDENT ANSWER\n",
    "14 + 4s + r"
   ]
  },
  {
   "cell_type": "markdown",
   "metadata": {
    "deletable": true,
    "editable": true
   },
   "source": [
    "### 3- [2pt] Replace r by 2 and s by -5.  \n",
    "\n",
    "- Use the function np.dot to print out the product of the two matrices above. \n",
    "- Then double check your answer to parts 2-a and 2-b when you use these values of r and s. Show that you get the same values."
   ]
  },
  {
   "cell_type": "code",
   "execution_count": null,
   "metadata": {
    "collapsed": false,
    "deletable": true,
    "editable": true
   },
   "outputs": [],
   "source": [
    "# Hint: use the following code to define the matrices. You should replace r and s by their values\n",
    "# A = np.array( [ [3,-2,3], [9,-1,4], [2,4,r] ]  )\n",
    "# B = np.array( [ [7,-3], [s,4], [1,2] ]  )\n",
    "### STUDENT ANSWER\n",
    "A = np.array( [ [3,-2,3], [9,-1,4], [2,4,2] ]  )\n",
    "B = np.array( [ [7,-3], [-5,4], [1,2] ]  )\n",
    "print (A.dot(B))\n",
    "# c_{1,1}\n",
    "24 - 2s = 34\n",
    "# c_{3,1}\n",
    "14 + 4s + r = -4"
   ]
  },
  {
   "cell_type": "markdown",
   "metadata": {
    "deletable": true,
    "editable": true
   },
   "source": [
    "# Expressing our linear model as a matrix multiplication\n",
    "\n",
    "\n",
    "Back to our model, the ice cream consumption on day $j$ is defined as:\n",
    "\n",
    "\\begin{align}\n",
    "y_j = w_0 + w x_j+ \\epsilon_j\n",
    "\\end{align}\n",
    "\n",
    "\n",
    "We have n_tps = 50 datapoints. Let's represent all these datapoints together in one equation:\n",
    "\\begin{align}\n",
    "\\left[\\begin{array}{c}\n",
    "y_0 \\\\\n",
    "y_1\\\\\n",
    "y_2\\\\\n",
    "\\ldots \\\\ \n",
    "y_{49}\\\\\n",
    "\\end{array}\\right]\n",
    "= \n",
    "\\left[\\begin{array}{c,c}\n",
    "1 & x_0 \\\\\n",
    "1 & x_1\\\\\n",
    "1 & x_2\\\\\n",
    "\\ldots & \\ldots \\\\ \n",
    "1 & x_{49}\\\\\n",
    "\\end{array}\\right]\n",
    "\\left[\\begin{array}{c}\n",
    "w_0 \\\\\n",
    "w\\\\\n",
    "\\end{array}\\right]\n",
    "+\n",
    "\\left[\\begin{array}{c}\n",
    "\\epsilon_0 \\\\\n",
    "\\epsilon_1\\\\\n",
    "\\epsilon_2\\\\\n",
    "\\ldots \\\\ \n",
    "\\epsilon_{49}\\\\\n",
    "\\end{array}\\right]\n",
    "\\end{align}"
   ]
  },
  {
   "cell_type": "markdown",
   "metadata": {
    "deletable": true,
    "editable": true
   },
   "source": [
    "We can write the problem as:\n",
    "\n",
    "\\begin{align}\n",
    "Y =  {\\bf X} W +\\epsilon\n",
    "\\end{align}\n",
    "\n",
    "where\n",
    "- $Y$ is n x 1\n",
    "\\begin{align}\n",
    " Y = \\left[\\begin{array}{c}\n",
    "y_0 \\\\\n",
    "y_1\\\\\n",
    "y_2\\\\\n",
    "\\ldots \\\\ \n",
    "y_{299}\\\\\n",
    "\\end{array}\\right]\n",
    "\\end{align}\n",
    "- ${\\bf X}$ is n x d, here d = 2\n",
    "\n",
    "\\begin{align}\n",
    " {\\bf X} =  \\left[\\begin{array}{c,c}\n",
    "1 & x_0 \\\\\n",
    "1 & x_1\\\\\n",
    "1 & x_2\\\\\n",
    "\\ldots & \\ldots \\\\ \n",
    "1 & x_{299}\\\\\n",
    "\\end{array}\\right]\n",
    "\\end{align}\n",
    "\n",
    "\n",
    "- $W$ is d x 1\n",
    "\n",
    "\\begin{align}\n",
    " W =  \n",
    "\\left[\\begin{array}{c}\n",
    "w_0 \\\\\n",
    "w\\\\\n",
    "\\end{array}\\right]\n",
    "\\end{align}\n",
    "\n",
    "- and $\\epsilon$ is n x 1\n",
    "\n",
    "\\begin{align}\n",
    "\\epsilon = \\left[\\begin{array}{c}\n",
    "\\epsilon_0 \\\\\n",
    "\\epsilon_1\\\\\n",
    "\\epsilon_2\\\\\n",
    "\\ldots \\\\ \n",
    "\\epsilon_{299}\\\\\n",
    "\\end{array}\\right].\n",
    "\\end{align}\n",
    "\n",
    "The notation we are following here is that:\n",
    "- $a$ is a scalar\n",
    "- $A$ is a vector\n",
    "- ${\\bf A}$ is a matrix."
   ]
  },
  {
   "cell_type": "markdown",
   "metadata": {
    "deletable": true,
    "editable": true
   },
   "source": [
    "### 4- [1pt] Explain in the cell below how the matrix operation above works. \n",
    "\n",
    "- Illustrate your explanation by showing how you can get the formulation of $y_5$ in terms of $x_5$ and $\\epsilon_5$"
   ]
  },
  {
   "cell_type": "markdown",
   "metadata": {
    "collapsed": true,
    "deletable": true,
    "editable": true
   },
   "source": [
    "### STUDENT ANSWER\n",
    " $y_5$, is on the 6th row and 1st column of the output. It is obtained by mutliplying the 6th row of ${\\bf X}$, i.e. 1 and $x_5$ and multiply it by $W$ ($w_0$ and $w_1$ respectively). The 6th row, and first column of $\\epsilon$ is added, i.e. $\\epsilon_5$."
   ]
  },
  {
   "cell_type": "markdown",
   "metadata": {
    "deletable": true,
    "editable": true
   },
   "source": [
    "\n",
    "## Minimizing the estimation error \n",
    "\n",
    "In our problem setup, we know $Y$ (the ice cream consumption)  and we know ${\\bf X}$ (a column of ones and the temperature). We assume we don't know the parameters $W$ of our model. We are trying to find them.\n",
    "\n",
    "Due to the noise, we cannot exactly recover $W$. However, we would like to find a solution $W^*$ that minimizes the following error as much as possible:\n",
    "\n",
    "\\begin{align}\n",
    "error = \\sum_{j = 1}^N (y_j - X_j W)^2 = ||Y - {\\bf X} W||_2^2\n",
    "\\end{align}\n",
    "\n",
    "This is the sum of squared errors. \n",
    "\n",
    "To minimize this equation with respect to $W$, we first need to find the derivative with respect to $W$:\n",
    "\n",
    "\\begin{align}\n",
    "\\frac{\\delta \\ error}{\\delta W} &=& \\frac{\\delta ||Y - {\\bf X} W||_2^2}{\\delta W}\\\\\n",
    " &=& -2{\\bf X}^\\top (Y - {\\bf X} W)\\\\\n",
    "\\end{align}\n",
    "\n",
    "The above identity is derived using matrix calculus, which is outside the scope of this class.\n",
    "\n",
    "The minimum is achieved when the derivative is zero:\n",
    "\n",
    "\\begin{align}\n",
    "-2{\\bf X}^\\top (Y - {\\bf X} \\hat W^* ) &= 0\\\\\n",
    "{\\bf X}^\\top (Y - {\\bf X} \\hat W^*) &= 0\\\\\n",
    "{\\bf X}^\\top Y - {\\bf X}^\\top{\\bf X}  W^* &= 0\\\\\n",
    "{\\bf X}^\\top Y &= {\\bf X}^\\top{\\bf X}  W^* \\\\\n",
    "\\end{align}\n",
    "\n",
    "Matrix multiplication is commutative, meaning that ${\\bf A B C = (AB)C = A(BC)}$.\n",
    "\n",
    "We will therefore rewrite the ${\\bf X}^\\top{\\bf X}  W$ term as $({\\bf X}^\\top{\\bf X})  W^*$:\n",
    "\n",
    "\n",
    "\\begin{align}\n",
    "{\\bf X}^\\top Y = ({\\bf X}^\\top{\\bf X})  W^* \\\\\n",
    "\\end{align}\n",
    "\n",
    "\n",
    "## Covariance matrix ${\\bf X}^\\top{\\bf X}$\n",
    "\n",
    "Let's investigate the $({\\bf X}^\\top{\\bf X})$ term a little more. The product of the transpose of a matrix ${\\bf X^\\top}$ with that matrix ${\\bf X}$ is called a covariance matrix. \n",
    "\n",
    "\n",
    "### 5- [1pt] If ${\\bf X}$ is a (5, 3) matrix:\n",
    "- what is the size of ${\\bf X}^\\top$?\n",
    "\n",
    "Hint: Remember we have encountered matrix transposes multiple times in the course. To get the transpose of a matrix `X` in python, we used `X.T`.\n"
   ]
  },
  {
   "cell_type": "code",
   "execution_count": null,
   "metadata": {
    "collapsed": true,
    "deletable": true,
    "editable": true
   },
   "outputs": [],
   "source": [
    "### STUDENT ANSWER\n",
    "(3,5)"
   ]
  },
  {
   "cell_type": "markdown",
   "metadata": {
    "deletable": true,
    "editable": true
   },
   "source": [
    "- what is the size of ${\\bf X}^\\top{\\bf X}$?"
   ]
  },
  {
   "cell_type": "code",
   "execution_count": null,
   "metadata": {
    "collapsed": true,
    "deletable": true,
    "editable": true
   },
   "outputs": [],
   "source": [
    "### STUDENT ANSWER\n",
    "(3,3)"
   ]
  },
  {
   "cell_type": "markdown",
   "metadata": {
    "deletable": true,
    "editable": true
   },
   "source": [
    "- if ${\\bf X}$ is (n, d) is what is the size of ${\\bf X}^\\top{\\bf X}$?"
   ]
  },
  {
   "cell_type": "code",
   "execution_count": null,
   "metadata": {
    "collapsed": true,
    "deletable": true,
    "editable": true
   },
   "outputs": [],
   "source": [
    "### STUDENT ANSWER\n",
    "(d,d)"
   ]
  },
  {
   "cell_type": "markdown",
   "metadata": {
    "deletable": true,
    "editable": true
   },
   "source": [
    "$\\Sigma = {\\bf X}^\\top{\\bf X}$ is called the covariance matrix because it represents the covariance (= the amount of joint variance) between the columns of ${\\bf X}$. \n",
    "\n",
    "The entry $\\Sigma_{i,j}$ represents the covariance between the column $i$ and the column $j$ of ${\\bf X}$. If $\\Sigma_{i,j} = 0$, it means that the columns  $i$ and  $j$ are not correlated. \n",
    "\n",
    "The diagonal entries $\\Sigma_{i,i}$ represent the variance of each column of ${\\bf X}$ (i.e. the covariance of column $i$ with itself)."
   ]
  },
  {
   "cell_type": "markdown",
   "metadata": {
    "deletable": true,
    "editable": true
   },
   "source": [
    "### Matrix inverse \n",
    "\n",
    "\n",
    "For the next step, we need some linear algebra knowledge. Basically the problem we have now is in the form:\n",
    "\n",
    "\\begin{align}\n",
    "{\\bf X}^\\top Y &= ({\\bf X}^\\top{\\bf X})  W^* \\\\\n",
    "A &= {\\bf B} W^* \\\\\n",
    "\\end{align}\n",
    "\n",
    "Where $A = {\\bf X}^\\top Y$ and $ B = {\\bf X}^\\top{\\bf X}$.\n",
    "\n",
    "$A$ has dimension $(d\\times n) \\times (n \\times 1) = (d \\times 1)$. \n",
    "\n",
    "${\\bf B}$ has dimension $(d\\times n) \\times (n \\times d) = (d \\times d)$. \n",
    "\n",
    "Let's compute $A$ and ${\\bf B}$ for our example. First let's define ${\\bf X}$ and $Y$:\n",
    "\n"
   ]
  },
  {
   "cell_type": "code",
   "execution_count": null,
   "metadata": {
    "collapsed": false,
    "deletable": true,
    "editable": true
   },
   "outputs": [],
   "source": [
    "X = np.vstack([np.ones_like(temperature),temperature]).T\n",
    "Y = ice_cream_consumption\n",
    "Y = Y.reshape([Y.shape[0],1]) # this makes sure that the shape of Y is (50,1) and not (50)"
   ]
  },
  {
   "cell_type": "markdown",
   "metadata": {
    "deletable": true,
    "editable": true
   },
   "source": [
    "### 6- [1pt] Compute the matrices $A$ and ${\\bf B}$ and print them:\n",
    "\n",
    "- Compute and print $A = {\\bf X}^\\top Y$ and $ B = {\\bf X}^\\top{\\bf X}$.\n"
   ]
  },
  {
   "cell_type": "code",
   "execution_count": null,
   "metadata": {
    "collapsed": false,
    "deletable": true,
    "editable": true
   },
   "outputs": [],
   "source": [
    "### STUDENT ANSWER\n",
    "A = np.dot(X.T, Y)\n",
    "print(A)\n",
    "B = np.dot(X.T, X)\n",
    "print(B)"
   ]
  },
  {
   "cell_type": "markdown",
   "metadata": {
    "deletable": true,
    "editable": true
   },
   "source": [
    "## Back to the derivation\n",
    "\n",
    "We want to solve:\n",
    "\n",
    "\\begin{align}\n",
    "A &= {\\bf B} W^* \\\\\n",
    "\\end{align}\n",
    "\n",
    "Let's step back for a moment. What would we have done if instead, we had a, b and w, all scalars, and we were solving:\n",
    "\n",
    "\\begin{align}\n",
    "a = b  w \\\\\n",
    "\\end{align}\n",
    "\n",
    "For example, we could have the following equation:\n",
    "\n",
    "\\begin{align}\n",
    "6 = 3  w \\\\\n",
    "\\end{align}\n",
    "\n",
    "\n",
    "then the solution would be: $w = \\frac{6}{3} = 2$.\n",
    "\n",
    "When dealing with matrices instead of scalars, the analogous operation is not as simple. Let's go back to our problem:\n",
    "\n",
    "\\begin{align}\n",
    "A = {\\bf B}  W^* \\\\\n",
    "\\end{align}\n",
    "\n",
    "we need to somehow \"divide\" $A$ by ${\\bf B}$. We will use the concept of matrix inversion to accomplish this. \n",
    "\n",
    "A square matrix is a matrix with an equal number of rows and columns. \n",
    "\n",
    "A square matrix ${\\bf B}$ is invertable if there exist another matrix ${\\bf C}$ such that ${\\bf BC} = {\\bf I_n}$,  where ${\\bf  I_n}$ is the identity matrix of size $n\\times n$.\n",
    "\n",
    "An identity matrix is a square matrix where all the entries are zero, except the diagonal, which is equal to 1. Here is an example of an identity matrix ${\\bf  I_n}$ with $ n = 3$:"
   ]
  },
  {
   "cell_type": "code",
   "execution_count": null,
   "metadata": {
    "collapsed": false,
    "deletable": true,
    "editable": true
   },
   "outputs": [],
   "source": [
    "print(np.eye(3))"
   ]
  },
  {
   "cell_type": "markdown",
   "metadata": {
    "deletable": true,
    "editable": true
   },
   "source": [
    "If a matrix ${\\bf C}$ exists such that ${\\bf BC} = {\\bf I_n}$, we call ${\\bf C}$ the inverse of ${\\bf B}$, and we usually denote it as ${\\bf B}^{-1}$: \n",
    "\n",
    "${\\bf BB}^{-1} = {\\bf I_n}$. \n",
    "\n",
    "In order for the matrix ${\\bf B}^{-1}$ to exist, the matrix ${\\bf B}$  need to satisfy some conditions. Usually, if a matrix has more rows than columns, then these conditions are usually satisfied when we take the covariance matrix. However, this is not always true. We will not go into the details of when a matrix is invertable in this homework. "
   ]
  },
  {
   "cell_type": "markdown",
   "metadata": {
    "deletable": true,
    "editable": true
   },
   "source": [
    "### 7 - [1pt] Multiply the matrix below with an identity matrix with n = 2:\n",
    "\n",
    "\\begin{align}\n",
    " {\\bf D} =  \\left[\\begin{array}{c,c}\n",
    "3 & -1 \\\\\n",
    "2 & 1 \\\\\n",
    "\\end{array}\\right]\n",
    "\\end{align}\n",
    "\n",
    "I.e. find the entries in ${\\bf F}$:\n",
    "\\begin{align}\n",
    " {\\bf F} = {\\bf D} {\\bf  I} =  \\left[\\begin{array}{c,c}\n",
    "3 & -1 \\\\\n",
    "2 & 1 \\\\\n",
    "\\end{array}\\right]\n",
    " \\left[\\begin{array}{c,c}\n",
    "1 & 0 \\\\\n",
    "0 & 1 \\\\\n",
    "\\end{array}\\right]\n",
    "= \\left[\\begin{array}{c,c}\n",
    "f_{1,1} & f_{1,2} \\\\\n",
    "f_{2,1} & f_{2,2} \\\\\n",
    "\\end{array}\\right]\n",
    "\\end{align}\n"
   ]
  },
  {
   "cell_type": "code",
   "execution_count": null,
   "metadata": {
    "collapsed": false,
    "deletable": true,
    "editable": true
   },
   "outputs": [],
   "source": [
    "### STUDENT ANSWER\n",
    "F = np.array([[3, -1], [2, 1]])\n",
    "print(F)"
   ]
  },
  {
   "cell_type": "markdown",
   "metadata": {
    "deletable": true,
    "editable": true
   },
   "source": [
    "### Deriving the OLS solution\n",
    "\n",
    "Now we are able to proceed with the derivation, by multiplying both sides of the equation by the inverse of ${\\bf X}^\\top{\\bf X}$:\n",
    "\n",
    "\\begin{align}\n",
    "{\\bf X}^\\top Y &= ({\\bf X}^\\top{\\bf X}) W \\\\\n",
    "({\\bf X}^\\top{\\bf X})^{-1} {\\bf X}^\\top Y &= ({\\bf X}^\\top{\\bf X})^{-1} ({\\bf X}^\\top{\\bf X}) W^*\\\\\n",
    "\\end{align}\n",
    "\n",
    "We know that by definition: $({\\bf X}^\\top{\\bf X})^{-1} ({\\bf X}^\\top{\\bf X}) = {\\bf I_n}$:\n",
    "\n",
    "\n",
    "\\begin{align}\n",
    "({\\bf X}^\\top{\\bf X})^{-1} {\\bf X}^\\top Y &= ({\\bf X}^\\top{\\bf X})^{-1} ({\\bf X}^\\top{\\bf X}) W^*\\\\\n",
    "({\\bf X}^\\top{\\bf X})^{-1}{\\bf X}^\\top Y &= {\\bf I_n} W^* \\\\\n",
    "({\\bf X}^\\top{\\bf X})^{-1}{\\bf X}^\\top Y &= W^* \\\\\n",
    "\\end{align}\n",
    "\n",
    "\n",
    "After all this work, $ W^* =  ({\\bf X}^\\top{\\bf X})^{-1}{\\bf X}^\\top Y$ is the Ordinary Least Squares Solution, OLS solution for short. \n",
    "\n",
    "\n",
    "In the space below, we use the functions np.dot, np.T and np.linalg.inv to implement the OLS solution. \n",
    "\n",
    "We then use it to obtain the $W^*$, the OLS solution. We print it and show the line corresponding to it in the following cell.\n"
   ]
  },
  {
   "cell_type": "code",
   "execution_count": null,
   "metadata": {
    "collapsed": false,
    "deletable": true,
    "editable": true
   },
   "outputs": [],
   "source": [
    "from numpy.linalg import inv\n",
    "\n",
    "def my_OLS(X,Y):\n",
    "    \n",
    "    return np.dot( inv(np.dot(X.T,X)), np.dot(X.T, Y))\n",
    "\n",
    "W_OLS = my_OLS(X,Y)\n",
    "\n",
    "print('the slope is {} and the intercept is {}'.format(W_OLS[1], W_OLS[0]))\n",
    "print('the real slope was 2 and the real intercept was 15.')\n",
    "\n",
    "plt.scatter(temperature, ice_cream_consumption);\n",
    "x_plot = [0,temperature.max()]\n",
    "X_plot_mat = np.vstack([np.ones_like(x_plot),x_plot]).T\n",
    "plt.plot(x_plot, np.dot(X_plot_mat,W_OLS),'r')\n",
    "plt.xlabel('temperature', fontsize = 16)\n",
    "plt.ylabel('ice cream consumption', fontsize = 16 )"
   ]
  }
 ],
 "metadata": {
  "anaconda-cloud": {},
  "kernelspec": {
   "display_name": "Python 3",
   "language": "python",
   "name": "python3"
  },
  "language_info": {
   "codemirror_mode": {
    "name": "ipython",
    "version": 3
   },
   "file_extension": ".py",
   "mimetype": "text/x-python",
   "name": "python",
   "nbconvert_exporter": "python",
   "pygments_lexer": "ipython3",
   "version": "3.5.2"
  }
 },
 "nbformat": 4,
 "nbformat_minor": 2
}
