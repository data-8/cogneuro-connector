{
 "cells": [
  {
   "cell_type": "code",
   "execution_count": null,
   "metadata": {
    "collapsed": true,
    "deletable": true,
    "editable": true
   },
   "outputs": [],
   "source": [
    "import numpy as np\n",
    "import matplotlib.pyplot as plt\n",
    "import neurods\n",
    "%matplotlib inline"
   ]
  },
  {
   "cell_type": "markdown",
   "metadata": {
    "deletable": true,
    "editable": true
   },
   "source": [
    "In this homework, we will go over the derivation we made in the last lecture. This homework might appear long, however, most of the questions are focused around reading this notebook and understanding the definition. \n",
    "\n",
    "We will load simulated data from a voxel to a stimulus time series. Use the cells below to load the data."
   ]
  },
  {
   "cell_type": "code",
   "execution_count": null,
   "metadata": {
    "collapsed": false,
    "deletable": true,
    "editable": true
   },
   "outputs": [],
   "source": [
    "# Plotting function from Lecture08 that we will continue to use\n",
    "def stim_resp_plot(t, stimulus, response, yl=(-0.2, 1.2), label_stim='Stimulus', label_resp='BOLD response (HRF)'):\n",
    "    \"\"\"Plot stimulus and response.\"\"\"\n",
    "    plt.figure(figsize=(10,4))\n",
    "    plt.stem(t, stimulus, linefmt='k-', markerfmt='.', basefmt='k-', label=label_stim)\n",
    "    plt.plot(t, response, 'r.-', label=label_resp)\n",
    "    plt.ylim(yl)\n",
    "    plt.xlim([-1,t.max()+1])\n",
    "    plt.xlabel('Time (seconds)')\n",
    "    plt.ylabel('Response (arbitrary units)')\n",
    "    _ = plt.legend()\n",
    "\n",
    "\n",
    "filename = 'example_data_01.npz'\n",
    "ex_data = np.load(filename)\n",
    "t = ex_data['t']\n",
    "n_tps = len(t)\n",
    "stimulus = ex_data['x']\n",
    "data_sim = ex_data['data']\n",
    "stim_resp_plot(t, stimulus, data_sim, yl=(-2, 5), label_stim='Stimulus', label_resp='Simulated data')"
   ]
  },
  {
   "cell_type": "markdown",
   "metadata": {
    "deletable": true,
    "editable": true
   },
   "source": [
    "We saw in class that we should account for the hemodynamic response before trying to relate the stimulus and the response time courses. In the cell below, we generate a hemodynamic response function with TR = 2 seconds. We then use it to convolve the stimulus time course:"
   ]
  },
  {
   "cell_type": "code",
   "execution_count": null,
   "metadata": {
    "collapsed": false,
    "deletable": true,
    "editable": true
   },
   "outputs": [],
   "source": [
    "t2, hrf_2 = neurods.fmri.hrf(tr=2)\n",
    "plt.plot(t2, hrf_2);\n",
    "plt.title('hfr with TR = 2')\n",
    "conv_stimulus = np.convolve(stimulus, hrf_2, mode='full')[:n_tps]\n",
    "stim_resp_plot(t, stimulus, conv_stimulus, label_stim='Stimulus', label_resp='Convolved stimulus');"
   ]
  },
  {
   "cell_type": "markdown",
   "metadata": {},
   "source": [
    "We want to fit a linear model that express the activity in the voxel as a function of the convolved stimulus:"
   ]
  },
  {
   "cell_type": "code",
   "execution_count": null,
   "metadata": {
    "collapsed": false
   },
   "outputs": [],
   "source": [
    "stim_resp_plot(t, conv_stimulus, data_sim, yl=(-2, 5),label_stim='Convolved stimulus (x)', label_resp='Simulated brain data (y)');"
   ]
  },
  {
   "cell_type": "markdown",
   "metadata": {},
   "source": [
    "More specifically, we **assume** that we can express the activity of the voxel $y_j$ at time point $j$ as:\n",
    "\n",
    "\\begin{align}\n",
    "y_j = w_0 + w x_j+ \\epsilon_j\n",
    "\\end{align}\n",
    "\n",
    "The figure below from wikipedia is an illustration of this problem. Assume that the points correspond to our samples, where the x axis is the value of the convolved stimulus and the y axis is the value of the corresponding brain response. Fitting the linear model specified above optimally means finding a line such that the  "
   ]
  },
  {
   "cell_type": "code",
   "execution_count": null,
   "metadata": {
    "collapsed": false
   },
   "outputs": [],
   "source": [
    "from IPython.display import Image\n",
    "from IPython.core.display import HTML \n",
    "Image(url= \"https://upload.wikimedia.org/wikipedia/commons/3/3a/Linear_regression.svg\")"
   ]
  },
  {
   "cell_type": "markdown",
   "metadata": {},
   "source": [
    "Before we explore this further, let's take a detour to understand matrix multiplication.\n",
    "\n",
    "https://upload.wikimedia.org/wikipedia/commons/thumb/e/eb/Matrix_multiplication_diagram_2.svg/626px-Matrix_multiplication_diagram_2.svg.png\n",
    "\n",
    "### Matrix Multiplication:\n",
    "\n",
    "A matrix multiplication is an operation on two matrices that produces a new matrix:\n",
    "\n",
    "\n",
    "\\begin{align}\n",
    "{\\bf AB} = {\\bf C}\n",
    "\\end{align}\n",
    "\n",
    "We can only multiply two matrices ${\\bf A}$ and ${\\bf B}$ if the number of columns of ${\\bf A}$   is equal to the number of rows of ${\\bf B}$. \n",
    "\n",
    "If ${\\bf A}$ is $(r\\times t)$ and ${\\bf B}$ is $(t\\times c)$, then ${\\bf C}$ will be $(r\\times c)$.\n",
    "\n",
    "This is the elements of ${\\bf C}$ are computed:\n",
    "- the entry ${c}_{i,j}$, i.e. the entry on the $i$th row of ${C}$ and the $j$th column is computed by:\n",
    "    - taking the $i$th row of the first matrix (A)\n",
    "    - taking the $j$th column of the second matrix (B)\n",
    "    - these two vectors will have the same lenght. Multiply their corresponding entries (i.e. the first element with the first element etc).\n",
    "    - take the sum of the elementwise multiplication.\n",
    "\n",
    "The picture below, taken from the wikipedia article on matrix multiplication, illustrates how to do this:"
   ]
  },
  {
   "cell_type": "code",
   "execution_count": null,
   "metadata": {
    "collapsed": false
   },
   "outputs": [],
   "source": [
    "Image(url= \"https://upload.wikimedia.org/wikipedia/commons/thumb/e/eb/Matrix_multiplication_diagram_2.svg/626px-Matrix_multiplication_diagram_2.svg.png\")"
   ]
  },
  {
   "cell_type": "markdown",
   "metadata": {
    "deletable": true,
    "editable": true
   },
   "source": [
    "In that picture, we multiply a (3,2) matrix with a (2,3) matrix to get a (3,3) matrix.\n",
    "\n",
    "The entry in the first row and the second column is equal to:\n",
    "$$ a_{1,1}\\times b_{1,2} + a_{1,2}\\times b_{2,2}.$$\n",
    "\n",
    "The entry in the third row and the third column is equal to:\n",
    "$$ a_{3,1}\\times b_{1,3} + a_{3,2}\\times b_{2,3}.$$\n",
    "\n",
    "\n",
    "If you want more information about matrix multiplication, you can see this video from the Khan academy, it even includes practice examples at the end: https://www.khanacademy.org/math/precalculus/precalc-matrices/multiplying-matrices-by-matrices/v/matrix-multiplication-intro"
   ]
  },
  {
   "cell_type": "markdown",
   "metadata": {},
   "source": [
    "### 1- [1pt] If the multiplication is possible between the following matrices, report the size of the resulting matrix. Otherwise, specify that the multiplication is not possible:"
   ]
  },
  {
   "cell_type": "code",
   "execution_count": null,
   "metadata": {
    "collapsed": true
   },
   "outputs": [],
   "source": [
    "# 1-a\n",
    "# Size of A is (2,4) and size of B is (4,5)\n",
    "# What is the size of C = AB?\n",
    "### STUDENT ANSWER\n"
   ]
  },
  {
   "cell_type": "code",
   "execution_count": null,
   "metadata": {
    "collapsed": true
   },
   "outputs": [],
   "source": [
    "# 1-b\n",
    "# Size of A is (3,3) and size of B is (3,1)\n",
    "# What is the size of C = AB?\n",
    "### STUDENT ANSWER\n"
   ]
  },
  {
   "cell_type": "code",
   "execution_count": null,
   "metadata": {
    "collapsed": true
   },
   "outputs": [],
   "source": [
    "# 1-c\n",
    "# Size of A is (4,3) and size of B is (4,3)\n",
    "# What is the size of C = AB?\n",
    "### STUDENT ANSWER\n"
   ]
  },
  {
   "cell_type": "code",
   "execution_count": null,
   "metadata": {
    "collapsed": true
   },
   "outputs": [],
   "source": [
    "# 1-d\n",
    "# Size of A is (3,1) and size of B is (1,4)\n",
    "# What is the size of C = AB?\n",
    "### STUDENT ANSWER\n"
   ]
  },
  {
   "cell_type": "markdown",
   "metadata": {},
   "source": [
    "### 2- [1pt] Report the entries in the product of the following matrices:\n",
    "\n",
    "\\begin{align}\n",
    "\\left[\\begin{array}{c,c,c}\n",
    "3 & -2 & 3 \\\\\n",
    "9 & -1 & 4\\\\\n",
    "2 & 4 & r \\\\ \n",
    "\\end{array}\\right]\n",
    "\\left[\\begin{array}{c,c}\n",
    "7 & -3  \\\\\n",
    "s & 4 \\\\\n",
    "1 & 2  \\\\ \n",
    "\\end{array}\\right]\n",
    "= \n",
    "\\left[\\begin{array}{c,c}\n",
    "c_{1,1} & c_{1,2} & c_{1,3} \\\\\n",
    "c_{2,1} & c_{2,2} & c_{2,3}\\\\\n",
    "c_{3,1} & c_{3,2} & c_{3,3}\\\\\n",
    "\\end{array}\\right]\n",
    "\\end{align}\n",
    "\n",
    "Write down the corresponding product in terms of r and s."
   ]
  },
  {
   "cell_type": "code",
   "execution_count": null,
   "metadata": {
    "collapsed": true
   },
   "outputs": [],
   "source": [
    "# 2-a\n",
    "# What is the value of c_{1,1}?\n",
    "### STUDENT ANSWER\n"
   ]
  },
  {
   "cell_type": "code",
   "execution_count": null,
   "metadata": {
    "collapsed": true
   },
   "outputs": [],
   "source": [
    "# 2-b\n",
    "# What is the value of c_{3,1}?\n",
    "### STUDENT ANSWER\n"
   ]
  },
  {
   "cell_type": "markdown",
   "metadata": {},
   "source": [
    "### 3- [1pt] Replace r by 2 and s by -5.  \n",
    "\n",
    "- Use the function np.dot to print out the product of the two matrices above. \n",
    "- Then double check your answer to parts 2-a and 2-b when you use these values of r and s. Show that you get the same values."
   ]
  },
  {
   "cell_type": "code",
   "execution_count": null,
   "metadata": {
    "collapsed": false
   },
   "outputs": [],
   "source": [
    "# Hint: use the following code to define the matrices. You should replace r and s by their values\n",
    "# A = np.array( [ [3,-2,3], [9,-1,4], [2,4,r] ]  )\n",
    "# B = np.array( [ [7,-3], [s,4], [1,2] ]  )\n",
    "### STUDENT ANSWER\n"
   ]
  },
  {
   "cell_type": "markdown",
   "metadata": {
    "deletable": true,
    "editable": true
   },
   "source": [
    "# Expressing our linear model as a matrix multiplication\n",
    "\n",
    "\n",
    "Back to our model, the activity of the voxel $y_j$ at time point $j$ is defined as:\n",
    "\n",
    "\\begin{align}\n",
    "y_j = w_0 + w x_j+ \\epsilon_j\n",
    "\\end{align}\n",
    "\n",
    "\n",
    "We have n_tps = 300 datapoints. Let's represent all these datapoints together in one equation:\n",
    "\\begin{align}\n",
    "\\left[\\begin{array}{c}\n",
    "y_0 \\\\\n",
    "y_1\\\\\n",
    "y_2\\\\\n",
    "\\ldots \\\\ \n",
    "y_{299}\\\\\n",
    "\\end{array}\\right]\n",
    "= \n",
    "\\left[\\begin{array}{c,c}\n",
    "1 & x_0 \\\\\n",
    "1 & x_1\\\\\n",
    "1 & x_2\\\\\n",
    "\\ldots & \\ldots \\\\ \n",
    "1 & x_{299}\\\\\n",
    "\\end{array}\\right]\n",
    "\\left[\\begin{array}{c}\n",
    "w_0 \\\\\n",
    "w\\\\\n",
    "\\end{array}\\right]\n",
    "+\n",
    "\\left[\\begin{array}{c}\n",
    "\\epsilon_0 \\\\\n",
    "\\epsilon_1\\\\\n",
    "\\epsilon_2\\\\\n",
    "\\ldots \\\\ \n",
    "\\epsilon_{299}\\\\\n",
    "\\end{array}\\right]\n",
    "\\end{align}"
   ]
  },
  {
   "cell_type": "markdown",
   "metadata": {},
   "source": [
    "We can write the problem as:\n",
    "\n",
    "\\begin{align}\n",
    "Y =  {\\bf X} W +\\epsilon\n",
    "\\end{align}\n",
    "\n",
    "where\n",
    "- $Y$ is n x 1\n",
    "\\begin{align}\n",
    " Y = \\left[\\begin{array}{c}\n",
    "y_0 \\\\\n",
    "y_1\\\\\n",
    "y_2\\\\\n",
    "\\ldots \\\\ \n",
    "y_{299}\\\\\n",
    "\\end{array}\\right]\n",
    "\\end{align}\n",
    "- ${\\bf X}$ is n x d, here d = 2\n",
    "\n",
    "\\begin{align}\n",
    " {\\bf X} =  \\left[\\begin{array}{c,c}\n",
    "1 & x_0 \\\\\n",
    "1 & x_1\\\\\n",
    "1 & x_2\\\\\n",
    "\\ldots & \\ldots \\\\ \n",
    "1 & x_{299}\\\\\n",
    "\\end{array}\\right]\n",
    "\\end{align}\n",
    "\n",
    "\n",
    "- $W$ is d x 1\n",
    "\n",
    "\\begin{align}\n",
    " W =  \n",
    "\\left[\\begin{array}{c}\n",
    "w_0 \\\\\n",
    "w\\\\\n",
    "\\end{array}\\right]\n",
    "\\end{align}\n",
    "\n",
    "- and $\\epsilon$ is n x 1\n",
    "\n",
    "\\begin{align}\n",
    "\\epsilon = \\left[\\begin{array}{c}\n",
    "\\epsilon_0 \\\\\n",
    "\\epsilon_1\\\\\n",
    "\\epsilon_2\\\\\n",
    "\\ldots \\\\ \n",
    "\\epsilon_{299}\\\\\n",
    "\\end{array}\\right].\n",
    "\\end{align}\n",
    "\n",
    "The notation we are following here is that:\n",
    "- $a$ is a scalar\n",
    "- $A$ is a vector\n",
    "- ${\\bf A}$ is a matrix."
   ]
  },
  {
   "cell_type": "markdown",
   "metadata": {},
   "source": [
    "### 4- [1pt] Explain in the cell below how the matrix operation above works. \n",
    "\n",
    "- Illustrate your explanation by showing how you can get the formulation of $y_5$ in terms of $x_5$ and $\\epsilon_5$"
   ]
  },
  {
   "cell_type": "code",
   "execution_count": null,
   "metadata": {
    "collapsed": true
   },
   "outputs": [],
   "source": [
    "### STUDENT ANSWER\n"
   ]
  },
  {
   "cell_type": "markdown",
   "metadata": {
    "deletable": true,
    "editable": true
   },
   "source": [
    "\n",
    "In our problem setup, we know $Y$ (the simulated voxel data)  and we know ${\\bf X}$ (a column of ones and the convolved stimulus). We want to find the parameters $W$ of our model. We are trying to find th\n",
    "\n",
    "Due to the noise, we cannot exactly recover $W$. However, we would like to find a solution $W^*$ that minimizes the following error as much as possible:\n",
    "\n",
    "\\begin{align}\n",
    "error = \\sum_{j = 1}^N (y_j - X_j W)^2 = ||Y - {\\bf X} W||_2^2\n",
    "\\end{align}\n",
    "\n",
    "This is the sum of squared errors. \n",
    "\n",
    "To minimize this equation with respect to $W$, we first need to find the derivative with respect to $W$:\n",
    "\n",
    "\\begin{align}\n",
    "\\frac{\\delta \\ error}{\\delta W} &=& \\frac{\\delta ||Y - {\\bf X} W||_2^2}{\\delta W}\\\\\n",
    " &=& -2{\\bf X}^\\top (Y - {\\bf X} W)\\\\\n",
    "\\end{align}\n",
    "\n",
    "The above identity is derived using matrix calculus, which is outside the scope of this class.\n",
    "\n",
    "The minimum is achieved when the derivative is zero:\n",
    "\n",
    "\\begin{align}\n",
    "-2{\\bf X}^\\top (Y - {\\bf X} \\hat W^* ) &= 0\\\\\n",
    "{\\bf X}^\\top (Y - {\\bf X} \\hat W^*) &= 0\\\\\n",
    "{\\bf X}^\\top Y - {\\bf X}^\\top{\\bf X}  W^* &= 0\\\\\n",
    "{\\bf X}^\\top Y &= {\\bf X}^\\top{\\bf X}  W^* \\\\\n",
    "\\end{align}\n",
    "\n",
    "Matrix multiplication is commutative, meaning that ${\\bf A B C = (AB)C = A(BC)}$.\n",
    "\n",
    "We will therefore rewrite the ${\\bf X}^\\top{\\bf X}  W$ term as $({\\bf X}^\\top{\\bf X})  W^*$:\n",
    "\n",
    "\n",
    "\\begin{align}\n",
    "{\\bf X}^\\top Y = ({\\bf X}^\\top{\\bf X})  W^* \\\\\n",
    "\\end{align}\n",
    "\n",
    "\n",
    "## Covariance matrix ${\\bf X}^\\top{\\bf X}$\n",
    "\n",
    "Let's investigate the $({\\bf X}^\\top{\\bf X})$ term a little more. The product of the transpose of a matrix ${\\bf X^\\top}$ with that matrix ${\\bf X}$ is called a covariance matrix. \n",
    "\n",
    "\n",
    "### 5- [1pt] If ${\\bf X}$ is a (5, 3) matrix:\n",
    "- what is the size of ${\\bf X}^\\top$?\n",
    "\n",
    "Hint: Remember we have encountered matrix transposes multiple times in the course. To get the transpose of a matrix `X` in python, we used `X.T`.\n"
   ]
  },
  {
   "cell_type": "code",
   "execution_count": null,
   "metadata": {
    "collapsed": true
   },
   "outputs": [],
   "source": [
    "### STUDENT ANSWER\n"
   ]
  },
  {
   "cell_type": "markdown",
   "metadata": {},
   "source": [
    "- what is the size of ${\\bf X}^\\top{\\bf X}$?"
   ]
  },
  {
   "cell_type": "code",
   "execution_count": null,
   "metadata": {
    "collapsed": true
   },
   "outputs": [],
   "source": [
    "### STUDENT ANSWER\n"
   ]
  },
  {
   "cell_type": "markdown",
   "metadata": {},
   "source": [
    "- if ${\\bf X}$ is (n, d) is what is the size of ${\\bf X}^\\top{\\bf X}$?"
   ]
  },
  {
   "cell_type": "code",
   "execution_count": null,
   "metadata": {
    "collapsed": true
   },
   "outputs": [],
   "source": [
    "### STUDENT ANSWER\n"
   ]
  },
  {
   "cell_type": "markdown",
   "metadata": {},
   "source": [
    "$\\Sigma = {\\bf X}^\\top{\\bf X}$ is called the covariance matrix because it represents the covariance (= the amount of joint variance) between the columns of ${\\bf X}$. \n",
    "\n",
    "The entry $\\Sigma_{i,j}$ represents the covariance between the column $i$ and the column $j$ of ${\\bf X}$. If $\\Sigma_{i,j} = 0$, it means that the columns  $i$ and  $j$ are not correlated. \n",
    "\n",
    "The diagonal entries $\\Sigma_{i,i}$ represent the variance of each column of ${\\bf X}$ (i.e. the covariance of column $i$ with itself)."
   ]
  },
  {
   "cell_type": "markdown",
   "metadata": {
    "deletable": true,
    "editable": true
   },
   "source": [
    "### Matrix inverse \n",
    "\n",
    "\n",
    "For the next step, we need some linear algebra knowledge. Basically the problem we have now is in the form:\n",
    "\n",
    "\\begin{align}\n",
    "{\\bf X}^\\top Y &= ({\\bf X}^\\top{\\bf X})  W^* \\\\\n",
    "A &= {\\bf B} W^* \\\\\n",
    "\\end{align}\n",
    "\n",
    "Where $A = {\\bf X}^\\top Y$ and $ B = {\\bf X}^\\top{\\bf X}$.\n",
    "\n",
    "$A$ has dimension $(d\\times n) \\times (n \\times 1) = (d \\times 1)$. \n",
    "\n",
    "${\\bf B}$ has dimension $(d\\times n) \\times (n \\times d) = (d \\times d)$. \n",
    "\n",
    "Let's compute $A$ and ${\\bf B}$ for our example. First let's define ${\\bf X}$ and $Y$:\n",
    "\n"
   ]
  },
  {
   "cell_type": "code",
   "execution_count": null,
   "metadata": {
    "collapsed": true,
    "deletable": true,
    "editable": true
   },
   "outputs": [],
   "source": [
    "X = np.vstack([np.ones_like(conv_stimulus),conv_stimulus]).T\n",
    "Y = data_sim\n",
    "Y = Y.reshape([Y.shape[0],1]) # this makes sure that the shape of Y is (300,1) and not (300)"
   ]
  },
  {
   "cell_type": "markdown",
   "metadata": {},
   "source": [
    "### 6- [1pt] Compute the matrices $A$ and ${\\bf B}$ and print them:\n",
    "\n",
    "- Compute and print $A = {\\bf X}^\\top Y$ and $ B = {\\bf X}^\\top{\\bf X}$.\n"
   ]
  },
  {
   "cell_type": "code",
   "execution_count": null,
   "metadata": {
    "collapsed": false
   },
   "outputs": [],
   "source": [
    "### STUDENT ANSWER\n"
   ]
  },
  {
   "cell_type": "markdown",
   "metadata": {},
   "source": [
    "## Back to the derivation\n",
    "\n",
    "We want to solve:\n",
    "\n",
    "\\begin{align}\n",
    "A &= {\\bf B} W^* \\\\\n",
    "\\end{align}\n",
    "\n",
    "Let's step back for a moment. What would we have done if instead, we had a, b and w, all scalars, and we were solving:\n",
    "\n",
    "\\begin{align}\n",
    "a = b  w \\\\\n",
    "\\end{align}\n",
    "\n",
    "For example, we could have the following equation:\n",
    "\n",
    "\\begin{align}\n",
    "6 = 3  w \\\\\n",
    "\\end{align}\n",
    "\n",
    "\n",
    "then the solution would be: $w = \\frac{6}{3} = 2$.\n",
    "\n",
    "When dealing with matrices instead of scalars, the analogous operation is not as simple. Let's go back to our problem:\n",
    "\n",
    "\\begin{align}\n",
    "A = {\\bf B}  W^* \\\\\n",
    "\\end{align}\n",
    "\n",
    "we need to somehow \"divide\" $A$ by ${\\bf B}$. We will use the concept of matrix inversion to accomplish this. \n",
    "\n",
    "A square matrix is a matrix with an equal number of rows and columns. \n",
    "\n",
    "A square matrix ${\\bf B}$ is invertable if there exist another matrix ${\\bf C}$ such that ${\\bf BC} = {\\bf I_n}$,  where ${\\bf  I_n}$ is the identity matrix of size $n\\times n$.\n",
    "\n",
    "An identity matrix is a square matrix where all the entries are zero, except the diagonal, which is equal to 1. Here is an example of an identity matrix ${\\bf  I_n}$ with $ n = 3$:"
   ]
  },
  {
   "cell_type": "code",
   "execution_count": null,
   "metadata": {
    "collapsed": false
   },
   "outputs": [],
   "source": [
    "print(np.eye(3))"
   ]
  },
  {
   "cell_type": "markdown",
   "metadata": {
    "deletable": true,
    "editable": true
   },
   "source": [
    "If a matrix ${\\bf C}$ exists such that ${\\bf BC} = {\\bf I_n}$, we call ${\\bf C}$ the inverse of ${\\bf B}$, and we usually denote it as ${\\bf B}^{-1}$: \n",
    "\n",
    "${\\bf BB}^{-1} = {\\bf I_n}$. \n",
    "\n",
    "In order for the matrix ${\\bf B}^{-1}$ to exist, the matrix ${\\bf B}$  need to satisfy some conditions. Usually, if a matrix has more rows than columns, then these conditions are usually satisfied when we take the covariance matrix. However, this is not always true. We will not go into the details of when a matrix is invertable in this homework. "
   ]
  },
  {
   "cell_type": "markdown",
   "metadata": {},
   "source": [
    "### 7 - [1pt] Multiply the matrix below with an identity matrix with n = 2:\n",
    "\n",
    "\\begin{align}\n",
    " {\\bf D} =  \\left[\\begin{array}{c,c}\n",
    "3 & -1 \\\\\n",
    "2 & 1 \\\\\n",
    "\\end{array}\\right]\n",
    "\\end{align}\n",
    "\n",
    "I.e. find the entries in ${\\bf F}$:\n",
    "\\begin{align}\n",
    " {\\bf F} = {\\bf D} {\\bf  I} =  \\left[\\begin{array}{c,c}\n",
    "3 & -1 \\\\\n",
    "2 & 1 \\\\\n",
    "\\end{array}\\right]\n",
    " \\left[\\begin{array}{c,c}\n",
    "1 & 0 \\\\\n",
    "0 & 1 \\\\\n",
    "\\end{array}\\right]\n",
    "= \\left[\\begin{array}{c,c}\n",
    "f_{1,1} & f_{1,2} \\\\\n",
    "f_{2,1} & f_{2,2} \\\\\n",
    "\\end{array}\\right]\n",
    "\\end{align}\n"
   ]
  },
  {
   "cell_type": "code",
   "execution_count": null,
   "metadata": {
    "collapsed": true
   },
   "outputs": [],
   "source": [
    "### STUDENT ANSWER\n"
   ]
  },
  {
   "cell_type": "markdown",
   "metadata": {
    "deletable": true,
    "editable": true
   },
   "source": [
    "### Deriving the OLS solution\n",
    "\n",
    "Now we are able to proceed with the derivation, by multiplying both sides of the equation by the inverse of ${\\bf X}^\\top{\\bf X}$:\n",
    "\n",
    "\\begin{align}\n",
    "{\\bf X}^\\top Y &= ({\\bf X}^\\top{\\bf X}) W \\\\\n",
    "({\\bf X}^\\top{\\bf X})^{-1} {\\bf X}^\\top Y &= ({\\bf X}^\\top{\\bf X})^{-1} ({\\bf X}^\\top{\\bf X}) W^*\\\\\n",
    "\\end{align}\n",
    "\n",
    "We know that by definition: $({\\bf X}^\\top{\\bf X})^{-1} ({\\bf X}^\\top{\\bf X}) = {\\bf I_n}$:\n",
    "\n",
    "\n",
    "\\begin{align}\n",
    "({\\bf X}^\\top{\\bf X})^{-1} {\\bf X}^\\top Y &= ({\\bf X}^\\top{\\bf X})^{-1} ({\\bf X}^\\top{\\bf X}) W^*\\\\\n",
    "({\\bf X}^\\top{\\bf X})^{-1}{\\bf X}^\\top Y &= {\\bf I_n} W^* \\\\\n",
    "({\\bf X}^\\top{\\bf X})^{-1}{\\bf X}^\\top Y &= W^* \\\\\n",
    "\\end{align}\n",
    "\n",
    "\n",
    "After all this work, $ W^* =  ({\\bf X}^\\top{\\bf X})^{-1}{\\bf X}^\\top Y$ is the Ordinary Least Squares Solution, OLS solution for short. \n",
    "\n",
    "\n",
    "### 8- [1pt] Using the space below, use the functions np.dot, .T and inv to implement the OLS solution. \n",
    "\n",
    "- Your function should take as input a matrix X and a matrix Y and return the OLS solution.\n",
    "\n",
    "Hint: the function inv imported below returns the inverse of a square matrix.\n",
    "\n",
    "- Use your function to find W. The variables X and Y should already be defined in your workspace from the cells above. \n",
    "\n",
    "- Print the value of W for the dataset loaded here: print the intercept and the slope separately and specify which is which.\n"
   ]
  },
  {
   "cell_type": "code",
   "execution_count": null,
   "metadata": {
    "collapsed": false
   },
   "outputs": [],
   "source": [
    "from numpy.linalg import inv\n",
    "\n",
    "def my_OLS(X,Y):\n",
    "### STUDENT ANSWER\n"
   ]
  },
  {
   "cell_type": "markdown",
   "metadata": {},
   "source": [
    "### 9- [1pt] Use the W vector you just obtained to predict the activity for new stimulus \n",
    "\n",
    "\n",
    "Using the model predicted above in W, give your best prediction about how the signal would look like in that hypothetical voxel:\n",
    "- In the cell below, we convolved the new stimulus variable with hrf_2\n",
    "- We defined the variable new_X by concatenating a vector of ones with the new convolved stimulus.\n",
    "- Use the model W to predict the activity corresponding to the new stimulus: new_Y\n",
    "- use the stim_resp_plot function to plot the stimulus with your predicted response"
   ]
  },
  {
   "cell_type": "code",
   "execution_count": null,
   "metadata": {
    "collapsed": false
   },
   "outputs": [],
   "source": [
    "new_stimulus_times = [10,20,30,32,34,36,38,40,70]\n",
    "new_t = np.arange(120)\n",
    "new_stimulus = np.zeros((120))\n",
    "new_stimulus[new_stimulus_times] = 1\n",
    "new_conv_stimulus = np.convolve(new_stimulus, hrf_2)[:120]\n",
    "new_X = np.vstack([np.ones_like(new_conv_stimulus),new_conv_stimulus]).T\n",
    "\n",
    "### STUDENT ANSWER\n"
   ]
  },
  {
   "cell_type": "markdown",
   "metadata": {
    "collapsed": true,
    "deletable": true,
    "editable": true
   },
   "source": [
    "### 10- [1pt] Explain an xkcd comic\n",
    "\n",
    "- read the following xkcd comic. It illustrates an attempt to fit a linear model to data and predict the value of the output at a specific point in time\n",
    "    - How many data points are used?\n",
    "    - What time point is predicted?\n",
    "- why is this comic funny? Or in other terms, why is the model inadequate?\n"
   ]
  },
  {
   "cell_type": "code",
   "execution_count": null,
   "metadata": {
    "collapsed": false
   },
   "outputs": [],
   "source": [
    "Image(url=\"https://imgs.xkcd.com/comics/extrapolating.png\")"
   ]
  },
  {
   "cell_type": "code",
   "execution_count": null,
   "metadata": {
    "collapsed": true,
    "deletable": true,
    "editable": true
   },
   "outputs": [],
   "source": [
    "### STUDENT ANSWER\n"
   ]
  }
 ],
 "metadata": {
  "kernelspec": {
   "display_name": "Python 3",
   "language": "python",
   "name": "python3"
  },
  "language_info": {
   "codemirror_mode": {
    "name": "ipython",
    "version": 3
   },
   "file_extension": ".py",
   "mimetype": "text/x-python",
   "name": "python",
   "nbconvert_exporter": "python",
   "pygments_lexer": "ipython3",
   "version": "3.5.2"
  }
 },
 "nbformat": 4,
 "nbformat_minor": 2
}
