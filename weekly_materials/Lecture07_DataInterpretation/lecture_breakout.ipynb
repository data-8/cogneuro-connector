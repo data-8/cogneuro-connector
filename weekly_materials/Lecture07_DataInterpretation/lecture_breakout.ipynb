{
 "cells": [
  {
   "cell_type": "markdown",
   "metadata": {
    "deletable": true,
    "editable": true
   },
   "source": [
    "# Overview\n",
    "\n",
    "For two weeks now, we have generated plots of brain data related to experimental events. Today we will revisit and expand upon those plots, and see what kind of inferences we can make about the brain. \n",
    "\n",
    "We will re-visit event-related averages in both fMRI and EEG data."
   ]
  },
  {
   "cell_type": "markdown",
   "metadata": {
    "deletable": true,
    "editable": true
   },
   "source": [
    "# Update neurods"
   ]
  },
  {
   "cell_type": "code",
   "execution_count": null,
   "metadata": {
    "collapsed": false,
    "deletable": true,
    "editable": true
   },
   "outputs": [],
   "source": [
    "# Only needs to be done once! Then you can skip this cell in future runs through notebook\n",
    "# by setting the statement here to False\n",
    "if False:\n",
    "    import neurods\n",
    "    neurods.io.update_neurods()"
   ]
  },
  {
   "cell_type": "code",
   "execution_count": null,
   "metadata": {
    "collapsed": false,
    "deletable": true,
    "editable": true
   },
   "outputs": [],
   "source": [
    "# imports\n",
    "import os\n",
    "import mne # for EEG data\n",
    "import neurods \n",
    "import cortex # for making brain plots\n",
    "import numpy as np\n",
    "from scipy.stats import zscore\n",
    "import matplotlib.pyplot as plt\n",
    "# New (to us) modules:\n",
    "import glob # for listing files in directories\n",
    "import json # for loading meta-data from structured text files"
   ]
  },
  {
   "cell_type": "code",
   "execution_count": null,
   "metadata": {
    "collapsed": true,
    "deletable": true,
    "editable": true
   },
   "outputs": [],
   "source": [
    "%matplotlib inline\n",
    "%config InlineBackend.figure_format = 'retina'"
   ]
  },
  {
   "cell_type": "code",
   "execution_count": null,
   "metadata": {
    "collapsed": true,
    "deletable": true,
    "editable": true
   },
   "outputs": [],
   "source": [
    "# New functions\n",
    "#neurods.io.load_eeg_data?\n",
    "neurods.io.load_fmri_data?"
   ]
  },
  {
   "cell_type": "markdown",
   "metadata": {
    "deletable": true,
    "editable": true
   },
   "source": [
    "# fMRI event-related averages"
   ]
  },
  {
   "cell_type": "code",
   "execution_count": null,
   "metadata": {
    "collapsed": false,
    "deletable": true,
    "editable": true
   },
   "outputs": [],
   "source": [
    "# Specify data files\n",
    "fmri_files1 = ['s01_categories_{:02d}.nii.gz'.format(run) for run in [1,2,3]]\n",
    "fmri_files1 = [os.path.join(neurods.io.data_list['fmri'], 'categories', f) for f in fmri_files1]\n",
    "fmri_design_file = os.path.join(neurods.io.data_list['fmri'], 'categories', 'experiment_design.npz')\n",
    "fmri_files2 = ['s01_motorloc.nii.gz']\n"
   ]
  },
  {
   "cell_type": "code",
   "execution_count": null,
   "metadata": {
    "collapsed": false,
    "deletable": true,
    "editable": true
   },
   "outputs": [],
   "source": [
    "# Get data\n",
    "sub, xfm = 's01', 'catloc'\n",
    "cortical_voxels = cortex.db.get_mask(sub, xfm, type='cortical')\n",
    "fdata = neurods.io.load_fmri_data(fmri_files1[0], mask=cortical_voxels, do_zscore=True, dtype=np.float32)\n",
    "# Get experiment design\n",
    "design = np.load(fmri_design_file)\n",
    "condition_names = design['conditions'].tolist()\n",
    "print(condition_names)"
   ]
  },
  {
   "cell_type": "code",
   "execution_count": null,
   "metadata": {
    "collapsed": false,
    "deletable": true,
    "editable": true
   },
   "outputs": [],
   "source": [
    "# Count the voxels in the cortical mask\n",
    "cortical_voxels.sum()"
   ]
  },
  {
   "cell_type": "code",
   "execution_count": null,
   "metadata": {
    "collapsed": false,
    "deletable": true,
    "editable": true,
    "scrolled": true
   },
   "outputs": [],
   "source": [
    "# examine the data\n",
    "fdata.shape"
   ]
  },
  {
   "cell_type": "code",
   "execution_count": null,
   "metadata": {
    "collapsed": false,
    "deletable": true,
    "editable": true
   },
   "outputs": [],
   "source": [
    "design['run1'].shape"
   ]
  },
  {
   "cell_type": "code",
   "execution_count": null,
   "metadata": {
    "collapsed": false,
    "deletable": true,
    "editable": true
   },
   "outputs": [],
   "source": [
    "# Set up variable to store condition average(s)\n",
    "cond_avg_data = dict()\n",
    "cond_avg_vols = dict()\n",
    "# Some housekeeping\n",
    "event_duration = 10\n",
    "cond_num = 0\n",
    "cond_name = 'body'\n",
    "# Get onset indices\n",
    "cond_bool = design['run1'][:, cond_num]\n",
    "onset_indices = neurods.utils.get_onsets(cond_bool)\n",
    "print(onset_indices)\n",
    "tmp = []\n",
    "for oi in onset_indices:\n",
    "    tmp.append(fdata[oi:oi+event_duration, :])\n",
    "tmp = np.array(tmp)\n",
    "print('tmp variable shape:')\n",
    "print(tmp.shape)\n",
    "\n",
    "tmp = np.mean(tmp, axis=0)\n",
    "# Create pycortex object for volume movie\n",
    "cond_avg_data[cond_name] = tmp\n",
    "cond_avg_vols[cond_name] = cortex.Volume(tmp, sub, xfm, vmin=-3, vmax=3, cmap='RdBu_r', mask=cortical_voxels)\n",
    "print('mean response to {}: '.format(cond_name), tmp.shape)\n",
    "del tmp"
   ]
  },
  {
   "cell_type": "code",
   "execution_count": null,
   "metadata": {
    "collapsed": false,
    "deletable": true,
    "editable": true
   },
   "outputs": [],
   "source": [
    "cond_avg_vols"
   ]
  },
  {
   "cell_type": "code",
   "execution_count": null,
   "metadata": {
    "collapsed": false,
    "deletable": true,
    "editable": true
   },
   "outputs": [],
   "source": [
    "cortex.webgl.show(cond_avg_vols)"
   ]
  },
  {
   "cell_type": "markdown",
   "metadata": {
    "deletable": true,
    "editable": true
   },
   "source": [
    "# Let's do this for all the conditions!"
   ]
  },
  {
   "cell_type": "code",
   "execution_count": null,
   "metadata": {
    "collapsed": false,
    "deletable": true,
    "editable": true
   },
   "outputs": [],
   "source": [
    "### STUDENT ANSWER\n",
    "# Set up variable to store condition average(s)\n",
    "cond_avg_data = dict()\n",
    "cond_avg_vols = dict()\n",
    "# Some housekeeping\n",
    "event_duration = 10\n",
    "n_conditions = len(condition_names)\n",
    "for cond_num in range(n_conditions):\n",
    "    cond_name = condition_names[cond_num]\n",
    "    # Get onset indices\n",
    "    cond_bool = design['run1'][:, cond_num]\n",
    "    onset_indices = neurods.utils.get_onsets(cond_bool)\n",
    "    #print(onset_indices)\n",
    "    tmp = []\n",
    "    for oi in onset_indices:\n",
    "        tmp.append(fdata[oi:oi+event_duration, :])\n",
    "    tmp = np.array(tmp)\n",
    "    #print('tmp variable shape:')\n",
    "    #print(tmp.shape)\n",
    "\n",
    "    tmp = np.mean(tmp, axis=0)\n",
    "    # Create pycortex object for volume movie\n",
    "    cond_avg_data[cond_name] = tmp\n",
    "    cond_avg_vols[cond_name] = cortex.Volume(tmp, sub, xfm, vmin=-3, vmax=3, cmap='RdBu_r', mask=cortical_voxels)\n",
    "    print('mean response to {}: '.format(cond_name), tmp.shape)\n",
    "    del tmp"
   ]
  },
  {
   "cell_type": "code",
   "execution_count": null,
   "metadata": {
    "collapsed": false,
    "deletable": true,
    "editable": true
   },
   "outputs": [],
   "source": [
    "cortex.webgl.show(cond_avg_vols)"
   ]
  },
  {
   "cell_type": "markdown",
   "metadata": {
    "deletable": true,
    "editable": true
   },
   "source": [
    "# How would we go about doing this for ALL the data?\n",
    "Implement these averages with **ALL THE DATA** available (3 runs). "
   ]
  },
  {
   "cell_type": "code",
   "execution_count": null,
   "metadata": {
    "collapsed": false
   },
   "outputs": [],
   "source": [
    "fmri_files1"
   ]
  },
  {
   "cell_type": "code",
   "execution_count": null,
   "metadata": {
    "collapsed": true
   },
   "outputs": [],
   "source": [
    "wtf = [design[run] for run in ['run1', 'run2', 'run3']]"
   ]
  },
  {
   "cell_type": "code",
   "execution_count": null,
   "metadata": {
    "collapsed": false
   },
   "outputs": [],
   "source": [
    "wtf[2].shape"
   ]
  },
  {
   "cell_type": "code",
   "execution_count": null,
   "metadata": {
    "collapsed": false,
    "deletable": true,
    "editable": true
   },
   "outputs": [],
   "source": [
    "### STUDENT ANSWER\n",
    "data_full = neurods.io.load_fmri_data(*fmri_files1, mask=cortical_voxels,\n",
    "                                     do_zscore=True, dtype=np.float32)\n",
    "print(\"Full data shape: \", data_full.shape)\n",
    "design_full = np.vstack([design[run] for run in ['run1', 'run2', 'run3']])\n",
    "print(\"Full design shape: \", design_full.shape)"
   ]
  },
  {
   "cell_type": "code",
   "execution_count": null,
   "metadata": {
    "collapsed": false,
    "deletable": true,
    "editable": true
   },
   "outputs": [],
   "source": [
    "### STUDENT ANSWER\n",
    "### STUDENT ANSWER\n",
    "# Set up variable to store condition average(s)\n",
    "cond_avg_data = dict()\n",
    "cond_avg_vols = dict()\n",
    "# Some housekeeping\n",
    "event_duration = 10\n",
    "n_conditions = len(condition_names)\n",
    "for cond_num in range(n_conditions):\n",
    "    cond_name = condition_names[cond_num]\n",
    "    # Get onset indices\n",
    "    cond_bool = design_full[:, cond_num]\n",
    "    onset_indices = neurods.utils.get_onsets(cond_bool)\n",
    "    print(onset_indices)\n",
    "    tmp = []\n",
    "    for oi in onset_indices:\n",
    "        tmp.append(data_full[oi:oi+event_duration, :])\n",
    "    tmp = np.array(tmp)\n",
    "    print('Concatenated tmp variable shape:')\n",
    "    print(tmp.shape)\n",
    "\n",
    "    tmp = np.mean(tmp, axis=0)\n",
    "    # Create pycortex object for volume movie\n",
    "    cond_avg_data[cond_name] = tmp\n",
    "    cond_avg_vols[cond_name] = cortex.Volume(tmp, sub, xfm, vmin=-3, vmax=3, cmap='RdBu_r', mask=cortical_voxels)\n",
    "    print('mean response to {}: '.format(cond_name), tmp.shape)\n",
    "    del tmp"
   ]
  },
  {
   "cell_type": "code",
   "execution_count": null,
   "metadata": {
    "collapsed": false
   },
   "outputs": [],
   "source": [
    "cortex.webgl.show(cond_avg_vols)"
   ]
  },
  {
   "cell_type": "markdown",
   "metadata": {
    "deletable": true,
    "editable": true
   },
   "source": [
    "# Let's look at a mid-event response (the 5th TR)"
   ]
  },
  {
   "cell_type": "code",
   "execution_count": null,
   "metadata": {
    "collapsed": false,
    "deletable": true,
    "editable": true
   },
   "outputs": [],
   "source": [
    "# Show 5th TR for each\n",
    "tr = 4\n",
    "tr5_volumes = dict()\n",
    "for cond_name in condition_names:\n",
    "    tr5_volumes[cond_name] = cortex.Volume(cond_avg_data[cond_name][tr,:], sub, xfm, \n",
    "                                            vmin=-3, vmax=3, cmap='RdBu_r', mask=cortical_voxels)\n",
    "cortex.webgl.show(tr5_volumes)"
   ]
  },
  {
   "cell_type": "markdown",
   "metadata": {
    "deletable": true,
    "editable": true
   },
   "source": [
    "> Breakout session\n",
    "* Are you happy with looking at the 5th TR? Can you think of a better way to compress the timecourse down to a single volume?\n",
    "* What do these event related avarages tell you? \n",
    "* What else do you want to know to help you interpret the data? (make a list!)"
   ]
  },
  {
   "cell_type": "code",
   "execution_count": null,
   "metadata": {
    "collapsed": true,
    "deletable": true,
    "editable": true
   },
   "outputs": [],
   "source": [
    "# More exploratory analyses!"
   ]
  },
  {
   "cell_type": "code",
   "execution_count": null,
   "metadata": {
    "collapsed": true,
    "deletable": true,
    "editable": true
   },
   "outputs": [],
   "source": []
  },
  {
   "cell_type": "code",
   "execution_count": null,
   "metadata": {
    "collapsed": true,
    "deletable": true,
    "editable": true
   },
   "outputs": [],
   "source": []
  },
  {
   "cell_type": "markdown",
   "metadata": {
    "deletable": true,
    "editable": true
   },
   "source": [
    "# EEG event-related averages"
   ]
  },
  {
   "cell_type": "code",
   "execution_count": null,
   "metadata": {
    "collapsed": true
   },
   "outputs": [],
   "source": [
    "neurods.io.load_eeg_data?"
   ]
  },
  {
   "cell_type": "code",
   "execution_count": null,
   "metadata": {
    "collapsed": false,
    "deletable": true,
    "editable": true
   },
   "outputs": [],
   "source": [
    "subject, session = 8, 1\n",
    "fdir = os.path.join(neurods.io.data_list['eeg'], 'epfl_p300', 'subject{}', 'session{}').format(subject, session)\n",
    "# Load data from file\n",
    "edatafile = os.path.join(fdir, 'eeg_run06-raw.fif')\n",
    "times, edata = neurods.io.load_eeg_data(edatafile, return_mne=False)\n",
    "# Load events from file\n",
    "eeventfile = os.path.join(fdir, 'events_run06-eve.txt')\n",
    "events = mne.read_events(eeventfile)"
   ]
  },
  {
   "cell_type": "code",
   "execution_count": null,
   "metadata": {
    "collapsed": false
   },
   "outputs": [],
   "source": [
    "edata.shape"
   ]
  },
  {
   "cell_type": "code",
   "execution_count": null,
   "metadata": {
    "collapsed": false
   },
   "outputs": [],
   "source": [
    "events.shape"
   ]
  },
  {
   "cell_type": "code",
   "execution_count": null,
   "metadata": {
    "collapsed": false,
    "deletable": true,
    "editable": true
   },
   "outputs": [],
   "source": [
    "# Relevant information\n",
    "sfreq = 2048.\n",
    "tmin = -0.1\n",
    "tmax = 0.6\n",
    "n_conditions = 6\n",
    "cond_epochs = [[] for x in range(n_conditions)] \n",
    "\n",
    "for cond in range(n_conditions):\n",
    "    # Columns in events are [onset_indices, <blank>, condition_number]\n",
    "    # Select event indices in condition 1\n",
    "    cond_idx = events[:, 2]==(cond+1)\n",
    "    onsets = events[cond_idx, 0]    \n",
    "    for onset in onsets:\n",
    "        # Find indices for start and stop of conditions, given \n",
    "        imin = onset + int(tmin*sfreq) \n",
    "        imax = onset + int(tmax*sfreq) \n",
    "        data_slice = edata[:, imin:imax]\n",
    "        data_slice = zscore(data_slice, axis=1)\n",
    "        cond_epochs[cond].append(data_slice)\n",
    "    cond_epochs[cond] = np.array(cond_epochs[cond])"
   ]
  },
  {
   "cell_type": "code",
   "execution_count": null,
   "metadata": {
    "collapsed": false
   },
   "outputs": [],
   "source": [
    "cond_epochs[0].shape"
   ]
  },
  {
   "cell_type": "code",
   "execution_count": null,
   "metadata": {
    "collapsed": false,
    "deletable": true,
    "editable": true
   },
   "outputs": [],
   "source": [
    "### STUDENT ANSWER\n"
   ]
  },
  {
   "cell_type": "code",
   "execution_count": null,
   "metadata": {
    "collapsed": false
   },
   "outputs": [],
   "source": [
    "print(tmp.shape)\n",
    "print(tmp.mean(0).shape)\n",
    "print(tmp.mean(0).mean(0).shape)"
   ]
  },
  {
   "cell_type": "code",
   "execution_count": null,
   "metadata": {
    "collapsed": false,
    "deletable": true,
    "editable": true
   },
   "outputs": [],
   "source": [
    "event_time = np.linspace(-0.1, 0.6, cond_epochs[0].shape[-1])\n",
    "for cond in range(6):\n",
    "    tmp = cond_epochs[cond]\n",
    "    event_electrode_avg = tmp.mean(0).mean(0)\n",
    "    plt.plot(event_time, event_electrode_avg, label='cond %d'%(cond+1))\n",
    "_ = plt.legend()"
   ]
  },
  {
   "cell_type": "code",
   "execution_count": null,
   "metadata": {
    "collapsed": true,
    "deletable": true,
    "editable": true
   },
   "outputs": [],
   "source": [
    "### STUDENT ANSWER\n",
    "# Relevant information\n",
    "sfreq = 2048.\n",
    "tmin = -0.1\n",
    "tmax = 0.6\n",
    "n_conditions = 6\n",
    "cond_epochs = [[] for x in range(n_conditions)] \n",
    "\n",
    "for cond in range(n_conditions):\n",
    "    # Columns in events are [onset_indices, <blank>, condition_number]\n",
    "    # Select event indices in condition 1\n",
    "    cond_idx = events[:, 2]==(cond+1)\n",
    "    onsets = events[cond_idx, 0][:-1]\n",
    "    cond_epochs[cond], etimes  = neurods.utils.extract_epochs(edata, \n",
    "        onsets, tmin=-0.1, tmax=0.6, baseline_type='mean',)"
   ]
  },
  {
   "cell_type": "code",
   "execution_count": null,
   "metadata": {
    "collapsed": false,
    "deletable": true,
    "editable": true
   },
   "outputs": [],
   "source": [
    "event_time = np.linspace(-0.1, 0.6, cond_epochs[0].shape[-1])\n",
    "for cond in range(6):\n",
    "    tmp = cond_epochs[cond]\n",
    "    event_electrode_avg = tmp.mean(0).mean(0)\n",
    "    plt.plot(event_time, event_electrode_avg, label='cond %d'%(cond+1))\n",
    "plt.xlabel('Time (s)')\n",
    "plt.ylabel('Mean EEG activity')\n",
    "_ = plt.legend()"
   ]
  },
  {
   "cell_type": "markdown",
   "metadata": {
    "deletable": true,
    "editable": true
   },
   "source": [
    "# But! We know more about this data than just condition names!\n",
    "One image per run was a *target* - the subjects had to count how many times it apppeared. Did that affect the response to that image?"
   ]
  },
  {
   "cell_type": "code",
   "execution_count": null,
   "metadata": {
    "collapsed": true
   },
   "outputs": [],
   "source": [
    "# Note: %load magic function just shows you the contents of a text file, by loading that\n",
    "# file into the cell"
   ]
  },
  {
   "cell_type": "code",
   "execution_count": null,
   "metadata": {
    "collapsed": false
   },
   "outputs": [],
   "source": [
    "# %load /data/shared/cogneuro88/eeg/epfl_p300/subject8/session1/metadata_run06.json\n",
    "{\"target\": 5, \"event_id\": {\"radio\": 6, \"tv\": 1, \"window\": 5, \"door\": 4, \"phone\": 2, \"light\": 3}}"
   ]
  },
  {
   "cell_type": "code",
   "execution_count": null,
   "metadata": {
    "collapsed": false
   },
   "outputs": [],
   "source": [
    "metafile"
   ]
  },
  {
   "cell_type": "code",
   "execution_count": null,
   "metadata": {
    "collapsed": false,
    "deletable": true,
    "editable": true
   },
   "outputs": [],
   "source": [
    "# Load meta-data about experiment\n",
    "metafile = os.path.join(fdir, 'metadata_run06.json')\n",
    "metadata = json.load(open(metafile))\n",
    "print(metadata)"
   ]
  },
  {
   "cell_type": "markdown",
   "metadata": {},
   "source": [
    "Subjects were attending to - i.e., watching for - the appearance of condition 6 (which, as the other part of the meta-data tells us, was a picture of a radio)"
   ]
  },
  {
   "cell_type": "code",
   "execution_count": null,
   "metadata": {
    "collapsed": false,
    "deletable": true,
    "editable": true
   },
   "outputs": [],
   "source": [
    "# Find out which image was the target\n",
    "target = metadata['target']\n",
    "# Relevant information\n",
    "sfreq = 2048.\n",
    "tmin = -0.1\n",
    "tmax = 0.6\n",
    "n_conditions = 6\n",
    "cond_epochs = [[] for x in range(n_conditions)] \n",
    "targets = []\n",
    "not_targets = []\n",
    "for cond in range(n_conditions):\n",
    "    # Columns in events are [onset_indices, <blank>, condition_number]\n",
    "    # Select event indices in condition 1\n",
    "    cond_idx = events[:, 2]==(cond+1)\n",
    "    onsets = events[cond_idx, 0][:-1]\n",
    "    tmp, etimes  = neurods.utils.extract_epochs(edata, onsets, tmin=-0.1, tmax=0.6, \n",
    "                                                baseline_type='mean', baseline_times=(None, 0), sfreq=2048.)\n",
    "    if (cond+1)==target:\n",
    "        targets.append(tmp)\n",
    "    else:\n",
    "        not_targets.append(tmp)"
   ]
  },
  {
   "cell_type": "markdown",
   "metadata": {},
   "source": [
    "Some checking up on the variables we have created:"
   ]
  },
  {
   "cell_type": "code",
   "execution_count": null,
   "metadata": {
    "collapsed": false
   },
   "outputs": [],
   "source": [
    "len(targets)"
   ]
  },
  {
   "cell_type": "code",
   "execution_count": null,
   "metadata": {
    "collapsed": false
   },
   "outputs": [],
   "source": [
    "len(not_targets)"
   ]
  },
  {
   "cell_type": "code",
   "execution_count": null,
   "metadata": {
    "collapsed": false,
    "deletable": true,
    "editable": true
   },
   "outputs": [],
   "source": [
    "print(targets[0].shape)"
   ]
  },
  {
   "cell_type": "code",
   "execution_count": null,
   "metadata": {
    "collapsed": false
   },
   "outputs": [],
   "source": [
    "not_targets[0].shape"
   ]
  },
  {
   "cell_type": "markdown",
   "metadata": {},
   "source": [
    "The above outputs are sensible, because all elements of the `targets` and `not_targets` lists should be arrays of the same size - (repeats x electrodes x time)"
   ]
  },
  {
   "cell_type": "code",
   "execution_count": null,
   "metadata": {
    "collapsed": true
   },
   "outputs": [],
   "source": [
    "# Concatenate images that were NOT a target, and images that were the target\n",
    "not_targets = np.vstack(not_targets)\n",
    "targets = np.vstack(targets)"
   ]
  },
  {
   "cell_type": "code",
   "execution_count": null,
   "metadata": {
    "collapsed": false
   },
   "outputs": [],
   "source": [
    "# There are 5 images that weren't the target, and only one image that was the target\n",
    "print('Shape of `targets` array:', targets.shape)\n",
    "print('Shape of `not_targets` array:', not_targets.shape)"
   ]
  },
  {
   "cell_type": "code",
   "execution_count": null,
   "metadata": {
    "collapsed": false,
    "deletable": true,
    "editable": true
   },
   "outputs": [],
   "source": [
    "# Plot both\n",
    "plt.plot(etimes, targets.mean(0).mean(0), color='r', lw=2, label='Targets')\n",
    "plt.plot(etimes, not_targets.mean(0).mean(0), color='k', lw=2, label='Not targets')\n",
    "plt.legend()"
   ]
  },
  {
   "cell_type": "markdown",
   "metadata": {},
   "source": [
    "Note that the above plot is not really a fair comparison, because one condition (one image) was the target, and other images were the non-targets. What if the image in the target condition simply elicited a bigger response? Then we might mistake a large response to this specific image for a large response to a target of attention! (Maybe there is no effect of attention at all!) \n",
    "To test this possibility, we have to examine the response to EACH image as a target, and also as a \"not target\" (a distractor). That is what the cell below computes."
   ]
  },
  {
   "cell_type": "markdown",
   "metadata": {
    "deletable": true,
    "editable": true
   },
   "source": [
    "# Now we go nuts, and compute the same thing for many runs, with each image used in turn as a target"
   ]
  },
  {
   "cell_type": "code",
   "execution_count": null,
   "metadata": {
    "collapsed": false,
    "deletable": true,
    "editable": true
   },
   "outputs": [],
   "source": [
    "# Basic data paths\n",
    "subject = 8 # 1-2 or 8 (9 total, not all downloaded...)\n",
    "\n",
    "image_as_target1 = {}\n",
    "image_not_target1 = {}\n",
    "\n",
    "\n",
    "session = 1 # 1-4\n",
    "base_path = os.path.join(neurods.io.data_list['eeg'],\n",
    "            'epfl_p300/subject{}/session{}/').format(subject, session)\n",
    "datafiles = sorted(glob.glob(os.path.join(base_path, '*fif')))\n",
    "eventfiles = sorted(glob.glob(os.path.join(base_path, '*txt')))\n",
    "metafiles = sorted(glob.glob(os.path.join(base_path, '*json')))\n",
    "\n",
    "for fdata, fevent, fmeta in zip(datafiles, eventfiles, metafiles):\n",
    "    dtimes, data = neurods.io.load_eeg_data(fdata, return_mne=False)\n",
    "    events = mne.read_events(fevent)\n",
    "    meta = json.load(open(fmeta, mode='r'))\n",
    "    target = meta['target']\n",
    "    print('Target is: ',target)\n",
    "    for cond in sorted(meta['event_id'].values()):\n",
    "        cond_idx = events[:,2]==cond\n",
    "        onset_indices = events[cond_idx, 0]\n",
    "        print('sum= {}, {} indices; first index is {}'.format(cond_idx.sum(), onset_indices[:-1].shape, onset_indices[0]))\n",
    "        epochs_tmp, times = neurods.utils.extract_epochs(data, onset_indices[:-1], is_verbose=False)\n",
    "        if cond == target:\n",
    "            if cond not in image_as_target1:\n",
    "                image_as_target1[cond] = epochs_tmp\n",
    "            else:\n",
    "                image_as_target1[cond] = np.vstack([image_as_target1[cond], epochs_tmp])\n",
    "        else:\n",
    "            if cond not in image_not_target1:\n",
    "                image_not_target1[cond] = epochs_tmp\n",
    "            else:\n",
    "                image_not_target1[cond] = np.vstack([image_not_target1[cond], epochs_tmp])"
   ]
  },
  {
   "cell_type": "code",
   "execution_count": null,
   "metadata": {
    "collapsed": false,
    "deletable": true,
    "editable": true
   },
   "outputs": [],
   "source": [
    "image_as_target1.keys()"
   ]
  },
  {
   "cell_type": "code",
   "execution_count": null,
   "metadata": {
    "collapsed": false,
    "deletable": true,
    "editable": true
   },
   "outputs": [],
   "source": [
    "image_as_target1[1].shape"
   ]
  },
  {
   "cell_type": "markdown",
   "metadata": {
    "deletable": true,
    "editable": true
   },
   "source": [
    "# Compute event-related averages for all images, for all runs"
   ]
  },
  {
   "cell_type": "code",
   "execution_count": null,
   "metadata": {
    "collapsed": false,
    "deletable": true,
    "editable": true
   },
   "outputs": [],
   "source": [
    "fig, axs = plt.subplots(3, 2, figsize=(8,8), sharey=True, sharex=True)\n",
    "for ii, ax in enumerate(axs.flatten(), 1):\n",
    "    # average over repeats, average over electrodes\n",
    "    ax.plot(times, image_as_target1[ii].mean(0).mean(0), lw=2, color='red', label='Target')\n",
    "    ax.plot(times, image_not_target1[ii].mean(0).mean(0), lw=2, color='gray', label='Distractor')\n",
    "    stim_onset = 0\n",
    "    p300 = 0.3\n",
    "    ax.vlines([stim_onset, p300], *ax.get_ylim(), colors='y', linestyle='--')\n",
    "    ax.legend(frameon=False, ncol=2)"
   ]
  },
  {
   "cell_type": "markdown",
   "metadata": {
    "deletable": true,
    "editable": true
   },
   "source": [
    "# Questions for the rest of the class:"
   ]
  },
  {
   "cell_type": "markdown",
   "metadata": {},
   "source": [
    "* Are responses to different kinds of events (different conditions) reliably different? (in time, in space)\n",
    "* How can we assess how reliable a difference between conditions is?\n",
    "* "
   ]
  },
  {
   "cell_type": "code",
   "execution_count": null,
   "metadata": {
    "collapsed": false,
    "deletable": true,
    "editable": true
   },
   "outputs": [],
   "source": [
    "### STUDENT ANSWER\n"
   ]
  },
  {
   "cell_type": "code",
   "execution_count": null,
   "metadata": {
    "collapsed": true,
    "deletable": true,
    "editable": true
   },
   "outputs": [],
   "source": []
  },
  {
   "cell_type": "code",
   "execution_count": null,
   "metadata": {
    "collapsed": true,
    "deletable": true,
    "editable": true
   },
   "outputs": [],
   "source": []
  },
  {
   "cell_type": "markdown",
   "metadata": {
    "deletable": true,
    "editable": true
   },
   "source": [
    "# Sample test questions\n",
    "What are the following two variables? Find out as much as you can about them!"
   ]
  },
  {
   "cell_type": "markdown",
   "metadata": {
    "deletable": true,
    "editable": true
   },
   "source": [
    "This is a 2D array, and all you know about it is that it's called \"events\". What is this likely to be?"
   ]
  },
  {
   "cell_type": "code",
   "execution_count": null,
   "metadata": {
    "collapsed": false,
    "deletable": true,
    "editable": true
   },
   "outputs": [],
   "source": [
    "# File 1 (\"events\" variable)\n",
    "d1_url = 'https://www.dropbox.com/s/w8pu4ph5qon3yhq/events.npz'\n",
    "d1_fname = 'events.npz'\n",
    "if not os.path.exists(d1_fname):\n",
    "    neurods.io.download_file(d1_url, d1_fname, root_destination=os.path.abspath(os.curdir))\n",
    "mdata1 = np.load(d1_fname)['events']\n",
    "# WHO AM I??\n",
    "mdata1.shape"
   ]
  },
  {
   "cell_type": "code",
   "execution_count": null,
   "metadata": {
    "collapsed": true,
    "deletable": true,
    "editable": true
   },
   "outputs": [],
   "source": [
    "### STUDENT ANSWER\n"
   ]
  },
  {
   "cell_type": "markdown",
   "metadata": {
    "deletable": true,
    "editable": true
   },
   "source": [
    "This is obviously brain data of some kind - what is it? Which dimension is which? How can you find out?"
   ]
  },
  {
   "cell_type": "code",
   "execution_count": null,
   "metadata": {
    "collapsed": true
   },
   "outputs": [],
   "source": [
    "import nibabel"
   ]
  },
  {
   "cell_type": "code",
   "execution_count": null,
   "metadata": {
    "collapsed": false,
    "deletable": true,
    "editable": true
   },
   "outputs": [],
   "source": [
    "# File 2 (mystery brain data)\n",
    "d2_url = 'https://www.dropbox.com/s/o8e9ko9zik6upvn/mystery.nii.gz'\n",
    "d2_fname = 'mystery.nii.gz'\n",
    "if not os.path.exists(d2_fname):\n",
    "    neurods.io.download_file(d2_url, d2_fname, root_destination=os.path.abspath(os.curdir))\n",
    "niix = nibabel.load(d2_fname)\n",
    "# WHO AM I??\n",
    "mdata2 = niix.get_data()"
   ]
  },
  {
   "cell_type": "code",
   "execution_count": null,
   "metadata": {
    "collapsed": false,
    "deletable": true,
    "editable": true
   },
   "outputs": [],
   "source": [
    "### STUDENT ANSWER\n",
    "mdata2.shape"
   ]
  },
  {
   "cell_type": "markdown",
   "metadata": {
    "deletable": true,
    "editable": true
   },
   "source": [
    "# Fix the following plots:"
   ]
  },
  {
   "cell_type": "code",
   "execution_count": null,
   "metadata": {
    "collapsed": false,
    "deletable": true,
    "editable": true
   },
   "outputs": [],
   "source": [
    "# Make this more informative\n",
    "data = np.random.randn(100,10)\n",
    "_ = plt.hist(data)"
   ]
  },
  {
   "cell_type": "code",
   "execution_count": null,
   "metadata": {
    "collapsed": true,
    "deletable": true,
    "editable": true
   },
   "outputs": [],
   "source": [
    "# Run this cell first. No fair changing this!\n",
    "rdata2 = np.random.rand(100,100)\n",
    "rdata2[3,4] = 25"
   ]
  },
  {
   "cell_type": "code",
   "execution_count": null,
   "metadata": {
    "collapsed": false,
    "deletable": true,
    "editable": true
   },
   "outputs": [],
   "source": [
    "# Make this a more informative plot\n",
    "plt.imshow(rdata2, interpolation='nearest')"
   ]
  },
  {
   "cell_type": "code",
   "execution_count": null,
   "metadata": {
    "collapsed": true
   },
   "outputs": [],
   "source": []
  }
 ],
 "metadata": {
  "kernelspec": {
   "display_name": "Python [py35]",
   "language": "python",
   "name": "Python [py35]"
  },
  "language_info": {
   "codemirror_mode": {
    "name": "ipython",
    "version": 3
   },
   "file_extension": ".py",
   "mimetype": "text/x-python",
   "name": "python",
   "nbconvert_exporter": "python",
   "pygments_lexer": "ipython3",
   "version": "3.5.2"
  }
 },
 "nbformat": 4,
 "nbformat_minor": 0
}
