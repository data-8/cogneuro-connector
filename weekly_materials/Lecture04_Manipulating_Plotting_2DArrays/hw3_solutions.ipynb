{
 "cells": [
  {
   "cell_type": "markdown",
   "metadata": {},
   "source": [
    "# Homework 3\n",
    "\n",
    "In this week's homework we will be covering manipulation and visualization of 1-D and 2-D arrays. You will create a 1-D time series, and look at its summary statistics. You will also create your own 2-D color image, and finally analyze some 2-D fMRI data.\n",
    "\n",
    "**Note:** Evaluate the following three cells to get everything set up. In case your kernel crashes, make sure to close all other notebooks on your datahub server, which you can find in the `Running` tab of your data hub. Let us know if you need help with this.\n",
    "\n",
    "**Note:** Make sure to evaluate the available OK cells to make sure that you have stored all the results in the correct names!"
   ]
  },
  {
   "cell_type": "code",
   "execution_count": null,
   "metadata": {},
   "outputs": [],
   "source": [
    "# Don't change this cell; just run it. \n",
    "# The result will give you directions about how to log in to the submission system, called OK.\n",
    "# Once you're logged in, you can run this cell again, but it won't ask you who you are because\n",
    "# it remembers you. However, you will need to log in once per assignment.\n",
    "from client.api.notebook import Notebook\n",
    "ok = Notebook('hw3.ok')\n",
    "#_ = ok.auth(inline=True)"
   ]
  },
  {
   "cell_type": "code",
   "execution_count": null,
   "metadata": {},
   "outputs": [],
   "source": [
    "import numpy as np\n",
    "import matplotlib.pyplot as plt\n",
    "%matplotlib inline\n",
    "\n",
    "import nibabel"
   ]
  },
  {
   "cell_type": "code",
   "execution_count": null,
   "metadata": {},
   "outputs": [],
   "source": [
    "img = nibabel.load(\"/data/cogneuro/fMRI/motor/s01_motorloc.nii.gz\")\n",
    "data = img.get_data().T\n",
    "ni_array_1 = data.transpose(1, 2, 3, 0)[:, 20, 20, :].T\n",
    "ni_array_2 = data.transpose(2, 3, 0, 1).mean(2)[:, 50, :]\n",
    "ni_array_3 = data.transpose(3, 0, 1, 2).mean(1)[:, :, 25]\n",
    "ni_array_4 = data.transpose(0, 1, 2, 3).mean(0)[20, :, :]\n"
   ]
  },
  {
   "cell_type": "markdown",
   "metadata": {},
   "source": [
    "**1\\. Working with 1D and 2D arrays.**\n",
    "\n",
    "The goal of this exercise is to become more familiar with how `np.reshape` works and how sometimes different arrays use the same data. You will end up creating two time series, which you will then stack together. After that you will compute both of their means using the `np.mean` command with the appropriate `axis`. \n",
    "\n"
   ]
  },
  {
   "cell_type": "markdown",
   "metadata": {},
   "source": [
    "**(a)** [0.5pts] Create a 1-D array of zeros of length 100 and name it `timeseries1`. Reshape `timeseries1` into a 2-D array of shape `(10, 10)`. Call the result `square1`."
   ]
  },
  {
   "cell_type": "code",
   "execution_count": null,
   "metadata": {},
   "outputs": [],
   "source": [
    "## (a)\n",
    "\n",
    "timeseries1 = np.zeros(100)\n",
    "square1 = timeseries1.reshape(10, 10)"
   ]
  },
  {
   "cell_type": "code",
   "execution_count": null,
   "metadata": {},
   "outputs": [],
   "source": [
    "# This check is to ensure that you have correctly filled the variables required for autograding\n",
    "ok.grade('q3_1a')"
   ]
  },
  {
   "cell_type": "code",
   "execution_count": null,
   "metadata": {},
   "outputs": [],
   "source": [
    "## This is for after the homework has been graded. \n",
    "## When the homework is graded, you will be able to uncomment this cell and run it to see\n",
    "## more details of the grading rubric.\n",
    "# ok.grade('q3_1a_full')"
   ]
  },
  {
   "cell_type": "markdown",
   "metadata": {},
   "source": [
    "**(b)**  [1pt] Set all the values of the second row of `square1` to 1. Create a figure named `fig_sq1_1` and use `plt.imshow` to visualize `square1`. Create a figure named `fig_ts1_1` of `figsize` `20, 2`. Plot `timeseries1` into it using `plt.plot`. Make sure to use the `'x-'` formatting as in the third lecture. Observe that the values of `timeseries1` have also changed."
   ]
  },
  {
   "cell_type": "code",
   "execution_count": null,
   "metadata": {},
   "outputs": [],
   "source": [
    "## (b)\n",
    "\n",
    "square1[1, :] = 1.\n",
    "\n",
    "fig_sq1_1 = plt.figure()\n",
    "plt.imshow(square1)\n",
    "\n",
    "fig_ts1_1 = plt.figure(figsize=(20, 2))\n",
    "plt.plot(timeseries1, 'x-')"
   ]
  },
  {
   "cell_type": "code",
   "execution_count": null,
   "metadata": {},
   "outputs": [],
   "source": [
    "# This check is to ensure that you have correctly filled the variables required for autograding\n",
    "ok.grade('q3_1b')"
   ]
  },
  {
   "cell_type": "code",
   "execution_count": null,
   "metadata": {},
   "outputs": [],
   "source": [
    "## This is for after the homework has been graded. \n",
    "# ok.grade('q3_1b_full')"
   ]
  },
  {
   "cell_type": "markdown",
   "metadata": {},
   "source": [
    "**(c)**  [1pt] Now set all the values of the first column of `square1` to 2, and visualize both `square1` and `timeseries1` in figures `fig_sq1_2` and `fig_ts1_2`, exactly the same way as you did in part **(b)**.  Next, set the bottom right quarter of `square1` to `-1` and visualize `square1` and `timeseries1` in figures `fig_sq1_3` and `fig_ts1_3` in the same way."
   ]
  },
  {
   "cell_type": "code",
   "execution_count": null,
   "metadata": {},
   "outputs": [],
   "source": [
    "## (c)\n",
    "\n",
    "square1[:, 0] = 2.\n",
    "\n",
    "fig_sq1_2 = plt.figure()\n",
    "plt.imshow(square1)\n",
    "\n",
    "fig_ts1_2 = plt.figure(figsize=(20, 2))\n",
    "plt.plot(timeseries1, 'x-')\n",
    "\n",
    "square1[5:, 5:] = -1.\n",
    "\n",
    "fig_sq1_3 = plt.figure()\n",
    "plt.imshow(square1)\n",
    "\n",
    "fig_ts1_3 = plt.figure(figsize=(20, 2))\n",
    "plt.plot(timeseries1, 'x-')"
   ]
  },
  {
   "cell_type": "code",
   "execution_count": null,
   "metadata": {},
   "outputs": [],
   "source": [
    "# This check is to ensure that you have correctly filled the variables required for autograding\n",
    "ok.grade('q3_1c')"
   ]
  },
  {
   "cell_type": "code",
   "execution_count": null,
   "metadata": {},
   "outputs": [],
   "source": [
    "## This is for after the homework has been graded. \n",
    "# ok.grade('q3_1c_full')"
   ]
  },
  {
   "cell_type": "markdown",
   "metadata": {},
   "source": [
    "**(d)** [1pt] Now let's add a second time series to obtain a collection of  \"voxel\" time series, which we can then visualize together with the first one. Create a random array using `np.random.rand` of the same size as `timeseries1`. Call it `timeseries2`.\n",
    "Now use `np.stack` to stack `timeseries1` and `timeseries2` on as columns and call the results `both_timeseries`. Plot them together using `plt.plot` into a figure named `fig_both_ts`.\n",
    "\n",
    "Add an `xlabel` 'time', a `ylabel` 'arbitrary values', a title `'Two time series'` and a legend specifying which is `timeseries1` and which is `timeseries2`."
   ]
  },
  {
   "cell_type": "code",
   "execution_count": null,
   "metadata": {},
   "outputs": [],
   "source": [
    "## (d)\n",
    "\n",
    "timeseries2 = np.random.rand(len(timeseries1))\n",
    "\n",
    "both_timeseries = np.stack((timeseries1, timeseries2), axis=1)\n",
    "\n",
    "fig_both_ts = plt.figure(figsize=(20, 2))\n",
    "plt.plot(both_timeseries)\n",
    "\n",
    "plt.xlabel('time')\n",
    "plt.ylabel('arbitrary values')\n",
    "plt.title('Two time series')\n",
    "\n",
    "plt.legend(('timeseries1', 'timeseries2'))"
   ]
  },
  {
   "cell_type": "code",
   "execution_count": null,
   "metadata": {},
   "outputs": [],
   "source": [
    "# This check is to ensure that you have correctly filled the variables required for autograding\n",
    "ok.grade('q3_1d')"
   ]
  },
  {
   "cell_type": "code",
   "execution_count": null,
   "metadata": {},
   "outputs": [],
   "source": [
    "## This is for after the homework has been graded. \n",
    "# ok.grade('q3_1d_full')"
   ]
  },
  {
   "cell_type": "markdown",
   "metadata": {},
   "source": [
    "**(e)**  [0.5pts] Use `np.mean` with the correct `axis` to obtain the mean of both time series contained in `both_timeseries`, and store it in `ts_means`. Print `ts_means`."
   ]
  },
  {
   "cell_type": "code",
   "execution_count": null,
   "metadata": {},
   "outputs": [],
   "source": [
    "## (e)\n",
    "\n",
    "ts_means = np.mean(both_timeseries, axis=0)\n",
    "\n",
    "print(ts_means)\n"
   ]
  },
  {
   "cell_type": "code",
   "execution_count": null,
   "metadata": {},
   "outputs": [],
   "source": [
    "# This check is to ensure that you have correctly filled the variables required for autograding\n",
    "ok.grade('q3_1e')"
   ]
  },
  {
   "cell_type": "code",
   "execution_count": null,
   "metadata": {},
   "outputs": [],
   "source": [
    "## This is for after the homework has been graded. \n",
    "# ok.grade('q3_1e_full')"
   ]
  },
  {
   "cell_type": "markdown",
   "metadata": {},
   "source": [
    "2\\. **Creating an RGB image.**\n",
    "\n",
    "Color images are 3D arrays with two spatial axes and one categorical axis encoding three distinct channels for red, green and blue values. \n",
    "\n",
    "In this exercise you will create an RGB image by filling its color channels one by one, with the goal of gaining an intuition of how they work. This is also a preview of next week's assignment: We are going to ask you to extend your understanding of `np.stack` from stacking 1-D arrays to create a 2-D array, and stack 2-D arrays to create a 3-D array.\n",
    "\n",
    "For `plt.imshow` to display RGB images properly, they either need to be made of byte-sized integers (values ranging from 0 to 255) or floating point values between 0 and 1. We choose the first option in order to learn a new `dtype`."
   ]
  },
  {
   "cell_type": "markdown",
   "metadata": {},
   "source": [
    "**(a)**  [0.5pts] Create three arrays full of zeros, of shape `(480, 640)` and of `dtype` `uint8`. Name them `R`, `G`, and `B`. We will call each of these a *color channel*."
   ]
  },
  {
   "cell_type": "code",
   "execution_count": null,
   "metadata": {},
   "outputs": [],
   "source": [
    "## (a)\n",
    "\n",
    "R, G, B = np.zeros((3, 640, 640), dtype='uint8')\n",
    "\n",
    "# or\n",
    "\n",
    "R = np.zeros((640, 640), dtype='uint8')\n",
    "G = np.zeros((640, 640), dtype='uint8')\n",
    "B = np.zeros((640, 640), dtype='uint8')\n",
    "\n"
   ]
  },
  {
   "cell_type": "code",
   "execution_count": null,
   "metadata": {},
   "outputs": [],
   "source": [
    "# This check is to ensure that you have correctly filled the variables required for autograding\n",
    "ok.grade('q3_2a')"
   ]
  },
  {
   "cell_type": "code",
   "execution_count": null,
   "metadata": {},
   "outputs": [],
   "source": [
    "## This is for after the homework has been graded. \n",
    "# ok.grade('q3_2a_full')"
   ]
  },
  {
   "cell_type": "markdown",
   "metadata": {},
   "source": [
    "**(b)**  [1pts] We will now draw some rectangles into these color channels: In the `R` channel, set the slice `128:384, 0:384` to the maximum color value, 255. This will result in a red rectangle later. In the `G` channel, set the slice `256:480, 256:512` to 255, resulting in a green rectangle later.\n",
    "\n",
    "Use `plt.imshow` to visualize `R` and `G` separately, using the colormap `gray`. Create a figure for each and name them `fig_R` and `fig_G`. These are going to be black and white images showing where each of the channels have more or less high values (here they are either 255, white, or 0, black)."
   ]
  },
  {
   "cell_type": "code",
   "execution_count": null,
   "metadata": {},
   "outputs": [],
   "source": [
    "## (b)\n",
    "\n",
    "R[128:384, 0:384] = 255\n",
    "G[256:480, 256:512] = 255\n",
    "\n",
    "fig_R = plt.figure()\n",
    "plt.imshow(R, cmap='gray')\n",
    "\n",
    "fig_G = plt.figure()\n",
    "plt.imshow(G, cmap='gray')"
   ]
  },
  {
   "cell_type": "code",
   "execution_count": null,
   "metadata": {},
   "outputs": [],
   "source": [
    "# This check is to ensure that you have correctly filled the variables required for autograding\n",
    "ok.grade('q3_2b')"
   ]
  },
  {
   "cell_type": "code",
   "execution_count": null,
   "metadata": {},
   "outputs": [],
   "source": [
    "## This is for after the homework has been graded. \n",
    "# ok.grade('q3_2b_full')"
   ]
  },
  {
   "cell_type": "markdown",
   "metadata": {},
   "source": [
    "**(c)**  [1pts] Use `np.stack` to stack `R`, `G`, and `B` together on `axis` 2 and call the result `RGB`. Then display `RGB` using `plt.imshow` in a figure named `fig_RGB`."
   ]
  },
  {
   "cell_type": "code",
   "execution_count": null,
   "metadata": {},
   "outputs": [],
   "source": [
    "## (c)\n",
    "\n",
    "RGB = np.stack((R, G, B), axis=2)\n",
    "\n",
    "fig_RGB = plt.figure()\n",
    "plt.imshow(RGB)"
   ]
  },
  {
   "cell_type": "code",
   "execution_count": null,
   "metadata": {},
   "outputs": [],
   "source": [
    "# This check is to ensure that you have correctly filled the variables required for autograding\n",
    "ok.grade('q3_2c')"
   ]
  },
  {
   "cell_type": "code",
   "execution_count": null,
   "metadata": {},
   "outputs": [],
   "source": [
    "## This is for after the homework has been graded. \n",
    "# ok.grade('q3_2c_full')"
   ]
  },
  {
   "cell_type": "markdown",
   "metadata": {},
   "source": [
    "**(d)**  [1pt] Now modify the blue channel `B` in whichever way you wish (except for leaving it at exactly 0!). Feel free to modify the `R` and `G` channels if you like. Display your modified `B` in gray scale in a figure named `fig_B`."
   ]
  },
  {
   "cell_type": "code",
   "execution_count": null,
   "metadata": {},
   "outputs": [],
   "source": [
    "## (d)\n",
    "\n",
    "B[256:512, 192:320] = 255\n",
    "\n",
    "fig_B = plt.figure()\n",
    "plt.imshow(B, cmap='gray')"
   ]
  },
  {
   "cell_type": "code",
   "execution_count": null,
   "metadata": {},
   "outputs": [],
   "source": [
    "# This check is to ensure that you have correctly filled the variables required for autograding\n",
    "ok.grade('q3_2d')"
   ]
  },
  {
   "cell_type": "code",
   "execution_count": null,
   "metadata": {},
   "outputs": [],
   "source": [
    "## This is for after the homework has been graded. \n",
    "# ok.grade('q3_2d_full')"
   ]
  },
  {
   "cell_type": "markdown",
   "metadata": {},
   "source": [
    "**(e)**  [0.5pts] Now that you have modified at least the `B` channel, it is time to create a new RGB image and take a look at the effects. Create a new image `RGB2` by stacking `R, G, B` again, and display it in a figure `fig_RGB2`."
   ]
  },
  {
   "cell_type": "code",
   "execution_count": null,
   "metadata": {},
   "outputs": [],
   "source": [
    "## (e)\n",
    "\n",
    "RGB2 = np.stack((R, G, B), axis=2)\n",
    "fig_RGB2 = plt.figure()\n",
    "plt.imshow(RGB2)"
   ]
  },
  {
   "cell_type": "code",
   "execution_count": null,
   "metadata": {},
   "outputs": [],
   "source": [
    "# This check is to ensure that you have correctly filled the variables required for autograding\n",
    "ok.grade('q3_2e')"
   ]
  },
  {
   "cell_type": "code",
   "execution_count": null,
   "metadata": {},
   "outputs": [],
   "source": [
    "## This is for after the homework has been graded. \n",
    "# ok.grade('q3_2e_full')"
   ]
  },
  {
   "cell_type": "markdown",
   "metadata": {},
   "source": [
    "3\\. [2pts] **Visualizing 2-D neuroimaging data.**\n",
    "\n",
    "In this exercise you will use what you have learned in the last two lectures visualize neuroimaging data. You will be presented with four 2-D arrays of brain data of unknown meta-types. By looking at their shapes and visualizing them, you need to figure out what meta-type of 2-D array you are looking at.\n",
    "\n",
    "For each of the following arrays `ni_array_1`, `ni_array_2`, `ni_array_3`, `ni_array_4`, perform the following steps:\n",
    "\n",
    "- using the visualization functions `plt.plot` and `plt.imshow`, and by inspecting the shape, figure out what meta-type of 2D array you are dealing with (one of `'coronal slice'`, `'axial slice'`, `'sagittal slice'`, `'time series'`, `'unidentified'`). If the array appears to be none of the four mentioned types, then declare them as `'unidentified'`. For each of the four arrays, store your answer in a name called `ni_array_?_type` (where `?` is to be replaced by one of `1, 2, 3, 4`). **Note**: Put the `plt.plot`s in figures that you name `fig_plot_ni_array_?` and the `plt.imshow`s in figures named `fig_imshow_ni_array_?`."
   ]
  },
  {
   "cell_type": "code",
   "execution_count": null,
   "metadata": {},
   "outputs": [],
   "source": [
    "# 3 - \n",
    "\n",
    "ni_array_1_type = 'time series'\n",
    "\n",
    "ni_array_2_type = 'sagittal slice'\n",
    "\n",
    "ni_array_3_type = 'coronal slice'\n",
    "\n",
    "ni_array_4_type = 'axial slice'"
   ]
  },
  {
   "cell_type": "code",
   "execution_count": null,
   "metadata": {},
   "outputs": [],
   "source": [
    "fig_plot_ni_array_1 = plt.figure()\n",
    "plt.plot(ni_array_1)\n",
    "fig_imshow_ni_array_1 = plt.figure()\n",
    "plt.imshow(ni_array_1)"
   ]
  },
  {
   "cell_type": "code",
   "execution_count": null,
   "metadata": {},
   "outputs": [],
   "source": [
    "fig_plot_ni_array_2 = plt.figure()\n",
    "plt.plot(ni_array_2)\n",
    "fig_imshow_ni_array_2 = plt.figure()\n",
    "plt.imshow(ni_array_2)"
   ]
  },
  {
   "cell_type": "code",
   "execution_count": null,
   "metadata": {},
   "outputs": [],
   "source": [
    "fig_plot_ni_array_3 = plt.figure()\n",
    "plt.plot(ni_array_3)\n",
    "fig_imshow_ni_array_3 = plt.figure()\n",
    "plt.imshow(ni_array_3)"
   ]
  },
  {
   "cell_type": "code",
   "execution_count": null,
   "metadata": {},
   "outputs": [],
   "source": [
    "fig_plot_ni_array_4 = plt.figure()\n",
    "plt.plot(ni_array_4)\n",
    "fig_imshow_ni_array_4 = plt.figure()\n",
    "plt.imshow(ni_array_4)"
   ]
  },
  {
   "cell_type": "code",
   "execution_count": null,
   "metadata": {},
   "outputs": [],
   "source": [
    "# This check is to ensure that you have correctly filled the variables required for autograding\n",
    "ok.grade('q3_3')"
   ]
  },
  {
   "cell_type": "code",
   "execution_count": null,
   "metadata": {},
   "outputs": [],
   "source": [
    "## This is for after the homework has been graded. \n",
    "# ok.grade('q3_3_full')"
   ]
  },
  {
   "cell_type": "markdown",
   "metadata": {},
   "source": [
    "Make sure to submit your homework to OKpy!"
   ]
  },
  {
   "cell_type": "code",
   "execution_count": null,
   "metadata": {},
   "outputs": [],
   "source": [
    "# _ = ok.submit()"
   ]
  },
  {
   "cell_type": "code",
   "execution_count": null,
   "metadata": {},
   "outputs": [],
   "source": []
  }
 ],
 "metadata": {
  "kernelspec": {
   "display_name": "Python 3",
   "language": "python",
   "name": "python3"
  },
  "language_info": {
   "codemirror_mode": {
    "name": "ipython",
    "version": 3
   },
   "file_extension": ".py",
   "mimetype": "text/x-python",
   "name": "python",
   "nbconvert_exporter": "python",
   "pygments_lexer": "ipython3",
   "version": "3.6.1"
  }
 },
 "nbformat": 4,
 "nbformat_minor": 2
}
