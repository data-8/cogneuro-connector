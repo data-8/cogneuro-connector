{
 "cells": [
  {
   "cell_type": "markdown",
   "metadata": {},
   "source": [
    "# Short overview of fMRI and the BOLD signal\n",
    "### What is fMRI?\n",
    "Functional Magnetic Resonance Imaging, or fMRI, is a neuroimaging technique used to measure brain activity over time. FMRI data is acquired using an MRI machine, just as would be used for many medical purposes. MRI machines use various **pulse sequences** to take 3-Dimensional images, and different **pulse sequences** capture different types of tissue or fluids in the human (or animal) body. fMRI uses a special **pulse sequence** designed to measure changes in the magnetic properties of the blood flow of the brain. Here's a picture of a MRI machine:\n",
    "\n",
    "<img src=\"figures/mri_scanner.png\" style=\"height: 400px;\">\n",
    "\n",
    "### The BOLD Signal\n",
    "The functional signal we measure with fMRI is *not* an electrical neural signal (as in EEG, ECoG, or electrophysiology). It is a magnetic signal related to the properties of brain tissue and fluids, and it is dominated by the differences in magnetic fields created by blood flow. Blood flow is related to neural activity, because firing neurons need oxygen. The process of neural firing involves letting electrically charged ions into a cell and actively pumping them back out again. This is a is metabolically demanding process. So once a region of the brain becomes active (once the neurons start firing), metabolism in that region is high and initiates a complex set of processes to increase blood flow to the electrically active area. When blood comes into the brain it is oxygenated, meaning it has oxygen binded to the hemoglobin molecules contained in the blood. The neurons \"take\" the oxygen from these hemoglobin molecules to use in their metabolic process, leaving the hemoglobin in a deoxygenated state. When hemoglobin is oxygenated it is magnetically neutral, but when it is deoxygenated it is magnetic. So the size of the magnetic field induced by blood is proportional to the ratio of oxygenated to deoxygenated hemoglobin in the blood. The MRI machine is actually measuring this ratio of oxygenated to deoxygenated blood across the brain. This signal is called the **\"Blood Oxygenation Level Dependent Response, or the BOLD signal\"**. \n",
    "\n",
    "<img src=\"figures/deoxyhemoglobin.png\" style=\"height: 400px;\">\n",
    "\n",
    "The vascular (blood) system of the brain responds to neural activity by flooding the region with way more oxygenated blood than is necessary, to be sure that the brain has all it needs. Thus, we are looking for an **INCREASE** in the BOLD signal (increase in ratio of oxygenated to deoxygenated hemoglobin) as an **indirect signal** to neural activity. The specific mechanisms that lead from neural activity to changes in blood flow are (a) not well understood, and (b) beyond the scope of this class. For now, just know that there are several ways to measure functional responses with MRI, and the specific one that we work with is the BOLD response. \n",
    "\n",
    "### fMRI Images\n",
    "\n",
    "One fMRI image (fMRI volume) is acquired for a given unit of time called a r**epetition time (TR)**. A TR is typically 1-2 seconds *(usually 1.0, 1.5, or 2.0 seconds)*. Every image records the activity in the brain at a given point in time. The following image shows a single volume (or TR) of fMRI data (one two-second snapshot of brain activity).\n",
    "\n",
    "<img src=\"figures/fig1.png\" style=\"height: 400px;\">\n",
    "\n",
    "The dimensions of the brain volume measured by fMRI can vary, but are somewhere are 20-40 **slices** tall, with each slice being ~100 x 100 pixels. Each individual fMRI measurement unit is called a **voxel**, which is short for volumetric pixel. The voxels in the data we will be using in this course are about 2.4 x 2.4 x 4.0 mm$^3$ (X x Y x Z) in size. \n",
    "\n",
    "### fMRI Activity is Time Lagged\n",
    "\n",
    "Once a neural event is triggered by a stimulus presentation the vascular system needs to respond to the need for glucose and oxygen in that specific brain area. This can take up to 1-2 seconds. Hence the hemodynamic response lags the triggered event by 1-2 seconds, which peaks around 5 seconds after the stimulus onset.\n",
    "\n",
    "<img src=\"figures/lagged_activity.png\" style=\"height: 400px;\">"
   ]
  },
  {
   "cell_type": "markdown",
   "metadata": {},
   "source": [
    "### Pros and Cons of fMRI\n",
    "\n",
    "While fMRI is a powerful tool that has enabled a massive amount of new research questions to be answered, but it is by far a perfect technology. It is a complex technology, and all this complexity should always be a source of humility for anyone working with fMRI or trying to interpret fMRI results. Here we will outline a few of the largest **pros** and **cons** of this neuroimaging technique.\n",
    "\n",
    "#### Cons\n",
    "Let's start with the bad.\n",
    "- It is an **indirect, slow measure** with poor **temporal resolution** - and these considerations strongly constrain the kinds of experiments you can do with fMRI and the conclusions you can draw from those experiments. For example, you can't say much about the timing of neural events, as 2 seconds is an eternity when it comes to the firing patterns of neurons.\n",
    "\n",
    "<img src=\"figures/imaging_modalities.png\" style=\"height: 400px;\">\n",
    "\n",
    "                                      Sejnowski et al., Nature Neurosci., 2014\n",
    "- It is still very expensive, which means that many studies are grossly underpowered. This can lead to many issues, such as the reproducibility crises we're seeing in Psychology.\n",
    "- Whatever experiment you want to do, it has to be done in a big, constraining, loud MRI scanner. This limits the types of experiments that can be done.\n",
    "\n",
    "#### Pros\n",
    "It's not all bad news though, there is a reason so many people use fMRI to do cognitive neuroscience reasearch:\n",
    "- It is non-invasive! Meaning, we don't have to cut open people's skulls to measure their brain activity. Just think about that for a minute. We can actually put people into this machine and see what their brain is doing! It is seriously magical.\n",
    "- It has much better spatial resolution than previous non-invasive neuroimaging modalities (e.g EEG or MEG). Though it is still fairly crude. Each value we get from the MRI scanner is the aggregated signal of up to 100,000 neurons! So this is a *relative Pro*!\n",
    "- There are many different things the MRI scanner can measure when it comes to brain activity. The BOLD signal we mentioned is an indirect measure of neural activity, but MRI scanners can also be used to:\n",
    "    - Measure the **white matter** tracts (i.e. the \"wires\" of the brain) using **Diffusor Tensor Imaging (DTI)**\n",
    "    - Measure metabolic activity using **MR spectroscopy**, aka **Chemical Shift Imaging (CSI)**.\n",
    "    - Measure when groups of neurons fire similarly, allowing for the mapping of brain **networks**. This is called **functional connectivity**.\n",
    "    - Measure changes in brain tissue mass, called **MR morphology**"
   ]
  },
  {
   "cell_type": "markdown",
   "metadata": {},
   "source": [
    "# Brain Anatomy\n",
    "\n",
    "Now let's explore the anatomy of the brain at multiple levels"
   ]
  },
  {
   "cell_type": "markdown",
   "metadata": {},
   "source": [
    "## Neural Anatomy\n",
    "\n",
    "- Brains are composed of billions of neurons.\n",
    "- Each neuron is a cell that processes and transmits information through electrical and chemical signals\n",
    "- Parts of a neuron:\n",
    "    - Soma: The cell body responsible for cell metabolism\n",
    "    - Dendrites: The collection of input \"wires\"\n",
    "    - Axon: The output \"wire\""
   ]
  },
  {
   "cell_type": "markdown",
   "metadata": {},
   "source": [
    "<img src=\"figures/Neuron.png\" align=\"left\" style=\"height: 300px;\"/>"
   ]
  },
  {
   "cell_type": "markdown",
   "metadata": {},
   "source": [
    "## Neural Communication\n",
    "\n",
    "The basis of neural processing occurs through the transmission of chemical signals between neurons. Let's take a look at the steps involved:"
   ]
  },
  {
   "cell_type": "markdown",
   "metadata": {},
   "source": [
    "<img src=\"figures/NeuralFiring.png\" align=\"left\" style=\"height: 300px;\"/>"
   ]
  },
  {
   "cell_type": "markdown",
   "metadata": {},
   "source": [
    "## Axes and Planes of the Human Brain and Body\n",
    "\n",
    "Understanding the terminology used to identify directions in the brain is important for scientific communication. Let's take a look at how neuroscientists talk about the brain."
   ]
  },
  {
   "cell_type": "markdown",
   "metadata": {},
   "source": [
    "<div>\n",
    "<br>\n",
    "<img src=\"figures/Body_Axis.png\" align=\"left\" style=\"height: 300px;\">\n",
    "<img src=\"figures/Brain-Axes.png\" align=\"left\" style=\"height: 300px;\">\n",
    "</div>"
   ]
  },
  {
   "cell_type": "markdown",
   "metadata": {},
   "source": [
    "<img src=\"figures/Transections_Planes.png\" align=\"left\" style=\"height: 300px;\">"
   ]
  },
  {
   "cell_type": "markdown",
   "metadata": {},
   "source": [
    "## Gross Brain Structure\n",
    "\n",
    "Structurally the mammalian brain consists of 4 major areas. Each area has it's own structural and functional organization, but many of the functions that the brain peforms are done across several or all of these structures.\n",
    "\n",
    "<div>\n",
    "<br>\n",
    "**Cereberal Cortex**: The cerebral cortex, or just cortex for short, is the largest region of the mammalian brain and is located on the outer surface. In large mammals, the cerebral cortex is usually folded, providing a greater surface area in the confined volume of the cranium. These folds are comprised of peaks called **gyri** (gyrus singular) and troughs called **sulci** (sulcus singular). The cerebral cortex is entirely made of gray matter, in contrast with the underlying white matter that exists between the cereberal cortex and the subcortical structures. At the cellular and circuit level, the cerebral cortex is characterized by two primary organizational features:\n",
    "* across its surface it is divided into functional areas that serve various sensory, motor, and cognitive functions\n",
    "* it is subdivided into several layers that organize the input and output connectivity of resident neurons.\n",
    "\n",
    "<br>\n",
    "<img src=\"figures/Cerebral-Cortex-Lateral.png\" align=\"left\" style=\"height: 300px;\">\n",
    "<img src=\"figures/Cerebral-Cortex-Medial.png\" align=\"right\" style=\"height: 300px;\">\n",
    "</div>"
   ]
  },
  {
   "cell_type": "markdown",
   "metadata": {},
   "source": [
    "**Subcortical Structures**: Beneath the cortex and connected white matter tracts lie a collection of subcortical structures, or nuclei. Broadly they can be broken down into:\n",
    "\n",
    "* **Limbic System**: The limbic system is a set of brain structures located on both sides of the thalamus, immediately beneath the cortex. It is not a separate system but a collection of structures that includes the olfactory bulbs, hippocampus, hypothalamus, amygdala, anterior thalamic nuclei, fornix, columns of fornix, mammillary body, septum pellucidum, habenular commissure, cingulate gyrus, parahippocampal gyrus, entorhinal cortex, and limbic midbrain areas. The limbic system supports a variety of functions including emotion, behavior, motivation, long-term memory, and olfaction. Although the term only originated in the 1940s, some neuroscientists, including Joseph LeDoux, have suggested that the concept of a functionally unified limbic system should be abandoned as obsolete because it is grounded mainly in historical concepts of brain anatomy that are no longer accepted as accurate.\n",
    "\n",
    "* **Basal Ganglia**: The basal ganglia (or basal nuclei) is a group of subcortical nuclei, of varied origin, in the brains of vertebrates including humans, which are situated at the base of the forebrain. Basal ganglia are strongly interconnected with the cerebral cortex, thalamus, and brainstem, as well as several other brain areas. The basal ganglia are associated with a variety of functions including: control of voluntary motor movements, procedural learning, routine behaviors or \"habits\" such as teeth grinding, eye movements, cognition, and emotion. The main components of the basal ganglia – as defined functionally – are the striatum; both dorsal striatum (caudate nucleus and putamen) and ventral striatum (nucleus accumbens and olfactory tubercle), globus pallidus, ventral pallidum, substantia nigra, and subthalamic nucleus.\n",
    "\n",
    "* **Thalamus**: The thalamus is the large mass of gray matter located deep within the midline of the brain. It has several functions such as relaying sensory signals (including motor signals) to the cerebral cortex and the regulation of consciousness, sleep, and alertness. \n",
    "\n",
    "<div>\n",
    "<br>\n",
    "<img src=\"figures/Basal-ganglia-Limbic-system.png\" align=\"left\" style=\"height: 400px;\">\n",
    "</div>"
   ]
  },
  {
   "cell_type": "markdown",
   "metadata": {},
   "source": [
    "**Brainstem**: The brainstem is the posterior part of the brain, adjoining and structurally continuous with the spinal cord. In the human brain the brainstem includes the midbrain, the pons, and the medulla oblongata. The brainstem provides the main motor and sensory innervation to the face and neck via the cranial nerves. The brainstem also plays an important role in the regulation of cardiac and respiratory function, regulating appetite, maintaining consciousness and regulating the sleep cycle.\n",
    "\n",
    "<div>\n",
    "<br>\n",
    "<img src=\"figures/BrainstemAnatomy.png\" align=\"left\" style=\"height: 300px;\">\n",
    "</div>"
   ]
  },
  {
   "cell_type": "markdown",
   "metadata": {},
   "source": [
    "**Cerebellum**: The cerebellum has the appearance of a separate structure attached to the bottom of the brain, tucked underneath the cerebral hemispheres. Its cortical surface is covered with finely spaced parallel grooves, in striking contrast to the broad sulci and gyri of the cerebral cortex.. In humans, the cerebellum plays an important role in motor control, and it may also be involved in some cognitive functions such as attention and language as well as in regulating fear and pleasure responses. The human cerebellum does not initiate movement, but contributes to coordination, precision, and accurate timing: it receives input from sensory systems of the spinal cord and from other parts of the brain, and integrates these inputs to fine-tune motor activity.\n",
    "\n",
    "<div>\n",
    "<br>\n",
    "<img src=\"figures/Cerebellum.png\" align=\"left\" style=\"height: 300px;\">\n",
    "<img src=\"figures/Cerebellum-Cartoon.jpg\" align=\"right\" style=\"height: 300px;\">\n",
    "</div>"
   ]
  },
  {
   "cell_type": "markdown",
   "metadata": {},
   "source": [
    "## Cortical Structures\n",
    "\n",
    "### Sulci and Gyri\n",
    "The cortical surfuce is composed of \"peaks\" and \"valleys\" known as sulci and gyri\n",
    "- **Sulci**: These are the \"valleys\", or low parts, of the cortical surface.\n",
    "- **Gyri**: These are the \"peaks\", or high parts, of the cortical surface."
   ]
  },
  {
   "cell_type": "markdown",
   "metadata": {},
   "source": [
    "<img src=\"figures/Sulci_Gyri.png\" align=\"left\" style=\"height: 300px;\">"
   ]
  },
  {
   "cell_type": "markdown",
   "metadata": {},
   "source": [
    "### Lobes\n",
    "\n",
    "The cortex consists of 4 lobes, or large scale \"parts\". Each lobe is in approximately the same position in all humans, and carries out approximately the same functions. They are called:\n",
    "- Frontal Lobe\n",
    "- Parietal Lobe\n",
    "- Occipital Lobe\n",
    "- Temporal Lobe"
   ]
  },
  {
   "cell_type": "markdown",
   "metadata": {},
   "source": [
    "<img src=\"figures/Brain_Lobes.png\" align=\"left\" style=\"height: 300px;\">"
   ]
  },
  {
   "cell_type": "markdown",
   "metadata": {},
   "source": [
    "## White matter, grey matter, and CSF\n",
    "\n",
    "The brain consists primarly of 2 types of tissue (grey and white matter) and the fluid (CSF) that all that tissue floats in. All 3 of these can be differentiated in anatomical MRI scans of the brain. The process of differentiating these tissue types is called **segmentation**.\n",
    "\n",
    "<br>\n",
    "<div>\n",
    "**Grey Matter**: Grey matter contains most of the brain's neuronal cell bodies and relatively few myelinated axons. It also contains dendrites (the input to neurons), capillaries, axons and glial cells (the 2nd type of nervous system cell). The tissue is actually grey in color which arises from the color of the cell bodies themselves. Grey matter exists in the spinal cord as well, and there is known as the grey column which travels down the spinal cord. When we speak of brain areas, we are generally talking about the grey matter of those regions, as that is where the information processing occurs.\n",
    "\n",
    "<img src=\"figures/GrayMatter-WhiteMatter.jpg\" align=\"left\" style=\"height: 300px;\"/>\n",
    "<img src=\"figures/White_and_Gray_Matter-WithBlood.jpg\" align=\"right\" style=\"height: 300px;\"/>\n",
    "</div>"
   ]
  },
  {
   "cell_type": "markdown",
   "metadata": {},
   "source": [
    "<div>\n",
    "\n",
    "**White Matter**: White matter contains relatively few cell bodies and is composed chiefly of long-range myelinated axon tracts. Myelin is a fatty white substance that \"wraps\" some axons and acts to insulate them electrically. White matter is white because of the abundance of these myelinated axon tracts. In general, axons that travel medium to long distances are myelinated, while axons that only travel short distances are not. Essentially you can think of white matter as comprised of the wires that run between different brain regions. \n",
    "<br>\n",
    "<img src=\"figures/Mylenated-Axon.png\" align=\"left\" style=\"height: 225px;\"/>\n",
    "<img src=\"figures/White-Matter-3DPrinted-2png\" align=\"right\" style=\"height: 225px;\"/>\n",
    "</div>"
   ]
  },
  {
   "cell_type": "markdown",
   "metadata": {},
   "source": [
    "<div>\n",
    "\n",
    "**Cerebrospinal fluid (CSF)**: Cerebrospinal fluid (CSF) is a clear, colorless body fluid found in the brain and spinal cord. It is produced in the ventricles of the brain. There is about 125mL of CSF in the body at any one time, and about 500mL is generated every day. CSF acts as a cushion or buffer for the brain, providing basic mechanical and immunological protection to the brain inside the skull, as well as serving a vital function in  the autoregulation of cerebral blood flow. \n",
    "<br>\n",
    "<img src=\"figures/CerebrospinalSystem.png\" align=\"left\" style=\"height: 300px;\">\n",
    "<img src=\"figures/brain-ventricles.jpg\" align=\"right\" style=\"height: 300px;\">\n",
    "</div>"
   ]
  }
 ],
 "metadata": {
  "kernelspec": {
   "display_name": "Python 3",
   "language": "python",
   "name": "python3"
  },
  "language_info": {
   "codemirror_mode": {
    "name": "ipython",
    "version": 3
   },
   "file_extension": ".py",
   "mimetype": "text/x-python",
   "name": "python",
   "nbconvert_exporter": "python",
   "pygments_lexer": "ipython3",
   "version": "3.6.1"
  }
 },
 "nbformat": 4,
 "nbformat_minor": 2
}
