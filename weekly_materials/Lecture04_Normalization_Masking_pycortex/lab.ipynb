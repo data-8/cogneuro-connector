{
 "cells": [
  {
   "cell_type": "markdown",
   "metadata": {
    "collapsed": true
   },
   "source": [
    "# Overview\n",
    "\n",
    "## Lab 4: Writing functions, Data normalization\n",
    "\n",
    "In class, we talked about writing re-usable functions. Specifically, we wrote a plot function that was eventually incorporated into the visualization sub-module of `neurods` (`neurods.viz`). We also talked about data normalization, and introduced pycortex, our library for visualizing brain data on the cortical surface. For the first homework question, we will write a function to load data from NIfTI (.nii.gz) files; for the second homework question, we will use pycortex to show some data. First, a quick review of how to load data and plot data in pycortex:"
   ]
  },
  {
   "cell_type": "code",
   "execution_count": null,
   "metadata": {
    "collapsed": true
   },
   "outputs": [],
   "source": [
    "# Imports\n",
    "import os\n",
    "import cortex\n",
    "import neurods\n",
    "import nibabel\n",
    "import numpy as np"
   ]
  },
  {
   "cell_type": "code",
   "execution_count": null,
   "metadata": {
    "collapsed": false
   },
   "outputs": [],
   "source": [
    "# Load data (as we did in class)\n",
    "base_dir = '/data/shared/cogneuro88/fMRI/categories/'\n",
    "fname = 's01_categories_01.nii.gz'\n",
    "fpath = os.path.join(base_dir, fname)\n",
    "nii = nibabel.load(fpath)\n",
    "data = nii.get_data()\n",
    "print('Data shape:')\n",
    "print('(X, Y, Z, Time)')\n",
    "print(data.shape)"
   ]
  },
  {
   "cell_type": "code",
   "execution_count": null,
   "metadata": {
    "collapsed": true
   },
   "outputs": [],
   "source": [
    "# Show data pycortex\n",
    "sub = 's01' # Specifies subject (i.e., which surface in the pycortex database to use)\n",
    "xfm = 'catloc' # Specifies transform from functional data space to the cortical surface\n",
    "data_volume = cortex.Volume(data.T[0], sub, xfm, cmap='Reds', vmin=0, vmax=1000)\n",
    "cortex.quickflat.make_figure(data_volume)"
   ]
  },
  {
   "cell_type": "markdown",
   "metadata": {},
   "source": [
    "# `1`. (6 points) Write a function to load data. \n",
    "There are a few things we will want to do to the data as we load it (for example, maybe normalize it, and maybe concatenate a few different files' worth of data together into one big array). The intent is that this will be the function we use to load data for the rest of the semester! (something like this will be incorporated into `neurods`)\n",
    "* [1 pt] Name the function `load_data()`. It should take a file name as input and return an array as output. \n",
    "* [1 pt] It should have a docstring!\n",
    "* [2 pts] It should *optionally* normalize the data by z-scoring it (i.e., whether or not the data returned by the function is z-normalized should be determined by an input argument). \n",
    "* [2 pts] If the function is given multiple files as input, it should concatenate all the files together in the time dimension and return a single array. It is up to you to determine how you should go about providing multiple files as input! (Note that the data directory (`/data/shared/cogneuro88/fMRI/categories/`) contains three runs of the same experiment: \n",
    "`s01_categories_01.nii.gz`, `s01_categories_02.nii.gz` and `s01_categories_03.nii.gz`. Make sure your code can (optionally) load and concatenate all three of these files!)\n",
    "   \n",
    "Hints: use `if` statements! and look up `np.vstack` and `np.concatenate`. You should think carefully about the order in which you perform normalization and concatenation (or concatenation and normalization?) of the data. Also remember that you should include some kind of demonstration that your code works as intended!"
   ]
  },
  {
   "cell_type": "code",
   "execution_count": null,
   "metadata": {
    "collapsed": true
   },
   "outputs": [],
   "source": [
    "### STUDENT ANSWER\n",
    "\n",
    "# Function:\n",
    "def load_data():\n",
    "    # Do stuff!\n",
    "    return output\n"
   ]
  },
  {
   "cell_type": "code",
   "execution_count": null,
   "metadata": {
    "collapsed": true
   },
   "outputs": [],
   "source": [
    "### STUDENT ANSWER\n",
    "\n",
    "# Demonstration that it works:\n",
    "data = load_data(...)\n",
    "# Show that it works!"
   ]
  },
  {
   "cell_type": "markdown",
   "metadata": {},
   "source": [
    "In the second part of the homework, we will use pycortex to explore the three different scans in the data directory. "
   ]
  },
  {
   "cell_type": "markdown",
   "metadata": {},
   "source": [
    "# `2.` (4 points) Data visualization with pycortex\n",
    "* [1 pt] For each scan (`s01_categories_01.nii.gz`, `s01_categories_02.nii.gz` and `s01_categories_03.nii.gz`), use pycortex to make a plot of the standard deviation of each voxel over time (this will be a 3D volume, with one value per voxel) for each data set (3 plots). \n",
    "* [1 pt] Do the standard deviations look the same for different scans?  \n",
    "* [1 pt] \n",
    "* [1 pt]\n",
    "\n",
    "Hint: mind your color scales! in pycortex, the color scale is set at creation of a Volume object, using vmin and vmax, and the colormap is set using cmap:\n",
    "\n",
    "`data_volume = cortex.Volume(data, sub, xfm, vmin=blah, vmax=deblah, cmap=whatever)`\n",
    "\n",
    "`cmap` should be a string; the options for colormap names are shown in the drop-down menu of the webgl viewer. "
   ]
  },
  {
   "cell_type": "code",
   "execution_count": null,
   "metadata": {
    "collapsed": true
   },
   "outputs": [],
   "source": [
    "### STUDENT ANSWER\n",
    "# Mean for: \n",
    "# Run 1: \n",
    "\n",
    "# Run 2: \n",
    "\n",
    "# Run 3:"
   ]
  },
  {
   "cell_type": "markdown",
   "metadata": {},
   "source": [
    "# Discussion\n",
    "\n",
    "(say something here!)"
   ]
  },
  {
   "cell_type": "code",
   "execution_count": null,
   "metadata": {
    "collapsed": true
   },
   "outputs": [],
   "source": [
    "### STUDENT ANSWER\n",
    "# Standard deviation for: \n",
    "# Run 1: \n",
    "\n",
    "# Run 2: \n",
    "\n",
    "# Run 3:"
   ]
  },
  {
   "cell_type": "markdown",
   "metadata": {},
   "source": [
    "# Discussion\n",
    "\n",
    "(say something here!)"
   ]
  },
  {
   "cell_type": "code",
   "execution_count": null,
   "metadata": {
    "collapsed": true
   },
   "outputs": [],
   "source": [
    "### STUDENT ANSWER\n",
    "# Standard deviation for: \n",
    "# Run 1: \n",
    "\n",
    "# Run 2: \n",
    "\n",
    "# Run 3:"
   ]
  },
  {
   "cell_type": "code",
   "execution_count": null,
   "metadata": {
    "collapsed": true
   },
   "outputs": [],
   "source": []
  }
 ],
 "metadata": {
  "kernelspec": {
   "display_name": "Python [py35]",
   "language": "python",
   "name": "Python [py35]"
  },
  "language_info": {
   "codemirror_mode": {
    "name": "ipython",
    "version": 3
   },
   "file_extension": ".py",
   "mimetype": "text/x-python",
   "name": "python",
   "nbconvert_exporter": "python",
   "pygments_lexer": "ipython3",
   "version": "3.5.2"
  }
 },
 "nbformat": 4,
 "nbformat_minor": 0
}
